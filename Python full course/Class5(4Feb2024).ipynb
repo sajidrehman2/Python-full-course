{
 "cells": [
  {
   "cell_type": "markdown",
   "id": "0ca74141",
   "metadata": {},
   "source": [
    "# Python Collection / Python Data Structures \n",
    "    - List   > []\n",
    "    - Dictionary >> {k:v}\n",
    "    - Set        >>  {v}\n",
    "    - Tuple      >> ()\n",
    "    "
   ]
  },
  {
   "cell_type": "markdown",
   "id": "33e8f251",
   "metadata": {},
   "source": [
    "### List \n",
    "         - represented by []\n",
    "         - Mutable\n",
    "         - Can be indexed\n",
    "         - Can be sliced \n",
    "         - There are many more functionalities with list\n",
    "         "
   ]
  },
  {
   "cell_type": "code",
   "execution_count": 1,
   "id": "e7924603",
   "metadata": {},
   "outputs": [],
   "source": [
    "# Creating an empty list\n",
    "empty_list  = []"
   ]
  },
  {
   "cell_type": "code",
   "execution_count": 2,
   "id": "6bfd168a",
   "metadata": {},
   "outputs": [],
   "source": [
    "students  = ['ali', 'arif','maaz','imran', 'aman','asad','hassan','nawaz sharif', 'baber khan','hafiz muneer']"
   ]
  },
  {
   "cell_type": "code",
   "execution_count": 3,
   "id": "7c33fba0",
   "metadata": {},
   "outputs": [],
   "source": [
    "# accesssing list members \n",
    "#              0       1      2       3      4        5     6           7    8          9             10\n",
    "students  = ['ali', 'arif','maaz','imran', 'aman','asad','hassan','nawaz','sharif', 'baber khan','hafiz muneer']\n",
    "#              -11    -10   -9      -8      -7       -6      -5      -4     -3-         -2             -1 "
   ]
  },
  {
   "cell_type": "code",
   "execution_count": 4,
   "id": "3ce7f31e",
   "metadata": {},
   "outputs": [
    {
     "data": {
      "text/plain": [
       "'ali'"
      ]
     },
     "execution_count": 4,
     "metadata": {},
     "output_type": "execute_result"
    }
   ],
   "source": [
    "students[0]"
   ]
  },
  {
   "cell_type": "code",
   "execution_count": 5,
   "id": "545709e6",
   "metadata": {},
   "outputs": [
    {
     "data": {
      "text/plain": [
       "'asad'"
      ]
     },
     "execution_count": 5,
     "metadata": {},
     "output_type": "execute_result"
    }
   ],
   "source": [
    "students[5]"
   ]
  },
  {
   "cell_type": "code",
   "execution_count": 6,
   "id": "7e0f6c21",
   "metadata": {},
   "outputs": [
    {
     "data": {
      "text/plain": [
       "'asad'"
      ]
     },
     "execution_count": 6,
     "metadata": {},
     "output_type": "execute_result"
    }
   ],
   "source": [
    "students[-6]"
   ]
  },
  {
   "cell_type": "code",
   "execution_count": 7,
   "id": "394de436",
   "metadata": {},
   "outputs": [
    {
     "data": {
      "text/plain": [
       "['ali',\n",
       " 'arif',\n",
       " 'maaz',\n",
       " 'imran',\n",
       " 'aman',\n",
       " 'asad',\n",
       " 'hassan',\n",
       " 'nawaz',\n",
       " 'sharif',\n",
       " 'baber khan',\n",
       " 'hafiz muneer']"
      ]
     },
     "execution_count": 7,
     "metadata": {},
     "output_type": "execute_result"
    }
   ],
   "source": [
    "students"
   ]
  },
  {
   "cell_type": "code",
   "execution_count": 8,
   "id": "24cd93fa",
   "metadata": {},
   "outputs": [],
   "source": [
    "misc_items = [100, False, \"Nasir\", 23.6 , [1,2,3,4,5]]"
   ]
  },
  {
   "cell_type": "code",
   "execution_count": 9,
   "id": "721165ef",
   "metadata": {},
   "outputs": [
    {
     "data": {
      "text/plain": [
       "[100, False, 'Nasir', 23.6, [1, 2, 3, 4, 5]]"
      ]
     },
     "execution_count": 9,
     "metadata": {},
     "output_type": "execute_result"
    }
   ],
   "source": [
    "misc_items"
   ]
  },
  {
   "cell_type": "code",
   "execution_count": 10,
   "id": "1fcbd92f",
   "metadata": {},
   "outputs": [
    {
     "data": {
      "text/plain": [
       "[1, 2, 3, 4, 5]"
      ]
     },
     "execution_count": 10,
     "metadata": {},
     "output_type": "execute_result"
    }
   ],
   "source": [
    "misc_items[-1]"
   ]
  },
  {
   "cell_type": "code",
   "execution_count": 11,
   "id": "27e7045a",
   "metadata": {},
   "outputs": [
    {
     "data": {
      "text/plain": [
       "3"
      ]
     },
     "execution_count": 11,
     "metadata": {},
     "output_type": "execute_result"
    }
   ],
   "source": [
    "misc_items[-1][2]"
   ]
  },
  {
   "cell_type": "markdown",
   "id": "52676b5f",
   "metadata": {},
   "source": [
    "# Adding items/members into an existing\n",
    "     - append() >>> appends item at very last \n",
    "     - insert() >>>> inserts items at given position\n",
    "     - extend() >>>> extends it appends another collection item wise.\n",
    "     - +        >>> concatenates another list with existing list"
   ]
  },
  {
   "cell_type": "code",
   "execution_count": 12,
   "id": "8744cf9e",
   "metadata": {},
   "outputs": [
    {
     "data": {
      "text/plain": [
       "[100, False, 'Nasir', 23.6, [1, 2, 3, 4, 5]]"
      ]
     },
     "execution_count": 12,
     "metadata": {},
     "output_type": "execute_result"
    }
   ],
   "source": [
    "misc_items"
   ]
  },
  {
   "cell_type": "code",
   "execution_count": 13,
   "id": "87be4b94",
   "metadata": {},
   "outputs": [],
   "source": [
    "misc_items.append('Pakistan')"
   ]
  },
  {
   "cell_type": "code",
   "execution_count": 14,
   "id": "ff636ca3",
   "metadata": {},
   "outputs": [
    {
     "data": {
      "text/plain": [
       "[100, False, 'Nasir', 23.6, [1, 2, 3, 4, 5], 'Pakistan']"
      ]
     },
     "execution_count": 14,
     "metadata": {},
     "output_type": "execute_result"
    }
   ],
   "source": [
    "misc_items"
   ]
  },
  {
   "cell_type": "code",
   "execution_count": 15,
   "id": "a7d0524c",
   "metadata": {},
   "outputs": [
    {
     "ename": "TypeError",
     "evalue": "list.append() takes exactly one argument (2 given)",
     "output_type": "error",
     "traceback": [
      "\u001b[1;31m---------------------------------------------------------------------------\u001b[0m",
      "\u001b[1;31mTypeError\u001b[0m                                 Traceback (most recent call last)",
      "Cell \u001b[1;32mIn[15], line 1\u001b[0m\n\u001b[1;32m----> 1\u001b[0m misc_items\u001b[38;5;241m.\u001b[39mappend(\u001b[38;5;124m'\u001b[39m\u001b[38;5;124mChina\u001b[39m\u001b[38;5;124m'\u001b[39m, \u001b[38;5;124m\"\u001b[39m\u001b[38;5;124mJapan\u001b[39m\u001b[38;5;124m\"\u001b[39m)\n",
      "\u001b[1;31mTypeError\u001b[0m: list.append() takes exactly one argument (2 given)"
     ]
    }
   ],
   "source": [
    "misc_items.append('China', \"Japan\")"
   ]
  },
  {
   "cell_type": "code",
   "execution_count": null,
   "id": "f2b5db3f",
   "metadata": {},
   "outputs": [],
   "source": [
    "misc_items.append(['China','Japaan'])"
   ]
  },
  {
   "cell_type": "code",
   "execution_count": 16,
   "id": "c9e537b7",
   "metadata": {},
   "outputs": [
    {
     "data": {
      "text/plain": [
       "[100, False, 'Nasir', 23.6, [1, 2, 3, 4, 5], 'Pakistan']"
      ]
     },
     "execution_count": 16,
     "metadata": {},
     "output_type": "execute_result"
    }
   ],
   "source": [
    "misc_items"
   ]
  },
  {
   "cell_type": "code",
   "execution_count": 17,
   "id": "f9fa4413",
   "metadata": {},
   "outputs": [],
   "source": [
    "misc_items.extend(['Burgers','Pizzas','Zarda'])"
   ]
  },
  {
   "cell_type": "code",
   "execution_count": 18,
   "id": "bb80c319",
   "metadata": {},
   "outputs": [
    {
     "data": {
      "text/plain": [
       "[100,\n",
       " False,\n",
       " 'Nasir',\n",
       " 23.6,\n",
       " [1, 2, 3, 4, 5],\n",
       " 'Pakistan',\n",
       " 'Burgers',\n",
       " 'Pizzas',\n",
       " 'Zarda']"
      ]
     },
     "execution_count": 18,
     "metadata": {},
     "output_type": "execute_result"
    }
   ],
   "source": [
    "misc_items"
   ]
  },
  {
   "cell_type": "code",
   "execution_count": 19,
   "id": "4991da78",
   "metadata": {},
   "outputs": [],
   "source": [
    "misc_items.insert(2,'Hello')"
   ]
  },
  {
   "cell_type": "code",
   "execution_count": 20,
   "id": "c05b906a",
   "metadata": {},
   "outputs": [
    {
     "data": {
      "text/plain": [
       "[100,\n",
       " False,\n",
       " 'Hello',\n",
       " 'Nasir',\n",
       " 23.6,\n",
       " [1, 2, 3, 4, 5],\n",
       " 'Pakistan',\n",
       " 'Burgers',\n",
       " 'Pizzas',\n",
       " 'Zarda']"
      ]
     },
     "execution_count": 20,
     "metadata": {},
     "output_type": "execute_result"
    }
   ],
   "source": [
    "misc_items"
   ]
  },
  {
   "cell_type": "code",
   "execution_count": 21,
   "id": "a8f33924",
   "metadata": {},
   "outputs": [],
   "source": [
    "another_list = ['Shoes', 'Jackets', 'Ties']"
   ]
  },
  {
   "cell_type": "code",
   "execution_count": 22,
   "id": "ce28fa13",
   "metadata": {},
   "outputs": [
    {
     "data": {
      "text/plain": [
       "[100,\n",
       " False,\n",
       " 'Hello',\n",
       " 'Nasir',\n",
       " 23.6,\n",
       " [1, 2, 3, 4, 5],\n",
       " 'Pakistan',\n",
       " 'Burgers',\n",
       " 'Pizzas',\n",
       " 'Zarda',\n",
       " 'Shoes',\n",
       " 'Jackets',\n",
       " 'Ties']"
      ]
     },
     "execution_count": 22,
     "metadata": {},
     "output_type": "execute_result"
    }
   ],
   "source": [
    "misc_items + another_list"
   ]
  },
  {
   "cell_type": "markdown",
   "id": "753fc041",
   "metadata": {},
   "source": [
    "# Deleting items from existing list\n",
    "     - del \n",
    "     - remove()\n",
    "     - pop()\n",
    "     - clear()"
   ]
  },
  {
   "cell_type": "code",
   "execution_count": 23,
   "id": "21a17c0f",
   "metadata": {},
   "outputs": [],
   "source": [
    "# del deletes item via index\n",
    "del misc_items[5]"
   ]
  },
  {
   "cell_type": "code",
   "execution_count": 24,
   "id": "3c7811e8",
   "metadata": {},
   "outputs": [
    {
     "data": {
      "text/plain": [
       "[100, False, 'Hello', 'Nasir', 23.6, 'Pakistan', 'Burgers', 'Pizzas', 'Zarda']"
      ]
     },
     "execution_count": 24,
     "metadata": {},
     "output_type": "execute_result"
    }
   ],
   "source": [
    "misc_items"
   ]
  },
  {
   "cell_type": "code",
   "execution_count": 25,
   "id": "70b44fb3",
   "metadata": {},
   "outputs": [],
   "source": [
    "del misc_items[6]"
   ]
  },
  {
   "cell_type": "code",
   "execution_count": 26,
   "id": "490d2326",
   "metadata": {},
   "outputs": [
    {
     "data": {
      "text/plain": [
       "[100, False, 'Hello', 'Nasir', 23.6, 'Pakistan', 'Pizzas', 'Zarda']"
      ]
     },
     "execution_count": 26,
     "metadata": {},
     "output_type": "execute_result"
    }
   ],
   "source": [
    "misc_items"
   ]
  },
  {
   "cell_type": "code",
   "execution_count": 27,
   "id": "71558774",
   "metadata": {},
   "outputs": [
    {
     "ename": "NameError",
     "evalue": "name 'a' is not defined",
     "output_type": "error",
     "traceback": [
      "\u001b[1;31m---------------------------------------------------------------------------\u001b[0m",
      "\u001b[1;31mNameError\u001b[0m                                 Traceback (most recent call last)",
      "Cell \u001b[1;32mIn[27], line 1\u001b[0m\n\u001b[1;32m----> 1\u001b[0m a\n",
      "\u001b[1;31mNameError\u001b[0m: name 'a' is not defined"
     ]
    }
   ],
   "source": [
    "a"
   ]
  },
  {
   "cell_type": "code",
   "execution_count": 28,
   "id": "ccd5c472",
   "metadata": {},
   "outputs": [
    {
     "ename": "NameError",
     "evalue": "name 'a' is not defined",
     "output_type": "error",
     "traceback": [
      "\u001b[1;31m---------------------------------------------------------------------------\u001b[0m",
      "\u001b[1;31mNameError\u001b[0m                                 Traceback (most recent call last)",
      "Cell \u001b[1;32mIn[28], line 1\u001b[0m\n\u001b[1;32m----> 1\u001b[0m \u001b[38;5;28;01mdel\u001b[39;00m a\n",
      "\u001b[1;31mNameError\u001b[0m: name 'a' is not defined"
     ]
    }
   ],
   "source": [
    "del a "
   ]
  },
  {
   "cell_type": "code",
   "execution_count": 33,
   "id": "30aad8c2",
   "metadata": {},
   "outputs": [
    {
     "ename": "NameError",
     "evalue": "name 'a' is not defined",
     "output_type": "error",
     "traceback": [
      "\u001b[1;31m---------------------------------------------------------------------------\u001b[0m",
      "\u001b[1;31mNameError\u001b[0m                                 Traceback (most recent call last)",
      "Cell \u001b[1;32mIn[33], line 1\u001b[0m\n\u001b[1;32m----> 1\u001b[0m a\n",
      "\u001b[1;31mNameError\u001b[0m: name 'a' is not defined"
     ]
    }
   ],
   "source": [
    "a"
   ]
  },
  {
   "cell_type": "code",
   "execution_count": 34,
   "id": "2de7d26e",
   "metadata": {},
   "outputs": [],
   "source": [
    "# remove removes items via value(itemname)\\\n",
    "misc_items.remove('Hello')"
   ]
  },
  {
   "cell_type": "code",
   "execution_count": 35,
   "id": "19d0b64b",
   "metadata": {},
   "outputs": [
    {
     "data": {
      "text/plain": [
       "[100, False, 'Nasir', 23.6, 'Pakistan', 'Burgers', 'Pizzas', 'Zarda']"
      ]
     },
     "execution_count": 35,
     "metadata": {},
     "output_type": "execute_result"
    }
   ],
   "source": [
    "misc_items"
   ]
  },
  {
   "cell_type": "code",
   "execution_count": 36,
   "id": "34f5e6aa",
   "metadata": {},
   "outputs": [
    {
     "data": {
      "text/plain": [
       "'Zarda'"
      ]
     },
     "execution_count": 36,
     "metadata": {},
     "output_type": "execute_result"
    }
   ],
   "source": [
    "# pop deletes a member from last index by default\n",
    "misc_items.pop()\n",
    "# it throws back return deleted item"
   ]
  },
  {
   "cell_type": "code",
   "execution_count": 37,
   "id": "7b9dfa6c",
   "metadata": {},
   "outputs": [
    {
     "data": {
      "text/plain": [
       "[100, False, 'Nasir', 23.6, 'Pakistan', 'Burgers', 'Pizzas']"
      ]
     },
     "execution_count": 37,
     "metadata": {},
     "output_type": "execute_result"
    }
   ],
   "source": [
    "misc_items"
   ]
  },
  {
   "cell_type": "code",
   "execution_count": 42,
   "id": "97fb1b45",
   "metadata": {},
   "outputs": [],
   "source": [
    "poped_item = misc_items.pop(False)"
   ]
  },
  {
   "cell_type": "code",
   "execution_count": 43,
   "id": "78593aee",
   "metadata": {},
   "outputs": [
    {
     "data": {
      "text/plain": [
       "False"
      ]
     },
     "execution_count": 43,
     "metadata": {},
     "output_type": "execute_result"
    }
   ],
   "source": [
    "poped_item"
   ]
  },
  {
   "cell_type": "code",
   "execution_count": 44,
   "id": "5038b477",
   "metadata": {},
   "outputs": [],
   "source": [
    "misc_items.clear()"
   ]
  },
  {
   "cell_type": "code",
   "execution_count": 45,
   "id": "0ff1a289",
   "metadata": {},
   "outputs": [
    {
     "data": {
      "text/plain": [
       "[]"
      ]
     },
     "execution_count": 45,
     "metadata": {},
     "output_type": "execute_result"
    }
   ],
   "source": [
    "misc_items"
   ]
  },
  {
   "cell_type": "markdown",
   "id": "1af57f70",
   "metadata": {},
   "source": [
    "# Update "
   ]
  },
  {
   "cell_type": "code",
   "execution_count": 46,
   "id": "3a466913",
   "metadata": {},
   "outputs": [
    {
     "data": {
      "text/plain": [
       "['ali',\n",
       " 'arif',\n",
       " 'maaz',\n",
       " 'imran',\n",
       " 'aman',\n",
       " 'asad',\n",
       " 'hassan',\n",
       " 'nawaz',\n",
       " 'sharif',\n",
       " 'baber khan',\n",
       " 'hafiz muneer']"
      ]
     },
     "execution_count": 46,
     "metadata": {},
     "output_type": "execute_result"
    }
   ],
   "source": [
    "students"
   ]
  },
  {
   "cell_type": "code",
   "execution_count": 47,
   "id": "b54c6365",
   "metadata": {},
   "outputs": [],
   "source": [
    "students[7] = \"Shabaz\""
   ]
  },
  {
   "cell_type": "code",
   "execution_count": 48,
   "id": "405a087a",
   "metadata": {},
   "outputs": [
    {
     "data": {
      "text/plain": [
       "['ali',\n",
       " 'arif',\n",
       " 'maaz',\n",
       " 'imran',\n",
       " 'aman',\n",
       " 'asad',\n",
       " 'hassan',\n",
       " 'Shabaz',\n",
       " 'sharif',\n",
       " 'baber khan',\n",
       " 'hafiz muneer']"
      ]
     },
     "execution_count": 48,
     "metadata": {},
     "output_type": "execute_result"
    }
   ],
   "source": [
    "students"
   ]
  },
  {
   "cell_type": "code",
   "execution_count": 51,
   "id": "ce0ecfb0",
   "metadata": {},
   "outputs": [],
   "source": [
    "students[students.index('Shabaz')] = 'Maryam'"
   ]
  },
  {
   "cell_type": "code",
   "execution_count": 52,
   "id": "3e1d1c79",
   "metadata": {},
   "outputs": [
    {
     "data": {
      "text/plain": [
       "['ali',\n",
       " 'arif',\n",
       " 'maaz',\n",
       " 'imran',\n",
       " 'aman',\n",
       " 'asad',\n",
       " 'hassan',\n",
       " 'Maryam',\n",
       " 'sharif',\n",
       " 'baber khan',\n",
       " 'hafiz muneer']"
      ]
     },
     "execution_count": 52,
     "metadata": {},
     "output_type": "execute_result"
    }
   ],
   "source": [
    "students"
   ]
  },
  {
   "cell_type": "code",
   "execution_count": 54,
   "id": "04243d5a",
   "metadata": {},
   "outputs": [
    {
     "data": {
      "text/plain": [
       "True"
      ]
     },
     "execution_count": 54,
     "metadata": {},
     "output_type": "execute_result"
    }
   ],
   "source": [
    "\"Maryam\" in students"
   ]
  },
  {
   "cell_type": "code",
   "execution_count": 55,
   "id": "ecd4021e",
   "metadata": {},
   "outputs": [],
   "source": [
    "teachers  = students.copy()"
   ]
  },
  {
   "cell_type": "code",
   "execution_count": 56,
   "id": "e71f8db2",
   "metadata": {},
   "outputs": [
    {
     "data": {
      "text/plain": [
       "['ali',\n",
       " 'arif',\n",
       " 'maaz',\n",
       " 'imran',\n",
       " 'aman',\n",
       " 'asad',\n",
       " 'hassan',\n",
       " 'Maryam',\n",
       " 'sharif',\n",
       " 'baber khan',\n",
       " 'hafiz muneer']"
      ]
     },
     "execution_count": 56,
     "metadata": {},
     "output_type": "execute_result"
    }
   ],
   "source": [
    "teachers"
   ]
  },
  {
   "cell_type": "code",
   "execution_count": 57,
   "id": "e3aa6070",
   "metadata": {},
   "outputs": [],
   "source": [
    "oldstudents = students"
   ]
  },
  {
   "cell_type": "code",
   "execution_count": 58,
   "id": "8d5a5c28",
   "metadata": {},
   "outputs": [
    {
     "data": {
      "text/plain": [
       "['ali',\n",
       " 'arif',\n",
       " 'maaz',\n",
       " 'imran',\n",
       " 'aman',\n",
       " 'asad',\n",
       " 'hassan',\n",
       " 'Maryam',\n",
       " 'sharif',\n",
       " 'baber khan',\n",
       " 'hafiz muneer']"
      ]
     },
     "execution_count": 58,
     "metadata": {},
     "output_type": "execute_result"
    }
   ],
   "source": [
    "oldstudents"
   ]
  },
  {
   "cell_type": "code",
   "execution_count": 59,
   "id": "cb6473a9",
   "metadata": {},
   "outputs": [],
   "source": [
    "oldstudents.clear()"
   ]
  },
  {
   "cell_type": "code",
   "execution_count": 60,
   "id": "9dad7d34",
   "metadata": {},
   "outputs": [
    {
     "data": {
      "text/plain": [
       "[]"
      ]
     },
     "execution_count": 60,
     "metadata": {},
     "output_type": "execute_result"
    }
   ],
   "source": [
    "students"
   ]
  },
  {
   "cell_type": "code",
   "execution_count": 61,
   "id": "d074f2cc",
   "metadata": {},
   "outputs": [
    {
     "data": {
      "text/plain": [
       "['ali',\n",
       " 'arif',\n",
       " 'maaz',\n",
       " 'imran',\n",
       " 'aman',\n",
       " 'asad',\n",
       " 'hassan',\n",
       " 'Maryam',\n",
       " 'sharif',\n",
       " 'baber khan',\n",
       " 'hafiz muneer']"
      ]
     },
     "execution_count": 61,
     "metadata": {},
     "output_type": "execute_result"
    }
   ],
   "source": [
    "teachers"
   ]
  },
  {
   "cell_type": "code",
   "execution_count": 62,
   "id": "2fd72abf",
   "metadata": {},
   "outputs": [
    {
     "data": {
      "text/plain": [
       "2169567734144"
      ]
     },
     "execution_count": 62,
     "metadata": {},
     "output_type": "execute_result"
    }
   ],
   "source": [
    "id(students)"
   ]
  },
  {
   "cell_type": "code",
   "execution_count": 63,
   "id": "c0e0850f",
   "metadata": {},
   "outputs": [
    {
     "data": {
      "text/plain": [
       "2169567734144"
      ]
     },
     "execution_count": 63,
     "metadata": {},
     "output_type": "execute_result"
    }
   ],
   "source": [
    "id(oldstudents)"
   ]
  },
  {
   "cell_type": "code",
   "execution_count": 64,
   "id": "ceb89090",
   "metadata": {},
   "outputs": [
    {
     "data": {
      "text/plain": [
       "2169571026496"
      ]
     },
     "execution_count": 64,
     "metadata": {},
     "output_type": "execute_result"
    }
   ],
   "source": [
    "id(teachers)"
   ]
  },
  {
   "cell_type": "code",
   "execution_count": 65,
   "id": "05468d22",
   "metadata": {},
   "outputs": [],
   "source": [
    "a=100"
   ]
  },
  {
   "cell_type": "code",
   "execution_count": 66,
   "id": "89614f3f",
   "metadata": {},
   "outputs": [],
   "source": [
    "b= a"
   ]
  },
  {
   "cell_type": "code",
   "execution_count": 67,
   "id": "4274abd4",
   "metadata": {},
   "outputs": [
    {
     "data": {
      "text/plain": [
       "140722935340936"
      ]
     },
     "execution_count": 67,
     "metadata": {},
     "output_type": "execute_result"
    }
   ],
   "source": [
    "id(a)"
   ]
  },
  {
   "cell_type": "code",
   "execution_count": 68,
   "id": "6f2bb23a",
   "metadata": {},
   "outputs": [
    {
     "data": {
      "text/plain": [
       "140722935340936"
      ]
     },
     "execution_count": 68,
     "metadata": {},
     "output_type": "execute_result"
    }
   ],
   "source": [
    "id(b)"
   ]
  },
  {
   "cell_type": "code",
   "execution_count": 69,
   "id": "1e97f67a",
   "metadata": {},
   "outputs": [],
   "source": [
    "c = 100"
   ]
  },
  {
   "cell_type": "code",
   "execution_count": 70,
   "id": "a2c4f5f9",
   "metadata": {},
   "outputs": [
    {
     "data": {
      "text/plain": [
       "140722935340936"
      ]
     },
     "execution_count": 70,
     "metadata": {},
     "output_type": "execute_result"
    }
   ],
   "source": [
    "id(c)"
   ]
  },
  {
   "cell_type": "code",
   "execution_count": 71,
   "id": "ef5a9bec",
   "metadata": {},
   "outputs": [],
   "source": []
  },
  {
   "cell_type": "code",
   "execution_count": 72,
   "id": "757cd6fe",
   "metadata": {},
   "outputs": [
    {
     "data": {
      "text/plain": [
       "100"
      ]
     },
     "execution_count": 72,
     "metadata": {},
     "output_type": "execute_result"
    }
   ],
   "source": [
    "a"
   ]
  },
  {
   "cell_type": "code",
   "execution_count": 73,
   "id": "aad19d01",
   "metadata": {},
   "outputs": [
    {
     "data": {
      "text/plain": [
       "100"
      ]
     },
     "execution_count": 73,
     "metadata": {},
     "output_type": "execute_result"
    }
   ],
   "source": [
    "b"
   ]
  },
  {
   "cell_type": "code",
   "execution_count": 74,
   "id": "14510645",
   "metadata": {},
   "outputs": [
    {
     "data": {
      "text/plain": [
       "0"
      ]
     },
     "execution_count": 74,
     "metadata": {},
     "output_type": "execute_result"
    }
   ],
   "source": [
    "teachers.count('nasir')"
   ]
  },
  {
   "cell_type": "code",
   "execution_count": 75,
   "id": "7bf1b795",
   "metadata": {},
   "outputs": [
    {
     "data": {
      "text/plain": [
       "1"
      ]
     },
     "execution_count": 75,
     "metadata": {},
     "output_type": "execute_result"
    }
   ],
   "source": [
    "teachers.count('imran')"
   ]
  },
  {
   "cell_type": "code",
   "execution_count": 76,
   "id": "e3ea4ed4",
   "metadata": {},
   "outputs": [],
   "source": [
    "teachers.reverse()"
   ]
  },
  {
   "cell_type": "code",
   "execution_count": 77,
   "id": "a7fea669",
   "metadata": {},
   "outputs": [
    {
     "data": {
      "text/plain": [
       "['hafiz muneer',\n",
       " 'baber khan',\n",
       " 'sharif',\n",
       " 'Maryam',\n",
       " 'hassan',\n",
       " 'asad',\n",
       " 'aman',\n",
       " 'imran',\n",
       " 'maaz',\n",
       " 'arif',\n",
       " 'ali']"
      ]
     },
     "execution_count": 77,
     "metadata": {},
     "output_type": "execute_result"
    }
   ],
   "source": [
    "teachers"
   ]
  },
  {
   "cell_type": "code",
   "execution_count": 78,
   "id": "1e0185a8",
   "metadata": {},
   "outputs": [],
   "source": [
    "teachers.sort()"
   ]
  },
  {
   "cell_type": "code",
   "execution_count": 79,
   "id": "b3c42583",
   "metadata": {},
   "outputs": [
    {
     "data": {
      "text/plain": [
       "['Maryam',\n",
       " 'ali',\n",
       " 'aman',\n",
       " 'arif',\n",
       " 'asad',\n",
       " 'baber khan',\n",
       " 'hafiz muneer',\n",
       " 'hassan',\n",
       " 'imran',\n",
       " 'maaz',\n",
       " 'sharif']"
      ]
     },
     "execution_count": 79,
     "metadata": {},
     "output_type": "execute_result"
    }
   ],
   "source": [
    "teachers"
   ]
  },
  {
   "cell_type": "code",
   "execution_count": 80,
   "id": "9288f007",
   "metadata": {},
   "outputs": [],
   "source": [
    "teachers.sort(reverse=True)"
   ]
  },
  {
   "cell_type": "code",
   "execution_count": 81,
   "id": "25640814",
   "metadata": {},
   "outputs": [
    {
     "data": {
      "text/plain": [
       "['sharif',\n",
       " 'maaz',\n",
       " 'imran',\n",
       " 'hassan',\n",
       " 'hafiz muneer',\n",
       " 'baber khan',\n",
       " 'asad',\n",
       " 'arif',\n",
       " 'aman',\n",
       " 'ali',\n",
       " 'Maryam']"
      ]
     },
     "execution_count": 81,
     "metadata": {},
     "output_type": "execute_result"
    }
   ],
   "source": [
    "teachers"
   ]
  },
  {
   "cell_type": "markdown",
   "id": "dfe42f16",
   "metadata": {},
   "source": [
    "# List Slicing \n",
    "   - Slicing means copying "
   ]
  },
  {
   "cell_type": "code",
   "execution_count": 84,
   "id": "f42d8a2b",
   "metadata": {},
   "outputs": [
    {
     "data": {
      "text/plain": [
       "['sharif',\n",
       " 'maaz',\n",
       " 'imran',\n",
       " 'hassan',\n",
       " 'hafiz muneer',\n",
       " 'baber khan',\n",
       " 'asad',\n",
       " 'arif',\n",
       " 'aman',\n",
       " 'ali',\n",
       " 'Maryam']"
      ]
     },
     "execution_count": 84,
     "metadata": {},
     "output_type": "execute_result"
    }
   ],
   "source": [
    "len(teachers)\n",
    "teachers"
   ]
  },
  {
   "cell_type": "code",
   "execution_count": 85,
   "id": "03c877c9",
   "metadata": {},
   "outputs": [
    {
     "data": {
      "text/plain": [
       "['hassan', 'hafiz muneer', 'baber khan', 'asad']"
      ]
     },
     "execution_count": 85,
     "metadata": {},
     "output_type": "execute_result"
    }
   ],
   "source": [
    "teachers[3:7]"
   ]
  },
  {
   "cell_type": "code",
   "execution_count": 87,
   "id": "4b00920c",
   "metadata": {},
   "outputs": [
    {
     "data": {
      "text/plain": [
       "['hassan', 'baber khan']"
      ]
     },
     "execution_count": 87,
     "metadata": {},
     "output_type": "execute_result"
    }
   ],
   "source": [
    "teachers[3:7:2]"
   ]
  },
  {
   "cell_type": "code",
   "execution_count": 88,
   "id": "11bd5fe9",
   "metadata": {},
   "outputs": [
    {
     "data": {
      "text/plain": [
       "['hafiz muneer', 'baber khan', 'asad', 'arif', 'aman', 'ali', 'Maryam']"
      ]
     },
     "execution_count": 88,
     "metadata": {},
     "output_type": "execute_result"
    }
   ],
   "source": [
    "teachers[4:]"
   ]
  },
  {
   "cell_type": "code",
   "execution_count": 90,
   "id": "0f38e3e5",
   "metadata": {},
   "outputs": [
    {
     "data": {
      "text/plain": [
       "['sharif',\n",
       " 'maaz',\n",
       " 'imran',\n",
       " 'hassan',\n",
       " 'hafiz muneer',\n",
       " 'baber khan',\n",
       " 'asad',\n",
       " 'arif']"
      ]
     },
     "execution_count": 90,
     "metadata": {},
     "output_type": "execute_result"
    }
   ],
   "source": [
    "teachers[:8]"
   ]
  },
  {
   "cell_type": "code",
   "execution_count": 94,
   "id": "dd867660",
   "metadata": {},
   "outputs": [],
   "source": [
    "new_teachers  = teachers[:]\n",
    "# copy by value"
   ]
  },
  {
   "cell_type": "code",
   "execution_count": 95,
   "id": "9ffe6a4a",
   "metadata": {},
   "outputs": [
    {
     "data": {
      "text/plain": [
       "['sharif', 'imran', 'hafiz muneer', 'asad', 'aman', 'Maryam']"
      ]
     },
     "execution_count": 95,
     "metadata": {},
     "output_type": "execute_result"
    }
   ],
   "source": [
    "new_teachers[::2]"
   ]
  },
  {
   "cell_type": "code",
   "execution_count": 96,
   "id": "e92eaa31",
   "metadata": {},
   "outputs": [
    {
     "data": {
      "text/plain": [
       "['sharif',\n",
       " 'maaz',\n",
       " 'imran',\n",
       " 'hassan',\n",
       " 'hafiz muneer',\n",
       " 'baber khan',\n",
       " 'asad',\n",
       " 'arif',\n",
       " 'aman',\n",
       " 'ali',\n",
       " 'Maryam']"
      ]
     },
     "execution_count": 96,
     "metadata": {},
     "output_type": "execute_result"
    }
   ],
   "source": [
    "teachers"
   ]
  },
  {
   "cell_type": "code",
   "execution_count": 97,
   "id": "979cde89",
   "metadata": {},
   "outputs": [
    {
     "data": {
      "text/plain": [
       "[]"
      ]
     },
     "execution_count": 97,
     "metadata": {},
     "output_type": "execute_result"
    }
   ],
   "source": [
    "new_teachers[7:2]"
   ]
  },
  {
   "cell_type": "code",
   "execution_count": 98,
   "id": "e7f66f0f",
   "metadata": {},
   "outputs": [
    {
     "data": {
      "text/plain": [
       "['arif', 'asad', 'baber khan', 'hafiz muneer', 'hassan']"
      ]
     },
     "execution_count": 98,
     "metadata": {},
     "output_type": "execute_result"
    }
   ],
   "source": [
    "new_teachers[7:2:-1]"
   ]
  },
  {
   "cell_type": "code",
   "execution_count": 99,
   "id": "b6880236",
   "metadata": {},
   "outputs": [
    {
     "data": {
      "text/plain": [
       "['imran', 'maaz', 'sharif']"
      ]
     },
     "execution_count": 99,
     "metadata": {},
     "output_type": "execute_result"
    }
   ],
   "source": [
    "new_teachers[2::-1]"
   ]
  },
  {
   "cell_type": "code",
   "execution_count": 100,
   "id": "758df9bd",
   "metadata": {},
   "outputs": [
    {
     "data": {
      "text/plain": [
       "[]"
      ]
     },
     "execution_count": 100,
     "metadata": {},
     "output_type": "execute_result"
    }
   ],
   "source": [
    "new_teachers[2:8:-2]"
   ]
  },
  {
   "cell_type": "code",
   "execution_count": 1,
   "id": "9fbd5429",
   "metadata": {},
   "outputs": [],
   "source": [
    "students=['sajid','anas','saad','rehman','asif','abid']"
   ]
  },
  {
   "cell_type": "code",
   "execution_count": 2,
   "id": "5d545512",
   "metadata": {},
   "outputs": [
    {
     "data": {
      "text/plain": [
       "'sajid'"
      ]
     },
     "execution_count": 2,
     "metadata": {},
     "output_type": "execute_result"
    }
   ],
   "source": [
    "students[0]"
   ]
  },
  {
   "cell_type": "code",
   "execution_count": 3,
   "id": "925216d7",
   "metadata": {},
   "outputs": [
    {
     "data": {
      "text/plain": [
       "'abid'"
      ]
     },
     "execution_count": 3,
     "metadata": {},
     "output_type": "execute_result"
    }
   ],
   "source": [
    "students[5]"
   ]
  },
  {
   "cell_type": "code",
   "execution_count": 4,
   "id": "72e43f09",
   "metadata": {},
   "outputs": [
    {
     "data": {
      "text/plain": [
       "['sajid', 'anas', 'saad', 'rehman', 'asif', 'abid']"
      ]
     },
     "execution_count": 4,
     "metadata": {},
     "output_type": "execute_result"
    }
   ],
   "source": [
    "students[:]"
   ]
  },
  {
   "cell_type": "code",
   "execution_count": 5,
   "id": "446505bc",
   "metadata": {},
   "outputs": [
    {
     "data": {
      "text/plain": [
       "['sajid', 'anas', 'saad', 'rehman', 'asif', 'abid']"
      ]
     },
     "execution_count": 5,
     "metadata": {},
     "output_type": "execute_result"
    }
   ],
   "source": [
    "students[::]"
   ]
  },
  {
   "cell_type": "code",
   "execution_count": 6,
   "id": "f97ce1b1",
   "metadata": {},
   "outputs": [
    {
     "data": {
      "text/plain": [
       "['saad', 'rehman', 'asif']"
      ]
     },
     "execution_count": 6,
     "metadata": {},
     "output_type": "execute_result"
    }
   ],
   "source": [
    "students[2:5]"
   ]
  },
  {
   "cell_type": "code",
   "execution_count": 7,
   "id": "d84d02f8",
   "metadata": {},
   "outputs": [
    {
     "data": {
      "text/plain": [
       "['sajid', 'saad', 'asif']"
      ]
     },
     "execution_count": 7,
     "metadata": {},
     "output_type": "execute_result"
    }
   ],
   "source": [
    "students[0:5:2]"
   ]
  },
  {
   "cell_type": "code",
   "execution_count": 9,
   "id": "e9ea3fa5",
   "metadata": {},
   "outputs": [],
   "source": [
    "students.append(\"naryam_nawaz\")"
   ]
  },
  {
   "cell_type": "code",
   "execution_count": 10,
   "id": "7695a275",
   "metadata": {},
   "outputs": [
    {
     "data": {
      "text/plain": [
       "['sajid', 'anas', 'saad', 'rehman', 'asif', 'abid', 'naryam_nawaz']"
      ]
     },
     "execution_count": 10,
     "metadata": {},
     "output_type": "execute_result"
    }
   ],
   "source": [
    "students"
   ]
  },
  {
   "cell_type": "code",
   "execution_count": 11,
   "id": "d71b0fe2",
   "metadata": {},
   "outputs": [
    {
     "ename": "TypeError",
     "evalue": "list.append() takes exactly one argument (2 given)",
     "output_type": "error",
     "traceback": [
      "\u001b[1;31m---------------------------------------------------------------------------\u001b[0m",
      "\u001b[1;31mTypeError\u001b[0m                                 Traceback (most recent call last)",
      "Cell \u001b[1;32mIn[11], line 1\u001b[0m\n\u001b[1;32m----> 1\u001b[0m students\u001b[38;5;241m.\u001b[39mappend(\u001b[38;5;124m\"\u001b[39m\u001b[38;5;124melon\u001b[39m\u001b[38;5;124m\"\u001b[39m,\u001b[38;5;124m'\u001b[39m\u001b[38;5;124mambani\u001b[39m\u001b[38;5;124m'\u001b[39m)\n",
      "\u001b[1;31mTypeError\u001b[0m: list.append() takes exactly one argument (2 given)"
     ]
    }
   ],
   "source": [
    "students.append(\"elon\",'ambani')"
   ]
  },
  {
   "cell_type": "code",
   "execution_count": 13,
   "id": "2ea3b37a",
   "metadata": {},
   "outputs": [],
   "source": [
    "students.append(['elon','amabani'])"
   ]
  },
  {
   "cell_type": "code",
   "execution_count": 14,
   "id": "be96f4d5",
   "metadata": {},
   "outputs": [
    {
     "data": {
      "text/plain": [
       "['sajid',\n",
       " 'anas',\n",
       " 'saad',\n",
       " 'rehman',\n",
       " 'asif',\n",
       " 'abid',\n",
       " 'naryam_nawaz',\n",
       " ['elon', 'amabani']]"
      ]
     },
     "execution_count": 14,
     "metadata": {},
     "output_type": "execute_result"
    }
   ],
   "source": [
    "students"
   ]
  },
  {
   "cell_type": "code",
   "execution_count": 15,
   "id": "75ae6954",
   "metadata": {},
   "outputs": [],
   "source": [
    "students.extend([\"karti_sanon\",\"sunakshi\"])"
   ]
  },
  {
   "cell_type": "code",
   "execution_count": 16,
   "id": "f1c7f7a9",
   "metadata": {},
   "outputs": [
    {
     "data": {
      "text/plain": [
       "['sajid',\n",
       " 'anas',\n",
       " 'saad',\n",
       " 'rehman',\n",
       " 'asif',\n",
       " 'abid',\n",
       " 'naryam_nawaz',\n",
       " ['elon', 'amabani'],\n",
       " 'karti_sanon',\n",
       " 'sunakshi']"
      ]
     },
     "execution_count": 16,
     "metadata": {},
     "output_type": "execute_result"
    }
   ],
   "source": [
    "students"
   ]
  },
  {
   "cell_type": "code",
   "execution_count": 17,
   "id": "feca643f",
   "metadata": {},
   "outputs": [],
   "source": [
    "students.insert(2,'zeeshan')"
   ]
  },
  {
   "cell_type": "code",
   "execution_count": 18,
   "id": "e58d77c2",
   "metadata": {},
   "outputs": [
    {
     "data": {
      "text/plain": [
       "['sajid',\n",
       " 'anas',\n",
       " 'zeeshan',\n",
       " 'saad',\n",
       " 'rehman',\n",
       " 'asif',\n",
       " 'abid',\n",
       " 'naryam_nawaz',\n",
       " ['elon', 'amabani'],\n",
       " 'karti_sanon',\n",
       " 'sunakshi']"
      ]
     },
     "execution_count": 18,
     "metadata": {},
     "output_type": "execute_result"
    }
   ],
   "source": [
    "students"
   ]
  },
  {
   "cell_type": "code",
   "execution_count": 19,
   "id": "e5b6672c",
   "metadata": {},
   "outputs": [],
   "source": [
    "teacher=['ayab','mohaib','nasir_hussain','osman_ghazi','shahid_anwar']"
   ]
  },
  {
   "cell_type": "code",
   "execution_count": 23,
   "id": "5ca1466a",
   "metadata": {},
   "outputs": [],
   "source": [
    "members=students+teacher"
   ]
  },
  {
   "cell_type": "code",
   "execution_count": 25,
   "id": "dac0c7b4",
   "metadata": {},
   "outputs": [
    {
     "data": {
      "text/plain": [
       "['sajid',\n",
       " 'anas',\n",
       " 'zeeshan',\n",
       " 'saad',\n",
       " 'rehman',\n",
       " 'asif',\n",
       " 'abid',\n",
       " 'naryam_nawaz',\n",
       " ['elon', 'amabani'],\n",
       " 'karti_sanon',\n",
       " 'sunakshi',\n",
       " 'ayab',\n",
       " 'mohaib',\n",
       " 'nasir_hussain',\n",
       " 'osman_ghazi',\n",
       " 'shahid_anwar']"
      ]
     },
     "execution_count": 25,
     "metadata": {},
     "output_type": "execute_result"
    }
   ],
   "source": [
    "members"
   ]
  },
  {
   "cell_type": "code",
   "execution_count": 31,
   "id": "38e8e08f",
   "metadata": {},
   "outputs": [],
   "source": [
    "del members[1]"
   ]
  },
  {
   "cell_type": "code",
   "execution_count": 32,
   "id": "657262d8",
   "metadata": {},
   "outputs": [
    {
     "data": {
      "text/plain": [
       "['sajid',\n",
       " 'zeeshan',\n",
       " 'saad',\n",
       " 'rehman',\n",
       " 'asif',\n",
       " 'abid',\n",
       " 'naryam_nawaz',\n",
       " ['elon', 'amabani'],\n",
       " 'karti_sanon',\n",
       " 'sunakshi',\n",
       " 'ayab',\n",
       " 'mohaib',\n",
       " 'nasir_hussain',\n",
       " 'osman_ghazi',\n",
       " 'shahid_anwar']"
      ]
     },
     "execution_count": 32,
     "metadata": {},
     "output_type": "execute_result"
    }
   ],
   "source": [
    "members"
   ]
  },
  {
   "cell_type": "code",
   "execution_count": 33,
   "id": "968ebfca",
   "metadata": {},
   "outputs": [
    {
     "data": {
      "text/plain": [
       "'shahid_anwar'"
      ]
     },
     "execution_count": 33,
     "metadata": {},
     "output_type": "execute_result"
    }
   ],
   "source": [
    "members.pop()"
   ]
  },
  {
   "cell_type": "code",
   "execution_count": 34,
   "id": "81cfb0f7",
   "metadata": {},
   "outputs": [],
   "source": [
    "teacher.clear()"
   ]
  },
  {
   "cell_type": "code",
   "execution_count": 35,
   "id": "8c464954",
   "metadata": {},
   "outputs": [
    {
     "data": {
      "text/plain": [
       "[]"
      ]
     },
     "execution_count": 35,
     "metadata": {},
     "output_type": "execute_result"
    }
   ],
   "source": [
    "teacher"
   ]
  },
  {
   "cell_type": "code",
   "execution_count": 36,
   "id": "65e061a6",
   "metadata": {},
   "outputs": [],
   "source": [
    "students[0]='kartina_kaif'"
   ]
  },
  {
   "cell_type": "code",
   "execution_count": 37,
   "id": "e4942768",
   "metadata": {},
   "outputs": [
    {
     "data": {
      "text/plain": [
       "['kartina_kaif',\n",
       " 'anas',\n",
       " 'zeeshan',\n",
       " 'saad',\n",
       " 'rehman',\n",
       " 'asif',\n",
       " 'abid',\n",
       " 'naryam_nawaz',\n",
       " ['elon', 'amabani'],\n",
       " 'karti_sanon',\n",
       " 'sunakshi']"
      ]
     },
     "execution_count": 37,
     "metadata": {},
     "output_type": "execute_result"
    }
   ],
   "source": [
    "students"
   ]
  },
  {
   "cell_type": "code",
   "execution_count": null,
   "id": "4ca0f150",
   "metadata": {},
   "outputs": [],
   "source": []
  }
 ],
 "metadata": {
  "kernelspec": {
   "display_name": "Python 3 (ipykernel)",
   "language": "python",
   "name": "python3"
  },
  "language_info": {
   "codemirror_mode": {
    "name": "ipython",
    "version": 3
   },
   "file_extension": ".py",
   "mimetype": "text/x-python",
   "name": "python",
   "nbconvert_exporter": "python",
   "pygments_lexer": "ipython3",
   "version": "3.11.4"
  }
 },
 "nbformat": 4,
 "nbformat_minor": 5
}
