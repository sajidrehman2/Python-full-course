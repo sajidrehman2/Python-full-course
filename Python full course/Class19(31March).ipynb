{
 "cells": [
  {
   "cell_type": "markdown",
   "id": "f3652a62",
   "metadata": {},
   "source": [
    "# Pillars of Object Oriented Programming\n",
    "         - Encapsulation\n",
    "         - Inheritance \n",
    "         - Poylmorphism\n",
    "         - Abstraction"
   ]
  },
  {
   "cell_type": "markdown",
   "id": "b4543312",
   "metadata": {},
   "source": [
    "# Encapsulation"
   ]
  },
  {
   "cell_type": "code",
   "execution_count": 7,
   "id": "5de1a42b",
   "metadata": {},
   "outputs": [],
   "source": [
    "class Student:\n",
    "    college = \"SMIT\"\n",
    "    def __init__(self, name, fname, roll, course, marks):\n",
    "        self.name = name\n",
    "        self.fname =fname\n",
    "        self.roll = roll\n",
    "        self.course = course\n",
    "        self.marks = marks\n",
    "        \n",
    "    def entry(self):\n",
    "        print(f\"Mr. {self.name} entering in college\")\n",
    "    \n",
    "    def attend_class(self):\n",
    "        print(f\"Mr. {self.name} attending {self.course} class\")\n",
    "    def profile(self):\n",
    "        print(f\"\"\" \n",
    "               Name       : {self.name}\n",
    "               Father Name: {self.fname}\n",
    "               Roll Number: {self.roll}\n",
    "               Course:    : {self.course}\n",
    "               College    : {self.college}\n",
    "               \"\"\")"
   ]
  },
  {
   "cell_type": "code",
   "execution_count": 8,
   "id": "d0f2e4e9",
   "metadata": {},
   "outputs": [],
   "source": [
    "s1 = Student('Hassan', 'Jami', 123, 'Python', 78)"
   ]
  },
  {
   "cell_type": "code",
   "execution_count": 9,
   "id": "8d3342b7",
   "metadata": {},
   "outputs": [
    {
     "data": {
      "text/plain": [
       "'Hassan'"
      ]
     },
     "execution_count": 9,
     "metadata": {},
     "output_type": "execute_result"
    }
   ],
   "source": [
    "s1.name"
   ]
  },
  {
   "cell_type": "code",
   "execution_count": 10,
   "id": "19282f4d",
   "metadata": {},
   "outputs": [],
   "source": [
    "s1.name = \"Yasir\""
   ]
  },
  {
   "cell_type": "code",
   "execution_count": 11,
   "id": "027dfb3c",
   "metadata": {},
   "outputs": [
    {
     "data": {
      "text/plain": [
       "78"
      ]
     },
     "execution_count": 11,
     "metadata": {},
     "output_type": "execute_result"
    }
   ],
   "source": [
    "s1.marks"
   ]
  },
  {
   "cell_type": "code",
   "execution_count": 12,
   "id": "5e74696a",
   "metadata": {},
   "outputs": [],
   "source": [
    "s1.marks = 123"
   ]
  },
  {
   "cell_type": "code",
   "execution_count": 13,
   "id": "aa3c02f8",
   "metadata": {},
   "outputs": [
    {
     "data": {
      "text/plain": [
       "123"
      ]
     },
     "execution_count": 13,
     "metadata": {},
     "output_type": "execute_result"
    }
   ],
   "source": [
    "s1.marks"
   ]
  },
  {
   "cell_type": "code",
   "execution_count": 46,
   "id": "1f61fe69",
   "metadata": {},
   "outputs": [],
   "source": [
    "class Student:\n",
    "    college = \"SMIT\"\n",
    "    def __init__(self, name, fname, roll, course, marks):\n",
    "        # public instance variable \n",
    "        # can be accesed inside and outside the class\n",
    "        \n",
    "        self.fname =fname\n",
    "        self.roll = roll\n",
    "        self.course = course\n",
    "        # private instance variables\n",
    "        self._marks = marks\n",
    "        self._name = name\n",
    "    def entry(self):\n",
    "        print(f\"Mr. {self.name} entering in college\")\n",
    "    \n",
    "    def attend_class(self):\n",
    "        print(f\"Mr. {self.name} attending {self.course} class\")\n",
    "    \n",
    "    def profile(self):\n",
    "        print(f\"\"\" \n",
    "               Name       : {self.name}\n",
    "               Father Name: {self.fname}\n",
    "               Roll Number: {self.roll}\n",
    "               Course:    : {self.course}\n",
    "               College    : {self.college}\n",
    "               \"\"\")\n",
    "        \n",
    "    def get_name(self):\n",
    "        return self._name\n",
    "    \n",
    "    def set_name(self,newname):\n",
    "        lst=['nasir','asad','osama', 'khan']\n",
    "        if newname in lst:\n",
    "            self._name = newname\n",
    "        else:\n",
    "            print(\"Name not available\")\n",
    "    \n",
    "    def get_marks(self):\n",
    "        return self._marks\n",
    "    \n",
    "    \n",
    "    def set_marks(self,newmarks):\n",
    "        if newmarks>100:\n",
    "            print(\"Marks can not be greater than 100\")\n",
    "        else:\n",
    "            self._marks = newmarks\n",
    "        "
   ]
  },
  {
   "cell_type": "code",
   "execution_count": 47,
   "id": "467a2d26",
   "metadata": {},
   "outputs": [],
   "source": [
    "s1 = Student('Hassan', 'Jami', 123, 'Python', 78)"
   ]
  },
  {
   "cell_type": "code",
   "execution_count": 48,
   "id": "57ee4309",
   "metadata": {},
   "outputs": [
    {
     "data": {
      "text/plain": [
       "'Hassan'"
      ]
     },
     "execution_count": 48,
     "metadata": {},
     "output_type": "execute_result"
    }
   ],
   "source": [
    "s1.get_name()"
   ]
  },
  {
   "cell_type": "code",
   "execution_count": 49,
   "id": "4fc6fb6e",
   "metadata": {},
   "outputs": [
    {
     "name": "stdout",
     "output_type": "stream",
     "text": [
      "Name not available\n"
     ]
    }
   ],
   "source": [
    "s1.set_name('Umer')"
   ]
  },
  {
   "cell_type": "code",
   "execution_count": 50,
   "id": "d9da9dc1",
   "metadata": {},
   "outputs": [
    {
     "data": {
      "text/plain": [
       "'Hassan'"
      ]
     },
     "execution_count": 50,
     "metadata": {},
     "output_type": "execute_result"
    }
   ],
   "source": [
    "s1.get_name()"
   ]
  },
  {
   "cell_type": "code",
   "execution_count": 51,
   "id": "c02a6fa1",
   "metadata": {},
   "outputs": [
    {
     "data": {
      "text/plain": [
       "['__class__',\n",
       " '__delattr__',\n",
       " '__dict__',\n",
       " '__dir__',\n",
       " '__doc__',\n",
       " '__eq__',\n",
       " '__format__',\n",
       " '__ge__',\n",
       " '__getattribute__',\n",
       " '__getstate__',\n",
       " '__gt__',\n",
       " '__hash__',\n",
       " '__init__',\n",
       " '__init_subclass__',\n",
       " '__le__',\n",
       " '__lt__',\n",
       " '__module__',\n",
       " '__ne__',\n",
       " '__new__',\n",
       " '__reduce__',\n",
       " '__reduce_ex__',\n",
       " '__repr__',\n",
       " '__setattr__',\n",
       " '__sizeof__',\n",
       " '__str__',\n",
       " '__subclasshook__',\n",
       " '__weakref__',\n",
       " '_marks',\n",
       " '_name',\n",
       " 'attend_class',\n",
       " 'college',\n",
       " 'course',\n",
       " 'entry',\n",
       " 'fname',\n",
       " 'get_marks',\n",
       " 'get_name',\n",
       " 'profile',\n",
       " 'roll',\n",
       " 'set_marks',\n",
       " 'set_name']"
      ]
     },
     "execution_count": 51,
     "metadata": {},
     "output_type": "execute_result"
    }
   ],
   "source": [
    "dir(s1)"
   ]
  },
  {
   "cell_type": "code",
   "execution_count": 52,
   "id": "a0e7ca22",
   "metadata": {},
   "outputs": [
    {
     "data": {
      "text/plain": [
       "'Hassan'"
      ]
     },
     "execution_count": 52,
     "metadata": {},
     "output_type": "execute_result"
    }
   ],
   "source": [
    "s1.get_name()"
   ]
  },
  {
   "cell_type": "code",
   "execution_count": 53,
   "id": "2237d015",
   "metadata": {},
   "outputs": [
    {
     "name": "stdout",
     "output_type": "stream",
     "text": [
      "Name not available\n"
     ]
    }
   ],
   "source": [
    "s1.set_name('Kashan')"
   ]
  },
  {
   "cell_type": "code",
   "execution_count": 54,
   "id": "3114bccf",
   "metadata": {},
   "outputs": [
    {
     "data": {
      "text/plain": [
       "78"
      ]
     },
     "execution_count": 54,
     "metadata": {},
     "output_type": "execute_result"
    }
   ],
   "source": [
    "s1.get_marks()"
   ]
  },
  {
   "cell_type": "code",
   "execution_count": 55,
   "id": "4fe43db4",
   "metadata": {},
   "outputs": [
    {
     "name": "stdout",
     "output_type": "stream",
     "text": [
      "Marks can not be greater than 100\n"
     ]
    }
   ],
   "source": [
    "s1.set_marks(101)"
   ]
  },
  {
   "cell_type": "code",
   "execution_count": 56,
   "id": "42e8835e",
   "metadata": {},
   "outputs": [],
   "source": [
    "def abc(num):\n",
    "    print(num*2)"
   ]
  },
  {
   "cell_type": "code",
   "execution_count": 57,
   "id": "fc93e7bc",
   "metadata": {},
   "outputs": [
    {
     "name": "stdout",
     "output_type": "stream",
     "text": [
      "4\n"
     ]
    }
   ],
   "source": [
    "abc(2)"
   ]
  },
  {
   "cell_type": "code",
   "execution_count": 58,
   "id": "d3e054d6",
   "metadata": {},
   "outputs": [
    {
     "name": "stdout",
     "output_type": "stream",
     "text": [
      "twotwo\n"
     ]
    }
   ],
   "source": [
    "abc(\"two\")"
   ]
  },
  {
   "cell_type": "code",
   "execution_count": 70,
   "id": "5dd77d26",
   "metadata": {},
   "outputs": [],
   "source": [
    "class PSL:\n",
    "    _country = \"Pakistan\"\n",
    "    def __init__(self, team, captain, owner, sponers, players=[]):\n",
    "        self._team=team\n",
    "        self._captain =captain\n",
    "        self._owner = owner\n",
    "        self._sponers = sponers\n",
    "        self._players = players\n",
    "        \n",
    "    def play_match(self):\n",
    "        print(f'''{self.team} is playing match''')\n",
    "        \n",
    "    def net_practice(self):\n",
    "        print(f'''{self.team} is doing net practice''') \n",
    "    \n",
    "    def get_captain(self):\n",
    "        return self._captain\n",
    "    \n",
    "    def set_capain(self, newcaptain):\n",
    "        if newcaptain in self._players:\n",
    "            self._captain = newcaptain\n",
    "        else:\n",
    "            print(f\"\"\"{newcaptain} is not in {self._team}\"\"\")    "
   ]
  },
  {
   "cell_type": "code",
   "execution_count": 71,
   "id": "44afbd08",
   "metadata": {},
   "outputs": [],
   "source": [
    "team1 = PSL('Peshawar Zalmi', 'Babar Azam', 'Jawed Afridi', 'Haier', ['Babar', 'Haris','Saim','TKC', 'Powel'])"
   ]
  },
  {
   "cell_type": "code",
   "execution_count": 72,
   "id": "84c7313e",
   "metadata": {},
   "outputs": [
    {
     "data": {
      "text/plain": [
       "'Babar Azam'"
      ]
     },
     "execution_count": 72,
     "metadata": {},
     "output_type": "execute_result"
    }
   ],
   "source": [
    "team1.get_captain()"
   ]
  },
  {
   "cell_type": "code",
   "execution_count": 73,
   "id": "96d636b1",
   "metadata": {},
   "outputs": [
    {
     "name": "stdout",
     "output_type": "stream",
     "text": [
      "Hafiz Sahib is not in Peshawar Zalmi\n"
     ]
    }
   ],
   "source": [
    "team1.set_capain('Hafiz Sahib')"
   ]
  },
  {
   "cell_type": "code",
   "execution_count": 74,
   "id": "d2af0d92",
   "metadata": {},
   "outputs": [],
   "source": [
    "team1.set_capain(\"Powel\")"
   ]
  },
  {
   "cell_type": "code",
   "execution_count": 76,
   "id": "0720d345",
   "metadata": {},
   "outputs": [
    {
     "data": {
      "text/plain": [
       "'Powel'"
      ]
     },
     "execution_count": 76,
     "metadata": {},
     "output_type": "execute_result"
    }
   ],
   "source": [
    "team1.get_captain()"
   ]
  },
  {
   "cell_type": "markdown",
   "id": "7eb760c1",
   "metadata": {},
   "source": [
    "# Inheritance"
   ]
  },
  {
   "cell_type": "code",
   "execution_count": 79,
   "id": "1e23fb74",
   "metadata": {},
   "outputs": [],
   "source": [
    "class Car:\n",
    "    # class variable/ class attribute\n",
    "    wheels = 4\n",
    "    def __init__(self,make, model, year, color, engine_type):\n",
    "        # instacne variables/Object variables\n",
    "        self.make = make\n",
    "        self.model = model\n",
    "        self.year = year\n",
    "        self.color = color\n",
    "        self.engine_type =engine_type    \n",
    "    \n",
    "    # instance methods \n",
    "    def ignite(self):\n",
    "        print(\"Car engine starting........\")\n",
    "    def speed(self):\n",
    "        print(\"Car is moving!!!!!!\")\n",
    "    def describeCar(self):\n",
    "        print(self.make, self.model, self.year, self.color, self.engine_type)"
   ]
  },
  {
   "cell_type": "code",
   "execution_count": 80,
   "id": "b6432668",
   "metadata": {},
   "outputs": [],
   "source": [
    "car1 = Car('Honda','Civic',2021, 'Blue', 'Petrol')"
   ]
  },
  {
   "cell_type": "code",
   "execution_count": 82,
   "id": "b104421e",
   "metadata": {},
   "outputs": [],
   "source": [
    "class ElectricCar():\n",
    "    wheels = 4\n",
    "    def __init__(self,make, model, year, color, battery):\n",
    "        # instacne variables/Object variables\n",
    "        self.make = make\n",
    "        self.model = model\n",
    "        self.year = year\n",
    "        self.color = color\n",
    "        self.battery =battery\n",
    "    # instance methods \n",
    "    def ignite(self):\n",
    "        print(\"Car engine starting........\")\n",
    "    def speed(self):\n",
    "        print(\"Car is moving!!!!!!\")\n",
    "    def describeCar(self):\n",
    "        print(self.make, self.model, self.year, self.color, self.battery)\n"
   ]
  },
  {
   "cell_type": "code",
   "execution_count": 83,
   "id": "6320411f",
   "metadata": {},
   "outputs": [],
   "source": [
    "class ElectricCar(Car):\n",
    "    pass"
   ]
  },
  {
   "cell_type": "code",
   "execution_count": 85,
   "id": "5d93b739",
   "metadata": {},
   "outputs": [],
   "source": [
    "ec1 = ElectricCar('Tesla', 'S',2024,'Black', 'Petrol' )"
   ]
  },
  {
   "cell_type": "markdown",
   "id": "09a398fe",
   "metadata": {},
   "source": [
    "# is a relationship"
   ]
  },
  {
   "cell_type": "code",
   "execution_count": 88,
   "id": "f9269952",
   "metadata": {},
   "outputs": [],
   "source": [
    "class ElectricCar(Car):\n",
    "    def __init__(self,make, model, year, color, engine_type, battery):\n",
    "        super().__init__(make, model, year,color,engine_type )\n",
    "        self.battery= battery\n",
    "        "
   ]
  },
  {
   "cell_type": "code",
   "execution_count": 90,
   "id": "0e6a3962",
   "metadata": {},
   "outputs": [],
   "source": [
    "ec2 = ElectricCar('Pesla','T', 2030,'Red','Electric', 'Osaka')"
   ]
  },
  {
   "cell_type": "code",
   "execution_count": 91,
   "id": "fc712864",
   "metadata": {},
   "outputs": [
    {
     "name": "stdout",
     "output_type": "stream",
     "text": [
      "Pesla T 2030 Red Electric\n"
     ]
    }
   ],
   "source": [
    "ec2.describeCar()"
   ]
  },
  {
   "cell_type": "code",
   "execution_count": null,
   "id": "71b1018b",
   "metadata": {},
   "outputs": [],
   "source": []
  }
 ],
 "metadata": {
  "kernelspec": {
   "display_name": "Python 3 (ipykernel)",
   "language": "python",
   "name": "python3"
  },
  "language_info": {
   "codemirror_mode": {
    "name": "ipython",
    "version": 3
   },
   "file_extension": ".py",
   "mimetype": "text/x-python",
   "name": "python",
   "nbconvert_exporter": "python",
   "pygments_lexer": "ipython3",
   "version": "3.11.4"
  }
 },
 "nbformat": 4,
 "nbformat_minor": 5
}
