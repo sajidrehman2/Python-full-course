{
 "cells": [
  {
   "cell_type": "markdown",
   "id": "cfa89da7",
   "metadata": {},
   "source": [
    "# List :\n",
    "List are used to store multiple items in single variable.\n",
    "List are created using square brackets [ ]."
   ]
  },
  {
   "cell_type": "code",
   "execution_count": 59,
   "id": "7670cd44",
   "metadata": {},
   "outputs": [],
   "source": [
    "# Creating an empty list\n",
    "empty = []"
   ]
  },
  {
   "cell_type": "code",
   "execution_count": 60,
   "id": "96126392",
   "metadata": {},
   "outputs": [
    {
     "name": "stdout",
     "output_type": "stream",
     "text": [
      "['Ali', 'Ahmad', 'Imarn', 'Babar', 'Haris', 'Gohar', 'Johar', 'Rizwan', 'Sami']\n"
     ]
    }
   ],
   "source": [
    "# Creating a list of students\n",
    "students = [\"Ali\", \"Ahmad\", \"Imarn\", \"Babar\", \"Haris\", \"Gohar\", \"Johar\", \"Rizwan\", \"Sami\"]\n",
    "print(students)"
   ]
  },
  {
   "cell_type": "markdown",
   "id": "868733a2",
   "metadata": {},
   "source": [
    "# List Lenght"
   ]
  },
  {
   "cell_type": "code",
   "execution_count": 61,
   "id": "6a561d30",
   "metadata": {},
   "outputs": [
    {
     "name": "stdout",
     "output_type": "stream",
     "text": [
      "9\n"
     ]
    }
   ],
   "source": [
    "# To determine how many items a list has, use the len() function\n",
    "print(len(students))"
   ]
  },
  {
   "cell_type": "markdown",
   "id": "d7e75751",
   "metadata": {},
   "source": [
    "# List Items\n",
    "List items are ordered, muteable, and allow duplicate values.List items are indexed."
   ]
  },
  {
   "cell_type": "code",
   "execution_count": 62,
   "id": "e733df77",
   "metadata": {},
   "outputs": [
    {
     "name": "stdout",
     "output_type": "stream",
     "text": [
      "['Nasir', 'Irfan', 'Haris', 'Sheraz', 'Farhan', 'Rafiq', 'Haris', 'Ihsan']\n"
     ]
    }
   ],
   "source": [
    "# Craeting a list of teachers to show list allow duplicate value and list elements are ordered\n",
    "teachers = [\"Nasir\", \"Irfan\", \"Haris\", \"Sheraz\", \"Farhan\", \"Rafiq\", \"Haris\", \"Ihsan\"]\n",
    "print(teachers)"
   ]
  },
  {
   "cell_type": "code",
   "execution_count": 63,
   "id": "32019a67",
   "metadata": {},
   "outputs": [
    {
     "name": "stdout",
     "output_type": "stream",
     "text": [
      "['Nasir', 'Irfan', 'Haris', 'Sheraz', 'Farhan', 'Khalil', 'Haris', 'Ihsan']\n"
     ]
    }
   ],
   "source": [
    "# change the any element from the above teachers list to show list are muteable\n",
    "teachers[teachers.index(\"Rafiq\")] = \"Khalil\"\n",
    "print(teachers)"
   ]
  },
  {
   "cell_type": "markdown",
   "id": "f3210a49",
   "metadata": {},
   "source": [
    "# List Items - Data Types\n",
    "List items can be of any data types"
   ]
  },
  {
   "cell_type": "code",
   "execution_count": 64,
   "id": "ceeafd2d",
   "metadata": {},
   "outputs": [],
   "source": [
    "# Creating a list of string\n",
    "list1 = [\"Apple\", \"Banana\", \"Cherry\", \"Orang\"]"
   ]
  },
  {
   "cell_type": "code",
   "execution_count": 65,
   "id": "09c10715",
   "metadata": {},
   "outputs": [],
   "source": [
    "# Creating a list of integers\n",
    "list2 = [1, 4, 7, 3, 6, 0, 12, 23]"
   ]
  },
  {
   "cell_type": "code",
   "execution_count": 66,
   "id": "c51b360d",
   "metadata": {},
   "outputs": [],
   "source": [
    "# Creating a list of boolean data type\n",
    "list3 = [True, False, True, True, False]"
   ]
  },
  {
   "cell_type": "markdown",
   "id": "15c7e9b4",
   "metadata": {},
   "source": [
    "A list can contain different data types"
   ]
  },
  {
   "cell_type": "code",
   "execution_count": 67,
   "id": "2d60fd83",
   "metadata": {},
   "outputs": [],
   "source": [
    "# Creating a list with string, integers and boolean data type\n",
    "list4 = [\"apple\", 54, False, \"Orang\", True, 21]"
   ]
  },
  {
   "cell_type": "markdown",
   "id": "d8054086",
   "metadata": {},
   "source": [
    "# Access List Elements\n",
    "List items are indexed, the positive list index start from [ 0 ] and the negative list index start from [ -1 ], the index [ -1 ] represent the last element of the list. List elements/items access using indexes"
   ]
  },
  {
   "cell_type": "code",
   "execution_count": 68,
   "id": "b27a5cf2",
   "metadata": {},
   "outputs": [
    {
     "name": "stdout",
     "output_type": "stream",
     "text": [
      "['Nasir', 'Irfan', 'Haris', 'Sheraz', 'Farhan', 'Khalil', 'Haris', 'Ihsan']\n"
     ]
    }
   ],
   "source": [
    "# Creating a list of teachers\n",
    "teachers = ['Nasir', 'Irfan', 'Haris', 'Sheraz', 'Farhan', 'Khalil', 'Haris', 'Ihsan']\n",
    "print(teachers)"
   ]
  },
  {
   "cell_type": "code",
   "execution_count": 69,
   "id": "01b3f509",
   "metadata": {},
   "outputs": [
    {
     "name": "stdout",
     "output_type": "stream",
     "text": [
      "Sheraz\n"
     ]
    }
   ],
   "source": [
    "# Access with positive indexes\n",
    "print(teachers[3])              # return the number 4 element of the list"
   ]
  },
  {
   "cell_type": "code",
   "execution_count": 70,
   "id": "97d639e5",
   "metadata": {},
   "outputs": [
    {
     "name": "stdout",
     "output_type": "stream",
     "text": [
      "Ihsan\n"
     ]
    }
   ],
   "source": [
    "# Access with negative indexes \n",
    "print(teachers[-1])             # return the last element of the list"
   ]
  },
  {
   "cell_type": "markdown",
   "id": "832fca62",
   "metadata": {},
   "source": [
    "# Slicing\n",
    "It is possible to access a section of items from the list using the slicing operator :, not just a single item"
   ]
  },
  {
   "cell_type": "code",
   "execution_count": 71,
   "id": "20151976",
   "metadata": {},
   "outputs": [
    {
     "name": "stdout",
     "output_type": "stream",
     "text": [
      "['Nasir', 'Irfan', 'Haris', 'Sheraz', 'Farhan', 'Khalil', 'Haris', 'Ihsan']\n"
     ]
    }
   ],
   "source": [
    "# Creating a list of teachers\n",
    "teachers = ['Nasir', 'Irfan', 'Haris', 'Sheraz', 'Farhan', 'Khalil', 'Haris', 'Ihsan']\n",
    "print(teachers)"
   ]
  },
  {
   "cell_type": "code",
   "execution_count": 72,
   "id": "f4c89a05",
   "metadata": {},
   "outputs": [
    {
     "name": "stdout",
     "output_type": "stream",
     "text": [
      "['Sheraz', 'Farhan', 'Khalil', 'Haris', 'Ihsan']\n"
     ]
    }
   ],
   "source": [
    "# Slicing with positive indexes\n",
    "print(teachers[3:8])              # return the element from number 3 to number 7, 8 not included"
   ]
  },
  {
   "cell_type": "code",
   "execution_count": 73,
   "id": "f359deff",
   "metadata": {},
   "outputs": [
    {
     "name": "stdout",
     "output_type": "stream",
     "text": [
      "['Haris', 'Sheraz', 'Farhan', 'Khalil', 'Haris', 'Ihsan']\n",
      "['Haris', 'Farhan', 'Haris']\n"
     ]
    }
   ],
   "source": [
    "print(teachers[2:8:1])                         # inclde every element in this range\n",
    "print(teachers[2:8:2])                         # include every second element in this range"
   ]
  },
  {
   "cell_type": "code",
   "execution_count": 74,
   "id": "c14e309f",
   "metadata": {},
   "outputs": [
    {
     "name": "stdout",
     "output_type": "stream",
     "text": [
      "['Nasir', 'Irfan', 'Haris', 'Sheraz', 'Farhan', 'Khalil', 'Haris', 'Ihsan']\n"
     ]
    }
   ],
   "source": [
    "# by leaving out the start index, the range will start from first item and go on to the specific value\n",
    "print(teachers[:9])"
   ]
  },
  {
   "cell_type": "code",
   "execution_count": 75,
   "id": "fe75e349",
   "metadata": {},
   "outputs": [
    {
     "name": "stdout",
     "output_type": "stream",
     "text": [
      "['Sheraz', 'Farhan', 'Khalil', 'Haris', 'Ihsan']\n"
     ]
    }
   ],
   "source": [
    "# By leaving out the end index, the range will start from spacific value and go on to the end of the list\n",
    "print(teachers[3:])"
   ]
  },
  {
   "cell_type": "code",
   "execution_count": 76,
   "id": "06d26d53",
   "metadata": {},
   "outputs": [
    {
     "name": "stdout",
     "output_type": "stream",
     "text": [
      "['Irfan', 'Haris', 'Sheraz', 'Farhan', 'Khalil']\n"
     ]
    }
   ],
   "source": [
    "# slicing with negative indexes\n",
    "print(teachers[-7:-2])    # start from the element number 2 [-2] from the last to the element number 6 [-6], [-7] not include   "
   ]
  },
  {
   "cell_type": "code",
   "execution_count": 77,
   "id": "71a276bb",
   "metadata": {},
   "outputs": [
    {
     "name": "stdout",
     "output_type": "stream",
     "text": [
      "['Nasir', 'Irfan', 'Haris', 'Sheraz', 'Farhan', 'Khalil']\n"
     ]
    }
   ],
   "source": [
    "print(teachers[:-2])     # the rang start from the element number 2 [-2] from the last and go on to the first value of the list"
   ]
  },
  {
   "cell_type": "code",
   "execution_count": 78,
   "id": "2fd015e3",
   "metadata": {},
   "outputs": [
    {
     "name": "stdout",
     "output_type": "stream",
     "text": [
      "['Irfan', 'Haris', 'Sheraz', 'Farhan', 'Khalil', 'Haris', 'Ihsan']\n"
     ]
    }
   ],
   "source": [
    "print(teachers[-7:])    # the rang start from the end and go on to the spacific value"
   ]
  },
  {
   "cell_type": "markdown",
   "id": "1c0ae28d",
   "metadata": {},
   "source": [
    "# List Metods :"
   ]
  },
  {
   "cell_type": "markdown",
   "id": "1a0ebe07",
   "metadata": {},
   "source": [
    "# Adding items/elements into an existing"
   ]
  },
  {
   "cell_type": "markdown",
   "id": "ccfd8e6a",
   "metadata": {},
   "source": [
    "# 1. Append"
   ]
  },
  {
   "cell_type": "code",
   "execution_count": 79,
   "id": "4c5a6b22",
   "metadata": {},
   "outputs": [
    {
     "name": "stdout",
     "output_type": "stream",
     "text": [
      "['Nasir', 'Irfan', 'Haris', 'Sheraz', 'Farhan', 'Khalil', 'Haris', 'Ihsan', 'Tariq']\n"
     ]
    }
   ],
   "source": [
    "# The append() add an element/item at the end of existing list\n",
    "teachers = ['Nasir', 'Irfan', 'Haris', 'Sheraz', 'Farhan', 'Khalil', 'Haris', 'Ihsan']\n",
    "teachers.append('Tariq')\n",
    "print(teachers)"
   ]
  },
  {
   "cell_type": "markdown",
   "id": "996a7478",
   "metadata": {},
   "source": [
    "# 2. Insert"
   ]
  },
  {
   "cell_type": "code",
   "execution_count": 80,
   "id": "5423bc59",
   "metadata": {},
   "outputs": [
    {
     "name": "stdout",
     "output_type": "stream",
     "text": [
      "['Nasir', 'Irfan', 'Haris', 'Sheraz', 'Idrees', 'Farhan', 'Khalil', 'Haris', 'Ihsan']\n"
     ]
    }
   ],
   "source": [
    "# The insert() method add the elemnent at the spacified position\n",
    "teachers = ['Nasir', 'Irfan', 'Haris', 'Sheraz', 'Farhan', 'Khalil', 'Haris', 'Ihsan']\n",
    "teachers.insert(4, 'Idrees')\n",
    "print(teachers)"
   ]
  },
  {
   "cell_type": "markdown",
   "id": "f5923cb0",
   "metadata": {},
   "source": [
    "# 3. Extend"
   ]
  },
  {
   "cell_type": "code",
   "execution_count": 81,
   "id": "e92ce27d",
   "metadata": {},
   "outputs": [
    {
     "name": "stdout",
     "output_type": "stream",
     "text": [
      "['Nasir', 'Irfan', 'Haris', 'Sheraz', 'Farhan', 'Khalil', 'Haris', 'Ihsan', 'Idrees', 'Tariq']\n"
     ]
    }
   ],
   "source": [
    "# The extend() method adds the specified list elements (or any iterable(list, set, tuple)) to the end of the current list\n",
    "teachers = ['Nasir', 'Irfan', 'Haris', 'Sheraz', 'Farhan', 'Khalil', 'Haris', 'Ihsan']\n",
    "teachers.extend(['Idrees', 'Tariq'])\n",
    "print(teachers)"
   ]
  },
  {
   "cell_type": "markdown",
   "id": "e74907a8",
   "metadata": {},
   "source": [
    "# 4.Concatenate"
   ]
  },
  {
   "cell_type": "code",
   "execution_count": 82,
   "id": "65e1045f",
   "metadata": {},
   "outputs": [
    {
     "name": "stdout",
     "output_type": "stream",
     "text": [
      "['Nasir', 'Irfan', 'Haris', 'Sheraz', 'Farhan', 'Khalil', 'Haris', 'Ihsan', 'Ali', 'Ahmad', 'Imarn', 'Babar', 'Haris', 'Gohar', 'Johar', 'Rizwan', 'Sami']\n"
     ]
    }
   ],
   "source": [
    "# Concatenate the two lists\n",
    "teachers = ['Nasir', 'Irfan', 'Haris', 'Sheraz', 'Farhan', 'Khalil', 'Haris', 'Ihsan']\n",
    "students = [\"Ali\", \"Ahmad\", \"Imarn\", \"Babar\", \"Haris\", \"Gohar\", \"Johar\", \"Rizwan\", \"Sami\"]\n",
    "\n",
    "# The '+' sign is used to cancatenate the lists\n",
    "teachers_students = teachers + students\n",
    "print(teachers_students)"
   ]
  },
  {
   "cell_type": "markdown",
   "id": "b1db3285",
   "metadata": {},
   "source": [
    "# Deleting items/elements from existing list"
   ]
  },
  {
   "cell_type": "markdown",
   "id": "ad64fe57",
   "metadata": {},
   "source": [
    "# 5. Del"
   ]
  },
  {
   "cell_type": "code",
   "execution_count": 83,
   "id": "3a7ec529",
   "metadata": {},
   "outputs": [
    {
     "name": "stdout",
     "output_type": "stream",
     "text": [
      "['Nasir', 'Irfan', 'Haris', 'Sheraz', 'Khalil', 'Haris', 'Ihsan']\n"
     ]
    }
   ],
   "source": [
    "# The del used to delet element of the list via index\n",
    "teachers = ['Nasir', 'Irfan', 'Haris', 'Sheraz', 'Farhan', 'Khalil', 'Haris', 'Ihsan']\n",
    "del teachers[4]\n",
    "print(teachers)"
   ]
  },
  {
   "cell_type": "markdown",
   "id": "03868b15",
   "metadata": {},
   "source": [
    "# 6. Remove"
   ]
  },
  {
   "cell_type": "code",
   "execution_count": 84,
   "id": "99577dac",
   "metadata": {},
   "outputs": [
    {
     "name": "stdout",
     "output_type": "stream",
     "text": [
      "['Nasir', 'Irfan', 'Sheraz', 'Farhan', 'Khalil', 'Haris', 'Ihsan']\n"
     ]
    }
   ],
   "source": [
    "# The remove() method remove the element/item with the specified value(itemname)\n",
    "teachers = ['Nasir', 'Irfan', 'Haris', 'Sheraz', 'Farhan', 'Khalil', 'Haris', 'Ihsan']\n",
    "teachers.remove('Haris')\n",
    "print(teachers)"
   ]
  },
  {
   "cell_type": "markdown",
   "id": "8093dd7e",
   "metadata": {},
   "source": [
    "# 7. Pop"
   ]
  },
  {
   "cell_type": "code",
   "execution_count": 85,
   "id": "86401d6d",
   "metadata": {},
   "outputs": [
    {
     "data": {
      "text/plain": [
       "'Ihsan'"
      ]
     },
     "execution_count": 85,
     "metadata": {},
     "output_type": "execute_result"
    }
   ],
   "source": [
    "# The pop() method deletes the element/item from last of the list by default \n",
    "teachers = ['Nasir', 'Irfan', 'Haris', 'Sheraz', 'Farhan', 'Khalil', 'Haris', 'Ihsan']\n",
    "teachers.pop()             # it return deleted element/item          "
   ]
  },
  {
   "cell_type": "code",
   "execution_count": 46,
   "id": "d8810789",
   "metadata": {},
   "outputs": [
    {
     "data": {
      "text/plain": [
       "'Khalil'"
      ]
     },
     "execution_count": 46,
     "metadata": {},
     "output_type": "execute_result"
    }
   ],
   "source": [
    "# Pop element/item at the spacific position \n",
    "# To pop element/item at spacific position use index with pop() method\n",
    "teachers.pop(5)                        # it return the number 6 element"
   ]
  },
  {
   "cell_type": "markdown",
   "id": "065418c2",
   "metadata": {},
   "source": [
    "# 8. Clear"
   ]
  },
  {
   "cell_type": "code",
   "execution_count": 86,
   "id": "ae8b10a8",
   "metadata": {},
   "outputs": [
    {
     "name": "stdout",
     "output_type": "stream",
     "text": [
      "[]\n"
     ]
    }
   ],
   "source": [
    "# The clear() method remove all the elements from the list\n",
    "teachers = ['Nasir', 'Irfan', 'Haris', 'Sheraz', 'Farhan', 'Khalil', 'Haris', 'Ihsan']\n",
    "teachers.clear()\n",
    "print(teachers)"
   ]
  },
  {
   "cell_type": "markdown",
   "id": "167bf503",
   "metadata": {},
   "source": [
    "# Others Methods"
   ]
  },
  {
   "cell_type": "markdown",
   "id": "c8ee2089",
   "metadata": {},
   "source": [
    "# 9. Copy\n",
    "You cannot copy a list simply by typing list2 = list1, because list2 will only be a reference to list1, and changes made in list1 will automatically also be made in list2.There are ways to make a copy of the list"
   ]
  },
  {
   "cell_type": "markdown",
   "id": "b682f680",
   "metadata": {},
   "source": [
    "1. One way is to use the built-in List method copy()."
   ]
  },
  {
   "cell_type": "code",
   "execution_count": 87,
   "id": "2ab482d0",
   "metadata": {},
   "outputs": [
    {
     "name": "stdout",
     "output_type": "stream",
     "text": [
      "['Nasir', 'Irfan', 'Haris', 'Sheraz', 'Farhan', 'Khalil', 'Haris', 'Ihsan']\n"
     ]
    }
   ],
   "source": [
    "# Make a copy of the list with copy() method\n",
    "teachers = ['Nasir', 'Irfan', 'Haris', 'Sheraz', 'Farhan', 'Khalil', 'Haris', 'Ihsan']\n",
    "copy_teachers = teachers.copy()\n",
    "print(copy_teachers)"
   ]
  },
  {
   "cell_type": "markdown",
   "id": "0523ed1d",
   "metadata": {},
   "source": [
    "2. Another way to make a copy is to use the built-in method list()."
   ]
  },
  {
   "cell_type": "code",
   "execution_count": 88,
   "id": "96a43e54",
   "metadata": {},
   "outputs": [
    {
     "name": "stdout",
     "output_type": "stream",
     "text": [
      "['Nasir', 'Irfan', 'Haris', 'Sheraz', 'Farhan', 'Khalil', 'Haris', 'Ihsan']\n"
     ]
    }
   ],
   "source": [
    "# Make the copy of the list with list method\n",
    "teachers = ['Nasir', 'Irfan', 'Haris', 'Sheraz', 'Farhan', 'Khalil', 'Haris', 'Ihsan']\n",
    "copy_teachers_list = list(teachers)\n",
    "print(copy_teachers_list)"
   ]
  },
  {
   "cell_type": "code",
   "execution_count": 1,
   "id": "3b6be17a",
   "metadata": {},
   "outputs": [
    {
     "name": "stdout",
     "output_type": "stream",
     "text": [
      "['Nasir', 'Irfan', 'Haris', 'Sheraz', 'Farhan', 'Khalil', 'Haris', 'Ihsan']\n"
     ]
    }
   ],
   "source": [
    "# Make a copy by another way\n",
    "teachers = ['Nasir', 'Irfan', 'Haris', 'Sheraz', 'Farhan', 'Khalil', 'Haris', 'Ihsan']\n",
    "copy_of_teachers = teachers[:]\n",
    "print(copy_of_teachers)"
   ]
  },
  {
   "cell_type": "markdown",
   "id": "cb03716b",
   "metadata": {},
   "source": [
    "# 10. Count"
   ]
  },
  {
   "cell_type": "code",
   "execution_count": 89,
   "id": "ca01eb7f",
   "metadata": {},
   "outputs": [
    {
     "name": "stdout",
     "output_type": "stream",
     "text": [
      "2\n"
     ]
    }
   ],
   "source": [
    "# The count() method returns the number of elements/item with the specified value(itemname)\n",
    "teachers = ['Nasir', 'Irfan', 'Haris', 'Sheraz', 'Farhan', 'Khalil', 'Haris', 'Ihsan']\n",
    "count_teacher = teachers.count('Haris')\n",
    "print(count_teacher)"
   ]
  },
  {
   "cell_type": "markdown",
   "id": "244d0259",
   "metadata": {},
   "source": [
    "# 11. Index"
   ]
  },
  {
   "cell_type": "code",
   "execution_count": 90,
   "id": "d4c04be1",
   "metadata": {},
   "outputs": [
    {
     "name": "stdout",
     "output_type": "stream",
     "text": [
      "1\n"
     ]
    }
   ],
   "source": [
    "# The index() method returns the position/index at the first occurrence of the specified value(itemname)\n",
    "teachers = ['Nasir', 'Irfan', 'Haris', 'Sheraz', 'Farhan', 'Khalil', 'Haris', 'Ihsan']\n",
    "index_teacher = teachers.index('Irfan')\n",
    "print(index_teacher)"
   ]
  },
  {
   "cell_type": "markdown",
   "id": "7bbaa84f",
   "metadata": {},
   "source": [
    "# 12. Reverse"
   ]
  },
  {
   "cell_type": "code",
   "execution_count": 91,
   "id": "de3f07a6",
   "metadata": {},
   "outputs": [
    {
     "name": "stdout",
     "output_type": "stream",
     "text": [
      "['Ihsan', 'Haris', 'Khalil', 'Farhan', 'Sheraz', 'Haris', 'Irfan', 'Nasir']\n"
     ]
    }
   ],
   "source": [
    "# The reverse() method reverses the order of the elements of the list\n",
    "teachers = ['Nasir', 'Irfan', 'Haris', 'Sheraz', 'Farhan', 'Khalil', 'Haris', 'Ihsan']\n",
    "teachers.reverse()\n",
    "print(teachers)"
   ]
  },
  {
   "cell_type": "markdown",
   "id": "26aafe77",
   "metadata": {},
   "source": [
    "# 13. Sort"
   ]
  },
  {
   "cell_type": "code",
   "execution_count": 92,
   "id": "369c93e3",
   "metadata": {},
   "outputs": [
    {
     "name": "stdout",
     "output_type": "stream",
     "text": [
      "['Farhan', 'Haris', 'Haris', 'Ihsan', 'Irfan', 'Khalil', 'Nasir', 'Sheraz']\n"
     ]
    }
   ],
   "source": [
    "# Sort the list alphabetically\n",
    "# The sort() method sorts the list ascending by default\n",
    "teachers = ['Nasir', 'Irfan', 'Haris', 'Sheraz', 'Farhan', 'Khalil', 'Haris', 'Ihsan']\n",
    "teachers.sort()\n",
    "print(teachers)"
   ]
  },
  {
   "cell_type": "code",
   "execution_count": 93,
   "id": "1f86fc59",
   "metadata": {},
   "outputs": [
    {
     "name": "stdout",
     "output_type": "stream",
     "text": [
      "['Sheraz', 'Nasir', 'Khalil', 'Irfan', 'Ihsan', 'Haris', 'Haris', 'Farhan']\n"
     ]
    }
   ],
   "source": [
    "# Sorts the list in descending\n",
    "teachers = ['Nasir', 'Irfan', 'Haris', 'Sheraz', 'Farhan', 'Khalil', 'Haris', 'Ihsan']\n",
    "teachers.sort(reverse = True)\n",
    "print(teachers)"
   ]
  },
  {
   "cell_type": "code",
   "execution_count": 94,
   "id": "d990ed71",
   "metadata": {},
   "outputs": [
    {
     "name": "stdout",
     "output_type": "stream",
     "text": [
      "[9, 17, 23, 45, 50, 65, 65, 82, 100]\n"
     ]
    }
   ],
   "source": [
    "# sorts lists numerically\n",
    "numbers = [100, 50, 65, 82, 23, 65, 45, 9, 17]\n",
    "numbers.sort()\n",
    "print(numbers)"
   ]
  },
  {
   "cell_type": "code",
   "execution_count": 95,
   "id": "96aa84fe",
   "metadata": {},
   "outputs": [
    {
     "data": {
      "text/plain": [
       "[100, 82, 65, 65, 50, 45, 23, 17, 9]"
      ]
     },
     "execution_count": 95,
     "metadata": {},
     "output_type": "execute_result"
    }
   ],
   "source": [
    "# Sorts the list in descending\n",
    "numbers.sort(reverse = True)\n",
    "numbers"
   ]
  }
 ],
 "metadata": {
  "kernelspec": {
   "display_name": "Python 3 (ipykernel)",
   "language": "python",
   "name": "python3"
  },
  "language_info": {
   "codemirror_mode": {
    "name": "ipython",
    "version": 3
   },
   "file_extension": ".py",
   "mimetype": "text/x-python",
   "name": "python",
   "nbconvert_exporter": "python",
   "pygments_lexer": "ipython3",
   "version": "3.11.5"
  }
 },
 "nbformat": 4,
 "nbformat_minor": 5
}
