{
 "cells": [
  {
   "cell_type": "markdown",
   "id": "169624eb",
   "metadata": {},
   "source": [
    "# Object Oriented Programming "
   ]
  },
  {
   "cell_type": "markdown",
   "id": "4df47d7b",
   "metadata": {},
   "source": [
    "### What is an object?\n",
    "       - any thing that has some characteristics and behaviours is object\n",
    "       -  in python every entity we create is an object"
   ]
  },
  {
   "cell_type": "code",
   "execution_count": 1,
   "id": "7b7bb6ef",
   "metadata": {},
   "outputs": [],
   "source": [
    "class Car:\n",
    "    pass"
   ]
  },
  {
   "cell_type": "code",
   "execution_count": 3,
   "id": "09773932",
   "metadata": {},
   "outputs": [],
   "source": [
    "car1 = Car()"
   ]
  },
  {
   "cell_type": "code",
   "execution_count": 4,
   "id": "9106b417",
   "metadata": {},
   "outputs": [],
   "source": [
    "car2 = Car()"
   ]
  },
  {
   "cell_type": "code",
   "execution_count": 5,
   "id": "0f6c8ce4",
   "metadata": {},
   "outputs": [
    {
     "name": "stdout",
     "output_type": "stream",
     "text": [
      "<class '__main__.Car'>\n"
     ]
    }
   ],
   "source": [
    "print(type(car1))"
   ]
  },
  {
   "cell_type": "code",
   "execution_count": 6,
   "id": "1143997c",
   "metadata": {},
   "outputs": [],
   "source": [
    "name = \"Nasir\""
   ]
  },
  {
   "cell_type": "code",
   "execution_count": 7,
   "id": "590fa6bb",
   "metadata": {},
   "outputs": [
    {
     "name": "stdout",
     "output_type": "stream",
     "text": [
      "<class 'str'>\n"
     ]
    }
   ],
   "source": [
    "print(type(name))"
   ]
  },
  {
   "cell_type": "code",
   "execution_count": 8,
   "id": "c0290bb6",
   "metadata": {},
   "outputs": [],
   "source": [
    "num  = 100"
   ]
  },
  {
   "cell_type": "code",
   "execution_count": 9,
   "id": "f9f98dd5",
   "metadata": {},
   "outputs": [
    {
     "name": "stdout",
     "output_type": "stream",
     "text": [
      "<class 'int'>\n"
     ]
    }
   ],
   "source": [
    "print(type(num))"
   ]
  },
  {
   "cell_type": "code",
   "execution_count": 10,
   "id": "d00d1c7b",
   "metadata": {},
   "outputs": [
    {
     "name": "stdout",
     "output_type": "stream",
     "text": [
      "<class 'list'>\n"
     ]
    }
   ],
   "source": [
    "lst = [1,3]\n",
    "print(type(lst))"
   ]
  },
  {
   "cell_type": "code",
   "execution_count": 14,
   "id": "a160ac98",
   "metadata": {},
   "outputs": [],
   "source": [
    "\n",
    "mylist = list((1,2,3))"
   ]
  },
  {
   "cell_type": "code",
   "execution_count": 26,
   "id": "70f9fc8e",
   "metadata": {},
   "outputs": [],
   "source": [
    "class Car:\n",
    "    # attributes / features / characteristics\n",
    "    wheels = 4\n",
    "    seats = 6\n",
    "    color = 'Black'\n",
    "    engine = '1000CC'\n",
    "    model  = 'Toyota'\n",
    "    owner_name = \"Asad\"\n",
    "    \n",
    "    # methods / functions / behaviours\n",
    "    \n",
    "    def ignite():\n",
    "        print(\"vormmmmmmmmmmmmm\")\n",
    "    "
   ]
  },
  {
   "cell_type": "code",
   "execution_count": 27,
   "id": "02b416eb",
   "metadata": {},
   "outputs": [],
   "source": [
    "car1 = Car()"
   ]
  },
  {
   "cell_type": "code",
   "execution_count": 23,
   "id": "cec3ecb9",
   "metadata": {},
   "outputs": [
    {
     "data": {
      "text/plain": [
       "'Black'"
      ]
     },
     "execution_count": 23,
     "metadata": {},
     "output_type": "execute_result"
    }
   ],
   "source": [
    "car1.color"
   ]
  },
  {
   "cell_type": "code",
   "execution_count": 24,
   "id": "f09d589b",
   "metadata": {},
   "outputs": [
    {
     "data": {
      "text/plain": [
       "'Toyota'"
      ]
     },
     "execution_count": 24,
     "metadata": {},
     "output_type": "execute_result"
    }
   ],
   "source": [
    "car1.model"
   ]
  },
  {
   "cell_type": "code",
   "execution_count": 28,
   "id": "ce38e78b",
   "metadata": {},
   "outputs": [],
   "source": [
    "car2 = Car()"
   ]
  },
  {
   "cell_type": "code",
   "execution_count": 29,
   "id": "a6ef13eb",
   "metadata": {},
   "outputs": [
    {
     "data": {
      "text/plain": [
       "'Black'"
      ]
     },
     "execution_count": 29,
     "metadata": {},
     "output_type": "execute_result"
    }
   ],
   "source": [
    "car1.color"
   ]
  },
  {
   "cell_type": "code",
   "execution_count": 30,
   "id": "e5847460",
   "metadata": {},
   "outputs": [
    {
     "data": {
      "text/plain": [
       "'Black'"
      ]
     },
     "execution_count": 30,
     "metadata": {},
     "output_type": "execute_result"
    }
   ],
   "source": [
    "car2.color"
   ]
  },
  {
   "cell_type": "code",
   "execution_count": 36,
   "id": "92d730b8",
   "metadata": {},
   "outputs": [],
   "source": [
    "class Car:\n",
    "    # class variable/ class attribute\n",
    "    wheels = 4\n",
    "    def __init__(self,make, model, year, color, engine_type):\n",
    "        # instacne variables/Object variables\n",
    "        self.make = make\n",
    "        self.model = model\n",
    "        self.year = year\n",
    "        self.color = color\n",
    "        self.engine_type =engine_type    \n",
    "    \n",
    "    # instance methods \n",
    "    def ignite(self):\n",
    "        print(\"Car engine starting........\")\n",
    "    def speed(self):\n",
    "        print(\"Car is moving!!!!!!\")\n",
    "    "
   ]
  },
  {
   "cell_type": "code",
   "execution_count": 37,
   "id": "b8e8071c",
   "metadata": {},
   "outputs": [],
   "source": [
    "car1 = Car('Honda','Civic',2021, 'Blue', 'Petrol')"
   ]
  },
  {
   "cell_type": "code",
   "execution_count": 38,
   "id": "8ae2f6d4",
   "metadata": {},
   "outputs": [],
   "source": [
    "car2  = Car(\"Suzuki\", 'Swift',2024, 'White','Diesel')"
   ]
  },
  {
   "cell_type": "code",
   "execution_count": 39,
   "id": "3e598f67",
   "metadata": {},
   "outputs": [
    {
     "data": {
      "text/plain": [
       "'Honda'"
      ]
     },
     "execution_count": 39,
     "metadata": {},
     "output_type": "execute_result"
    }
   ],
   "source": [
    "car1.make"
   ]
  },
  {
   "cell_type": "code",
   "execution_count": 40,
   "id": "ed68f0a1",
   "metadata": {},
   "outputs": [
    {
     "data": {
      "text/plain": [
       "'Suzuki'"
      ]
     },
     "execution_count": 40,
     "metadata": {},
     "output_type": "execute_result"
    }
   ],
   "source": [
    "car2.make"
   ]
  },
  {
   "cell_type": "code",
   "execution_count": 41,
   "id": "83f60fac",
   "metadata": {},
   "outputs": [
    {
     "data": {
      "text/plain": [
       "2021"
      ]
     },
     "execution_count": 41,
     "metadata": {},
     "output_type": "execute_result"
    }
   ],
   "source": [
    "car1.year"
   ]
  },
  {
   "cell_type": "code",
   "execution_count": 42,
   "id": "ab553de9",
   "metadata": {},
   "outputs": [
    {
     "data": {
      "text/plain": [
       "2024"
      ]
     },
     "execution_count": 42,
     "metadata": {},
     "output_type": "execute_result"
    }
   ],
   "source": [
    "car2.year"
   ]
  },
  {
   "cell_type": "code",
   "execution_count": 43,
   "id": "533b5b5c",
   "metadata": {},
   "outputs": [
    {
     "name": "stdout",
     "output_type": "stream",
     "text": [
      "Car engine starting........\n"
     ]
    }
   ],
   "source": [
    "car1.ignite()"
   ]
  },
  {
   "cell_type": "code",
   "execution_count": 49,
   "id": "3bf98755",
   "metadata": {},
   "outputs": [
    {
     "name": "stdout",
     "output_type": "stream",
     "text": [
      "Car engine starting........\n"
     ]
    }
   ],
   "source": [
    "Car.ignite(car1)"
   ]
  },
  {
   "cell_type": "code",
   "execution_count": 60,
   "id": "e8453e9e",
   "metadata": {},
   "outputs": [],
   "source": [
    "class Student:\n",
    "    college = \"SMIT\"\n",
    "    def __init__(self, name, fname, roll, course):\n",
    "        self.name = name\n",
    "        self.fname =fname\n",
    "        self.roll = roll\n",
    "        self.course = course\n",
    "        \n",
    "    def entry(self):\n",
    "        print(f\"Mr. {self.name} entering in college\")\n",
    "    \n",
    "    def attend_class(self):\n",
    "        print(f\"Mr. {self.name} attending {self.course} class\")\n",
    "    def profile(self):\n",
    "        print(f\"\"\" \n",
    "               Name       : {self.name}\n",
    "               Father Name: {self.fname}\n",
    "               Roll Number: {self.roll}\n",
    "               Course:    : {self.course}\n",
    "               College    : {self.college}\n",
    "               \"\"\")\n",
    "            \n"
   ]
  },
  {
   "cell_type": "code",
   "execution_count": 71,
   "id": "930435cf",
   "metadata": {},
   "outputs": [],
   "source": [
    "s1  = Student('Sher Afzal', 'Marwat', 1234, 'Python')"
   ]
  },
  {
   "cell_type": "code",
   "execution_count": 72,
   "id": "eaadd5ba",
   "metadata": {},
   "outputs": [],
   "source": [
    "s2  = Student('Maulana', 'Mufti Mehmood', 4321, 'JavaScript')"
   ]
  },
  {
   "cell_type": "code",
   "execution_count": 73,
   "id": "061678ec",
   "metadata": {},
   "outputs": [
    {
     "name": "stdout",
     "output_type": "stream",
     "text": [
      " \n",
      "               Name       : Sher Afzal\n",
      "               Father Name: Marwat\n",
      "               Roll Number: 1234\n",
      "               Course:    : Python\n",
      "               College    : PeshawarSMIT\n",
      "               \n"
     ]
    }
   ],
   "source": [
    "s1.profile()"
   ]
  },
  {
   "cell_type": "code",
   "execution_count": 74,
   "id": "43772e04",
   "metadata": {},
   "outputs": [
    {
     "name": "stdout",
     "output_type": "stream",
     "text": [
      " \n",
      "               Name       : Maulana\n",
      "               Father Name: Mufti Mehmood\n",
      "               Roll Number: 4321\n",
      "               Course:    : JavaScript\n",
      "               College    : PeshawarSMIT\n",
      "               \n"
     ]
    }
   ],
   "source": [
    "s2.profile()"
   ]
  },
  {
   "cell_type": "code",
   "execution_count": 75,
   "id": "305cb7bd",
   "metadata": {},
   "outputs": [
    {
     "name": "stdout",
     "output_type": "stream",
     "text": [
      "Mr. Sher Afzal attending Python class\n"
     ]
    }
   ],
   "source": [
    "s1.attend_class()"
   ]
  },
  {
   "cell_type": "code",
   "execution_count": 66,
   "id": "dbdab00a",
   "metadata": {},
   "outputs": [
    {
     "name": "stdout",
     "output_type": "stream",
     "text": [
      "Mr. Maulana attending JavaScript class\n"
     ]
    }
   ],
   "source": [
    "s2.attend_class()"
   ]
  },
  {
   "cell_type": "code",
   "execution_count": 67,
   "id": "edfb6c48",
   "metadata": {},
   "outputs": [
    {
     "data": {
      "text/plain": [
       "'SMIT'"
      ]
     },
     "execution_count": 67,
     "metadata": {},
     "output_type": "execute_result"
    }
   ],
   "source": [
    "Student.college"
   ]
  },
  {
   "cell_type": "code",
   "execution_count": 68,
   "id": "1eed1d04",
   "metadata": {},
   "outputs": [
    {
     "data": {
      "text/plain": [
       "'SMIT'"
      ]
     },
     "execution_count": 68,
     "metadata": {},
     "output_type": "execute_result"
    }
   ],
   "source": [
    "s1.college"
   ]
  },
  {
   "cell_type": "code",
   "execution_count": 70,
   "id": "8ecefde1",
   "metadata": {},
   "outputs": [],
   "source": [
    "Student.college = 'PeshawarSMIT'"
   ]
  },
  {
   "cell_type": "code",
   "execution_count": 76,
   "id": "b0c086a1",
   "metadata": {},
   "outputs": [],
   "source": [
    "s1.name = \"Asad\""
   ]
  },
  {
   "cell_type": "code",
   "execution_count": null,
   "id": "0321f4e7",
   "metadata": {},
   "outputs": [],
   "source": []
  }
 ],
 "metadata": {
  "kernelspec": {
   "display_name": "Python 3 (ipykernel)",
   "language": "python",
   "name": "python3"
  },
  "language_info": {
   "codemirror_mode": {
    "name": "ipython",
    "version": 3
   },
   "file_extension": ".py",
   "mimetype": "text/x-python",
   "name": "python",
   "nbconvert_exporter": "python",
   "pygments_lexer": "ipython3",
   "version": "3.11.4"
  }
 },
 "nbformat": 4,
 "nbformat_minor": 5
}
