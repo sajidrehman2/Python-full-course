{
 "cells": [
  {
   "cell_type": "markdown",
   "id": "5b19cf4b",
   "metadata": {},
   "source": [
    "# Dictionary\n",
    "    - represented by {k:v}\n",
    "    - mutable\n",
    "    \n",
    "    "
   ]
  },
  {
   "cell_type": "code",
   "execution_count": 5,
   "id": "58898545",
   "metadata": {},
   "outputs": [],
   "source": [
    "student1 = ['nasir',23,60,5.8,'Matric', 'Peshawar']"
   ]
  },
  {
   "cell_type": "code",
   "execution_count": 2,
   "id": "684b42e9",
   "metadata": {},
   "outputs": [
    {
     "data": {
      "text/plain": [
       "['nasir', 23, 5.8, 'Matric', 'Peshawar']"
      ]
     },
     "execution_count": 2,
     "metadata": {},
     "output_type": "execute_result"
    }
   ],
   "source": [
    "student1"
   ]
  },
  {
   "cell_type": "code",
   "execution_count": 6,
   "id": "4f7476c3",
   "metadata": {},
   "outputs": [],
   "source": [
    "student1 = {'name':'Nasir', 'age':23, 'weight':60, 'height':5.8, 'Qualifcation':'matric', 'city':\"peshawar\"}"
   ]
  },
  {
   "cell_type": "code",
   "execution_count": 7,
   "id": "fd48285c",
   "metadata": {},
   "outputs": [
    {
     "data": {
      "text/plain": [
       "{'name': 'Nasir',\n",
       " 'age': 23,\n",
       " 'weight': 60,\n",
       " 'height': 5.8,\n",
       " 'Qualifcation': 'matric',\n",
       " 'city': 'peshawar'}"
      ]
     },
     "execution_count": 7,
     "metadata": {},
     "output_type": "execute_result"
    }
   ],
   "source": [
    "student1"
   ]
  },
  {
   "cell_type": "code",
   "execution_count": 8,
   "id": "75dad226",
   "metadata": {},
   "outputs": [
    {
     "data": {
      "text/plain": [
       "'peshawar'"
      ]
     },
     "execution_count": 8,
     "metadata": {},
     "output_type": "execute_result"
    }
   ],
   "source": [
    "student1['city']"
   ]
  },
  {
   "cell_type": "code",
   "execution_count": 9,
   "id": "053f2f7e",
   "metadata": {},
   "outputs": [
    {
     "data": {
      "text/plain": [
       "'Nasir'"
      ]
     },
     "execution_count": 9,
     "metadata": {},
     "output_type": "execute_result"
    }
   ],
   "source": [
    "student1['name']"
   ]
  },
  {
   "cell_type": "markdown",
   "id": "4a47cacc",
   "metadata": {},
   "source": [
    "## Updating a value against an existig key"
   ]
  },
  {
   "cell_type": "code",
   "execution_count": 12,
   "id": "ae0d2f91",
   "metadata": {},
   "outputs": [],
   "source": [
    "student1['Qualifcation'] = \"Graduation\""
   ]
  },
  {
   "cell_type": "code",
   "execution_count": 13,
   "id": "0c26a28f",
   "metadata": {},
   "outputs": [
    {
     "data": {
      "text/plain": [
       "{'name': 'Nasir',\n",
       " 'age': 23,\n",
       " 'weight': 60,\n",
       " 'height': 5.8,\n",
       " 'Qualifcation': 'Graduation',\n",
       " 'city': 'peshawar'}"
      ]
     },
     "execution_count": 13,
     "metadata": {},
     "output_type": "execute_result"
    }
   ],
   "source": [
    "student1"
   ]
  },
  {
   "cell_type": "markdown",
   "id": "cb3d8c81",
   "metadata": {},
   "source": [
    "## Adding new key value pair\n"
   ]
  },
  {
   "cell_type": "code",
   "execution_count": 14,
   "id": "b0227d81",
   "metadata": {},
   "outputs": [],
   "source": [
    "student1['email'] = 'abc@gmail.com'"
   ]
  },
  {
   "cell_type": "code",
   "execution_count": 15,
   "id": "aaa3afa4",
   "metadata": {},
   "outputs": [
    {
     "data": {
      "text/plain": [
       "{'name': 'Nasir',\n",
       " 'age': 23,\n",
       " 'weight': 60,\n",
       " 'height': 5.8,\n",
       " 'Qualifcation': 'Graduation',\n",
       " 'city': 'peshawar',\n",
       " 'email': 'abc@gmail.com'}"
      ]
     },
     "execution_count": 15,
     "metadata": {},
     "output_type": "execute_result"
    }
   ],
   "source": [
    "student1"
   ]
  },
  {
   "cell_type": "code",
   "execution_count": 16,
   "id": "80b5beb0",
   "metadata": {},
   "outputs": [
    {
     "data": {
      "text/plain": [
       "dict"
      ]
     },
     "execution_count": 16,
     "metadata": {},
     "output_type": "execute_result"
    }
   ],
   "source": [
    "type(student1)"
   ]
  },
  {
   "cell_type": "code",
   "execution_count": 17,
   "id": "7506002c",
   "metadata": {},
   "outputs": [
    {
     "data": {
      "text/plain": [
       "7"
      ]
     },
     "execution_count": 17,
     "metadata": {},
     "output_type": "execute_result"
    }
   ],
   "source": [
    "len(student1)"
   ]
  },
  {
   "cell_type": "markdown",
   "id": "bf4ac574",
   "metadata": {},
   "source": [
    "# Deleting a key value pair "
   ]
  },
  {
   "cell_type": "code",
   "execution_count": 18,
   "id": "dc0310e5",
   "metadata": {},
   "outputs": [],
   "source": [
    "del student1['height']"
   ]
  },
  {
   "cell_type": "code",
   "execution_count": 19,
   "id": "d6b5db4a",
   "metadata": {},
   "outputs": [
    {
     "data": {
      "text/plain": [
       "{'name': 'Nasir',\n",
       " 'age': 23,\n",
       " 'weight': 60,\n",
       " 'Qualifcation': 'Graduation',\n",
       " 'city': 'peshawar',\n",
       " 'email': 'abc@gmail.com'}"
      ]
     },
     "execution_count": 19,
     "metadata": {},
     "output_type": "execute_result"
    }
   ],
   "source": [
    "student1"
   ]
  },
  {
   "cell_type": "code",
   "execution_count": 20,
   "id": "86653499",
   "metadata": {},
   "outputs": [
    {
     "data": {
      "text/plain": [
       "60"
      ]
     },
     "execution_count": 20,
     "metadata": {},
     "output_type": "execute_result"
    }
   ],
   "source": [
    "student1.pop('weight')"
   ]
  },
  {
   "cell_type": "code",
   "execution_count": 23,
   "id": "6fdf040b",
   "metadata": {},
   "outputs": [
    {
     "data": {
      "text/plain": [
       "('Qualifcation', 'Graduation')"
      ]
     },
     "execution_count": 23,
     "metadata": {},
     "output_type": "execute_result"
    }
   ],
   "source": [
    "student1.popitem()"
   ]
  },
  {
   "cell_type": "code",
   "execution_count": 24,
   "id": "da1150bf",
   "metadata": {},
   "outputs": [
    {
     "data": {
      "text/plain": [
       "{'name': 'Nasir', 'age': 23}"
      ]
     },
     "execution_count": 24,
     "metadata": {},
     "output_type": "execute_result"
    }
   ],
   "source": [
    "student1"
   ]
  },
  {
   "cell_type": "code",
   "execution_count": 26,
   "id": "2a4c0a89",
   "metadata": {},
   "outputs": [
    {
     "name": "stdout",
     "output_type": "stream",
     "text": [
      "23\n",
      "23\n"
     ]
    }
   ],
   "source": [
    "print(student1.get('age'))\n",
    "print(student1['age'])"
   ]
  },
  {
   "cell_type": "code",
   "execution_count": 29,
   "id": "aa4e426f",
   "metadata": {},
   "outputs": [
    {
     "data": {
      "text/plain": [
       "dict_keys(['name', 'age'])"
      ]
     },
     "execution_count": 29,
     "metadata": {},
     "output_type": "execute_result"
    }
   ],
   "source": [
    "student1.keys()"
   ]
  },
  {
   "cell_type": "code",
   "execution_count": 30,
   "id": "9951dad7",
   "metadata": {},
   "outputs": [
    {
     "data": {
      "text/plain": [
       "dict_values(['Nasir', 23])"
      ]
     },
     "execution_count": 30,
     "metadata": {},
     "output_type": "execute_result"
    }
   ],
   "source": [
    "student1.values()"
   ]
  },
  {
   "cell_type": "code",
   "execution_count": 31,
   "id": "46507272",
   "metadata": {},
   "outputs": [
    {
     "data": {
      "text/plain": [
       "dict_items([('name', 'Nasir'), ('age', 23)])"
      ]
     },
     "execution_count": 31,
     "metadata": {},
     "output_type": "execute_result"
    }
   ],
   "source": [
    "student1.items()"
   ]
  },
  {
   "cell_type": "code",
   "execution_count": 32,
   "id": "3a6bea4c",
   "metadata": {},
   "outputs": [],
   "source": [
    "other_info= {'weight': 60,\n",
    " 'Qualifcation': 'Graduation',\n",
    " 'city': 'peshawar',\n",
    " 'email': 'abc@gmail.com'}"
   ]
  },
  {
   "cell_type": "code",
   "execution_count": 37,
   "id": "d0cf7ae0",
   "metadata": {},
   "outputs": [
    {
     "data": {
      "text/plain": [
       "{'weight': 60,\n",
       " 'Qualifcation': 'Graduation',\n",
       " 'city': 'peshawar',\n",
       " 'email': 'abc@gmail.com'}"
      ]
     },
     "execution_count": 37,
     "metadata": {},
     "output_type": "execute_result"
    }
   ],
   "source": [
    "other_info"
   ]
  },
  {
   "cell_type": "code",
   "execution_count": 38,
   "id": "5269d4d6",
   "metadata": {},
   "outputs": [],
   "source": [
    "student1['other']=other_info"
   ]
  },
  {
   "cell_type": "code",
   "execution_count": 39,
   "id": "9b2de5fd",
   "metadata": {},
   "outputs": [
    {
     "data": {
      "text/plain": [
       "{'name': 'Nasir',\n",
       " 'age': 23,\n",
       " 'other': {'weight': 60,\n",
       "  'Qualifcation': 'Graduation',\n",
       "  'city': 'peshawar',\n",
       "  'email': 'abc@gmail.com'}}"
      ]
     },
     "execution_count": 39,
     "metadata": {},
     "output_type": "execute_result"
    }
   ],
   "source": [
    "student1"
   ]
  },
  {
   "cell_type": "code",
   "execution_count": 40,
   "id": "432a5044",
   "metadata": {},
   "outputs": [],
   "source": [
    "del student1['other']"
   ]
  },
  {
   "cell_type": "code",
   "execution_count": 41,
   "id": "bd0ebf88",
   "metadata": {},
   "outputs": [
    {
     "data": {
      "text/plain": [
       "{'name': 'Nasir', 'age': 23}"
      ]
     },
     "execution_count": 41,
     "metadata": {},
     "output_type": "execute_result"
    }
   ],
   "source": [
    "student1"
   ]
  },
  {
   "cell_type": "code",
   "execution_count": 42,
   "id": "36259d0d",
   "metadata": {},
   "outputs": [],
   "source": [
    "student1.update(other_info)"
   ]
  },
  {
   "cell_type": "code",
   "execution_count": 43,
   "id": "4986e31c",
   "metadata": {},
   "outputs": [
    {
     "data": {
      "text/plain": [
       "{'name': 'Nasir',\n",
       " 'age': 23,\n",
       " 'weight': 60,\n",
       " 'Qualifcation': 'Graduation',\n",
       " 'city': 'peshawar',\n",
       " 'email': 'abc@gmail.com'}"
      ]
     },
     "execution_count": 43,
     "metadata": {},
     "output_type": "execute_result"
    }
   ],
   "source": [
    "student1"
   ]
  },
  {
   "cell_type": "code",
   "execution_count": 1,
   "id": "2d297a4f",
   "metadata": {},
   "outputs": [],
   "source": [
    "student1 = {'nasir',23,60,5.8,'Matric', 'Peshawar'}"
   ]
  },
  {
   "cell_type": "code",
   "execution_count": 2,
   "id": "bcb83cc4",
   "metadata": {},
   "outputs": [
    {
     "data": {
      "text/plain": [
       "{23, 5.8, 60, 'Matric', 'Peshawar', 'nasir'}"
      ]
     },
     "execution_count": 2,
     "metadata": {},
     "output_type": "execute_result"
    }
   ],
   "source": [
    "student1"
   ]
  },
  {
   "cell_type": "code",
   "execution_count": 5,
   "id": "faea3efa",
   "metadata": {},
   "outputs": [],
   "source": [
    "student2={'name':'sajid','roll no':1,'course':'python'}"
   ]
  },
  {
   "cell_type": "code",
   "execution_count": 6,
   "id": "c220fe7c",
   "metadata": {},
   "outputs": [
    {
     "data": {
      "text/plain": [
       "{'name': 'sajid', 'roll no': 1, 'course': 'python'}"
      ]
     },
     "execution_count": 6,
     "metadata": {},
     "output_type": "execute_result"
    }
   ],
   "source": [
    "student2"
   ]
  },
  {
   "cell_type": "code",
   "execution_count": 7,
   "id": "e9887569",
   "metadata": {},
   "outputs": [],
   "source": [
    "student2['roll no']=2"
   ]
  },
  {
   "cell_type": "code",
   "execution_count": 8,
   "id": "3d9ddf26",
   "metadata": {},
   "outputs": [
    {
     "data": {
      "text/plain": [
       "{'name': 'sajid', 'roll no': 2, 'course': 'python'}"
      ]
     },
     "execution_count": 8,
     "metadata": {},
     "output_type": "execute_result"
    }
   ],
   "source": [
    "student2"
   ]
  },
  {
   "cell_type": "code",
   "execution_count": null,
   "id": "43d4e944",
   "metadata": {},
   "outputs": [],
   "source": [
    "student2[e]"
   ]
  }
 ],
 "metadata": {
  "kernelspec": {
   "display_name": "Python 3 (ipykernel)",
   "language": "python",
   "name": "python3"
  },
  "language_info": {
   "codemirror_mode": {
    "name": "ipython",
    "version": 3
   },
   "file_extension": ".py",
   "mimetype": "text/x-python",
   "name": "python",
   "nbconvert_exporter": "python",
   "pygments_lexer": "ipython3",
   "version": "3.11.4"
  }
 },
 "nbformat": 4,
 "nbformat_minor": 5
}
