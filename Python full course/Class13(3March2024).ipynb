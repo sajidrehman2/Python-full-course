{
 "cells": [
  {
   "cell_type": "markdown",
   "id": "0eadee38",
   "metadata": {},
   "source": [
    "# While Loop\n",
    "       - while loop runs in on condition\n"
   ]
  },
  {
   "cell_type": "code",
   "execution_count": 1,
   "id": "1df8d64c",
   "metadata": {},
   "outputs": [
    {
     "name": "stdout",
     "output_type": "stream",
     "text": [
      "0 hello\n",
      "1 hello\n",
      "2 hello\n",
      "3 hello\n",
      "4 hello\n",
      "5 hello\n",
      "6 hello\n",
      "7 hello\n",
      "8 hello\n",
      "9 hello\n",
      "Loop ends here\n"
     ]
    }
   ],
   "source": [
    "a = 0  # counter \n",
    "while a<10:\n",
    "    print(a,'hello')\n",
    "    a+=1\n",
    "print(\"Loop ends here\")"
   ]
  },
  {
   "cell_type": "code",
   "execution_count": 2,
   "id": "4685ec2f",
   "metadata": {},
   "outputs": [
    {
     "name": "stdout",
     "output_type": "stream",
     "text": [
      "10 hello\n",
      "9 hello\n",
      "8 hello\n",
      "7 hello\n",
      "6 hello\n",
      "5 hello\n",
      "4 hello\n",
      "3 hello\n",
      "2 hello\n",
      "1 hello\n",
      "Loop ends here\n"
     ]
    }
   ],
   "source": [
    "a = 10  # counter \n",
    "while a>0:\n",
    "    print(a,'hello')\n",
    "    a-=1\n",
    "print(\"Loop ends here\")"
   ]
  },
  {
   "cell_type": "code",
   "execution_count": 3,
   "id": "c330e998",
   "metadata": {},
   "outputs": [
    {
     "name": "stdout",
     "output_type": "stream",
     "text": [
      "Nasir\n",
      "Okasha\n",
      "nimra\n",
      "Sila\n",
      "Laiba\n",
      "nadia Taj\n",
      "QuratulAin\n",
      "Zarafshan\n"
     ]
    }
   ],
   "source": [
    "students  = ['Nasir', 'Okasha', 'nimra','Sila','Laiba','nadia Taj', 'QuratulAin', 'Zarafshan']\n",
    "counter = 0 \n",
    "while counter<len(students):\n",
    "    print(students[counter])\n",
    "    counter+=1"
   ]
  },
  {
   "cell_type": "code",
   "execution_count": 4,
   "id": "94dffc6f",
   "metadata": {},
   "outputs": [
    {
     "name": "stdout",
     "output_type": "stream",
     "text": [
      "7 Zarafshan\n",
      "6 QuratulAin\n",
      "5 nadia Taj\n",
      "4 Laiba\n",
      "3 Sila\n",
      "2 nimra\n",
      "1 Okasha\n",
      "0 Nasir\n"
     ]
    }
   ],
   "source": [
    "counter = len(students)-1\n",
    "while counter>=0:\n",
    "    print(counter, students[counter])\n",
    "    counter -=1"
   ]
  },
  {
   "cell_type": "code",
   "execution_count": 5,
   "id": "b65e64ec",
   "metadata": {},
   "outputs": [
    {
     "name": "stdout",
     "output_type": "stream",
     "text": [
      "Tell me your guest name:Yasir\n",
      "Tell me your guest name:Rehan\n",
      "Tell me your guest name:Hina\n",
      "Tell me your guest name:\n",
      "Tell me your guest name:\n",
      "['Yasir', 'Rehan', 'Hina', '', '']\n"
     ]
    }
   ],
   "source": [
    "guests = []\n",
    "for a in range(5):\n",
    "    name = input(\"Tell me your guest name:\")\n",
    "    guests.append(name)\n",
    "print(guests)"
   ]
  },
  {
   "cell_type": "code",
   "execution_count": 6,
   "id": "ab00d8a5",
   "metadata": {},
   "outputs": [
    {
     "name": "stdout",
     "output_type": "stream",
     "text": [
      "Tell me your guest name or q to quit:nasir\n",
      "Tell me your guest name or q to quit:rehan\n",
      "Tell me your guest name or q to quit:q\n",
      "['nasir', 'rehan']\n"
     ]
    }
   ],
   "source": [
    "guests = []\n",
    "for a in range(5):\n",
    "    name = input(\"Tell me your guest name or q to quit:\")\n",
    "    if name == 'q':\n",
    "        break\n",
    "    else:\n",
    "        guests.append(name)\n",
    "print(guests)\n"
   ]
  },
  {
   "cell_type": "code",
   "execution_count": 7,
   "id": "51d2ed03",
   "metadata": {},
   "outputs": [
    {
     "name": "stdout",
     "output_type": "stream",
     "text": [
      "Tell me your guest name or q to quit:rehan\n",
      "Tell me your guest name or q to quit:tahir\n",
      "Tell me your guest name or q to quit:asad\n",
      "Tell me your guest name or q to quit:farhan\n",
      "Tell me your guest name or q to quit:zeeshan\n",
      "['rehan', 'tahir', 'asad', 'farhan', 'zeeshan']\n"
     ]
    }
   ],
   "source": [
    "guests = []\n",
    "for a in range(5):\n",
    "    name = input(\"Tell me your guest name or q to quit:\")\n",
    "    if name == 'q':\n",
    "        break\n",
    "    else:\n",
    "        guests.append(name)\n",
    "print(guests)"
   ]
  },
  {
   "cell_type": "code",
   "execution_count": 9,
   "id": "70f360b6",
   "metadata": {},
   "outputs": [
    {
     "name": "stdout",
     "output_type": "stream",
     "text": [
      "Tell me your guest name or q to quit:asad\n",
      "Tell me your guest name or q to quit:rehan\n",
      "Tell me your guest name or q to quit:jawed\n",
      "Tell me your guest name or q to quit:q\n",
      "['asad', 'rehan', 'jawed']\n"
     ]
    }
   ],
   "source": [
    "guests =[]\n",
    "while True:\n",
    "    name = input(\"Tell me your guest name or q to quit:\")\n",
    "    if name == 'q':\n",
    "        break\n",
    "    else:\n",
    "        guests.append(name)\n",
    "print(guests) "
   ]
  },
  {
   "cell_type": "code",
   "execution_count": 2,
   "id": "fdb1a748",
   "metadata": {},
   "outputs": [],
   "source": []
  },
  {
   "cell_type": "code",
   "execution_count": 2,
   "id": "7f3f4d79",
   "metadata": {},
   "outputs": [
    {
     "name": "stdout",
     "output_type": "stream",
     "text": [
      "Enter item: or q to quitusb\n",
      "Enter item: or q to quitusb\n",
      "usb already added in cart\n",
      "Enter item: or q to quitq\n"
     ]
    },
    {
     "data": {
      "text/plain": [
       "['usb', 'cover', 'cell', 'usb']"
      ]
     },
     "execution_count": 2,
     "metadata": {},
     "output_type": "execute_result"
    }
   ],
   "source": [
    "shop = ['usb','cover','charger','cell','cable','mobile', 'laptop','batttery']\n",
    "cart = []\n",
    "while True:    \n",
    "    item = input(\"Enter item: or q to quit\").lower()\n",
    "    if item=='q':\n",
    "        break\n",
    "    elif item in shop:\n",
    "        if item not in cart:\n",
    "            cart.append(item)\n",
    "        else:\n",
    "            print(f\"{item} already added in cart\")\n",
    "    else:\n",
    "        print(f\"{item} not availabel\")\n",
    "        \n",
    "    \n",
    "    \n",
    "order"
   ]
  },
  {
   "cell_type": "code",
   "execution_count": null,
   "id": "677079cc",
   "metadata": {},
   "outputs": [],
   "source": []
  }
 ],
 "metadata": {
  "kernelspec": {
   "display_name": "Python 3 (ipykernel)",
   "language": "python",
   "name": "python3"
  },
  "language_info": {
   "codemirror_mode": {
    "name": "ipython",
    "version": 3
   },
   "file_extension": ".py",
   "mimetype": "text/x-python",
   "name": "python",
   "nbconvert_exporter": "python",
   "pygments_lexer": "ipython3",
   "version": "3.11.4"
  }
 },
 "nbformat": 4,
 "nbformat_minor": 5
}
