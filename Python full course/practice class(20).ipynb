{
 "cells": [
  {
   "cell_type": "markdown",
   "id": "43857165",
   "metadata": {},
   "source": [
    "# polymorpisim\n",
    "\n",
    "### poly means many\n",
    "### morp means form\n",
    "#### The word \"polymorphism\" means \"many forms\", and in programming it refers to methods/functions/operators with the same name that can be executed on many objects or classes."
   ]
  },
  {
   "cell_type": "markdown",
   "id": "b1a34840",
   "metadata": {},
   "source": [
    "#### can be implemented by the following techniques:\n",
    "\n",
    "    Duck typing\n",
    "    Operator overloading\n",
    "    Method Overloading\n",
    "    Method Overriding\n",
    "    Duck Typing\n",
    "    If there a bird which is: - walking like a duck - which is quaking like a duck - which is swimming like a duck then it is a duck\n",
    "\n",
    "    Means its behaviour is just like a duck although it not a duck"
   ]
  },
  {
   "cell_type": "code",
   "execution_count": 1,
   "id": "a61ca914",
   "metadata": {},
   "outputs": [],
   "source": [
    "def abc():\n",
    "    print(\"sajid\")"
   ]
  },
  {
   "cell_type": "code",
   "execution_count": 2,
   "id": "745f6263",
   "metadata": {},
   "outputs": [],
   "source": [
    "def xyz():\n",
    "    print(\"Billionair\")"
   ]
  },
  {
   "cell_type": "code",
   "execution_count": 3,
   "id": "a474403f",
   "metadata": {},
   "outputs": [
    {
     "name": "stdout",
     "output_type": "stream",
     "text": [
      "sajid\n"
     ]
    }
   ],
   "source": [
    "abc()"
   ]
  },
  {
   "cell_type": "code",
   "execution_count": 4,
   "id": "0a5d8ef2",
   "metadata": {},
   "outputs": [
    {
     "name": "stdout",
     "output_type": "stream",
     "text": [
      "sajid\n"
     ]
    }
   ],
   "source": [
    "abc()"
   ]
  },
  {
   "cell_type": "code",
   "execution_count": 5,
   "id": "ae8b0e84",
   "metadata": {},
   "outputs": [],
   "source": [
    "# method overloading in not occure in python because python is static language "
   ]
  },
  {
   "cell_type": "code",
   "execution_count": 6,
   "id": "b4ebf753",
   "metadata": {},
   "outputs": [
    {
     "name": "stdout",
     "output_type": "stream",
     "text": [
      "Reading Books\n",
      "Making Notes\n",
      "Reading Books\n",
      "Making Notes\n",
      "Prepare Question Paper\n"
     ]
    }
   ],
   "source": [
    "class Student:\n",
    "    def useLibrary(self):\n",
    "        print(\"Reading Books\")\n",
    "        print(\"Making Notes\")\n",
    "\n",
    "s1 = Student()\n",
    "################################\n",
    "class Teacher:\n",
    "    def useLibrary(self):\n",
    "        print(\"Reading Books\")\n",
    "        print(\"Making Notes\")\n",
    "        print(\"Prepare Question Paper\")\n",
    "\n",
    "t1 = Teacher()\n",
    "#####################################\n",
    "\n",
    "class Library:\n",
    "    def welcome(self, obj):\n",
    "        obj.useLibrary()\n",
    "\n",
    "        \n",
    "lib  =Library()\n",
    "        \n",
    "lib.welcome(s1)\n",
    "lib.welcome(t1)        "
   ]
  },
  {
   "cell_type": "code",
   "execution_count": null,
   "id": "533258c5",
   "metadata": {},
   "outputs": [],
   "source": []
  }
 ],
 "metadata": {
  "kernelspec": {
   "display_name": "Python 3 (ipykernel)",
   "language": "python",
   "name": "python3"
  },
  "language_info": {
   "codemirror_mode": {
    "name": "ipython",
    "version": 3
   },
   "file_extension": ".py",
   "mimetype": "text/x-python",
   "name": "python",
   "nbconvert_exporter": "python",
   "pygments_lexer": "ipython3",
   "version": "3.11.4"
  }
 },
 "nbformat": 4,
 "nbformat_minor": 5
}
