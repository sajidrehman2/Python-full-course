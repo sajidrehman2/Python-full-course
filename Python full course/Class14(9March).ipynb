{
 "cells": [
  {
   "cell_type": "markdown",
   "id": "acab8c3e",
   "metadata": {},
   "source": [
    "# Functions\n",
    " ### - built-in functions\n",
    " ### - user defined functions\n",
    "      "
   ]
  },
  {
   "cell_type": "markdown",
   "id": "dd65abab",
   "metadata": {},
   "source": [
    "# built-in\n",
    "       -  print()\n",
    "       -  len(\"1\")\n",
    "       -  type(\"1\")\n",
    "       -  id(\"1\")\n",
    "      -   input()\n",
    "\n",
    "# built-in class functions\n",
    "\n",
    "        - list.append(\"1\") #etc.. \n",
    "\n"
   ]
  },
  {
   "cell_type": "code",
   "execution_count": 7,
   "id": "960bb7e1",
   "metadata": {},
   "outputs": [],
   "source": [
    "# function definition\n",
    "def greetings():\n",
    "    print(\"Welcome to my portal\")"
   ]
  },
  {
   "cell_type": "code",
   "execution_count": 8,
   "id": "beaca9fd",
   "metadata": {},
   "outputs": [
    {
     "name": "stdout",
     "output_type": "stream",
     "text": [
      "Welcome to my portal\n"
     ]
    }
   ],
   "source": [
    "# call function\n",
    "greetings()"
   ]
  },
  {
   "cell_type": "code",
   "execution_count": 9,
   "id": "74bef84a",
   "metadata": {},
   "outputs": [
    {
     "name": "stdout",
     "output_type": "stream",
     "text": [
      "Welcome to my portal\n"
     ]
    }
   ],
   "source": [
    "greetings()"
   ]
  },
  {
   "cell_type": "code",
   "execution_count": 10,
   "id": "2c99a71e",
   "metadata": {},
   "outputs": [
    {
     "name": "stdout",
     "output_type": "stream",
     "text": [
      "Welcome to my portal\n"
     ]
    }
   ],
   "source": [
    "greetings()"
   ]
  },
  {
   "cell_type": "code",
   "execution_count": 13,
   "id": "2b2c7884",
   "metadata": {},
   "outputs": [],
   "source": [
    "def print():\n",
    "    return \"hello\""
   ]
  },
  {
   "cell_type": "code",
   "execution_count": 14,
   "id": "83a98093",
   "metadata": {},
   "outputs": [
    {
     "data": {
      "text/plain": [
       "'hello'"
      ]
     },
     "execution_count": 14,
     "metadata": {},
     "output_type": "execute_result"
    }
   ],
   "source": [
    "print()"
   ]
  },
  {
   "cell_type": "code",
   "execution_count": 16,
   "id": "610a3683",
   "metadata": {},
   "outputs": [],
   "source": [
    "del print"
   ]
  },
  {
   "cell_type": "code",
   "execution_count": 17,
   "id": "b0113628",
   "metadata": {},
   "outputs": [
    {
     "name": "stdout",
     "output_type": "stream",
     "text": [
      "he\n"
     ]
    }
   ],
   "source": [
    "print(\"he\")"
   ]
  },
  {
   "cell_type": "code",
   "execution_count": 20,
   "id": "ffb5793c",
   "metadata": {},
   "outputs": [],
   "source": [
    "def addnums():\n",
    "    a = 100\n",
    "    b = 200\n",
    "    c = a+b\n",
    "    print(c)"
   ]
  },
  {
   "cell_type": "code",
   "execution_count": 21,
   "id": "5afc0c03",
   "metadata": {},
   "outputs": [
    {
     "name": "stdout",
     "output_type": "stream",
     "text": [
      "300\n"
     ]
    }
   ],
   "source": [
    "addnums()"
   ]
  },
  {
   "cell_type": "code",
   "execution_count": 22,
   "id": "afce5305",
   "metadata": {},
   "outputs": [
    {
     "name": "stdout",
     "output_type": "stream",
     "text": [
      "300\n"
     ]
    }
   ],
   "source": [
    "addnums()"
   ]
  },
  {
   "cell_type": "markdown",
   "id": "00ef6266",
   "metadata": {},
   "source": [
    "Write a function that accpets a parameter age , \n",
    "if age is greater than 60 say you r old now\n",
    "if age greater than 40 say you are man\n",
    "else you are young "
   ]
  },
  {
   "cell_type": "code",
   "execution_count": 23,
   "id": "52ab4b8e",
   "metadata": {},
   "outputs": [],
   "source": [
    "def greet_user(username):#parameter\n",
    "    print(f\"{username}, you are welcome to my channel\")    "
   ]
  },
  {
   "cell_type": "code",
   "execution_count": 24,
   "id": "4c858f82",
   "metadata": {},
   "outputs": [
    {
     "ename": "TypeError",
     "evalue": "greet_user() missing 1 required positional argument: 'username'",
     "output_type": "error",
     "traceback": [
      "\u001b[1;31m---------------------------------------------------------------------------\u001b[0m",
      "\u001b[1;31mTypeError\u001b[0m                                 Traceback (most recent call last)",
      "Cell \u001b[1;32mIn[24], line 1\u001b[0m\n\u001b[1;32m----> 1\u001b[0m greet_user()\n",
      "\u001b[1;31mTypeError\u001b[0m: greet_user() missing 1 required positional argument: 'username'"
     ]
    }
   ],
   "source": [
    "greet_user()"
   ]
  },
  {
   "cell_type": "code",
   "execution_count": 25,
   "id": "5e51f25f",
   "metadata": {},
   "outputs": [
    {
     "name": "stdout",
     "output_type": "stream",
     "text": [
      "okasha, you are welcome to my channel\n"
     ]
    }
   ],
   "source": [
    "greet_user('okasha')"
   ]
  },
  {
   "cell_type": "code",
   "execution_count": 26,
   "id": "61416706",
   "metadata": {},
   "outputs": [
    {
     "name": "stdout",
     "output_type": "stream",
     "text": [
      "nimra, you are welcome to my channel\n"
     ]
    }
   ],
   "source": [
    "greet_user('nimra')"
   ]
  },
  {
   "cell_type": "code",
   "execution_count": 27,
   "id": "0bb27352",
   "metadata": {},
   "outputs": [
    {
     "name": "stdout",
     "output_type": "stream",
     "text": [
      "zarafshan, you are welcome to my channel\n"
     ]
    }
   ],
   "source": [
    "greet_user(\"zarafshan\")"
   ]
  },
  {
   "cell_type": "code",
   "execution_count": 28,
   "id": "2255b1b7",
   "metadata": {},
   "outputs": [],
   "source": [
    "def check_generation(age):\n",
    "    if age >60:\n",
    "        print(\"Old\")\n",
    "    elif age >40:\n",
    "        print(\"Man\")\n",
    "    else:\n",
    "        print(\"Young\")"
   ]
  },
  {
   "cell_type": "code",
   "execution_count": 29,
   "id": "7b216454",
   "metadata": {},
   "outputs": [
    {
     "name": "stdout",
     "output_type": "stream",
     "text": [
      "Young\n"
     ]
    }
   ],
   "source": [
    "check_generation(23)"
   ]
  },
  {
   "cell_type": "code",
   "execution_count": 30,
   "id": "bac29869",
   "metadata": {},
   "outputs": [
    {
     "name": "stdout",
     "output_type": "stream",
     "text": [
      "Old\n"
     ]
    }
   ],
   "source": [
    "check_generation(69)"
   ]
  },
  {
   "cell_type": "code",
   "execution_count": 31,
   "id": "6bc73fa2",
   "metadata": {},
   "outputs": [
    {
     "name": "stdout",
     "output_type": "stream",
     "text": [
      "Man\n"
     ]
    }
   ],
   "source": [
    "check_generation(45)"
   ]
  },
  {
   "cell_type": "code",
   "execution_count": 37,
   "id": "3f2c9e22",
   "metadata": {},
   "outputs": [],
   "source": [
    "def check_generation(age):\n",
    "#     age = int(input(\"Enter age\"))\n",
    "    if age >60:\n",
    "        print(\"Old\")\n",
    "    elif age >40:\n",
    "        print(\"Man\")\n",
    "    else:\n",
    "        print(\"Young\")"
   ]
  },
  {
   "cell_type": "code",
   "execution_count": 39,
   "id": "37be368a",
   "metadata": {},
   "outputs": [
    {
     "name": "stdout",
     "output_type": "stream",
     "text": [
      "Enter age4\n",
      "Young\n",
      "Enter age56\n",
      "Man\n",
      "Enter age87\n",
      "Old\n",
      "Enter age23\n",
      "Young\n",
      "Enter age56\n",
      "Man\n",
      "Enter age40\n",
      "Young\n",
      "Enter age54\n",
      "Man\n"
     ]
    }
   ],
   "source": [
    "check_generation(int(input(\"Enter age\")))\n",
    "check_generation(int(input(\"Enter age\")))\n",
    "check_generation(int(input(\"Enter age\")))\n",
    "check_generation(int(input(\"Enter age\")))\n",
    "check_generation(int(input(\"Enter age\")))\n",
    "check_generation(int(input(\"Enter age\")))\n",
    "check_generation(int(input(\"Enter age\")))"
   ]
  },
  {
   "cell_type": "code",
   "execution_count": 33,
   "id": "b1a4b05f",
   "metadata": {},
   "outputs": [
    {
     "data": {
      "text/plain": [
       "2"
      ]
     },
     "execution_count": 33,
     "metadata": {},
     "output_type": "execute_result"
    }
   ],
   "source": [
    "len([12,3])"
   ]
  },
  {
   "cell_type": "code",
   "execution_count": 45,
   "id": "7c4a411b",
   "metadata": {},
   "outputs": [],
   "source": [
    "def taxcalculator(annual_income):\n",
    "    tax_amt=0\n",
    "    if annual_income >5000000:\n",
    "        tax_amt = annual_income*.20\n",
    "    elif annual_income> 4000000:\n",
    "        tax_amt = annual_income*.15       \n",
    "    elif annual_income>2500000:\n",
    "        tax_amt = annual_income*.10        \n",
    "    elif annual_income>1000000:\n",
    "        tax_amt = annual_income*.75\n",
    "        \n",
    "    else:\n",
    "        tax_amt = annual_income*.05\n",
    "        \n",
    "    print(f\"Annual income is {annual_income} tax_amt is {tax_amt}\")"
   ]
  },
  {
   "cell_type": "code",
   "execution_count": 46,
   "id": "23ff0af6",
   "metadata": {},
   "outputs": [
    {
     "name": "stdout",
     "output_type": "stream",
     "text": [
      "Annual income is 1200000 tax_amt is 900000.0\n"
     ]
    }
   ],
   "source": [
    "taxcalculator(1200000)"
   ]
  },
  {
   "cell_type": "code",
   "execution_count": 47,
   "id": "a5eaa11f",
   "metadata": {},
   "outputs": [
    {
     "name": "stdout",
     "output_type": "stream",
     "text": [
      "Annual income is 3000000 tax_amt is 300000.0\n"
     ]
    }
   ],
   "source": [
    "taxcalculator(3000000)"
   ]
  },
  {
   "cell_type": "code",
   "execution_count": 54,
   "id": "7959031b",
   "metadata": {},
   "outputs": [],
   "source": [
    "# write a function that takes a number and prints all the number less than it to zeero\n",
    "\n",
    "# if user passes argument 7, the output should be like, numbers less than  are 6,5,4,3,2,1\n",
    "\n",
    "def nums(n):\n",
    "    print(f\"The numbers less than {n} are:\")\n",
    "    \n",
    "    for a in range(n-1,0,-1):\n",
    "        print(a)\n",
    "        "
   ]
  },
  {
   "cell_type": "code",
   "execution_count": 53,
   "id": "4b101309",
   "metadata": {},
   "outputs": [
    {
     "name": "stdout",
     "output_type": "stream",
     "text": [
      "The number less than 9 are:\n",
      "8\n",
      "7\n",
      "6\n",
      "5\n",
      "4\n",
      "3\n",
      "2\n",
      "1\n"
     ]
    }
   ],
   "source": [
    "nums(9)"
   ]
  },
  {
   "cell_type": "code",
   "execution_count": 55,
   "id": "edd138c5",
   "metadata": {},
   "outputs": [],
   "source": [
    "def nums(n):\n",
    "    print(f\"The numbers less than {n} are:\")\n",
    "    \n",
    "    while n>0:\n",
    "        print(n-1)\n",
    "        n-=1"
   ]
  },
  {
   "cell_type": "code",
   "execution_count": 56,
   "id": "865549b4",
   "metadata": {},
   "outputs": [
    {
     "name": "stdout",
     "output_type": "stream",
     "text": [
      "The numbers less than 4 are:\n",
      "3\n",
      "2\n",
      "1\n",
      "0\n"
     ]
    }
   ],
   "source": [
    "nums(4)"
   ]
  },
  {
   "cell_type": "code",
   "execution_count": 57,
   "id": "f48f6fc6",
   "metadata": {},
   "outputs": [],
   "source": [
    "# write a function that calculates the square of all the number proved in a list. "
   ]
  },
  {
   "cell_type": "code",
   "execution_count": 58,
   "id": "8e067c3a",
   "metadata": {},
   "outputs": [],
   "source": [
    "def sqaure_calc(lst):\n",
    "    squared=[]\n",
    "    for a in lst:\n",
    "        squared.append(a**2)\n",
    "    print(squared)\n",
    "        "
   ]
  },
  {
   "cell_type": "code",
   "execution_count": 59,
   "id": "34001f8f",
   "metadata": {},
   "outputs": [
    {
     "name": "stdout",
     "output_type": "stream",
     "text": [
      "[4, 16, 36, 64]\n"
     ]
    }
   ],
   "source": [
    "sqaure_calc([2,4,6,8])"
   ]
  },
  {
   "cell_type": "code",
   "execution_count": 66,
   "id": "2bd1f561",
   "metadata": {},
   "outputs": [],
   "source": [
    "def nums(n):\n",
    "    n=int(input(\"Enter a number\"))\n",
    "    while n>0:\n",
    "        print(n)\n",
    "        n-=1"
   ]
  },
  {
   "cell_type": "code",
   "execution_count": 67,
   "id": "8a410b20",
   "metadata": {},
   "outputs": [
    {
     "name": "stdout",
     "output_type": "stream",
     "text": [
      "Enter a number6\n",
      "6\n",
      "5\n",
      "4\n",
      "3\n",
      "2\n",
      "1\n"
     ]
    }
   ],
   "source": [
    "nums(6)"
   ]
  },
  {
   "cell_type": "code",
   "execution_count": 69,
   "id": "705308eb",
   "metadata": {},
   "outputs": [
    {
     "data": {
      "text/plain": [
       "8"
      ]
     },
     "execution_count": 69,
     "metadata": {},
     "output_type": "execute_result"
    }
   ],
   "source": [
    "# wrtie a function that print the max in given list\n",
    "# but dont use nult in max functon to find the max value in a list\n",
    "\n",
    "max([2,4,5,6,7,8])    #dont"
   ]
  },
  {
   "cell_type": "code",
   "execution_count": 70,
   "id": "e9660dde",
   "metadata": {},
   "outputs": [],
   "source": [
    "def myMax(lst):    \n",
    "    \n",
    "    print()"
   ]
  },
  {
   "cell_type": "code",
   "execution_count": null,
   "id": "e9bfcc7c",
   "metadata": {},
   "outputs": [],
   "source": [
    "min"
   ]
  },
  {
   "cell_type": "code",
   "execution_count": null,
   "id": "7ce1d2c2",
   "metadata": {},
   "outputs": [],
   "source": [
    "average"
   ]
  },
  {
   "cell_type": "code",
   "execution_count": null,
   "id": "3206dbd7",
   "metadata": {},
   "outputs": [],
   "source": [
    "standard devaition\n",
    "variance \n"
   ]
  },
  {
   "cell_type": "code",
   "execution_count": null,
   "id": "737c5f5b",
   "metadata": {},
   "outputs": [],
   "source": [
    "myMax([34,56,54,67,98,890,1,3,54,678])"
   ]
  }
 ],
 "metadata": {
  "kernelspec": {
   "display_name": "Python 3 (ipykernel)",
   "language": "python",
   "name": "python3"
  },
  "language_info": {
   "codemirror_mode": {
    "name": "ipython",
    "version": 3
   },
   "file_extension": ".py",
   "mimetype": "text/x-python",
   "name": "python",
   "nbconvert_exporter": "python",
   "pygments_lexer": "ipython3",
   "version": "3.11.4"
  }
 },
 "nbformat": 4,
 "nbformat_minor": 5
}
