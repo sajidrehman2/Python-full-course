{
 "cells": [
  {
   "cell_type": "markdown",
   "id": "f63b00ea",
   "metadata": {},
   "source": [
    "# Functions"
   ]
  },
  {
   "cell_type": "code",
   "execution_count": 2,
   "id": "3f825e00",
   "metadata": {},
   "outputs": [
    {
     "name": "stdout",
     "output_type": "stream",
     "text": [
      "Enter textIn this chapter you’ll learn to write functions, which are named blocks of code that are designed to do one specific job. When you want to perform a particular task that you’ve defined in a function, you call the name of the function responsible for it.\n"
     ]
    }
   ],
   "source": [
    "txt = input(\"Enter text\")"
   ]
  },
  {
   "cell_type": "code",
   "execution_count": 24,
   "id": "47086ae3",
   "metadata": {},
   "outputs": [
    {
     "name": "stdout",
     "output_type": "stream",
     "text": [
      "['In', 'this', 'chapter', 'you’ll', 'learn', 'to', 'write', 'functions,', 'which', 'are', 'named', 'blocks', 'of', 'code', 'that', 'are', 'designed', 'to', 'do', 'one', 'specific', 'job.', 'When', 'you', 'want', 'to', 'perform', 'a', 'particular', 'task', 'that', 'you’ve', 'defined', 'in', 'a', 'function,', 'you', 'call', 'the', 'name', 'of', 'the', 'function', 'responsible', 'for', 'it.']\n",
      "Helloooooooooooooooooooooo\n"
     ]
    }
   ],
   "source": [
    "print(txt)\n",
    "say_hello()"
   ]
  },
  {
   "cell_type": "code",
   "execution_count": 15,
   "id": "ddf17165",
   "metadata": {},
   "outputs": [
    {
     "name": "stdout",
     "output_type": "stream",
     "text": [
      "Enter txtIn this chapter you’ll learn to write functions, which are named blocks of code that are designed to do one specific job. When you want to perform a particular task that you’ve defined in a function, you call the name of the function responsible for it.\n"
     ]
    }
   ],
   "source": [
    "txt = input(\"Enter txt\").split(\" \")\n"
   ]
  },
  {
   "cell_type": "code",
   "execution_count": 16,
   "id": "44a24e05",
   "metadata": {},
   "outputs": [
    {
     "name": "stdout",
     "output_type": "stream",
     "text": [
      "['In', 'this', 'chapter', 'you’ll', 'learn', 'to', 'write', 'functions,', 'which', 'are', 'named', 'blocks', 'of', 'code', 'that', 'are', 'designed', 'to', 'do', 'one', 'specific', 'job.', 'When', 'you', 'want', 'to', 'perform', 'a', 'particular', 'task', 'that', 'you’ve', 'defined', 'in', 'a', 'function,', 'you', 'call', 'the', 'name', 'of', 'the', 'function', 'responsible', 'for', 'it.']\n"
     ]
    }
   ],
   "source": [
    "print(txt)"
   ]
  },
  {
   "cell_type": "code",
   "execution_count": 17,
   "id": "b5e3e455",
   "metadata": {},
   "outputs": [
    {
     "data": {
      "text/plain": [
       "'In this chapter you’ll learn to write functions, which are named blocks of code that are designed to do one specific job. When you want to perform a particular task that you’ve defined in a function, you call the name of the function responsible for it.'"
      ]
     },
     "execution_count": 17,
     "metadata": {},
     "output_type": "execute_result"
    }
   ],
   "source": [
    "\" \".join(txt)"
   ]
  },
  {
   "cell_type": "code",
   "execution_count": 18,
   "id": "64553128",
   "metadata": {},
   "outputs": [
    {
     "name": "stdout",
     "output_type": "stream",
     "text": [
      "Enter comma separated guests namesnasor, hassan, kashif,umer, ali,\n"
     ]
    }
   ],
   "source": [
    "guests = input(\"Enter comma separated guests names\").split(',')"
   ]
  },
  {
   "cell_type": "code",
   "execution_count": 19,
   "id": "e60f51a6",
   "metadata": {},
   "outputs": [
    {
     "data": {
      "text/plain": [
       "['nasor', ' hassan', ' kashif', 'umer', ' ali', '']"
      ]
     },
     "execution_count": 19,
     "metadata": {},
     "output_type": "execute_result"
    }
   ],
   "source": [
    "guests"
   ]
  },
  {
   "cell_type": "code",
   "execution_count": 20,
   "id": "54e63dde",
   "metadata": {},
   "outputs": [],
   "source": [
    "# defintion\n",
    "def say_hello():\n",
    "    print(\"Helloooooooooooooooooooooo\")"
   ]
  },
  {
   "cell_type": "code",
   "execution_count": 21,
   "id": "27e34679",
   "metadata": {},
   "outputs": [
    {
     "name": "stdout",
     "output_type": "stream",
     "text": [
      "Helloooooooooooooooooooooo\n"
     ]
    }
   ],
   "source": [
    "say_hello()"
   ]
  },
  {
   "cell_type": "code",
   "execution_count": 22,
   "id": "d565ce54",
   "metadata": {},
   "outputs": [
    {
     "name": "stdout",
     "output_type": "stream",
     "text": [
      "Helloooooooooooooooooooooo\n"
     ]
    }
   ],
   "source": [
    "say_hello()"
   ]
  },
  {
   "cell_type": "code",
   "execution_count": 23,
   "id": "6e9f6905",
   "metadata": {},
   "outputs": [
    {
     "name": "stdout",
     "output_type": "stream",
     "text": [
      "Helloooooooooooooooooooooo\n"
     ]
    }
   ],
   "source": [
    "say_hello()"
   ]
  },
  {
   "cell_type": "code",
   "execution_count": 25,
   "id": "4cd5aa68",
   "metadata": {},
   "outputs": [],
   "source": [
    "def add_two_numbers():\n",
    "    a = 10 \n",
    "    b =20\n",
    "    res = a + b\n",
    "    print(res)"
   ]
  },
  {
   "cell_type": "code",
   "execution_count": 26,
   "id": "83de7473",
   "metadata": {},
   "outputs": [
    {
     "name": "stdout",
     "output_type": "stream",
     "text": [
      "30\n"
     ]
    }
   ],
   "source": [
    "add_two_numbers()"
   ]
  },
  {
   "cell_type": "code",
   "execution_count": 27,
   "id": "5542adf7",
   "metadata": {},
   "outputs": [],
   "source": [
    "def add_two_numbers(a,b):# parameters \n",
    "    print(a+b)"
   ]
  },
  {
   "cell_type": "code",
   "execution_count": 28,
   "id": "cbbd4e95",
   "metadata": {},
   "outputs": [
    {
     "name": "stdout",
     "output_type": "stream",
     "text": [
      "50\n"
     ]
    }
   ],
   "source": [
    "add_two_numbers(20,30)# arguments"
   ]
  },
  {
   "cell_type": "code",
   "execution_count": 29,
   "id": "1f7af18e",
   "metadata": {},
   "outputs": [
    {
     "name": "stdout",
     "output_type": "stream",
     "text": [
      "3\n"
     ]
    }
   ],
   "source": [
    "add_two_numbers(1,2)"
   ]
  },
  {
   "cell_type": "code",
   "execution_count": 30,
   "id": "64118383",
   "metadata": {},
   "outputs": [
    {
     "name": "stdout",
     "output_type": "stream",
     "text": [
      "112\n"
     ]
    }
   ],
   "source": [
    "add_two_numbers(45,67)"
   ]
  },
  {
   "cell_type": "code",
   "execution_count": 31,
   "id": "75a282d2",
   "metadata": {},
   "outputs": [],
   "source": [
    "def sayHello(name):\n",
    "    print(f\"Hello Mr. {name}.\")"
   ]
  },
  {
   "cell_type": "code",
   "execution_count": 33,
   "id": "04fcf49a",
   "metadata": {},
   "outputs": [
    {
     "ename": "TypeError",
     "evalue": "sayHello() missing 1 required positional argument: 'name'",
     "output_type": "error",
     "traceback": [
      "\u001b[1;31m---------------------------------------------------------------------------\u001b[0m",
      "\u001b[1;31mTypeError\u001b[0m                                 Traceback (most recent call last)",
      "Cell \u001b[1;32mIn[33], line 1\u001b[0m\n\u001b[1;32m----> 1\u001b[0m sayHello()\n",
      "\u001b[1;31mTypeError\u001b[0m: sayHello() missing 1 required positional argument: 'name'"
     ]
    }
   ],
   "source": [
    "sayHello()"
   ]
  },
  {
   "cell_type": "code",
   "execution_count": 34,
   "id": "3b0e54de",
   "metadata": {},
   "outputs": [
    {
     "name": "stdout",
     "output_type": "stream",
     "text": [
      "Hello Mr. Imran Khan.\n"
     ]
    }
   ],
   "source": [
    "sayHello(\"Imran Khan\")"
   ]
  },
  {
   "cell_type": "code",
   "execution_count": 1,
   "id": "1d45f570",
   "metadata": {},
   "outputs": [],
   "source": [
    "shop ={'mobile casing':200,'mobile chargers':300,'data cable':200, 'usb':500,'card reader':50, 'handsfree':800, 'bluetooth':3000}\n",
    "\n",
    "\n",
    "def shopping(name): \n",
    "    print(f\"Welcome Mr. {name}\")\n",
    "    cart = []\n",
    "    grand_total =0\n",
    "    while True:\n",
    "        item = input(\"Enter item or q to quit\")\n",
    "        if item !=\"q\":\n",
    "            if item in shop.keys():\n",
    "                units = int(input(f'How many units of {item}'))\n",
    "                total = shop[item] * units\n",
    "                grand_total +=total            \n",
    "                cart.append(item)\n",
    "            else:\n",
    "                print(f\"{item} not available in shop\")\n",
    "        else:\n",
    "            break       \n",
    "\n",
    "    print(cart)\n",
    "    print(grand_total)\n",
    "    print(f\"Thank you for shopping Mr. {name}\")\n"
   ]
  },
  {
   "cell_type": "code",
   "execution_count": null,
   "id": "55cf080e",
   "metadata": {},
   "outputs": [],
   "source": [
    "shopping('sajid rehman')"
   ]
  },
  {
   "cell_type": "code",
   "execution_count": null,
   "id": "e91f9158",
   "metadata": {},
   "outputs": [],
   "source": [
    "sh"
   ]
  }
 ],
 "metadata": {
  "kernelspec": {
   "display_name": "Python 3 (ipykernel)",
   "language": "python",
   "name": "python3"
  },
  "language_info": {
   "codemirror_mode": {
    "name": "ipython",
    "version": 3
   },
   "file_extension": ".py",
   "mimetype": "text/x-python",
   "name": "python",
   "nbconvert_exporter": "python",
   "pygments_lexer": "ipython3",
   "version": "3.11.4"
  }
 },
 "nbformat": 4,
 "nbformat_minor": 5
}
