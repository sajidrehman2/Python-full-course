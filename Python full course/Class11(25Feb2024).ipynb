{
 "cells": [
  {
   "cell_type": "markdown",
   "id": "ed0c4b04",
   "metadata": {},
   "source": [
    "# Passing arbitrary (undecided )number of arguments toa  function"
   ]
  },
  {
   "cell_type": "code",
   "execution_count": 4,
   "id": "412dc30a",
   "metadata": {},
   "outputs": [],
   "source": [
    "def add(a,b):\n",
    "    return a+b"
   ]
  },
  {
   "cell_type": "code",
   "execution_count": 5,
   "id": "fe2f688b",
   "metadata": {},
   "outputs": [
    {
     "data": {
      "text/plain": [
       "30"
      ]
     },
     "execution_count": 5,
     "metadata": {},
     "output_type": "execute_result"
    }
   ],
   "source": [
    "add(10,20)"
   ]
  },
  {
   "cell_type": "code",
   "execution_count": 6,
   "id": "c6fd375e",
   "metadata": {},
   "outputs": [],
   "source": [
    "def add(a,b,c):\n",
    "    return a+b+c"
   ]
  },
  {
   "cell_type": "code",
   "execution_count": 7,
   "id": "3faf98d9",
   "metadata": {},
   "outputs": [
    {
     "data": {
      "text/plain": [
       "60"
      ]
     },
     "execution_count": 7,
     "metadata": {},
     "output_type": "execute_result"
    }
   ],
   "source": [
    "add(10,20,30)"
   ]
  },
  {
   "cell_type": "code",
   "execution_count": 8,
   "id": "91f4d9ee",
   "metadata": {},
   "outputs": [
    {
     "ename": "TypeError",
     "evalue": "add() missing 1 required positional argument: 'c'",
     "output_type": "error",
     "traceback": [
      "\u001b[1;31m---------------------------------------------------------------------------\u001b[0m",
      "\u001b[1;31mTypeError\u001b[0m                                 Traceback (most recent call last)",
      "Cell \u001b[1;32mIn[8], line 1\u001b[0m\n\u001b[1;32m----> 1\u001b[0m add(\u001b[38;5;241m10\u001b[39m,\u001b[38;5;241m20\u001b[39m)\n",
      "\u001b[1;31mTypeError\u001b[0m: add() missing 1 required positional argument: 'c'"
     ]
    }
   ],
   "source": [
    "add(10,20)"
   ]
  },
  {
   "cell_type": "code",
   "execution_count": 9,
   "id": "f913122b",
   "metadata": {},
   "outputs": [
    {
     "data": {
      "text/plain": [
       "4"
      ]
     },
     "execution_count": 9,
     "metadata": {},
     "output_type": "execute_result"
    }
   ],
   "source": [
    "2+2"
   ]
  },
  {
   "cell_type": "code",
   "execution_count": 10,
   "id": "e9871987",
   "metadata": {},
   "outputs": [
    {
     "data": {
      "text/plain": [
       "'ab'"
      ]
     },
     "execution_count": 10,
     "metadata": {},
     "output_type": "execute_result"
    }
   ],
   "source": [
    "\"a\" + \"b\""
   ]
  },
  {
   "cell_type": "code",
   "execution_count": 11,
   "id": "3791a274",
   "metadata": {},
   "outputs": [
    {
     "data": {
      "text/plain": [
       "[1, 2]"
      ]
     },
     "execution_count": 11,
     "metadata": {},
     "output_type": "execute_result"
    }
   ],
   "source": [
    "[1]+[2]"
   ]
  },
  {
   "cell_type": "code",
   "execution_count": 16,
   "id": "77616151",
   "metadata": {},
   "outputs": [],
   "source": [
    "def add(a=0,b=0,c=0):\n",
    "    return a+b+c"
   ]
  },
  {
   "cell_type": "code",
   "execution_count": 17,
   "id": "22603f57",
   "metadata": {},
   "outputs": [
    {
     "data": {
      "text/plain": [
       "30"
      ]
     },
     "execution_count": 17,
     "metadata": {},
     "output_type": "execute_result"
    }
   ],
   "source": [
    "add(10,20)"
   ]
  },
  {
   "cell_type": "code",
   "execution_count": 18,
   "id": "0b933db8",
   "metadata": {},
   "outputs": [
    {
     "data": {
      "text/plain": [
       "10"
      ]
     },
     "execution_count": 18,
     "metadata": {},
     "output_type": "execute_result"
    }
   ],
   "source": [
    "add(10)"
   ]
  },
  {
   "cell_type": "code",
   "execution_count": 19,
   "id": "f7105cc0",
   "metadata": {},
   "outputs": [
    {
     "data": {
      "text/plain": [
       "0"
      ]
     },
     "execution_count": 19,
     "metadata": {},
     "output_type": "execute_result"
    }
   ],
   "source": [
    "add()"
   ]
  },
  {
   "cell_type": "code",
   "execution_count": 20,
   "id": "59d557fa",
   "metadata": {},
   "outputs": [
    {
     "ename": "TypeError",
     "evalue": "add() takes from 0 to 3 positional arguments but 5 were given",
     "output_type": "error",
     "traceback": [
      "\u001b[1;31m---------------------------------------------------------------------------\u001b[0m",
      "\u001b[1;31mTypeError\u001b[0m                                 Traceback (most recent call last)",
      "Cell \u001b[1;32mIn[20], line 1\u001b[0m\n\u001b[1;32m----> 1\u001b[0m add(\u001b[38;5;241m1\u001b[39m,\u001b[38;5;241m2\u001b[39m,\u001b[38;5;241m3\u001b[39m,\u001b[38;5;241m4\u001b[39m,\u001b[38;5;241m5\u001b[39m)\n",
      "\u001b[1;31mTypeError\u001b[0m: add() takes from 0 to 3 positional arguments but 5 were given"
     ]
    }
   ],
   "source": [
    "add(1,2,3,4,5)"
   ]
  },
  {
   "cell_type": "code",
   "execution_count": 21,
   "id": "eb98cbc5",
   "metadata": {},
   "outputs": [],
   "source": [
    "# Abitrary arguments "
   ]
  },
  {
   "cell_type": "code",
   "execution_count": 27,
   "id": "a5fd8aa1",
   "metadata": {},
   "outputs": [],
   "source": [
    "def bio_data(name,age,gender,*other):\n",
    "    print(name)\n",
    "    print(age)\n",
    "    print(gender)\n",
    "    for v in other:\n",
    "        print(v)"
   ]
  },
  {
   "cell_type": "code",
   "execution_count": 28,
   "id": "cb03fd6d",
   "metadata": {},
   "outputs": [
    {
     "name": "stdout",
     "output_type": "stream",
     "text": [
      "walid\n",
      "23\n",
      "M\n",
      "grduate\n",
      "peshawar\n",
      "1234567\n",
      "abc@gmail.com\n"
     ]
    }
   ],
   "source": [
    "bio_data('walid',23,'M','grduate','peshawar',1234567,\"abc@gmail.com\")"
   ]
  },
  {
   "cell_type": "code",
   "execution_count": 29,
   "id": "9ff7c764",
   "metadata": {},
   "outputs": [],
   "source": [
    "def add(*nums):\n",
    "    return sum(nums)"
   ]
  },
  {
   "cell_type": "code",
   "execution_count": 30,
   "id": "cb175b1b",
   "metadata": {},
   "outputs": [
    {
     "data": {
      "text/plain": [
       "55"
      ]
     },
     "execution_count": 30,
     "metadata": {},
     "output_type": "execute_result"
    }
   ],
   "source": [
    "add(1,2,3,4,5,6,7,8,9,10)"
   ]
  },
  {
   "cell_type": "code",
   "execution_count": 31,
   "id": "16e5442b",
   "metadata": {},
   "outputs": [],
   "source": [
    "def add(*nums):# 1,2,3,4,5,6,7,8,9,10\n",
    "    res = 0\n",
    "    for v in nums:\n",
    "        res +=v\n",
    "    return res"
   ]
  },
  {
   "cell_type": "code",
   "execution_count": 32,
   "id": "d73e2b38",
   "metadata": {},
   "outputs": [
    {
     "data": {
      "text/plain": [
       "7"
      ]
     },
     "execution_count": 32,
     "metadata": {},
     "output_type": "execute_result"
    }
   ],
   "source": [
    "add(1,2,4)"
   ]
  },
  {
   "cell_type": "code",
   "execution_count": 33,
   "id": "b80c861a",
   "metadata": {},
   "outputs": [
    {
     "data": {
      "text/plain": [
       "20"
      ]
     },
     "execution_count": 33,
     "metadata": {},
     "output_type": "execute_result"
    }
   ],
   "source": [
    "add(2,3,4,5,6)"
   ]
  },
  {
   "cell_type": "code",
   "execution_count": 34,
   "id": "2bbc593b",
   "metadata": {},
   "outputs": [
    {
     "data": {
      "text/plain": [
       "31"
      ]
     },
     "execution_count": 34,
     "metadata": {},
     "output_type": "execute_result"
    }
   ],
   "source": [
    "add(4,6,8,9,1,3)"
   ]
  },
  {
   "cell_type": "code",
   "execution_count": 35,
   "id": "e11c7b17",
   "metadata": {},
   "outputs": [],
   "source": [
    "def max_value(*nums):\n",
    "    return max(nums)"
   ]
  },
  {
   "cell_type": "code",
   "execution_count": 36,
   "id": "eda2e21b",
   "metadata": {},
   "outputs": [],
   "source": [
    "def max_value(*nums):\n",
    "    mv = nums[0]      #3,7\n",
    "    for v in nums:    # 3,2,7,1\n",
    "        if v >=mv:\n",
    "            mv = v\n",
    "    return mv\n",
    "        "
   ]
  },
  {
   "cell_type": "code",
   "execution_count": 37,
   "id": "c69219a9",
   "metadata": {},
   "outputs": [
    {
     "data": {
      "text/plain": [
       "7"
      ]
     },
     "execution_count": 37,
     "metadata": {},
     "output_type": "execute_result"
    }
   ],
   "source": [
    "max_value(3,2,7,1)"
   ]
  },
  {
   "cell_type": "code",
   "execution_count": 39,
   "id": "21e984f4",
   "metadata": {},
   "outputs": [],
   "source": [
    "def max_value(*nums):\n",
    "    mv = nums[0]      #3,7\n",
    "    for v in nums:    # 3,2,7,1\n",
    "        if v <=mv:\n",
    "            mv = v\n",
    "    return mv   "
   ]
  },
  {
   "cell_type": "code",
   "execution_count": 42,
   "id": "63e0efe4",
   "metadata": {},
   "outputs": [
    {
     "data": {
      "text/plain": [
       "-4"
      ]
     },
     "execution_count": 42,
     "metadata": {},
     "output_type": "execute_result"
    }
   ],
   "source": [
    "max_value(3,-1,-4,7,1,0)"
   ]
  },
  {
   "cell_type": "code",
   "execution_count": 56,
   "id": "aa1a4d80",
   "metadata": {},
   "outputs": [],
   "source": [
    "def sort_tuple(*nums):\n",
    "    nums = list(nums)\n",
    "    for i in range(0,len(nums)):\n",
    "        for j in range(i+1, len(nums)):\n",
    "            if nums[i]<=nums[j]:\n",
    "                nums[i],nums[j] = nums[j],nums[i]\n",
    "    return nums"
   ]
  },
  {
   "cell_type": "code",
   "execution_count": 57,
   "id": "58874d29",
   "metadata": {},
   "outputs": [
    {
     "data": {
      "text/plain": [
       "[9, 7, 6, 6, 5, 3, 2, 1, 0]"
      ]
     },
     "execution_count": 57,
     "metadata": {},
     "output_type": "execute_result"
    }
   ],
   "source": [
    "sort_tuple(3,6,1,9,2,6,0,5,7)"
   ]
  },
  {
   "cell_type": "code",
   "execution_count": 45,
   "id": "6f5c3146",
   "metadata": {},
   "outputs": [
    {
     "name": "stdout",
     "output_type": "stream",
     "text": [
      "2* 1 = 2\n",
      "2* 2 = 4\n",
      "2* 3 = 6\n",
      "2* 4 = 8\n",
      "2* 5 = 10\n",
      "2* 6 = 12\n",
      "2* 7 = 14\n",
      "2* 8 = 16\n",
      "2* 9 = 18\n",
      "2* 10 = 20\n",
      "3* 1 = 3\n",
      "3* 2 = 6\n",
      "3* 3 = 9\n",
      "3* 4 = 12\n",
      "3* 5 = 15\n",
      "3* 6 = 18\n",
      "3* 7 = 21\n",
      "3* 8 = 24\n",
      "3* 9 = 27\n",
      "3* 10 = 30\n",
      "4* 1 = 4\n",
      "4* 2 = 8\n",
      "4* 3 = 12\n",
      "4* 4 = 16\n",
      "4* 5 = 20\n",
      "4* 6 = 24\n",
      "4* 7 = 28\n",
      "4* 8 = 32\n",
      "4* 9 = 36\n",
      "4* 10 = 40\n"
     ]
    }
   ],
   "source": [
    "for a in range(2,5):#2,3,4\n",
    "    for b in range(1,11):#2,3,4,5,6,7,8,910\n",
    "        print(f\"{a}* {b} = {b*a}\")"
   ]
  },
  {
   "cell_type": "code",
   "execution_count": 46,
   "id": "f81059a8",
   "metadata": {},
   "outputs": [],
   "source": [
    "a = [10,20]"
   ]
  },
  {
   "cell_type": "code",
   "execution_count": 50,
   "id": "892c7af6",
   "metadata": {},
   "outputs": [],
   "source": [
    "a[0],a[1] = a[1],a[0]"
   ]
  },
  {
   "cell_type": "code",
   "execution_count": 51,
   "id": "4e327913",
   "metadata": {},
   "outputs": [
    {
     "data": {
      "text/plain": [
       "[20, 10]"
      ]
     },
     "execution_count": 51,
     "metadata": {},
     "output_type": "execute_result"
    }
   ],
   "source": [
    "a"
   ]
  },
  {
   "cell_type": "markdown",
   "id": "b63fa539",
   "metadata": {},
   "source": [
    "# Keyword arbitrary arguments"
   ]
  },
  {
   "cell_type": "code",
   "execution_count": 61,
   "id": "1265de2f",
   "metadata": {},
   "outputs": [],
   "source": [
    "def profile_builder(name,age,dept, location, **other_info):\n",
    "    print(name)\n",
    "    print(age)\n",
    "    print(dept)\n",
    "    print(location)\n",
    "    print(other_info)\n",
    "    "
   ]
  },
  {
   "cell_type": "code",
   "execution_count": 62,
   "id": "8b8433ae",
   "metadata": {},
   "outputs": [
    {
     "name": "stdout",
     "output_type": "stream",
     "text": [
      "Ali\n",
      "21\n",
      "CS\n",
      "Peshawar\n",
      "{'gender': 'Male', 'email': 'abc@gmail.com', 'contact': '123456789', 'course': 'Python', 'postal_code': '250113'}\n"
     ]
    }
   ],
   "source": [
    "profile_builder('Ali', 21, 'CS','Peshawar', gender = 'Male', email ='abc@gmail.com',contact='123456789',course='Python', postal_code = '250113')"
   ]
  },
  {
   "cell_type": "code",
   "execution_count": 68,
   "id": "ff2be496",
   "metadata": {},
   "outputs": [],
   "source": [
    "def profile_builder(name,age,dept, location, **other_info):\n",
    "    profile = {}\n",
    "    profile['name'] = name\n",
    "    profile['age'] = age\n",
    "    profile['dept'] = dept\n",
    "    profile['location'] = location\n",
    "    profile.update(other_info)\n",
    "    return profile\n",
    "    "
   ]
  },
  {
   "cell_type": "code",
   "execution_count": 69,
   "id": "849e9be6",
   "metadata": {},
   "outputs": [],
   "source": [
    "s ={'gender': 'Male', 'email': 'abc@gmail.com', 'contact': '123456789', 'course': 'Python', 'postal_code': '250113'}\n"
   ]
  },
  {
   "cell_type": "code",
   "execution_count": 70,
   "id": "a9340f42",
   "metadata": {},
   "outputs": [
    {
     "data": {
      "text/plain": [
       "dict_items([('gender', 'Male'), ('email', 'abc@gmail.com'), ('contact', '123456789'), ('course', 'Python'), ('postal_code', '250113')])"
      ]
     },
     "execution_count": 70,
     "metadata": {},
     "output_type": "execute_result"
    }
   ],
   "source": [
    "s.items()"
   ]
  },
  {
   "cell_type": "code",
   "execution_count": 71,
   "id": "497b1231",
   "metadata": {},
   "outputs": [
    {
     "data": {
      "text/plain": [
       "{'name': 'Ali',\n",
       " 'age': 21,\n",
       " 'dept': 'CS',\n",
       " 'location': 'Peshawar',\n",
       " 'gender': 'Male',\n",
       " 'email': 'abc@gmail.com',\n",
       " 'contact': '123456789',\n",
       " 'course': 'Python',\n",
       " 'postal_code': '250113'}"
      ]
     },
     "execution_count": 71,
     "metadata": {},
     "output_type": "execute_result"
    }
   ],
   "source": [
    "profile_builder('Ali', 21, 'CS','Peshawar', gender = 'Male', email ='abc@gmail.com',contact='123456789',course='Python', postal_code = '250113')"
   ]
  },
  {
   "cell_type": "code",
   "execution_count": null,
   "id": "db0edb8d",
   "metadata": {},
   "outputs": [],
   "source": []
  },
  {
   "cell_type": "code",
   "execution_count": null,
   "id": "a7242d32",
   "metadata": {},
   "outputs": [],
   "source": []
  }
 ],
 "metadata": {
  "kernelspec": {
   "display_name": "Python 3 (ipykernel)",
   "language": "python",
   "name": "python3"
  },
  "language_info": {
   "codemirror_mode": {
    "name": "ipython",
    "version": 3
   },
   "file_extension": ".py",
   "mimetype": "text/x-python",
   "name": "python",
   "nbconvert_exporter": "python",
   "pygments_lexer": "ipython3",
   "version": "3.11.4"
  }
 },
 "nbformat": 4,
 "nbformat_minor": 5
}
