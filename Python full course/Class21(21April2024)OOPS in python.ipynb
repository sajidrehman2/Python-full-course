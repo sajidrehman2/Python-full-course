{
 "cells": [
  {
   "cell_type": "markdown",
   "id": "e8a1c994",
   "metadata": {},
   "source": [
    "### Class variable(static variable) and Instance Variables \n",
    "  - class vairbales and static variables are same"
   ]
  },
  {
   "cell_type": "code",
   "execution_count": 1,
   "id": "01fadee8",
   "metadata": {},
   "outputs": [],
   "source": [
    "class Car:\n",
    "    # static or class level variable\n",
    "    #can be updated using class name for all objects\n",
    "    wheels = 4\n",
    "    def __init__(self):\n",
    "    # non static or object/instance level variable\n",
    "    # can be updated using object name for a particular object\n",
    "        self.mileage = 10\n",
    "        self.company = \"BMW\""
   ]
  },
  {
   "cell_type": "code",
   "execution_count": 2,
   "id": "e1bf11ce",
   "metadata": {},
   "outputs": [],
   "source": [
    "c1  = Car()\n",
    "c2 = Car()"
   ]
  },
  {
   "cell_type": "code",
   "execution_count": 6,
   "id": "17e12978",
   "metadata": {},
   "outputs": [
    {
     "name": "stdout",
     "output_type": "stream",
     "text": [
      "4\n",
      "4\n",
      "10\n"
     ]
    },
    {
     "ename": "AttributeError",
     "evalue": "type object 'Car' has no attribute 'mileage'",
     "output_type": "error",
     "traceback": [
      "\u001b[1;31m---------------------------------------------------------------------------\u001b[0m",
      "\u001b[1;31mAttributeError\u001b[0m                            Traceback (most recent call last)",
      "Cell \u001b[1;32mIn[6], line 6\u001b[0m\n\u001b[0;32m      3\u001b[0m \u001b[38;5;28mprint\u001b[39m(c1\u001b[38;5;241m.\u001b[39mwheels)\n\u001b[0;32m      5\u001b[0m \u001b[38;5;28mprint\u001b[39m(c1\u001b[38;5;241m.\u001b[39mmileage)\n\u001b[1;32m----> 6\u001b[0m Car\u001b[38;5;241m.\u001b[39mmileage\n",
      "\u001b[1;31mAttributeError\u001b[0m: type object 'Car' has no attribute 'mileage'"
     ]
    }
   ],
   "source": [
    "# since wheel is a class level variable can be accessed using class name\n",
    "print(Car.wheels)\n",
    "print(c1.wheels)\n",
    "\n",
    "print(c1.mileage)\n",
    "Car.mileage\n"
   ]
  },
  {
   "cell_type": "code",
   "execution_count": 7,
   "id": "572abc90",
   "metadata": {},
   "outputs": [
    {
     "data": {
      "text/plain": [
       "4"
      ]
     },
     "execution_count": 7,
     "metadata": {},
     "output_type": "execute_result"
    }
   ],
   "source": [
    "# since wheel is a class level variable, can be accesses using class name as well as object\n",
    "c1.wheels"
   ]
  },
  {
   "cell_type": "code",
   "execution_count": 8,
   "id": "a8b1c175",
   "metadata": {},
   "outputs": [],
   "source": [
    "# class level variable is updeated using class, will be pdated for every object\n",
    "Car.wheels = 5"
   ]
  },
  {
   "cell_type": "code",
   "execution_count": 9,
   "id": "11c654fe",
   "metadata": {},
   "outputs": [
    {
     "data": {
      "text/plain": [
       "(5, 5, 5)"
      ]
     },
     "execution_count": 9,
     "metadata": {},
     "output_type": "execute_result"
    }
   ],
   "source": [
    "Car.wheels, c1.wheels,c2.wheels"
   ]
  },
  {
   "cell_type": "code",
   "execution_count": 10,
   "id": "6842e886",
   "metadata": {},
   "outputs": [],
   "source": [
    "# add a new attribute in my object names wheels\n",
    "c1.wheels = 6\n",
    "c1.color = 'Black'"
   ]
  },
  {
   "cell_type": "code",
   "execution_count": 11,
   "id": "3a2be259",
   "metadata": {},
   "outputs": [
    {
     "data": {
      "text/plain": [
       "(5, 6, 5)"
      ]
     },
     "execution_count": 11,
     "metadata": {},
     "output_type": "execute_result"
    }
   ],
   "source": [
    "Car.wheels, c1.wheels,c2.wheels"
   ]
  },
  {
   "cell_type": "code",
   "execution_count": 15,
   "id": "33d0991c",
   "metadata": {},
   "outputs": [],
   "source": [
    "Car.wheels = 10\n",
    "c2.wheels = 30 "
   ]
  },
  {
   "cell_type": "code",
   "execution_count": 16,
   "id": "d7489f28",
   "metadata": {},
   "outputs": [
    {
     "data": {
      "text/plain": [
       "(10, 6, 30)"
      ]
     },
     "execution_count": 16,
     "metadata": {},
     "output_type": "execute_result"
    }
   ],
   "source": [
    "Car.wheels, c1.wheels,c2.wheels"
   ]
  },
  {
   "cell_type": "code",
   "execution_count": null,
   "id": "df552a04",
   "metadata": {},
   "outputs": [],
   "source": [
    "c1.owner = \"Abdullah\""
   ]
  },
  {
   "cell_type": "code",
   "execution_count": null,
   "id": "55fda7ed",
   "metadata": {},
   "outputs": [],
   "source": [
    "Car.color = \"Red\""
   ]
  },
  {
   "cell_type": "code",
   "execution_count": null,
   "id": "dc2cbbea",
   "metadata": {},
   "outputs": [],
   "source": []
  },
  {
   "cell_type": "markdown",
   "id": "2f885d02",
   "metadata": {},
   "source": [
    "## Class methods , Instance methods , static methods\n",
    " - Class methods and startic methods are not same "
   ]
  },
  {
   "cell_type": "code",
   "execution_count": 17,
   "id": "2c8afb3e",
   "metadata": {},
   "outputs": [],
   "source": [
    "class Student:\n",
    "    school = \"SSUET\"\n",
    "    def __init__(self, m1,m2,m3):\n",
    "        self.m1 = m1\n",
    "        self.m2 = m2\n",
    "        self.m3 = m3\n",
    "    \n",
    "    # instance methods \n",
    "    def avg(self):\n",
    "        return (self.m1+self.m2+self.m3)/3\n",
    "    \n",
    "    def information(self):\n",
    "        return self.school\n",
    "    "
   ]
  },
  {
   "cell_type": "code",
   "execution_count": 18,
   "id": "4e8750a0",
   "metadata": {},
   "outputs": [
    {
     "name": "stdout",
     "output_type": "stream",
     "text": [
      "92.33333333333333\n",
      "80.0\n",
      "SSUET\n",
      "SSUET\n",
      "SSUET\n",
      "SSUET\n"
     ]
    },
    {
     "ename": "TypeError",
     "evalue": "Student.information() missing 1 required positional argument: 'self'",
     "output_type": "error",
     "traceback": [
      "\u001b[1;31m---------------------------------------------------------------------------\u001b[0m",
      "\u001b[1;31mTypeError\u001b[0m                                 Traceback (most recent call last)",
      "Cell \u001b[1;32mIn[18], line 16\u001b[0m\n\u001b[0;32m     13\u001b[0m \u001b[38;5;28mprint\u001b[39m(s1\u001b[38;5;241m.\u001b[39mschool)\n\u001b[0;32m     15\u001b[0m \u001b[38;5;66;03m# instance method called using class name>>error\u001b[39;00m\n\u001b[1;32m---> 16\u001b[0m \u001b[38;5;28mprint\u001b[39m(Student\u001b[38;5;241m.\u001b[39minformation())\n\u001b[0;32m     17\u001b[0m \u001b[38;5;28mprint\u001b[39m(Student\u001b[38;5;241m.\u001b[39mavg())\n",
      "\u001b[1;31mTypeError\u001b[0m: Student.information() missing 1 required positional argument: 'self'"
     ]
    }
   ],
   "source": [
    "s1 = Student(89,98,90)\n",
    "s2 = Student(80,90,70)\n",
    "# instance method called using instance  s1\n",
    "print(s1.avg())\n",
    "\n",
    "# instance method called using instance  s2\n",
    "print(s2.avg())\n",
    "\n",
    "# instance method called using class name but instance is passed a argument\n",
    "print(Student.information(s1))\n",
    "print(Student.information(s2))\n",
    "print(Student.school)\n",
    "print(s1.school)\n",
    "\n",
    "# instance method called using class name>>error\n",
    "print(Student.information())\n",
    "print(Student.avg())\n"
   ]
  },
  {
   "cell_type": "raw",
   "id": "2ee2b732",
   "metadata": {},
   "source": [
    "avg is an instance method it required a instance/object to be called. \n",
    "information is a also a instance method which requires instance/object to be called.\n",
    "\n",
    "any instance method can not be called using a class name. \n",
    "\n",
    "we need a class method to be called by using a class name\n",
    "\n",
    "class methods can be called using class name as well as instance name \n",
    "to make a methods class method we use a decorator @classmethod\n",
    "this way information method can be called using an object as well as a class"
   ]
  },
  {
   "cell_type": "code",
   "execution_count": 19,
   "id": "96e672bc",
   "metadata": {},
   "outputs": [],
   "source": [
    "class Student:\n",
    "    school = \"SSUET\"\n",
    "    def __init__(self, m1,m2,m3):\n",
    "        self.m1 = m1\n",
    "        self.m2 = m2\n",
    "        self.m3 = m3\n",
    "    def avg(self):\n",
    "        return (self.m1+self.m2+self.m3)/3\n",
    "    \n",
    "    @classmethod   # used a decorator @classmethod\n",
    "    def information(cls):\n",
    "        return cls.school"
   ]
  },
  {
   "cell_type": "code",
   "execution_count": 20,
   "id": "3a563855",
   "metadata": {},
   "outputs": [
    {
     "name": "stdout",
     "output_type": "stream",
     "text": [
      "92.33333333333333\n",
      "80.0\n",
      "SSUET\n",
      "SSUET\n",
      "SSUET\n",
      "SSUET\n"
     ]
    }
   ],
   "source": [
    "s1 = Student(89,98,90)\n",
    "s2 = Student(80,90,70)\n",
    "# instance method called using instance  s1\n",
    "print(s1.avg())\n",
    "# instance method called using instance  s2\n",
    "print(s2.avg())\n",
    "\n",
    "########Class method can be called using class as well as instance######\n",
    "\n",
    "# class method is called using instance\n",
    "print(s1.information())\n",
    "print(s2.information())\n",
    "\n",
    "# class method is called using class name\n",
    "print(Student.information())\n",
    "print(Student.information())"
   ]
  },
  {
   "cell_type": "markdown",
   "id": "8a58bf01",
   "metadata": {},
   "source": [
    "# Static Methods \n",
    " - static methods are methods that donot require instance or class"
   ]
  },
  {
   "cell_type": "code",
   "execution_count": 21,
   "id": "53b26933",
   "metadata": {},
   "outputs": [],
   "source": [
    "class Student:\n",
    "    school = \"SSUET\"\n",
    "    def __init__(self, m1,m2,m3):\n",
    "        self.m1 = m1\n",
    "        self.m2 = m2\n",
    "        self.m3 = m3\n",
    "    def avg(self):\n",
    "        return (self.m1+self.m2+self.m3)/3\n",
    "    \n",
    "    @classmethod\n",
    "    def information(c):\n",
    "        return c.school\n",
    "    \n",
    "    @staticmethod\n",
    "    def hello():\n",
    "        return \"Im a static method\""
   ]
  },
  {
   "cell_type": "code",
   "execution_count": 22,
   "id": "6d8740d7",
   "metadata": {},
   "outputs": [],
   "source": [
    "s4 = Student(23,24,25)"
   ]
  },
  {
   "cell_type": "code",
   "execution_count": 23,
   "id": "cb347b99",
   "metadata": {},
   "outputs": [
    {
     "data": {
      "text/plain": [
       "'Im a static method'"
      ]
     },
     "execution_count": 23,
     "metadata": {},
     "output_type": "execute_result"
    }
   ],
   "source": [
    "s4.hello()"
   ]
  },
  {
   "cell_type": "code",
   "execution_count": 24,
   "id": "079343c8",
   "metadata": {},
   "outputs": [
    {
     "data": {
      "text/plain": [
       "'Im a static method'"
      ]
     },
     "execution_count": 24,
     "metadata": {},
     "output_type": "execute_result"
    }
   ],
   "source": [
    "Student.hello()"
   ]
  },
  {
   "cell_type": "code",
   "execution_count": 26,
   "id": "85df176d",
   "metadata": {},
   "outputs": [],
   "source": [
    "class Battery():\n",
    "    def __init__(self,manuf, cell, weight, amp, watt,price):\n",
    "        self.manuf =manuf\n",
    "        self.cell =cell\n",
    "        self.weight=weight\n",
    "        self.amp =amp\n",
    "        self.watt =watt\n",
    "        self.price =price"
   ]
  },
  {
   "cell_type": "code",
   "execution_count": 30,
   "id": "c1504f1b",
   "metadata": {},
   "outputs": [],
   "source": [
    "class ElecCar:\n",
    "    def __init__(self,make,model,year,engine):\n",
    "        self.make =make\n",
    "        self.model = model\n",
    "        self.year = year\n",
    "        self.engine =engine\n",
    "        # instance used as attributes\n",
    "        self.battery = Battery(\"Osaka\",27,60,200,12,60000)\n",
    "    def carruns(self):\n",
    "        pass\n",
    "    def carstop(self):\n",
    "        pass\n",
    "        "
   ]
  },
  {
   "cell_type": "code",
   "execution_count": 34,
   "id": "544ebde4",
   "metadata": {},
   "outputs": [
    {
     "data": {
      "text/plain": [
       "'Osaka'"
      ]
     },
     "execution_count": 34,
     "metadata": {},
     "output_type": "execute_result"
    }
   ],
   "source": [
    "e = ElecCar('honda',2024,2024,2000)\n",
    "e.battery.manuf"
   ]
  },
  {
   "cell_type": "code",
   "execution_count": null,
   "id": "953c5dc7",
   "metadata": {},
   "outputs": [],
   "source": []
  },
  {
   "cell_type": "markdown",
   "id": "74b0f0fa",
   "metadata": {},
   "source": [
    "# Inner Classes\n",
    " - Class inside a class is called inner class"
   ]
  },
  {
   "cell_type": "code",
   "execution_count": 35,
   "id": "5b8a0937",
   "metadata": {},
   "outputs": [
    {
     "name": "stdout",
     "output_type": "stream",
     "text": [
      "Nasir 2\n",
      "Hassan 3\n"
     ]
    }
   ],
   "source": [
    "class Student:\n",
    "    def __init__(self, name, rollno):\n",
    "        self.name =name\n",
    "        self.rollno=rollno\n",
    "    def show(self):\n",
    "        print(self.name, self.rollno)\n",
    "s1 = Student('Nasir',2)\n",
    "s2 = Student('Hassan',3)\n",
    "\n",
    "s1.show()\n",
    "s2.show()"
   ]
  },
  {
   "cell_type": "raw",
   "id": "1f6e3279",
   "metadata": {},
   "source": [
    "Case: A student in IT class must hava laptop\n",
    "so there is an attribute of laptop for student"
   ]
  },
  {
   "cell_type": "code",
   "execution_count": 36,
   "id": "8c4eaab7",
   "metadata": {},
   "outputs": [
    {
     "name": "stdout",
     "output_type": "stream",
     "text": [
      "Nasir 2 HP\n",
      "Hassan 3 Lenovo\n"
     ]
    }
   ],
   "source": [
    "class Student:\n",
    "    def __init__(self, name, rollno,laptop):\n",
    "        self.name =name\n",
    "        self.rollno=rollno\n",
    "        self.laptop = laptop\n",
    "    def show(self):\n",
    "        print(self.name, self.rollno,self.laptop)\n",
    "s1 = Student('Nasir',2, \"HP\")\n",
    "s2 = Student('Hassan',3,\"Lenovo\")\n",
    "\n",
    "s1.show()\n",
    "s2.show()"
   ]
  },
  {
   "cell_type": "markdown",
   "id": "e7741146",
   "metadata": {},
   "source": [
    "What if i need to add more detail of my laptop??\n",
    "\n",
    "Should i send the details as arguments to init??\n",
    "\n",
    "We can create a separate class for laptop and use its object as attribute to Student\n",
    "\n",
    "or we can also create an inner class of laptop inside Student"
   ]
  },
  {
   "cell_type": "markdown",
   "id": "aa39e713",
   "metadata": {},
   "source": [
    "### Instance as attribute\n",
    "A class outside the class, its instance can be used as attribute in another class"
   ]
  },
  {
   "cell_type": "code",
   "execution_count": 37,
   "id": "2ceb076d",
   "metadata": {},
   "outputs": [],
   "source": [
    "class Laptop:\n",
    "    def __init__(self,brand,cpu,ram):\n",
    "        self.brand =brand\n",
    "        self.cpu =cpu\n",
    "        self.ram =ram\n",
    "    \n",
    "    def show(self):\n",
    "        print(self.brand,self.cpu,self.ram)"
   ]
  },
  {
   "cell_type": "code",
   "execution_count": 38,
   "id": "e6a91170",
   "metadata": {},
   "outputs": [
    {
     "name": "stdout",
     "output_type": "stream",
     "text": [
      "Nasir 2\n",
      "Hp Corei7 16\n",
      "Hassan 3\n",
      "Hp Corei7 16\n"
     ]
    }
   ],
   "source": [
    "class Student:\n",
    "    def __init__(self, name, rollno):\n",
    "        self.name =name\n",
    "        self.rollno=rollno\n",
    "        self.laptop = Laptop(\"Hp\",\"Corei7\",16)\n",
    "   \n",
    "    def show(self):\n",
    "        print(self.name, self.rollno) \n",
    "        self.laptop.show()\n",
    "    \n",
    "    \n",
    "s1 = Student('Nasir',2,)\n",
    "s2 = Student('Hassan',3,)\n",
    "\n",
    "s1.show()\n",
    "\n",
    "s2.show()\n"
   ]
  },
  {
   "cell_type": "markdown",
   "id": "020f45e7",
   "metadata": {},
   "source": [
    "### Inner Class\n",
    " - A class clreated inside a class is called inner class"
   ]
  },
  {
   "cell_type": "code",
   "execution_count": 39,
   "id": "e6f23368",
   "metadata": {},
   "outputs": [
    {
     "name": "stdout",
     "output_type": "stream",
     "text": [
      "Nasir 2\n",
      "Hp i7 16Gb\n",
      "Hassan 3\n",
      "Hp i7 16Gb\n"
     ]
    }
   ],
   "source": [
    "class Student:\n",
    "    def __init__(self, name, rollno):\n",
    "        self.name =name\n",
    "        self.rollno=rollno\n",
    "        self.laptop = self.Laptop(\"Hp\",\"i7\",'16Gb')\n",
    "   \n",
    "    def show(self):\n",
    "        print(self.name, self.rollno) \n",
    "        self.laptop.show()\n",
    "    \n",
    "    class Laptop:\n",
    "        def __init__(self,brand,cpu,ram):\n",
    "            self.brand =brand\n",
    "            self.cpu =cpu\n",
    "            self.ram =ram\n",
    "        def show(self):\n",
    "            print(self.brand,self.cpu,self.ram)\n",
    "            \n",
    "s1 = Student('Nasir',2)\n",
    "s2 = Student('Hassan',3)\n",
    "\n",
    "s1.show()\n",
    "\n",
    "s2.show()\n"
   ]
  },
  {
   "cell_type": "code",
   "execution_count": 6,
   "id": "ed9eb5d9",
   "metadata": {},
   "outputs": [
    {
     "name": "stdout",
     "output_type": "stream",
     "text": [
      "Hp i7 16Gb\n",
      "Hp i7 16Gb\n"
     ]
    }
   ],
   "source": [
    "s1.laptop.show()\n",
    "s2.laptop.show()"
   ]
  },
  {
   "cell_type": "markdown",
   "id": "7e7bbcee",
   "metadata": {},
   "source": [
    "# Inheritance "
   ]
  },
  {
   "cell_type": "code",
   "execution_count": 40,
   "id": "4866e6cb",
   "metadata": {},
   "outputs": [
    {
     "name": "stdout",
     "output_type": "stream",
     "text": [
      "Feature1 is working\n",
      "Feature2 is working\n"
     ]
    }
   ],
   "source": [
    "class A:\n",
    "    def feature1(self):\n",
    "        print(\"Feature1 is working\")\n",
    "    def feature2(self):\n",
    "        print(\"Feature2 is working\")\n",
    "        \n",
    "        \n",
    "a1 = A()\n",
    "a1.feature1()\n",
    "a1.feature2()"
   ]
  },
  {
   "cell_type": "markdown",
   "id": "7e611adf",
   "metadata": {},
   "source": [
    "### Single inheritance"
   ]
  },
  {
   "cell_type": "code",
   "execution_count": 41,
   "id": "0d908004",
   "metadata": {},
   "outputs": [
    {
     "name": "stdout",
     "output_type": "stream",
     "text": [
      "Feature1 is working\n",
      "Feature3 is working\n",
      "Feature4 is working\n",
      "Feature2 is working\n"
     ]
    }
   ],
   "source": [
    "class B(A):\n",
    "    def feature3(self):\n",
    "        print(\"Feature3 is working\")\n",
    "    def feature4(self):\n",
    "        print(\"Feature4 is working\")\n",
    "b1 = B()\n",
    "\n",
    "b1.feature1()\n",
    "b1.feature3()\n",
    "b1.feature4()\n",
    "b1.feature2()"
   ]
  },
  {
   "cell_type": "markdown",
   "id": "885ebaf1",
   "metadata": {},
   "source": [
    "#### Multilevel Inheritance"
   ]
  },
  {
   "cell_type": "code",
   "execution_count": 42,
   "id": "9b14f929",
   "metadata": {},
   "outputs": [
    {
     "name": "stdout",
     "output_type": "stream",
     "text": [
      "Feature1 is working\n",
      "Feature2 is working\n",
      "Feature3 is working\n",
      "Feature4 is working\n",
      "Feature5 is working\n",
      "Feature6 is working\n"
     ]
    }
   ],
   "source": [
    "class C(B):\n",
    "    def feature5(self):\n",
    "        print(\"Feature5 is working\")\n",
    "    def feature6(self):\n",
    "        print(\"Feature6 is working\")\n",
    "c1 = C()\n",
    "\n",
    "c1.feature1()\n",
    "c1.feature2()\n",
    "c1.feature3()\n",
    "c1.feature4()\n",
    "c1.feature5()\n",
    "c1.feature6()"
   ]
  },
  {
   "cell_type": "markdown",
   "id": "508dbb17",
   "metadata": {},
   "source": [
    "## Multiple Inheritance"
   ]
  },
  {
   "cell_type": "code",
   "execution_count": 43,
   "id": "15d9a85c",
   "metadata": {},
   "outputs": [
    {
     "name": "stdout",
     "output_type": "stream",
     "text": [
      "Feature1 is working\n",
      "Feature2 is working\n"
     ]
    }
   ],
   "source": [
    "class A:\n",
    "    def feature1(self):\n",
    "        print(\"Feature1 is working\")\n",
    "    def feature2(self):\n",
    "        print(\"Feature2 is working\")\n",
    "               \n",
    "\n",
    "a1 = A()\n",
    "a1.feature1()\n",
    "a1.feature2()"
   ]
  },
  {
   "cell_type": "code",
   "execution_count": 44,
   "id": "1a9df10c",
   "metadata": {},
   "outputs": [
    {
     "name": "stdout",
     "output_type": "stream",
     "text": [
      "Feature3 is working\n",
      "Feature4 is working\n"
     ]
    }
   ],
   "source": [
    "class B():\n",
    "    def feature3(self):\n",
    "        print(\"Feature3 is working\")\n",
    "    def feature4(self):\n",
    "        print(\"Feature4 is working\")\n",
    "b1 = B()\n",
    "b1.feature3()\n",
    "b1.feature4()\n"
   ]
  },
  {
   "cell_type": "code",
   "execution_count": 45,
   "id": "47e0ab53",
   "metadata": {},
   "outputs": [
    {
     "name": "stdout",
     "output_type": "stream",
     "text": [
      "Feature1 is working\n",
      "Feature2 is working\n",
      "Feature3 is working\n",
      "Feature4 is working\n",
      "Feature5 is working\n"
     ]
    }
   ],
   "source": [
    "class C(A,B):\n",
    "    def feature5(self):\n",
    "        print(\"Feature5 is working\")\n",
    "c1 = C()\n",
    "c1.feature1()\n",
    "c1.feature2()\n",
    "c1.feature3()\n",
    "c1.feature4()\n",
    "c1.feature5()"
   ]
  },
  {
   "cell_type": "markdown",
   "id": "e3f04dba",
   "metadata": {},
   "source": [
    "## Contructor(initializer) in Inheritance and Method Resolution Order"
   ]
  },
  {
   "cell_type": "code",
   "execution_count": 46,
   "id": "cc9ae50f",
   "metadata": {},
   "outputs": [
    {
     "name": "stdout",
     "output_type": "stream",
     "text": [
      "In init of A\n",
      "In init of A\n"
     ]
    }
   ],
   "source": [
    "class A:    \n",
    "    def __init__(self):\n",
    "        print(\"In init of A\")\n",
    "        \n",
    "    def feature1(self):\n",
    "        print(\"Feature1 is working\")\n",
    "    def feature2(self):\n",
    "        print(\"Feature2 is working\")\n",
    "\n",
    "class B(A):\n",
    "    \n",
    "    def feature3(self):\n",
    "        print(\"Feature3 is working\")\n",
    "        \n",
    "    def feature4(self):\n",
    "        print(\"Feature4 is working\")\n",
    "a1=A()\n",
    "b1=B()\n",
    "\n",
    "# constructor of A will be called even if we are creating\n",
    "# object of B since B dont have any contrcutor"
   ]
  },
  {
   "cell_type": "code",
   "execution_count": 47,
   "id": "3069901e",
   "metadata": {},
   "outputs": [
    {
     "name": "stdout",
     "output_type": "stream",
     "text": [
      "In init of A\n",
      "In init of B\n"
     ]
    }
   ],
   "source": [
    "class A:\n",
    "    \n",
    "    def __init__(self):\n",
    "        print(\"In init of A\")\n",
    "        \n",
    "    def feature1(self):\n",
    "        print(\"Feature1 is working\")\n",
    "    def feature2(self):\n",
    "        print(\"Feature2 is working\")\n",
    "\n",
    "class B(A):\n",
    "    def __init__(self):\n",
    "        print(\"In init of B\")\n",
    "       \n",
    "    \n",
    "    def feature3(self):\n",
    "        print(\"Feature3 is working\")\n",
    "        \n",
    "    def feature4(self):\n",
    "        print(\"Feature4 is working\")\n",
    "a1=A()\n",
    "b1=B()\n",
    "\n",
    "# constructor of B will be called now as object of B is created"
   ]
  },
  {
   "cell_type": "code",
   "execution_count": 48,
   "id": "1fe9f481",
   "metadata": {},
   "outputs": [
    {
     "name": "stdout",
     "output_type": "stream",
     "text": [
      "In init of A\n",
      "In init of B\n",
      "In init of A\n"
     ]
    }
   ],
   "source": [
    "class A:    \n",
    "    def __init__(self):\n",
    "        print(\"In init of A\")\n",
    "        \n",
    "    def feature1(self):\n",
    "        print(\"Feature1 is working\")\n",
    "    def feature2(self):\n",
    "        print(\"Feature2 is working\")\n",
    "\n",
    "class B(A):\n",
    "    def __init__(self):\n",
    "        print(\"In init of B\")\n",
    "        super().__init__()\n",
    "    \n",
    "    def feature3(self):\n",
    "        print(\"Feature3 is working\")\n",
    "        \n",
    "    def feature4(self):\n",
    "        print(\"Feature4 is working\")\n",
    "a1=A()\n",
    "b1=B()\n",
    "\n",
    "# if we want to call the init of A when object of B \n",
    "#is creating we will use super()"
   ]
  },
  {
   "cell_type": "code",
   "execution_count": 49,
   "id": "7d4e7cc5",
   "metadata": {},
   "outputs": [],
   "source": [
    "class A:    \n",
    "    def __init__(self):\n",
    "        print(\"In init of A\")\n",
    "        \n",
    "    def feature1(self):\n",
    "        print(\"Feature1 is working\")\n",
    "        \n",
    "    def feature2(self):\n",
    "        print(\"Feature2 is working\")\n",
    "    def show(self):\n",
    "        print(\"I am showing class A\")"
   ]
  },
  {
   "cell_type": "code",
   "execution_count": 50,
   "id": "4e7f8377",
   "metadata": {},
   "outputs": [],
   "source": [
    "class B:\n",
    "    def __init__(self):\n",
    "        print(\"in init of B\")\n",
    "       \n",
    "    \n",
    "    def feature3(self):\n",
    "        print(\"Feature3 is working\")\n",
    "        \n",
    "    def feature4(self):\n",
    "        print(\"Feature4 is working\")\n",
    "\n",
    "    def show(self):\n",
    "        print(\"I am showing class B\")"
   ]
  },
  {
   "cell_type": "code",
   "execution_count": 53,
   "id": "420b6cb0",
   "metadata": {},
   "outputs": [
    {
     "name": "stdout",
     "output_type": "stream",
     "text": [
      "init of C\n",
      "In init of A\n"
     ]
    }
   ],
   "source": [
    "class C(A,B):\n",
    "    def __init__(self):\n",
    "        print(\"init of C\")\n",
    "        super().__init__()\n",
    "        # now we have two parent classes super will call init of???\n",
    "        # There is a term called MRO\n",
    "        # Method resolution is from Left to Right\n",
    "        # init of A will be called \n",
    "    \n",
    "        \n",
    "c  = C()"
   ]
  },
  {
   "cell_type": "code",
   "execution_count": 54,
   "id": "81065d8e",
   "metadata": {},
   "outputs": [
    {
     "name": "stdout",
     "output_type": "stream",
     "text": [
      "I am showing class A\n"
     ]
    }
   ],
   "source": [
    "# show() of class A will be called (MRO)\n",
    "c.show()"
   ]
  },
  {
   "cell_type": "code",
   "execution_count": 55,
   "id": "ffae8171",
   "metadata": {},
   "outputs": [
    {
     "name": "stdout",
     "output_type": "stream",
     "text": [
      "init of C\n",
      "in init of B\n"
     ]
    }
   ],
   "source": [
    "class C(B,A):\n",
    "    def __init__(self):\n",
    "        print(\"init of C\")\n",
    "        super().__init__()\n",
    "        # now we have two parent classes super will call init of???\n",
    "        # There is a term called MRO\n",
    "        # Method resolution is from Left to Right\n",
    "        # init of A will be called \n",
    "c  = C()"
   ]
  },
  {
   "cell_type": "code",
   "execution_count": 56,
   "id": "f40f5864",
   "metadata": {},
   "outputs": [
    {
     "name": "stdout",
     "output_type": "stream",
     "text": [
      "I am showing class B\n"
     ]
    }
   ],
   "source": [
    "# show() of class B will be called (MRO)\n",
    "c.show()"
   ]
  },
  {
   "cell_type": "code",
   "execution_count": 57,
   "id": "a3fc9079",
   "metadata": {},
   "outputs": [
    {
     "name": "stdout",
     "output_type": "stream",
     "text": [
      "init of C\n",
      "In init of A\n",
      "I am showing class A\n",
      "Feature2 is A working\n"
     ]
    }
   ],
   "source": [
    "class A:    \n",
    "    def __init__(self):\n",
    "        print(\"In init of A\")\n",
    "        \n",
    "    def feature1(self):\n",
    "        print(\"Feature1 is working\")\n",
    "        \n",
    "    def feature2(self):\n",
    "        print(\"Feature2 is A working\")\n",
    "    def show(self):\n",
    "        print(\"I am showing class A\")\n",
    "        \n",
    "\n",
    "class B():\n",
    "    def __init__(self):\n",
    "        print(\"in init of B\")\n",
    "       \n",
    "    \n",
    "    def feature2(self):\n",
    "        print(\"Feature2 B is working\")\n",
    "        \n",
    "    def feature4(self):\n",
    "        print(\"Feature4 is working\")\n",
    "\n",
    "    def show(self):\n",
    "        print(\"I am showing class B\")\n",
    "        \n",
    "        \n",
    "class C(A,B):\n",
    "    def __init__(self):\n",
    "        print(\"init of C\")\n",
    "        super().__init__()\n",
    "        super().show()\n",
    "    def feature2(self):\n",
    "        print(\"I m in C\")\n",
    "    \n",
    "    def feat(self):\n",
    "       \n",
    "        super().feature2()\n",
    "        \n",
    "c  = C()\n",
    "c.feat()"
   ]
  },
  {
   "cell_type": "markdown",
   "id": "199669bb",
   "metadata": {},
   "source": [
    "# Polymorphism \n",
    "  can be implemented by the following techniques:\n",
    " - Duck typing\n",
    " - Operator overloading\n",
    " - Method Overloading\n",
    " - Method Overriding\n",
    " "
   ]
  },
  {
   "cell_type": "markdown",
   "id": "2e99d71f",
   "metadata": {},
   "source": [
    "#### Duck Typing"
   ]
  },
  {
   "cell_type": "markdown",
   "id": "02d09ca0",
   "metadata": {},
   "source": [
    "If there a bird which is:\n",
    "    - walking like a duck\n",
    "    - which is quaking like a duck\n",
    "    - which is swimming like a duck\n",
    "          then it is a duck\n",
    "          \n",
    "Means its behaviour is just like a duck although it not a duck"
   ]
  },
  {
   "cell_type": "code",
   "execution_count": 59,
   "id": "274185ce",
   "metadata": {},
   "outputs": [
    {
     "name": "stdout",
     "output_type": "stream",
     "text": [
      "Reading Books\n",
      "Making Notes\n",
      "Reading Books\n",
      "Making Notes\n",
      "Prepare Question Paper\n"
     ]
    }
   ],
   "source": [
    "class Student:\n",
    "    def useLibrary(self):\n",
    "        print(\"Reading Books\")\n",
    "        print(\"Making Notes\")\n",
    "\n",
    "s1 = Student()\n",
    "################################\n",
    "class Teacher:\n",
    "    def useLibrary(self):\n",
    "        print(\"Reading Books\")\n",
    "        print(\"Making Notes\")\n",
    "        print(\"Prepare Question Paper\")\n",
    "\n",
    "t1 = Teacher()\n",
    "#####################################\n",
    "\n",
    "class Library:\n",
    "    def welcome(self, obj):\n",
    "        obj.useLibrary()\n",
    "\n",
    "        \n",
    "lib  =Library()\n",
    "        \n",
    "lib.welcome(s1)\n",
    "lib.welcome(t1)        "
   ]
  },
  {
   "cell_type": "markdown",
   "id": "f08af317",
   "metadata": {},
   "source": [
    "#### Another Example of Duck Typing"
   ]
  },
  {
   "cell_type": "code",
   "execution_count": 24,
   "id": "7fc8c3cc",
   "metadata": {},
   "outputs": [
    {
     "name": "stdout",
     "output_type": "stream",
     "text": [
      "Compiling\n",
      "Running\n",
      "Grammar Checking\n",
      "Spell checking\n",
      "Compiling\n",
      "Running\n"
     ]
    }
   ],
   "source": [
    "class PyCharm:\n",
    "    def execute(self):\n",
    "        print(\"Compiling\")\n",
    "        print(\"Running\")\n",
    "ide1 = PyCharm()\n",
    "\n",
    "#################\n",
    "\n",
    "\n",
    "class VsCode:\n",
    "    def execute(self):\n",
    "        print(\"Grammar Checking\")\n",
    "        print(\"Spell checking\")\n",
    "        print(\"Compiling\")\n",
    "        print(\"Running\")\n",
    "ide2 = VsCode()\n",
    "#############################\n",
    "\n",
    "class Laptop:\n",
    "    def code(self,ide):\n",
    "        ide.execute()\n",
    "        \n",
    "lap1 = Laptop()\n",
    "lap1.code(ide1)\n",
    "lap1.code(ide2)\n",
    "\n",
    "# it matters not what class is but it must have a method execute\n",
    "# like if it has a behaviour like a duck than it is a duc"
   ]
  },
  {
   "cell_type": "markdown",
   "id": "f67da866",
   "metadata": {},
   "source": [
    "### Operator Overloading"
   ]
  },
  {
   "cell_type": "code",
   "execution_count": 45,
   "id": "c89a40b9",
   "metadata": {},
   "outputs": [
    {
     "name": "stdout",
     "output_type": "stream",
     "text": [
      "<class '__main__.Merainteger'>\n",
      "hello\n",
      "<__main__.Merainteger object at 0x0000019C2CA07490>\n"
     ]
    }
   ],
   "source": [
    "a = \"hello\"\n",
    "class Merainteger:\n",
    "    pass\n",
    "mera_int1 = Merainteger()\n",
    "print(type(mera_int1))\n",
    "print(a)\n",
    "print(mera_int1)\n"
   ]
  },
  {
   "cell_type": "code",
   "execution_count": 39,
   "id": "b99afb7a",
   "metadata": {},
   "outputs": [
    {
     "name": "stdout",
     "output_type": "stream",
     "text": [
      "30\n",
      "30\n"
     ]
    }
   ],
   "source": [
    "a = 10\n",
    "b = 20 \n",
    "\n",
    "print(a + b)\n",
    "# when we use a + operator, in backend it calls add method of int class(that sums) \n",
    "# because both the supplied operands are of type(class) integers \\\n",
    "# or we can say that both are objects of int class\n",
    "print(int.__add__(a,b))"
   ]
  },
  {
   "cell_type": "code",
   "execution_count": 41,
   "id": "9a65639b",
   "metadata": {},
   "outputs": [
    {
     "name": "stdout",
     "output_type": "stream",
     "text": [
      "1020 \n",
      "1020 \n"
     ]
    }
   ],
   "source": [
    "a = \"10\"\n",
    "b = \"20 \"\n",
    "\n",
    "print(a + b)\n",
    "# when we use a + operator, in backend it calls add method of str class(that concatenates) \n",
    "# because both the supplied operands are of type(class) string \n",
    "# or we can say that both are objects of string class \n",
    "print(str.__add__(a,b))"
   ]
  },
  {
   "cell_type": "code",
   "execution_count": 5,
   "id": "b8c37713",
   "metadata": {},
   "outputs": [
    {
     "name": "stdout",
     "output_type": "stream",
     "text": [
      "15\n"
     ]
    }
   ],
   "source": [
    "a=5\n",
    "b=10\n",
    "print(a+b)"
   ]
  },
  {
   "cell_type": "code",
   "execution_count": 46,
   "id": "7476b296",
   "metadata": {},
   "outputs": [],
   "source": [
    "class Student:\n",
    "    def __init__(self, m1,m2):\n",
    "        self.m1 = m1\n",
    "        self.m2 = m2\n",
    "s1 = Student(80,90)\n",
    "s2 = Student(70,90)"
   ]
  },
  {
   "cell_type": "code",
   "execution_count": 47,
   "id": "b8d9a87f",
   "metadata": {},
   "outputs": [
    {
     "ename": "TypeError",
     "evalue": "unsupported operand type(s) for +: 'Student' and 'Student'",
     "output_type": "error",
     "traceback": [
      "\u001b[1;31m---------------------------------------------------------------------------\u001b[0m",
      "\u001b[1;31mTypeError\u001b[0m                                 Traceback (most recent call last)",
      "Cell \u001b[1;32mIn[47], line 2\u001b[0m\n\u001b[0;32m      1\u001b[0m \u001b[38;5;66;03m# Can we add objects of Student class ????? \u001b[39;00m\n\u001b[1;32m----> 2\u001b[0m s1 \u001b[38;5;241m+\u001b[39m s2\n",
      "\u001b[1;31mTypeError\u001b[0m: unsupported operand type(s) for +: 'Student' and 'Student'"
     ]
    }
   ],
   "source": [
    "# Can we add objects of Student class ????? \n",
    "s1 + s2 "
   ]
  },
  {
   "cell_type": "code",
   "execution_count": 7,
   "id": "2df7ceee",
   "metadata": {},
   "outputs": [],
   "source": [
    "class teacher:\n",
    "    def __init__(self,m1,m2):\n",
    "        self.m1=m1\n",
    "        self.m2=m2\n",
    "t1=teacher(89,35)\n",
    "t2=teacher(90,79)"
   ]
  },
  {
   "cell_type": "code",
   "execution_count": 9,
   "id": "7c4725a1",
   "metadata": {},
   "outputs": [
    {
     "ename": "TypeError",
     "evalue": "unsupported operand type(s) for +: 'teacher' and 'teacher'",
     "output_type": "error",
     "traceback": [
      "\u001b[1;31m---------------------------------------------------------------------------\u001b[0m",
      "\u001b[1;31mTypeError\u001b[0m                                 Traceback (most recent call last)",
      "Cell \u001b[1;32mIn[9], line 1\u001b[0m\n\u001b[1;32m----> 1\u001b[0m t1\u001b[38;5;241m+\u001b[39mt2\n",
      "\u001b[1;31mTypeError\u001b[0m: unsupported operand type(s) for +: 'teacher' and 'teacher'"
     ]
    }
   ],
   "source": [
    "t1+t2 # we can not add or concatinate beacuse object has no add funcation"
   ]
  },
  {
   "cell_type": "code",
   "execution_count": null,
   "id": "eb315597",
   "metadata": {},
   "outputs": [],
   "source": [
    "#Since we have not defined any add function in student class that can add s1 and s2\n",
    "# We will over load add method in our student class also"
   ]
  },
  {
   "cell_type": "code",
   "execution_count": 48,
   "id": "de01862d",
   "metadata": {},
   "outputs": [],
   "source": [
    "class Student:\n",
    "    def __init__(self, m1,m2):\n",
    "        self.m1 = m1\n",
    "        self.m2 = m2\n",
    "    \n",
    "    def __add__(self,other):\n",
    "        m1 = self.m1 + other.m1\n",
    "        m2 = self.m2 + other.m2\n",
    "        \n",
    "        return Student(m1,m2)\n",
    "    \n",
    "    \n",
    "    def __gt__(self,other):\n",
    "        sum_s1 = other.m1 + other.m2\n",
    "        sum_s2 = self.m1 + self.m2\n",
    "        if sum_s1 > sum_s2:return True\n",
    "        else:return False\n",
    "        \n",
    "        \n",
    "s1 = Student(80,90)\n",
    "s2 = Student(70,60)"
   ]
  },
  {
   "cell_type": "code",
   "execution_count": 54,
   "id": "65193a7e",
   "metadata": {},
   "outputs": [
    {
     "data": {
      "text/plain": [
       "150"
      ]
     },
     "execution_count": 54,
     "metadata": {},
     "output_type": "execute_result"
    }
   ],
   "source": [
    "s3 = s1 + s2\n"
   ]
  },
  {
   "cell_type": "code",
   "execution_count": null,
   "id": "01227b03",
   "metadata": {},
   "outputs": [],
   "source": [
    "print(s3)\n",
    "# it will print the address of the object \n",
    "# if we want to print the value \n",
    "# we need to override a function __str__"
   ]
  },
  {
   "cell_type": "code",
   "execution_count": 55,
   "id": "7b1dc263",
   "metadata": {},
   "outputs": [
    {
     "data": {
      "text/plain": [
       "True"
      ]
     },
     "execution_count": 55,
     "metadata": {},
     "output_type": "execute_result"
    }
   ],
   "source": [
    "s2>s1"
   ]
  },
  {
   "cell_type": "code",
   "execution_count": 56,
   "id": "e342f48f",
   "metadata": {},
   "outputs": [
    {
     "data": {
      "text/plain": [
       "False"
      ]
     },
     "execution_count": 56,
     "metadata": {},
     "output_type": "execute_result"
    }
   ],
   "source": [
    "s1>s2"
   ]
  },
  {
   "cell_type": "code",
   "execution_count": 57,
   "id": "ee616989",
   "metadata": {},
   "outputs": [
    {
     "name": "stdout",
     "output_type": "stream",
     "text": [
      "Help on class str in module builtins:\n",
      "\n",
      "class str(object)\n",
      " |  str(object='') -> str\n",
      " |  str(bytes_or_buffer[, encoding[, errors]]) -> str\n",
      " |  \n",
      " |  Create a new string object from the given object. If encoding or\n",
      " |  errors is specified, then the object must expose a data buffer\n",
      " |  that will be decoded using the given encoding and error handler.\n",
      " |  Otherwise, returns the result of object.__str__() (if defined)\n",
      " |  or repr(object).\n",
      " |  encoding defaults to sys.getdefaultencoding().\n",
      " |  errors defaults to 'strict'.\n",
      " |  \n",
      " |  Methods defined here:\n",
      " |  \n",
      " |  __add__(self, value, /)\n",
      " |      Return self+value.\n",
      " |  \n",
      " |  __contains__(self, key, /)\n",
      " |      Return key in self.\n",
      " |  \n",
      " |  __eq__(self, value, /)\n",
      " |      Return self==value.\n",
      " |  \n",
      " |  __format__(self, format_spec, /)\n",
      " |      Return a formatted version of the string as described by format_spec.\n",
      " |  \n",
      " |  __ge__(self, value, /)\n",
      " |      Return self>=value.\n",
      " |  \n",
      " |  __getattribute__(self, name, /)\n",
      " |      Return getattr(self, name).\n",
      " |  \n",
      " |  __getitem__(self, key, /)\n",
      " |      Return self[key].\n",
      " |  \n",
      " |  __getnewargs__(...)\n",
      " |  \n",
      " |  __gt__(self, value, /)\n",
      " |      Return self>value.\n",
      " |  \n",
      " |  __hash__(self, /)\n",
      " |      Return hash(self).\n",
      " |  \n",
      " |  __iter__(self, /)\n",
      " |      Implement iter(self).\n",
      " |  \n",
      " |  __le__(self, value, /)\n",
      " |      Return self<=value.\n",
      " |  \n",
      " |  __len__(self, /)\n",
      " |      Return len(self).\n",
      " |  \n",
      " |  __lt__(self, value, /)\n",
      " |      Return self<value.\n",
      " |  \n",
      " |  __mod__(self, value, /)\n",
      " |      Return self%value.\n",
      " |  \n",
      " |  __mul__(self, value, /)\n",
      " |      Return self*value.\n",
      " |  \n",
      " |  __ne__(self, value, /)\n",
      " |      Return self!=value.\n",
      " |  \n",
      " |  __repr__(self, /)\n",
      " |      Return repr(self).\n",
      " |  \n",
      " |  __rmod__(self, value, /)\n",
      " |      Return value%self.\n",
      " |  \n",
      " |  __rmul__(self, value, /)\n",
      " |      Return value*self.\n",
      " |  \n",
      " |  __sizeof__(self, /)\n",
      " |      Return the size of the string in memory, in bytes.\n",
      " |  \n",
      " |  __str__(self, /)\n",
      " |      Return str(self).\n",
      " |  \n",
      " |  capitalize(self, /)\n",
      " |      Return a capitalized version of the string.\n",
      " |      \n",
      " |      More specifically, make the first character have upper case and the rest lower\n",
      " |      case.\n",
      " |  \n",
      " |  casefold(self, /)\n",
      " |      Return a version of the string suitable for caseless comparisons.\n",
      " |  \n",
      " |  center(self, width, fillchar=' ', /)\n",
      " |      Return a centered string of length width.\n",
      " |      \n",
      " |      Padding is done using the specified fill character (default is a space).\n",
      " |  \n",
      " |  count(...)\n",
      " |      S.count(sub[, start[, end]]) -> int\n",
      " |      \n",
      " |      Return the number of non-overlapping occurrences of substring sub in\n",
      " |      string S[start:end].  Optional arguments start and end are\n",
      " |      interpreted as in slice notation.\n",
      " |  \n",
      " |  encode(self, /, encoding='utf-8', errors='strict')\n",
      " |      Encode the string using the codec registered for encoding.\n",
      " |      \n",
      " |      encoding\n",
      " |        The encoding in which to encode the string.\n",
      " |      errors\n",
      " |        The error handling scheme to use for encoding errors.\n",
      " |        The default is 'strict' meaning that encoding errors raise a\n",
      " |        UnicodeEncodeError.  Other possible values are 'ignore', 'replace' and\n",
      " |        'xmlcharrefreplace' as well as any other name registered with\n",
      " |        codecs.register_error that can handle UnicodeEncodeErrors.\n",
      " |  \n",
      " |  endswith(...)\n",
      " |      S.endswith(suffix[, start[, end]]) -> bool\n",
      " |      \n",
      " |      Return True if S ends with the specified suffix, False otherwise.\n",
      " |      With optional start, test S beginning at that position.\n",
      " |      With optional end, stop comparing S at that position.\n",
      " |      suffix can also be a tuple of strings to try.\n",
      " |  \n",
      " |  expandtabs(self, /, tabsize=8)\n",
      " |      Return a copy where all tab characters are expanded using spaces.\n",
      " |      \n",
      " |      If tabsize is not given, a tab size of 8 characters is assumed.\n",
      " |  \n",
      " |  find(...)\n",
      " |      S.find(sub[, start[, end]]) -> int\n",
      " |      \n",
      " |      Return the lowest index in S where substring sub is found,\n",
      " |      such that sub is contained within S[start:end].  Optional\n",
      " |      arguments start and end are interpreted as in slice notation.\n",
      " |      \n",
      " |      Return -1 on failure.\n",
      " |  \n",
      " |  format(...)\n",
      " |      S.format(*args, **kwargs) -> str\n",
      " |      \n",
      " |      Return a formatted version of S, using substitutions from args and kwargs.\n",
      " |      The substitutions are identified by braces ('{' and '}').\n",
      " |  \n",
      " |  format_map(...)\n",
      " |      S.format_map(mapping) -> str\n",
      " |      \n",
      " |      Return a formatted version of S, using substitutions from mapping.\n",
      " |      The substitutions are identified by braces ('{' and '}').\n",
      " |  \n",
      " |  index(...)\n",
      " |      S.index(sub[, start[, end]]) -> int\n",
      " |      \n",
      " |      Return the lowest index in S where substring sub is found,\n",
      " |      such that sub is contained within S[start:end].  Optional\n",
      " |      arguments start and end are interpreted as in slice notation.\n",
      " |      \n",
      " |      Raises ValueError when the substring is not found.\n",
      " |  \n",
      " |  isalnum(self, /)\n",
      " |      Return True if the string is an alpha-numeric string, False otherwise.\n",
      " |      \n",
      " |      A string is alpha-numeric if all characters in the string are alpha-numeric and\n",
      " |      there is at least one character in the string.\n",
      " |  \n",
      " |  isalpha(self, /)\n",
      " |      Return True if the string is an alphabetic string, False otherwise.\n",
      " |      \n",
      " |      A string is alphabetic if all characters in the string are alphabetic and there\n",
      " |      is at least one character in the string.\n",
      " |  \n",
      " |  isascii(self, /)\n",
      " |      Return True if all characters in the string are ASCII, False otherwise.\n",
      " |      \n",
      " |      ASCII characters have code points in the range U+0000-U+007F.\n",
      " |      Empty string is ASCII too.\n",
      " |  \n",
      " |  isdecimal(self, /)\n",
      " |      Return True if the string is a decimal string, False otherwise.\n",
      " |      \n",
      " |      A string is a decimal string if all characters in the string are decimal and\n",
      " |      there is at least one character in the string.\n",
      " |  \n",
      " |  isdigit(self, /)\n",
      " |      Return True if the string is a digit string, False otherwise.\n",
      " |      \n",
      " |      A string is a digit string if all characters in the string are digits and there\n",
      " |      is at least one character in the string.\n",
      " |  \n",
      " |  isidentifier(self, /)\n",
      " |      Return True if the string is a valid Python identifier, False otherwise.\n",
      " |      \n",
      " |      Call keyword.iskeyword(s) to test whether string s is a reserved identifier,\n",
      " |      such as \"def\" or \"class\".\n",
      " |  \n",
      " |  islower(self, /)\n",
      " |      Return True if the string is a lowercase string, False otherwise.\n",
      " |      \n",
      " |      A string is lowercase if all cased characters in the string are lowercase and\n",
      " |      there is at least one cased character in the string.\n",
      " |  \n",
      " |  isnumeric(self, /)\n",
      " |      Return True if the string is a numeric string, False otherwise.\n",
      " |      \n",
      " |      A string is numeric if all characters in the string are numeric and there is at\n",
      " |      least one character in the string.\n",
      " |  \n",
      " |  isprintable(self, /)\n",
      " |      Return True if the string is printable, False otherwise.\n",
      " |      \n",
      " |      A string is printable if all of its characters are considered printable in\n",
      " |      repr() or if it is empty.\n",
      " |  \n",
      " |  isspace(self, /)\n",
      " |      Return True if the string is a whitespace string, False otherwise.\n",
      " |      \n",
      " |      A string is whitespace if all characters in the string are whitespace and there\n",
      " |      is at least one character in the string.\n",
      " |  \n",
      " |  istitle(self, /)\n",
      " |      Return True if the string is a title-cased string, False otherwise.\n",
      " |      \n",
      " |      In a title-cased string, upper- and title-case characters may only\n",
      " |      follow uncased characters and lowercase characters only cased ones.\n",
      " |  \n",
      " |  isupper(self, /)\n",
      " |      Return True if the string is an uppercase string, False otherwise.\n",
      " |      \n",
      " |      A string is uppercase if all cased characters in the string are uppercase and\n",
      " |      there is at least one cased character in the string.\n",
      " |  \n",
      " |  join(self, iterable, /)\n",
      " |      Concatenate any number of strings.\n",
      " |      \n",
      " |      The string whose method is called is inserted in between each given string.\n",
      " |      The result is returned as a new string.\n",
      " |      \n",
      " |      Example: '.'.join(['ab', 'pq', 'rs']) -> 'ab.pq.rs'\n",
      " |  \n",
      " |  ljust(self, width, fillchar=' ', /)\n",
      " |      Return a left-justified string of length width.\n",
      " |      \n",
      " |      Padding is done using the specified fill character (default is a space).\n",
      " |  \n",
      " |  lower(self, /)\n",
      " |      Return a copy of the string converted to lowercase.\n",
      " |  \n",
      " |  lstrip(self, chars=None, /)\n",
      " |      Return a copy of the string with leading whitespace removed.\n",
      " |      \n",
      " |      If chars is given and not None, remove characters in chars instead.\n",
      " |  \n",
      " |  partition(self, sep, /)\n",
      " |      Partition the string into three parts using the given separator.\n",
      " |      \n",
      " |      This will search for the separator in the string.  If the separator is found,\n",
      " |      returns a 3-tuple containing the part before the separator, the separator\n",
      " |      itself, and the part after it.\n",
      " |      \n",
      " |      If the separator is not found, returns a 3-tuple containing the original string\n",
      " |      and two empty strings.\n",
      " |  \n",
      " |  removeprefix(self, prefix, /)\n",
      " |      Return a str with the given prefix string removed if present.\n",
      " |      \n",
      " |      If the string starts with the prefix string, return string[len(prefix):].\n",
      " |      Otherwise, return a copy of the original string.\n",
      " |  \n",
      " |  removesuffix(self, suffix, /)\n",
      " |      Return a str with the given suffix string removed if present.\n",
      " |      \n",
      " |      If the string ends with the suffix string and that suffix is not empty,\n",
      " |      return string[:-len(suffix)]. Otherwise, return a copy of the original\n",
      " |      string.\n",
      " |  \n",
      " |  replace(self, old, new, count=-1, /)\n",
      " |      Return a copy with all occurrences of substring old replaced by new.\n",
      " |      \n",
      " |        count\n",
      " |          Maximum number of occurrences to replace.\n",
      " |          -1 (the default value) means replace all occurrences.\n",
      " |      \n",
      " |      If the optional argument count is given, only the first count occurrences are\n",
      " |      replaced.\n",
      " |  \n",
      " |  rfind(...)\n",
      " |      S.rfind(sub[, start[, end]]) -> int\n",
      " |      \n",
      " |      Return the highest index in S where substring sub is found,\n",
      " |      such that sub is contained within S[start:end].  Optional\n",
      " |      arguments start and end are interpreted as in slice notation.\n",
      " |      \n",
      " |      Return -1 on failure.\n",
      " |  \n",
      " |  rindex(...)\n",
      " |      S.rindex(sub[, start[, end]]) -> int\n",
      " |      \n",
      " |      Return the highest index in S where substring sub is found,\n",
      " |      such that sub is contained within S[start:end].  Optional\n",
      " |      arguments start and end are interpreted as in slice notation.\n",
      " |      \n",
      " |      Raises ValueError when the substring is not found.\n",
      " |  \n",
      " |  rjust(self, width, fillchar=' ', /)\n",
      " |      Return a right-justified string of length width.\n",
      " |      \n",
      " |      Padding is done using the specified fill character (default is a space).\n",
      " |  \n",
      " |  rpartition(self, sep, /)\n",
      " |      Partition the string into three parts using the given separator.\n",
      " |      \n",
      " |      This will search for the separator in the string, starting at the end. If\n",
      " |      the separator is found, returns a 3-tuple containing the part before the\n",
      " |      separator, the separator itself, and the part after it.\n",
      " |      \n",
      " |      If the separator is not found, returns a 3-tuple containing two empty strings\n",
      " |      and the original string.\n",
      " |  \n",
      " |  rsplit(self, /, sep=None, maxsplit=-1)\n",
      " |      Return a list of the substrings in the string, using sep as the separator string.\n",
      " |      \n",
      " |        sep\n",
      " |          The separator used to split the string.\n",
      " |      \n",
      " |          When set to None (the default value), will split on any whitespace\n",
      " |          character (including \\\\n \\\\r \\\\t \\\\f and spaces) and will discard\n",
      " |          empty strings from the result.\n",
      " |        maxsplit\n",
      " |          Maximum number of splits (starting from the left).\n",
      " |          -1 (the default value) means no limit.\n",
      " |      \n",
      " |      Splitting starts at the end of the string and works to the front.\n",
      " |  \n",
      " |  rstrip(self, chars=None, /)\n",
      " |      Return a copy of the string with trailing whitespace removed.\n",
      " |      \n",
      " |      If chars is given and not None, remove characters in chars instead.\n",
      " |  \n",
      " |  split(self, /, sep=None, maxsplit=-1)\n",
      " |      Return a list of the substrings in the string, using sep as the separator string.\n",
      " |      \n",
      " |        sep\n",
      " |          The separator used to split the string.\n",
      " |      \n",
      " |          When set to None (the default value), will split on any whitespace\n",
      " |          character (including \\\\n \\\\r \\\\t \\\\f and spaces) and will discard\n",
      " |          empty strings from the result.\n",
      " |        maxsplit\n",
      " |          Maximum number of splits (starting from the left).\n",
      " |          -1 (the default value) means no limit.\n",
      " |      \n",
      " |      Note, str.split() is mainly useful for data that has been intentionally\n",
      " |      delimited.  With natural text that includes punctuation, consider using\n",
      " |      the regular expression module.\n",
      " |  \n",
      " |  splitlines(self, /, keepends=False)\n",
      " |      Return a list of the lines in the string, breaking at line boundaries.\n",
      " |      \n",
      " |      Line breaks are not included in the resulting list unless keepends is given and\n",
      " |      true.\n",
      " |  \n",
      " |  startswith(...)\n",
      " |      S.startswith(prefix[, start[, end]]) -> bool\n",
      " |      \n",
      " |      Return True if S starts with the specified prefix, False otherwise.\n",
      " |      With optional start, test S beginning at that position.\n",
      " |      With optional end, stop comparing S at that position.\n",
      " |      prefix can also be a tuple of strings to try.\n",
      " |  \n",
      " |  strip(self, chars=None, /)\n",
      " |      Return a copy of the string with leading and trailing whitespace removed.\n",
      " |      \n",
      " |      If chars is given and not None, remove characters in chars instead.\n",
      " |  \n",
      " |  swapcase(self, /)\n",
      " |      Convert uppercase characters to lowercase and lowercase characters to uppercase.\n",
      " |  \n",
      " |  title(self, /)\n",
      " |      Return a version of the string where each word is titlecased.\n",
      " |      \n",
      " |      More specifically, words start with uppercased characters and all remaining\n",
      " |      cased characters have lower case.\n",
      " |  \n",
      " |  translate(self, table, /)\n",
      " |      Replace each character in the string using the given translation table.\n",
      " |      \n",
      " |        table\n",
      " |          Translation table, which must be a mapping of Unicode ordinals to\n",
      " |          Unicode ordinals, strings, or None.\n",
      " |      \n",
      " |      The table must implement lookup/indexing via __getitem__, for instance a\n",
      " |      dictionary or list.  If this operation raises LookupError, the character is\n",
      " |      left untouched.  Characters mapped to None are deleted.\n",
      " |  \n",
      " |  upper(self, /)\n",
      " |      Return a copy of the string converted to uppercase.\n",
      " |  \n",
      " |  zfill(self, width, /)\n",
      " |      Pad a numeric string with zeros on the left, to fill a field of the given width.\n",
      " |      \n",
      " |      The string is never truncated.\n",
      " |  \n",
      " |  ----------------------------------------------------------------------\n",
      " |  Static methods defined here:\n",
      " |  \n",
      " |  __new__(*args, **kwargs) from builtins.type\n",
      " |      Create and return a new object.  See help(type) for accurate signature.\n",
      " |  \n",
      " |  maketrans(...)\n",
      " |      Return a translation table usable for str.translate().\n",
      " |      \n",
      " |      If there is only one argument, it must be a dictionary mapping Unicode\n",
      " |      ordinals (integers) or characters to Unicode ordinals, strings or None.\n",
      " |      Character keys will be then converted to ordinals.\n",
      " |      If there are two arguments, they must be strings of equal length, and\n",
      " |      in the resulting dictionary, each character in x will be mapped to the\n",
      " |      character at the same position in y. If there is a third argument, it\n",
      " |      must be a string, whose characters will be mapped to None in the result.\n",
      "\n"
     ]
    }
   ],
   "source": [
    "help(str)"
   ]
  },
  {
   "cell_type": "code",
   "execution_count": 59,
   "id": "fe39e5e3",
   "metadata": {},
   "outputs": [],
   "source": [
    "class Student:\n",
    "    def __init__(self, m1,m2):\n",
    "        self.m1 = m1\n",
    "        self.m2 = m2\n",
    "    \n",
    "    def __add__(self,other):\n",
    "        m1 = self.m1 + other.m1\n",
    "        m2 = self.m2 + other.m2\n",
    "        newObj = Student(m1,m2)\n",
    "        return newObj\n",
    "    \n",
    "    def __str__(self):\n",
    "        return f\" Hello I am a student: {self.m1} {self.m2}\"\n",
    "    \n",
    "    \n",
    "    def __gt__(self,other):\n",
    "        sum_s1 = other.m1 + other.m2\n",
    "        sum_s2 = self.m1 + self.m2\n",
    "        if sum_s1 > sum_s2:return True\n",
    "        else:return False\n",
    "        \n",
    "        \n",
    "s1 = Student(80,90)\n",
    "s2 = Student(70,60)"
   ]
  },
  {
   "cell_type": "code",
   "execution_count": 60,
   "id": "90e4609b",
   "metadata": {},
   "outputs": [],
   "source": [
    "s4 = s1 + s2"
   ]
  },
  {
   "cell_type": "code",
   "execution_count": 63,
   "id": "638b5c92",
   "metadata": {},
   "outputs": [
    {
     "name": "stdout",
     "output_type": "stream",
     "text": [
      " Hello I am a student: 150 150\n",
      " Hello I am a student: 80 90\n",
      " Hello I am a student: 70 60\n"
     ]
    }
   ],
   "source": [
    "print(s4)\n",
    "print(s1)\n",
    "print(s2)"
   ]
  },
  {
   "cell_type": "code",
   "execution_count": 64,
   "id": "6ef323fc",
   "metadata": {},
   "outputs": [],
   "source": [
    "class Student:\n",
    "    def __init__(self, m):\n",
    "        self.m = m\n",
    "        \n",
    "    \n",
    "    def __add__(self,other):\n",
    "        new_m = self.m + other.m\n",
    "        #130       60      70\n",
    "        \n",
    "        newObj = Student(new_m)#130\n",
    "        return newObj\n",
    "    \n",
    "    def __str__(self):\n",
    "        return f\"{self.m}\"\n",
    "    \n",
    "    \n",
    "    def __gt__(self,other):\n",
    "        other = other.m \n",
    "        self = self.m \n",
    "        if self > other:return True\n",
    "        else:return False\n",
    "        \n",
    "        \n",
    "s1 = Student(60)\n",
    "s2 = Student(70)"
   ]
  },
  {
   "cell_type": "code",
   "execution_count": 65,
   "id": "145ef7cd",
   "metadata": {},
   "outputs": [
    {
     "name": "stdout",
     "output_type": "stream",
     "text": [
      "60\n",
      "70\n",
      "130\n"
     ]
    }
   ],
   "source": [
    "print(s1)\n",
    "print(s2)\n",
    "s3 = s1+s2\n",
    "print(se)"
   ]
  },
  {
   "cell_type": "code",
   "execution_count": 68,
   "id": "59abad6e",
   "metadata": {},
   "outputs": [
    {
     "name": "stdout",
     "output_type": "stream",
     "text": [
      "False\n"
     ]
    }
   ],
   "source": [
    "print(s1>s2)"
   ]
  },
  {
   "cell_type": "code",
   "execution_count": 69,
   "id": "0ab440a5",
   "metadata": {},
   "outputs": [
    {
     "name": "stdout",
     "output_type": "stream",
     "text": [
      "True\n"
     ]
    }
   ],
   "source": [
    "print(s2>s1)"
   ]
  },
  {
   "cell_type": "markdown",
   "id": "ff32e35d",
   "metadata": {},
   "source": [
    "# Abstraction \n",
    "   -- What is Abstraction in Python? Abstraction in python is defined as a process of handling complexity by hiding unnecessary information from the user. This is one of the core concepts of object-oriented programming (OOP) languages."
   ]
  },
  {
   "cell_type": "markdown",
   "id": "aad0b893",
   "metadata": {},
   "source": [
    "#### Abstract Class and Methods in Python\n",
    " - Python does not support Abstraction \n",
    " - we will use a module ABC for abstraction \n",
    " - ABC means Abstract Base Classes"
   ]
  },
  {
   "cell_type": "code",
   "execution_count": 1,
   "id": "41f8c4fe",
   "metadata": {},
   "outputs": [],
   "source": [
    "# A normal class and a normal method\n",
    "class Computer:\n",
    "    def process(self):\n",
    "        print('running')\n"
   ]
  },
  {
   "cell_type": "code",
   "execution_count": 3,
   "id": "f4ad5f98",
   "metadata": {},
   "outputs": [],
   "source": [
    "# A method that only has declaration but has nothing in it is method\n",
    "class Computer:\n",
    "    def process(self):\n",
    "        pass\n",
    "# A class having a methods that has no body"
   ]
  },
  {
   "cell_type": "raw",
   "id": "9bf90980",
   "metadata": {},
   "source": [
    "Hiding the implementation details of a method is called abstraction\n",
    "We can not create an object of abstract classes "
   ]
  },
  {
   "cell_type": "code",
   "execution_count": 4,
   "id": "e61118ea",
   "metadata": {},
   "outputs": [],
   "source": [
    "com1 = Computer()\n",
    "com1.process()\n",
    "\n",
    "# There is no error and we are able to create onject and call method \n",
    "# because its not an abstract class and not an abstract method."
   ]
  },
  {
   "cell_type": "code",
   "execution_count": 13,
   "id": "d66d6097",
   "metadata": {},
   "outputs": [],
   "source": [
    "class laptop:\n",
    "    def exeucation(self):\n",
    "        pass\n",
    "# A class having a method that has no body means it is abstraction here is not possible a abstraction in python without a ABC or \n",
    "# decorator @abstractmethod"
   ]
  },
  {
   "cell_type": "code",
   "execution_count": 11,
   "id": "30ad3fe1",
   "metadata": {},
   "outputs": [],
   "source": [
    "lap1=laptop()\n",
    "lap1.exeucation()\n",
    "# There is no error and we are able to create onject and call method \n",
    "# because its not an abstract class and not an abstract method. "
   ]
  },
  {
   "cell_type": "code",
   "execution_count": 12,
   "id": "fc32ca20",
   "metadata": {},
   "outputs": [],
   "source": [
    "lap1.exeucation()"
   ]
  },
  {
   "cell_type": "markdown",
   "id": "0eea1196",
   "metadata": {},
   "source": [
    "# For Abstraction\n",
    "### import ABC means Abstractiion based classes\n",
    "### we will use decorator @abstractmethod  to apply a abstraction\n",
    "#### It allows you to create a set of methods that must be created within any child classes built from the abstract class. A class that contains one or more abstract methods is called an abstract class. An abstract method is a method that has a declaration but does not have an implementation."
   ]
  },
  {
   "cell_type": "code",
   "execution_count": 5,
   "id": "ce0f6f88",
   "metadata": {},
   "outputs": [],
   "source": [
    "from abc import ABC , abstractmethod"
   ]
  },
  {
   "cell_type": "code",
   "execution_count": 11,
   "id": "56beef69",
   "metadata": {},
   "outputs": [],
   "source": [
    "class Computer(ABC):\n",
    "    @abstractmethod\n",
    "    def process(self):\n",
    "        pass\n",
    "    \n",
    "    @abstractmethod\n",
    "    def greet(self):\n",
    "        print(\"Hello\")\n",
    "#        To make a class abstract \n",
    "#           - It must inherit the ABC class from abc module\n",
    "#           - It must have atleast a abstract method (which is defined using a decorator @abstractmethod)\n",
    "    "
   ]
  },
  {
   "cell_type": "code",
   "execution_count": 12,
   "id": "e35a70d2",
   "metadata": {},
   "outputs": [
    {
     "ename": "TypeError",
     "evalue": "Can't instantiate abstract class Computer with abstract methods greet, process",
     "output_type": "error",
     "traceback": [
      "\u001b[1;31m---------------------------------------------------------------------------\u001b[0m",
      "\u001b[1;31mTypeError\u001b[0m                                 Traceback (most recent call last)",
      "Cell \u001b[1;32mIn[12], line 1\u001b[0m\n\u001b[1;32m----> 1\u001b[0m com1 \u001b[38;5;241m=\u001b[39m Computer()\n",
      "\u001b[1;31mTypeError\u001b[0m: Can't instantiate abstract class Computer with abstract methods greet, process"
     ]
    }
   ],
   "source": [
    "com1 = Computer()\n",
    "\n",
    "# We can not create the objects of abstract classes"
   ]
  },
  {
   "cell_type": "code",
   "execution_count": 15,
   "id": "75f3c03f",
   "metadata": {},
   "outputs": [
    {
     "ename": "TypeError",
     "evalue": "Can't instantiate abstract class Laptop with abstract method greet",
     "output_type": "error",
     "traceback": [
      "\u001b[1;31m---------------------------------------------------------------------------\u001b[0m",
      "\u001b[1;31mTypeError\u001b[0m                                 Traceback (most recent call last)",
      "Cell \u001b[1;32mIn[15], line 7\u001b[0m\n\u001b[0;32m      4\u001b[0m         \u001b[38;5;28mprint\u001b[39m(\u001b[38;5;124m\"\u001b[39m\u001b[38;5;124mIt is running\u001b[39m\u001b[38;5;124m\"\u001b[39m)\n\u001b[0;32m      5\u001b[0m \u001b[38;5;66;03m#     def greet(self):\u001b[39;00m\n\u001b[0;32m      6\u001b[0m \u001b[38;5;66;03m#         print(\"Salam\")\u001b[39;00m\n\u001b[1;32m----> 7\u001b[0m lap1 \u001b[38;5;241m=\u001b[39m Laptop()\n",
      "\u001b[1;31mTypeError\u001b[0m: Can't instantiate abstract class Laptop with abstract method greet"
     ]
    }
   ],
   "source": [
    "class Laptop(Computer):\n",
    "    \n",
    "    def process(self):\n",
    "        print(\"It is running\")\n",
    "#     def greet(self):\n",
    "#         print(\"Salam\")\n",
    "lap1 = Laptop()    "
   ]
  },
  {
   "cell_type": "raw",
   "id": "5b20e3e0",
   "metadata": {},
   "source": [
    "If we want to instantiate a drive class we must have to supply the implememtation of all the abstract methods of the abstract class. "
   ]
  },
  {
   "cell_type": "code",
   "execution_count": 34,
   "id": "6562e170",
   "metadata": {},
   "outputs": [],
   "source": [
    "from abc import ABC, abstractmethod"
   ]
  },
  {
   "cell_type": "code",
   "execution_count": 38,
   "id": "fc6850ff",
   "metadata": {},
   "outputs": [],
   "source": [
    "class Car(ABC):\n",
    "    @abstractmethod\n",
    "    def starting(self):\n",
    "        pass\n",
    "    \n",
    "    @abstractmethod\n",
    "    def speed(self):\n",
    "        print(\"Hello\")\n",
    "#        To make a class abstract \n",
    "#           - It must inherit the ABC class from abc module\n",
    "#           - It must have atleast a abstract method (which is defined using a decorator @abstractmethod)\n",
    "    "
   ]
  },
  {
   "cell_type": "code",
   "execution_count": 39,
   "id": "58291b8c",
   "metadata": {},
   "outputs": [],
   "source": [
    "# now we create a child class to see all the abstraction properties \n",
    "class ElectricCar(Car):\n",
    "    pass"
   ]
  },
  {
   "cell_type": "code",
   "execution_count": 41,
   "id": "f15a675d",
   "metadata": {},
   "outputs": [
    {
     "data": {
      "text/plain": [
       "[__main__.ElectricCar, __main__.Car, abc.ABC, object]"
      ]
     },
     "execution_count": 41,
     "metadata": {},
     "output_type": "execute_result"
    }
   ],
   "source": [
    "ElectricCar.mro()"
   ]
  },
  {
   "cell_type": "code",
   "execution_count": 43,
   "id": "32f48d31",
   "metadata": {},
   "outputs": [
    {
     "name": "stdout",
     "output_type": "stream",
     "text": [
      "Hello\n"
     ]
    }
   ],
   "source": [
    "ElectricCar.speed(car)"
   ]
  },
  {
   "cell_type": "code",
   "execution_count": 45,
   "id": "f4da114e",
   "metadata": {},
   "outputs": [],
   "source": [
    "ElectricCar.starting(car)"
   ]
  },
  {
   "cell_type": "code",
   "execution_count": 30,
   "id": "4e1e7e65",
   "metadata": {},
   "outputs": [
    {
     "name": "stdout",
     "output_type": "stream",
     "text": [
      "\n",
      "Welcome to Python 3.11's help utility!\n",
      "\n",
      "If this is your first time using Python, you should definitely check out\n",
      "the tutorial on the internet at https://docs.python.org/3.11/tutorial/.\n",
      "\n",
      "Enter the name of any module, keyword, or topic to get help on writing\n",
      "Python programs and using Python modules.  To quit this help utility and\n",
      "return to the interpreter, just type \"quit\".\n",
      "\n",
      "To get a list of available modules, keywords, symbols, or topics, type\n",
      "\"modules\", \"keywords\", \"symbols\", or \"topics\".  Each module also comes\n",
      "with a one-line summary of what it does; to list the modules whose name\n",
      "or summary contain a given string such as \"spam\", type \"modules spam\".\n",
      "\n",
      "help> abstraction\n"
     ]
    },
    {
     "ename": "ImportError",
     "evalue": "No Python documentation found for 'abstraction'.\nUse help() to get the interactive help utility.\nUse help(str) for help on the str class.",
     "output_type": "error",
     "traceback": [
      "\u001b[1;31m---------------------------------------------------------------------------\u001b[0m",
      "\u001b[1;31mImportError\u001b[0m                               Traceback (most recent call last)",
      "Cell \u001b[1;32mIn[30], line 1\u001b[0m\n\u001b[1;32m----> 1\u001b[0m help()\n",
      "File \u001b[1;32m<frozen _sitebuiltins>:103\u001b[0m, in \u001b[0;36m__call__\u001b[1;34m(self, *args, **kwds)\u001b[0m\n",
      "File \u001b[1;32m~\\.jupyter\\anaconda.installed\\Lib\\pydoc.py:2007\u001b[0m, in \u001b[0;36mHelper.__call__\u001b[1;34m(self, request)\u001b[0m\n\u001b[0;32m   2005\u001b[0m         \u001b[38;5;28;01melse\u001b[39;00m:\n\u001b[0;32m   2006\u001b[0m             \u001b[38;5;28mself\u001b[39m\u001b[38;5;241m.\u001b[39mintro()\n\u001b[1;32m-> 2007\u001b[0m             \u001b[38;5;28mself\u001b[39m\u001b[38;5;241m.\u001b[39minteract()\n\u001b[0;32m   2008\u001b[0m             \u001b[38;5;28mself\u001b[39m\u001b[38;5;241m.\u001b[39moutput\u001b[38;5;241m.\u001b[39mwrite(\u001b[38;5;124m'''\u001b[39m\n\u001b[0;32m   2009\u001b[0m \u001b[38;5;124mYou are now leaving help and returning to the Python interpreter.\u001b[39m\n\u001b[0;32m   2010\u001b[0m \u001b[38;5;124mIf you want to ask for help on a particular object directly from the\u001b[39m\n\u001b[0;32m   2011\u001b[0m \u001b[38;5;124minterpreter, you can type \u001b[39m\u001b[38;5;124m\"\u001b[39m\u001b[38;5;124mhelp(object)\u001b[39m\u001b[38;5;124m\"\u001b[39m\u001b[38;5;124m.  Executing \u001b[39m\u001b[38;5;124m\"\u001b[39m\u001b[38;5;124mhelp(\u001b[39m\u001b[38;5;124m'\u001b[39m\u001b[38;5;124mstring\u001b[39m\u001b[38;5;124m'\u001b[39m\u001b[38;5;124m)\u001b[39m\u001b[38;5;124m\"\u001b[39m\n\u001b[0;32m   2012\u001b[0m \u001b[38;5;124mhas the same effect as typing a particular string at the help> prompt.\u001b[39m\n\u001b[0;32m   2013\u001b[0m \u001b[38;5;124m'''\u001b[39m)\n",
      "File \u001b[1;32m~\\.jupyter\\anaconda.installed\\Lib\\pydoc.py:2034\u001b[0m, in \u001b[0;36mHelper.interact\u001b[1;34m(self)\u001b[0m\n\u001b[0;32m   2032\u001b[0m     \u001b[38;5;28mself\u001b[39m\u001b[38;5;241m.\u001b[39mintro()\n\u001b[0;32m   2033\u001b[0m \u001b[38;5;28;01melse\u001b[39;00m:\n\u001b[1;32m-> 2034\u001b[0m     \u001b[38;5;28mself\u001b[39m\u001b[38;5;241m.\u001b[39mhelp(request)\n",
      "File \u001b[1;32m~\\.jupyter\\anaconda.installed\\Lib\\pydoc.py:2060\u001b[0m, in \u001b[0;36mHelper.help\u001b[1;34m(self, request)\u001b[0m\n\u001b[0;32m   2058\u001b[0m     \u001b[38;5;28;01melif\u001b[39;00m request \u001b[38;5;129;01min\u001b[39;00m \u001b[38;5;28mself\u001b[39m\u001b[38;5;241m.\u001b[39mkeywords: \u001b[38;5;28mself\u001b[39m\u001b[38;5;241m.\u001b[39mshowtopic(request)\n\u001b[0;32m   2059\u001b[0m     \u001b[38;5;28;01melif\u001b[39;00m request \u001b[38;5;129;01min\u001b[39;00m \u001b[38;5;28mself\u001b[39m\u001b[38;5;241m.\u001b[39mtopics: \u001b[38;5;28mself\u001b[39m\u001b[38;5;241m.\u001b[39mshowtopic(request)\n\u001b[1;32m-> 2060\u001b[0m     \u001b[38;5;28;01melif\u001b[39;00m request: doc(request, \u001b[38;5;124m'\u001b[39m\u001b[38;5;124mHelp on \u001b[39m\u001b[38;5;132;01m%s\u001b[39;00m\u001b[38;5;124m:\u001b[39m\u001b[38;5;124m'\u001b[39m, output\u001b[38;5;241m=\u001b[39m\u001b[38;5;28mself\u001b[39m\u001b[38;5;241m.\u001b[39m_output)\n\u001b[0;32m   2061\u001b[0m     \u001b[38;5;28;01melse\u001b[39;00m: doc(\u001b[38;5;28mstr\u001b[39m, \u001b[38;5;124m'\u001b[39m\u001b[38;5;124mHelp on \u001b[39m\u001b[38;5;132;01m%s\u001b[39;00m\u001b[38;5;124m:\u001b[39m\u001b[38;5;124m'\u001b[39m, output\u001b[38;5;241m=\u001b[39m\u001b[38;5;28mself\u001b[39m\u001b[38;5;241m.\u001b[39m_output)\n\u001b[0;32m   2062\u001b[0m \u001b[38;5;28;01melif\u001b[39;00m \u001b[38;5;28misinstance\u001b[39m(request, Helper): \u001b[38;5;28mself\u001b[39m()\n",
      "File \u001b[1;32m~\\.jupyter\\anaconda.installed\\Lib\\pydoc.py:1784\u001b[0m, in \u001b[0;36mdoc\u001b[1;34m(thing, title, forceload, output)\u001b[0m\n\u001b[0;32m   1782\u001b[0m \u001b[38;5;250m\u001b[39m\u001b[38;5;124;03m\"\"\"Display text documentation, given an object or a path to an object.\"\"\"\u001b[39;00m\n\u001b[0;32m   1783\u001b[0m \u001b[38;5;28;01mif\u001b[39;00m output \u001b[38;5;129;01mis\u001b[39;00m \u001b[38;5;28;01mNone\u001b[39;00m:\n\u001b[1;32m-> 1784\u001b[0m     pager(render_doc(thing, title, forceload))\n\u001b[0;32m   1785\u001b[0m \u001b[38;5;28;01melse\u001b[39;00m:\n\u001b[0;32m   1786\u001b[0m     output\u001b[38;5;241m.\u001b[39mwrite(render_doc(thing, title, forceload, plaintext))\n",
      "File \u001b[1;32m~\\.jupyter\\anaconda.installed\\Lib\\pydoc.py:1758\u001b[0m, in \u001b[0;36mrender_doc\u001b[1;34m(thing, title, forceload, renderer)\u001b[0m\n\u001b[0;32m   1756\u001b[0m \u001b[38;5;28;01mif\u001b[39;00m renderer \u001b[38;5;129;01mis\u001b[39;00m \u001b[38;5;28;01mNone\u001b[39;00m:\n\u001b[0;32m   1757\u001b[0m     renderer \u001b[38;5;241m=\u001b[39m text\n\u001b[1;32m-> 1758\u001b[0m \u001b[38;5;28mobject\u001b[39m, name \u001b[38;5;241m=\u001b[39m resolve(thing, forceload)\n\u001b[0;32m   1759\u001b[0m desc \u001b[38;5;241m=\u001b[39m describe(\u001b[38;5;28mobject\u001b[39m)\n\u001b[0;32m   1760\u001b[0m module \u001b[38;5;241m=\u001b[39m inspect\u001b[38;5;241m.\u001b[39mgetmodule(\u001b[38;5;28mobject\u001b[39m)\n",
      "File \u001b[1;32m~\\.jupyter\\anaconda.installed\\Lib\\pydoc.py:1744\u001b[0m, in \u001b[0;36mresolve\u001b[1;34m(thing, forceload)\u001b[0m\n\u001b[0;32m   1742\u001b[0m         \u001b[38;5;28mobject\u001b[39m \u001b[38;5;241m=\u001b[39m locate(thing, forceload)\n\u001b[0;32m   1743\u001b[0m         \u001b[38;5;28;01mif\u001b[39;00m \u001b[38;5;28mobject\u001b[39m \u001b[38;5;129;01mis\u001b[39;00m \u001b[38;5;28;01mNone\u001b[39;00m:\n\u001b[1;32m-> 1744\u001b[0m             \u001b[38;5;28;01mraise\u001b[39;00m \u001b[38;5;167;01mImportError\u001b[39;00m(\u001b[38;5;124m'''\u001b[39m\u001b[38;5;130;01m\\\u001b[39;00m\n\u001b[0;32m   1745\u001b[0m \u001b[38;5;124mNo Python documentation found for \u001b[39m\u001b[38;5;132;01m%r\u001b[39;00m\u001b[38;5;124m.\u001b[39m\n\u001b[0;32m   1746\u001b[0m \u001b[38;5;124mUse help() to get the interactive help utility.\u001b[39m\n\u001b[0;32m   1747\u001b[0m \u001b[38;5;124mUse help(str) for help on the str class.\u001b[39m\u001b[38;5;124m'''\u001b[39m \u001b[38;5;241m%\u001b[39m thing)\n\u001b[0;32m   1748\u001b[0m         \u001b[38;5;28;01mreturn\u001b[39;00m \u001b[38;5;28mobject\u001b[39m, thing\n\u001b[0;32m   1749\u001b[0m     \u001b[38;5;28;01melse\u001b[39;00m:\n",
      "\u001b[1;31mImportError\u001b[0m: No Python documentation found for 'abstraction'.\nUse help() to get the interactive help utility.\nUse help(str) for help on the str class."
     ]
    }
   ],
   "source": [
    "help()"
   ]
  },
  {
   "cell_type": "markdown",
   "id": "1a72b031",
   "metadata": {},
   "source": [
    "#### What is the use this concept or functionality"
   ]
  },
  {
   "cell_type": "raw",
   "id": "26648101",
   "metadata": {},
   "source": [
    "Through abstraction we can provide a user an interface that only show the behaviour not the implmetation of that behaviour \n",
    "Like we show a user a computer that runs process and user can only see the name of behavoiur but there is no implementation in it. \n",
    "Implementation is done in child class "
   ]
  },
  {
   "cell_type": "code",
   "execution_count": 16,
   "id": "84d37f33",
   "metadata": {},
   "outputs": [
    {
     "name": "stdout",
     "output_type": "stream",
     "text": [
      "The mileage is 30kmph\n",
      "The mileage is 27kmph \n",
      "The mileage is 25kmph \n",
      "The mileage is 24kmph \n"
     ]
    }
   ],
   "source": [
    "from abc import ABC, abstractmethod   \n",
    "class Car(ABC):   \n",
    "    @abstractmethod\n",
    "    def mileage(self):   \n",
    "        pass  \n",
    "class Tesla(Car):   \n",
    "    def mileage(self):   \n",
    "        print(\"The mileage is 30kmph\")   \n",
    "class Suzuki(Car):   \n",
    "    def mileage(self):   \n",
    "        print(\"The mileage is 25kmph \")   \n",
    "class Duster(Car):   \n",
    "     def mileage(self):   \n",
    "        print(\"The mileage is 24kmph \")   \n",
    "class Renault(Car):   \n",
    "    def mileage(self):   \n",
    "            print(\"The mileage is 27kmph \")   \n",
    "# Driver code   \n",
    "t= Tesla ()   \n",
    "t.mileage()   \n",
    "  \n",
    "r = Renault()   \n",
    "r.mileage()   \n",
    "  \n",
    "s = Suzuki()   \n",
    "s.mileage()   \n",
    "d = Duster()   \n",
    "d.mileage()  "
   ]
  },
  {
   "cell_type": "code",
   "execution_count": 17,
   "id": "6c8b71f9",
   "metadata": {},
   "outputs": [
    {
     "name": "stdout",
     "output_type": "stream",
     "text": [
      "Triangle has 3 sides\n",
      "I have 4 sides\n",
      "Pentagon has 5 sides\n",
      "Hexagon has 6 sides\n"
     ]
    }
   ],
   "source": [
    "# Python program to define   \n",
    "# abstract class  \n",
    "  \n",
    "from abc import ABC  \n",
    "class Polygon(ABC):\n",
    "    # abstract method   \n",
    "    def sides(self):\n",
    "        pass  \n",
    "\n",
    "class Triangle(Polygon):\n",
    "    def sides(self):print(\"Triangle has 3 sides\")   \n",
    "class Pentagon(Polygon):\n",
    "    def sides(self):print(\"Pentagon has 5 sides\")   \n",
    "class Hexagon(Polygon):\n",
    "    def sides(self):print(\"Hexagon has 6 sides\")   \n",
    "class square(Polygon):\n",
    "    def sides(self):print(\"I have 4 sides\")   \n",
    "# Driver code   \n",
    "t = Triangle()   \n",
    "t.sides()   \n",
    "  \n",
    "s = square()   \n",
    "s.sides()   \n",
    "  \n",
    "p = Pentagon()   \n",
    "p.sides()   \n",
    "  \n",
    "k = Hexagon()   \n",
    "k.sides()"
   ]
  },
  {
   "cell_type": "markdown",
   "id": "9ff50b9a",
   "metadata": {},
   "source": [
    "# Python OOPs Public, Protected and Private "
   ]
  },
  {
   "cell_type": "raw",
   "id": "0c9868f6",
   "metadata": {},
   "source": [
    "Public private and protected functionalities are highly restricted (strongly typed) in most of the typed languages \n",
    "But in python you will not be restricted to access public private and protected variables, they can be overridden. "
   ]
  },
  {
   "cell_type": "markdown",
   "id": "4ab165ac",
   "metadata": {},
   "source": [
    "# Protected\n",
    "###  Protected means that the attribute/method can only be used in the class where it is defined or its subclasses.\n",
    "## For protection we use a single underscore ( _ )\n",
    "# Private \n",
    "### As a refresher, private means that the attribute/method can only be used inside the class where it is defined.\n",
    "## For private we use a double underscore ( __ )"
   ]
  },
  {
   "cell_type": "code",
   "execution_count": 61,
   "id": "551f57e0",
   "metadata": {},
   "outputs": [],
   "source": [
    "# All class ariables are public by defualt\n",
    "# All instance variables are public by default \n",
    "class Car():\n",
    "    # public class variable can be accessed from any where \n",
    "    wheels = 4\n",
    "    def __init__(self,windows, doors, enginetype):\n",
    "        \n",
    "        #Public instance Variable can be acceesed from anywhere \n",
    "        self.windows =windows\n",
    "        self.doors =doors\n",
    "        self.enginetype =enginetype"
   ]
  },
  {
   "cell_type": "code",
   "execution_count": 62,
   "id": "76da6b91",
   "metadata": {},
   "outputs": [
    {
     "data": {
      "text/plain": [
       "['__class__',\n",
       " '__delattr__',\n",
       " '__dict__',\n",
       " '__dir__',\n",
       " '__doc__',\n",
       " '__eq__',\n",
       " '__format__',\n",
       " '__ge__',\n",
       " '__getattribute__',\n",
       " '__getstate__',\n",
       " '__gt__',\n",
       " '__hash__',\n",
       " '__init__',\n",
       " '__init_subclass__',\n",
       " '__le__',\n",
       " '__lt__',\n",
       " '__module__',\n",
       " '__ne__',\n",
       " '__new__',\n",
       " '__reduce__',\n",
       " '__reduce_ex__',\n",
       " '__repr__',\n",
       " '__setattr__',\n",
       " '__sizeof__',\n",
       " '__str__',\n",
       " '__subclasshook__',\n",
       " '__weakref__',\n",
       " 'doors',\n",
       " 'enginetype',\n",
       " 'wheels',\n",
       " 'windows']"
      ]
     },
     "execution_count": 62,
     "metadata": {},
     "output_type": "execute_result"
    }
   ],
   "source": [
    "audi = Car(4,5,\"Diesel\")\n",
    "\n",
    "# you can view the dir of audi object to check the aceessible item to it\n",
    "# you will notice all three instance vairbbles are present in the list\n",
    "dir(audi)"
   ]
  },
  {
   "cell_type": "code",
   "execution_count": 63,
   "id": "82ed2b8d",
   "metadata": {},
   "outputs": [
    {
     "data": {
      "text/plain": [
       "['__class__',\n",
       " '__delattr__',\n",
       " '__dict__',\n",
       " '__dir__',\n",
       " '__doc__',\n",
       " '__eq__',\n",
       " '__format__',\n",
       " '__ge__',\n",
       " '__getattribute__',\n",
       " '__getstate__',\n",
       " '__gt__',\n",
       " '__hash__',\n",
       " '__init__',\n",
       " '__init_subclass__',\n",
       " '__le__',\n",
       " '__lt__',\n",
       " '__module__',\n",
       " '__ne__',\n",
       " '__new__',\n",
       " '__reduce__',\n",
       " '__reduce_ex__',\n",
       " '__repr__',\n",
       " '__setattr__',\n",
       " '__sizeof__',\n",
       " '__str__',\n",
       " '__subclasshook__',\n",
       " '__weakref__',\n",
       " 'doors',\n",
       " 'enginetype',\n",
       " 'hp',\n",
       " 'wheels',\n",
       " 'windows']"
      ]
     },
     "execution_count": 63,
     "metadata": {},
     "output_type": "execute_result"
    }
   ],
   "source": [
    "class Suzuki(Car):\n",
    "    def __init__(self,windows,doors,enginetype, hp):\n",
    "        super().__init__(windows,doors,enginetype)\n",
    "        self.hp = hp\n",
    "suz = Suzuki(4,4,\"Petrol\",\"1600\")\n",
    "\n",
    "# you will notice public variables are all accessible to child class also\n",
    "dir(suz)"
   ]
  },
  {
   "cell_type": "markdown",
   "id": "f880b3b5",
   "metadata": {},
   "source": [
    "#### Proof of concept"
   ]
  },
  {
   "cell_type": "code",
   "execution_count": 64,
   "id": "52eee2a8",
   "metadata": {},
   "outputs": [
    {
     "name": "stdout",
     "output_type": "stream",
     "text": [
      "4\n",
      "6\n"
     ]
    }
   ],
   "source": [
    "#public variable can be accessed \n",
    "\n",
    "print(audi.windows)\n",
    "\n",
    "# public variable can be modified \n",
    "audi.windows= 6\n",
    "# accessing modified value\n",
    "print(audi.windows)"
   ]
  },
  {
   "cell_type": "code",
   "execution_count": 65,
   "id": "9cff43eb",
   "metadata": {},
   "outputs": [
    {
     "data": {
      "text/plain": [
       "['__class__',\n",
       " '__delattr__',\n",
       " '__dict__',\n",
       " '__dir__',\n",
       " '__doc__',\n",
       " '__eq__',\n",
       " '__format__',\n",
       " '__ge__',\n",
       " '__getattribute__',\n",
       " '__getstate__',\n",
       " '__gt__',\n",
       " '__hash__',\n",
       " '__init__',\n",
       " '__init_subclass__',\n",
       " '__le__',\n",
       " '__lt__',\n",
       " '__module__',\n",
       " '__ne__',\n",
       " '__new__',\n",
       " '__reduce__',\n",
       " '__reduce_ex__',\n",
       " '__repr__',\n",
       " '__setattr__',\n",
       " '__sizeof__',\n",
       " '__str__',\n",
       " '__subclasshook__',\n",
       " '__weakref__',\n",
       " '_doors',\n",
       " '_enginetype',\n",
       " '_windows',\n",
       " 'hello',\n",
       " 'hp']"
      ]
     },
     "execution_count": 65,
     "metadata": {},
     "output_type": "execute_result"
    }
   ],
   "source": [
    "# to make a variable protected use a single underscore before a variable name like _name = \"Asad\"\n",
    "class Car():\n",
    "    def __init__(self,windows, doors, enginetype):\n",
    "        \n",
    "        #Protected variables: should be acceesed from a sub class only by definition but python has no restriction it can also be accessed from any where\n",
    "        # but python dont restrict actually\n",
    "        self._windows =windows\n",
    "        self._doors =doors\n",
    "        self._enginetype =enginetype\n",
    "        self.hello = \"heooooooo\"\n",
    "        \n",
    "\n",
    "audi = Car(4,5,\"Diesel\")\n",
    "dir(audi)\n",
    "\n",
    "class Suzuki(Car):\n",
    "    def __init__(self,windows,doors,enginetype, hp):\n",
    "        super().__init__(windows,doors,enginetype)\n",
    "        self.hp = hp\n",
    "suz = Suzuki(4,4,\"Petrol\",\"1600\")\n",
    "\n",
    "dir(suz)"
   ]
  },
  {
   "cell_type": "code",
   "execution_count": null,
   "id": "a7cc44e2",
   "metadata": {},
   "outputs": [],
   "source": [
    "audi.hello"
   ]
  },
  {
   "cell_type": "code",
   "execution_count": null,
   "id": "defeff20",
   "metadata": {},
   "outputs": [],
   "source": [
    "audi._windows = 10"
   ]
  },
  {
   "cell_type": "code",
   "execution_count": null,
   "id": "f3afb042",
   "metadata": {},
   "outputs": [],
   "source": [
    "audi._windows"
   ]
  },
  {
   "cell_type": "code",
   "execution_count": 66,
   "id": "bcdae0cb",
   "metadata": {},
   "outputs": [],
   "source": [
    "class Car():\n",
    "    def __init__(self,windows, doors, enginetype):\n",
    "        \n",
    "        #Private Variable can not be acceesed from anywhere \n",
    "        self.__windows =windows\n",
    "        self.__doors =doors\n",
    "        self.__enginetype =enginetype\n",
    "#         self.name = \"Nasir\"\n",
    "audi = Car(4,5,\"Diesel\")"
   ]
  },
  {
   "cell_type": "code",
   "execution_count": null,
   "id": "a5866b90",
   "metadata": {},
   "outputs": [],
   "source": []
  },
  {
   "cell_type": "code",
   "execution_count": null,
   "id": "376d6e1d",
   "metadata": {},
   "outputs": [],
   "source": []
  },
  {
   "cell_type": "code",
   "execution_count": null,
   "id": "b665390b",
   "metadata": {},
   "outputs": [],
   "source": []
  }
 ],
 "metadata": {
  "kernelspec": {
   "display_name": "Python 3 (ipykernel)",
   "language": "python",
   "name": "python3"
  },
  "language_info": {
   "codemirror_mode": {
    "name": "ipython",
    "version": 3
   },
   "file_extension": ".py",
   "mimetype": "text/x-python",
   "name": "python",
   "nbconvert_exporter": "python",
   "pygments_lexer": "ipython3",
   "version": "3.11.4"
  }
 },
 "nbformat": 4,
 "nbformat_minor": 5
}
