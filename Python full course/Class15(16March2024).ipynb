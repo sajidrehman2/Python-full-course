{
 "cells": [
  {
   "cell_type": "markdown",
   "id": "ac488240",
   "metadata": {},
   "source": [
    "# What is a function?\n",
    "        - A block of code, to do a specific task, which can be called as many times as needed\n",
    "        - code resuable\n",
    "       "
   ]
  },
  {
   "cell_type": "code",
   "execution_count": 1,
   "id": "774bb5bf",
   "metadata": {},
   "outputs": [],
   "source": [
    "# function define\n",
    "def greetings():\n",
    "    print(\"Ramazan Mubarak!\")  "
   ]
  },
  {
   "cell_type": "code",
   "execution_count": 2,
   "id": "62c25e42",
   "metadata": {},
   "outputs": [
    {
     "name": "stdout",
     "output_type": "stream",
     "text": [
      "Ramazan Mubarak!\n"
     ]
    }
   ],
   "source": [
    "greetings()"
   ]
  },
  {
   "cell_type": "code",
   "execution_count": 3,
   "id": "d2cbc231",
   "metadata": {},
   "outputs": [
    {
     "name": "stdout",
     "output_type": "stream",
     "text": [
      "Ramazan Mubarak!\n"
     ]
    }
   ],
   "source": [
    "greetings()"
   ]
  },
  {
   "cell_type": "code",
   "execution_count": 4,
   "id": "986422fa",
   "metadata": {},
   "outputs": [
    {
     "name": "stdout",
     "output_type": "stream",
     "text": [
      "Ramazan Mubarak!\n"
     ]
    }
   ],
   "source": [
    "greetings()"
   ]
  },
  {
   "cell_type": "code",
   "execution_count": 5,
   "id": "58ed6b94",
   "metadata": {},
   "outputs": [
    {
     "name": "stdout",
     "output_type": "stream",
     "text": [
      "Ramazan Mubarak!\n"
     ]
    }
   ],
   "source": [
    "greetings()"
   ]
  },
  {
   "cell_type": "code",
   "execution_count": 6,
   "id": "d835f641",
   "metadata": {},
   "outputs": [
    {
     "name": "stdout",
     "output_type": "stream",
     "text": [
      "Ramazan Mubarak!\n"
     ]
    }
   ],
   "source": [
    "greetings()"
   ]
  },
  {
   "cell_type": "code",
   "execution_count": 7,
   "id": "ea515caf",
   "metadata": {},
   "outputs": [],
   "source": [
    "def greetings(name):# paramemter\n",
    "    print(f\"{name} apko Ramazan Mubarak!\")"
   ]
  },
  {
   "cell_type": "code",
   "execution_count": 8,
   "id": "0c9b76a3",
   "metadata": {},
   "outputs": [
    {
     "name": "stdout",
     "output_type": "stream",
     "text": [
      "Ali apko Ramazan Mubarak!\n",
      "Kamil apko Ramazan Mubarak!\n",
      "Asad apko Ramazan Mubarak!\n"
     ]
    }
   ],
   "source": [
    "greetings('Ali')# arguments\n",
    "greetings('Kamil')\n",
    "greetings('Asad')"
   ]
  },
  {
   "cell_type": "code",
   "execution_count": 9,
   "id": "0aa84fc2",
   "metadata": {},
   "outputs": [],
   "source": [
    "def add():\n",
    "    print(2+4)"
   ]
  },
  {
   "cell_type": "code",
   "execution_count": 10,
   "id": "d9a37d8e",
   "metadata": {},
   "outputs": [
    {
     "name": "stdout",
     "output_type": "stream",
     "text": [
      "6\n"
     ]
    }
   ],
   "source": [
    "add()"
   ]
  },
  {
   "cell_type": "code",
   "execution_count": 11,
   "id": "314f7c12",
   "metadata": {},
   "outputs": [
    {
     "name": "stdout",
     "output_type": "stream",
     "text": [
      "6\n"
     ]
    }
   ],
   "source": [
    "add()"
   ]
  },
  {
   "cell_type": "code",
   "execution_count": 12,
   "id": "9009a844",
   "metadata": {},
   "outputs": [
    {
     "name": "stdout",
     "output_type": "stream",
     "text": [
      "6\n"
     ]
    }
   ],
   "source": [
    "add()"
   ]
  },
  {
   "cell_type": "code",
   "execution_count": 13,
   "id": "1d8892ba",
   "metadata": {},
   "outputs": [],
   "source": [
    "def add(v1,v2):\n",
    "    print(v1+v2)"
   ]
  },
  {
   "cell_type": "code",
   "execution_count": 14,
   "id": "f7c069db",
   "metadata": {},
   "outputs": [
    {
     "name": "stdout",
     "output_type": "stream",
     "text": [
      "50\n"
     ]
    }
   ],
   "source": [
    "add(20,30)"
   ]
  },
  {
   "cell_type": "code",
   "execution_count": 15,
   "id": "7f06cfbd",
   "metadata": {},
   "outputs": [
    {
     "name": "stdout",
     "output_type": "stream",
     "text": [
      "8\n"
     ]
    }
   ],
   "source": [
    "add(3,5)"
   ]
  },
  {
   "cell_type": "code",
   "execution_count": 16,
   "id": "b0379dcd",
   "metadata": {},
   "outputs": [
    {
     "name": "stdout",
     "output_type": "stream",
     "text": [
      "9\n"
     ]
    }
   ],
   "source": [
    "add(4,5)"
   ]
  },
  {
   "cell_type": "code",
   "execution_count": 17,
   "id": "69918f57",
   "metadata": {},
   "outputs": [],
   "source": [
    "def add(v1,v2):\n",
    "    # local\n",
    "    res = v1+v2\n",
    "    return res  # get the value out of function"
   ]
  },
  {
   "cell_type": "code",
   "execution_count": 18,
   "id": "b8b11ecd",
   "metadata": {},
   "outputs": [
    {
     "data": {
      "text/plain": [
       "6"
      ]
     },
     "execution_count": 18,
     "metadata": {},
     "output_type": "execute_result"
    }
   ],
   "source": [
    "newres = add(2,4)\n",
    "newres"
   ]
  },
  {
   "cell_type": "code",
   "execution_count": 19,
   "id": "86af1985",
   "metadata": {},
   "outputs": [
    {
     "name": "stdout",
     "output_type": "stream",
     "text": [
      "6\n"
     ]
    }
   ],
   "source": [
    "print(newres)"
   ]
  },
  {
   "cell_type": "code",
   "execution_count": 20,
   "id": "c01a00b8",
   "metadata": {},
   "outputs": [],
   "source": [
    "def check_generation(age):\n",
    "    if age >60:\n",
    "        print(\"Old\")\n",
    "    elif age >40:\n",
    "        print(\"Man\")\n",
    "    else:\n",
    "        print(\"Young\")"
   ]
  },
  {
   "cell_type": "code",
   "execution_count": 21,
   "id": "462032ed",
   "metadata": {},
   "outputs": [
    {
     "name": "stdout",
     "output_type": "stream",
     "text": [
      "Young\n"
     ]
    }
   ],
   "source": [
    "check_generation(1)"
   ]
  },
  {
   "cell_type": "code",
   "execution_count": 22,
   "id": "885a021c",
   "metadata": {},
   "outputs": [
    {
     "name": "stdout",
     "output_type": "stream",
     "text": [
      "Young\n"
     ]
    }
   ],
   "source": [
    "check_generation(25)"
   ]
  },
  {
   "cell_type": "code",
   "execution_count": 23,
   "id": "56ddf641",
   "metadata": {},
   "outputs": [
    {
     "name": "stdout",
     "output_type": "stream",
     "text": [
      "Man\n"
     ]
    }
   ],
   "source": [
    "check_generation(45)"
   ]
  },
  {
   "cell_type": "code",
   "execution_count": 24,
   "id": "21554f85",
   "metadata": {},
   "outputs": [
    {
     "name": "stdout",
     "output_type": "stream",
     "text": [
      "Old\n"
     ]
    }
   ],
   "source": [
    "check_generation(65)"
   ]
  },
  {
   "cell_type": "code",
   "execution_count": 25,
   "id": "38d97f31",
   "metadata": {},
   "outputs": [],
   "source": [
    "def taxcalculator(annual_income):\n",
    "    tax_amt=0\n",
    "    if annual_income >5000000:\n",
    "        tax_amt = annual_income*.20\n",
    "    elif annual_income> 4000000:\n",
    "        tax_amt = annual_income*.15       \n",
    "    elif annual_income>2500000:\n",
    "        tax_amt = annual_income*.10        \n",
    "    elif annual_income>1000000:\n",
    "        tax_amt = annual_income*.075\n",
    "        \n",
    "    else:\n",
    "        tax_amt = annual_income*.05\n",
    "        \n",
    "    print(f\"Annual income is {annual_income} tax_amt is {tax_amt}\")"
   ]
  },
  {
   "cell_type": "code",
   "execution_count": 26,
   "id": "9b108991",
   "metadata": {},
   "outputs": [
    {
     "name": "stdout",
     "output_type": "stream",
     "text": [
      "Annual income is 2300000 tax_amt is 172500.0\n"
     ]
    }
   ],
   "source": [
    "taxcalculator(2300000)"
   ]
  },
  {
   "cell_type": "code",
   "execution_count": 27,
   "id": "4a795880",
   "metadata": {},
   "outputs": [
    {
     "data": {
      "text/plain": [
       "8"
      ]
     },
     "execution_count": 27,
     "metadata": {},
     "output_type": "execute_result"
    }
   ],
   "source": [
    "# wrtie a function that print the max in given list\n",
    "# but dont use built in max functon to find the max value in a list\n",
    "\n",
    "max([2,4,5,6,7,8])    #dont"
   ]
  },
  {
   "cell_type": "code",
   "execution_count": 28,
   "id": "4896afc3",
   "metadata": {},
   "outputs": [],
   "source": [
    "def maxfinder(lst):\n",
    "    mx= lst[0]\n",
    "    for a in lst:\n",
    "        if a > mx:\n",
    "            mx=a\n",
    "    return mx   "
   ]
  },
  {
   "cell_type": "code",
   "execution_count": 29,
   "id": "b536f53f",
   "metadata": {},
   "outputs": [
    {
     "data": {
      "text/plain": [
       "90"
      ]
     },
     "execution_count": 29,
     "metadata": {},
     "output_type": "execute_result"
    }
   ],
   "source": [
    "maxfinder([34,54,56,23,21,78,87,90,1,3,78,45])"
   ]
  },
  {
   "cell_type": "code",
   "execution_count": 30,
   "id": "5400676c",
   "metadata": {},
   "outputs": [],
   "source": [
    "def minfinder(lst):\n",
    "    mn= lst[0]\n",
    "    for a in lst:\n",
    "        if a < mn:\n",
    "            mn=a\n",
    "    return mn   "
   ]
  },
  {
   "cell_type": "code",
   "execution_count": 31,
   "id": "665c3bb3",
   "metadata": {},
   "outputs": [
    {
     "data": {
      "text/plain": [
       "1"
      ]
     },
     "execution_count": 31,
     "metadata": {},
     "output_type": "execute_result"
    }
   ],
   "source": [
    "minfinder([34,54,56,23,21,78,87,90,1,3,78,45])"
   ]
  },
  {
   "cell_type": "code",
   "execution_count": 32,
   "id": "2c99b7c4",
   "metadata": {},
   "outputs": [],
   "source": [
    "def average(lst):\n",
    "    tot=0\n",
    "    length = 0\n",
    "    for a in lst:\n",
    "        tot +=a\n",
    "        length +=1\n",
    "    return tot/length       "
   ]
  },
  {
   "cell_type": "code",
   "execution_count": 33,
   "id": "503712c2",
   "metadata": {},
   "outputs": [
    {
     "data": {
      "text/plain": [
       "47.5"
      ]
     },
     "execution_count": 33,
     "metadata": {},
     "output_type": "execute_result"
    }
   ],
   "source": [
    "average([34,54,56,23,21,78,87,90,1,3,78,45])"
   ]
  },
  {
   "cell_type": "code",
   "execution_count": 34,
   "id": "02020f76",
   "metadata": {},
   "outputs": [
    {
     "name": "stdout",
     "output_type": "stream",
     "text": [
      "0 34\n",
      "1 54\n",
      "2 56\n",
      "3 23\n",
      "4 21\n",
      "5 78\n",
      "6 87\n",
      "7 90\n",
      "8 1\n",
      "9 3\n",
      "10 78\n",
      "11 45\n"
     ]
    },
    {
     "data": {
      "text/plain": [
       "11"
      ]
     },
     "execution_count": 34,
     "metadata": {},
     "output_type": "execute_result"
    }
   ],
   "source": [
    "for e,a in enumerate([34,54,56,23,21,78,87,90,1,3,78,45]):\n",
    "    print(e,a)\n",
    "e"
   ]
  },
  {
   "cell_type": "code",
   "execution_count": 35,
   "id": "2b5a3e9e",
   "metadata": {},
   "outputs": [],
   "source": [
    "def average(lst):\n",
    "    tot=0\n",
    "    \n",
    "    for e,a in enumerate(lst):\n",
    "        tot +=a\n",
    "        \n",
    "    return tot/(e+1)"
   ]
  },
  {
   "cell_type": "code",
   "execution_count": 36,
   "id": "6d695130",
   "metadata": {},
   "outputs": [
    {
     "data": {
      "text/plain": [
       "47.5"
      ]
     },
     "execution_count": 36,
     "metadata": {},
     "output_type": "execute_result"
    }
   ],
   "source": [
    "average([34,54,56,23,21,78,87,90,1,3,78,45])"
   ]
  },
  {
   "attachments": {
    "image.png": {
     "image/png": "[encoded data removed]"
    }
   },
   "cell_type": "markdown",
   "id": "e6d234b1",
   "metadata": {},
   "source": [
    "![image.png](attachment:image.png)"
   ]
  },
  {
   "cell_type": "code",
   "execution_count": 37,
   "id": "999ad522",
   "metadata": {},
   "outputs": [],
   "source": [
    "def standarddeviation(lst):\n",
    "    N = len(lst)\n",
    "    meo =average(lst)\n",
    "    diff = 0\n",
    "    for x in lst:\n",
    "        diff += (x-meo)**2\n",
    "    return (diff/N)**(1/2)"
   ]
  },
  {
   "cell_type": "code",
   "execution_count": 38,
   "id": "74b4ded6",
   "metadata": {},
   "outputs": [
    {
     "data": {
      "text/plain": [
       "30.242078852706758"
      ]
     },
     "execution_count": 38,
     "metadata": {},
     "output_type": "execute_result"
    }
   ],
   "source": [
    "standarddeviation([34,54,56,23,21,78,87,90,1,3,78,45])"
   ]
  },
  {
   "cell_type": "markdown",
   "id": "cbaaa5a5",
   "metadata": {},
   "source": [
    "# I/O File Read Write "
   ]
  },
  {
   "cell_type": "code",
   "execution_count": 41,
   "id": "425737a0",
   "metadata": {},
   "outputs": [
    {
     "name": "stdout",
     "output_type": "stream",
     "text": [
      "\n"
     ]
    }
   ],
   "source": [
    "f = open(\"assigment.txt\",'r')\n",
    "content = f.read()\n",
    "print(content)"
   ]
  },
  {
   "cell_type": "code",
   "execution_count": 40,
   "id": "7fa63bc0",
   "metadata": {},
   "outputs": [
    {
     "ename": "NameError",
     "evalue": "name 'f' is not defined",
     "output_type": "error",
     "traceback": [
      "\u001b[1;31m---------------------------------------------------------------------------\u001b[0m",
      "\u001b[1;31mNameError\u001b[0m                                 Traceback (most recent call last)",
      "Cell \u001b[1;32mIn[40], line 1\u001b[0m\n\u001b[1;32m----> 1\u001b[0m f\u001b[38;5;241m.\u001b[39mseek(\u001b[38;5;241m0\u001b[39m)\n\u001b[0;32m      2\u001b[0m \u001b[38;5;28mprint\u001b[39m(f\u001b[38;5;241m.\u001b[39mread())\n\u001b[0;32m      3\u001b[0m f\u001b[38;5;241m.\u001b[39mclose()\n",
      "\u001b[1;31mNameError\u001b[0m: name 'f' is not defined"
     ]
    }
   ],
   "source": [
    "f.seek(0)\n",
    "print(f.read())\n",
    "f.close()\n",
    "f.read()"
   ]
  },
  {
   "cell_type": "code",
   "execution_count": 10,
   "id": "24707a91",
   "metadata": {},
   "outputs": [
    {
     "name": "stdout",
     "output_type": "stream",
     "text": [
      "---------------------------------------------------------------------------\n",
      "NameError                                 Traceback (most recent call last)\n",
      "Cell In[2], line 1\n",
      "----> 1 standarddeviation([34,54,56,23,21,78,87,90,1,3,78,45])\n",
      "\n",
      "NameError: name 'standarddeviation' is not defined\n",
      "\n"
     ]
    }
   ],
   "source": [
    "with open('error.txt') as f:\n",
    "    content = f.read()\n",
    "    print(content)\n"
   ]
  },
  {
   "cell_type": "code",
   "execution_count": 17,
   "id": "c3fa0412",
   "metadata": {},
   "outputs": [
    {
     "name": "stdout",
     "output_type": "stream",
     "text": [
      "The file you are looking for is not available\n"
     ]
    }
   ],
   "source": [
    "\n",
    "try:\n",
    "    with open('error1.txt') as f:\n",
    "        content = f.read()\n",
    "        print(content)\n",
    "except FileNotFoundError:\n",
    "    print(\"The file you are looking for is not available\")"
   ]
  },
  {
   "cell_type": "code",
   "execution_count": null,
   "id": "6342bb79",
   "metadata": {},
   "outputs": [],
   "source": []
  }
 ],
 "metadata": {
  "kernelspec": {
   "display_name": "Python 3 (ipykernel)",
   "language": "python",
   "name": "python3"
  },
  "language_info": {
   "codemirror_mode": {
    "name": "ipython",
    "version": 3
   },
   "file_extension": ".py",
   "mimetype": "text/x-python",
   "name": "python",
   "nbconvert_exporter": "python",
   "pygments_lexer": "ipython3",
   "version": "3.11.4"
  }
 },
 "nbformat": 4,
 "nbformat_minor": 5
}
