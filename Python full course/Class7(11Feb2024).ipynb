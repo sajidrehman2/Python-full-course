{
 "cells": [
  {
   "cell_type": "markdown",
   "id": "b19de86a",
   "metadata": {},
   "source": [
    "# Set\n",
    "-  represented by {value}\n",
    "- unique"
   ]
  },
  {
   "cell_type": "code",
   "execution_count": 6,
   "id": "200046cb",
   "metadata": {},
   "outputs": [],
   "source": [
    "aset = {1,2,1,1,3,4,5}"
   ]
  },
  {
   "cell_type": "code",
   "execution_count": 7,
   "id": "073e84e7",
   "metadata": {},
   "outputs": [
    {
     "data": {
      "text/plain": [
       "set"
      ]
     },
     "execution_count": 7,
     "metadata": {},
     "output_type": "execute_result"
    }
   ],
   "source": [
    "type(aset)"
   ]
  },
  {
   "cell_type": "code",
   "execution_count": 9,
   "id": "c5780145",
   "metadata": {},
   "outputs": [
    {
     "data": {
      "text/plain": [
       "{1, 2, 3, 4, 5}"
      ]
     },
     "execution_count": 9,
     "metadata": {},
     "output_type": "execute_result"
    }
   ],
   "source": [
    "aset"
   ]
  },
  {
   "cell_type": "markdown",
   "id": "caa40df1",
   "metadata": {},
   "source": [
    "# Tuple"
   ]
  },
  {
   "cell_type": "code",
   "execution_count": 10,
   "id": "381674de",
   "metadata": {},
   "outputs": [],
   "source": [
    "fruits = 'apples'"
   ]
  },
  {
   "cell_type": "code",
   "execution_count": 11,
   "id": "415341d1",
   "metadata": {},
   "outputs": [],
   "source": [
    "fruits = 'apples', 'oranges'    # packing "
   ]
  },
  {
   "cell_type": "code",
   "execution_count": 12,
   "id": "fc9b69ca",
   "metadata": {},
   "outputs": [
    {
     "data": {
      "text/plain": [
       "('apples', 'oranges')"
      ]
     },
     "execution_count": 12,
     "metadata": {},
     "output_type": "execute_result"
    }
   ],
   "source": [
    "fruits"
   ]
  },
  {
   "cell_type": "code",
   "execution_count": 14,
   "id": "514485a5",
   "metadata": {},
   "outputs": [],
   "source": [
    "counts  = (12,24,6,12)"
   ]
  },
  {
   "cell_type": "code",
   "execution_count": 15,
   "id": "bea56499",
   "metadata": {},
   "outputs": [
    {
     "data": {
      "text/plain": [
       "(12, 24, 6, 12)"
      ]
     },
     "execution_count": 15,
     "metadata": {},
     "output_type": "execute_result"
    }
   ],
   "source": [
    "counts"
   ]
  },
  {
   "cell_type": "code",
   "execution_count": 16,
   "id": "4481fd2e",
   "metadata": {},
   "outputs": [],
   "source": [
    "apples,oranges, eggs, bananas = counts # unpacking"
   ]
  },
  {
   "cell_type": "code",
   "execution_count": 17,
   "id": "d33a891e",
   "metadata": {},
   "outputs": [
    {
     "data": {
      "text/plain": [
       "12"
      ]
     },
     "execution_count": 17,
     "metadata": {},
     "output_type": "execute_result"
    }
   ],
   "source": [
    "apples"
   ]
  },
  {
   "cell_type": "code",
   "execution_count": 18,
   "id": "b899adc8",
   "metadata": {},
   "outputs": [
    {
     "data": {
      "text/plain": [
       "24"
      ]
     },
     "execution_count": 18,
     "metadata": {},
     "output_type": "execute_result"
    }
   ],
   "source": [
    "oranges"
   ]
  },
  {
   "cell_type": "code",
   "execution_count": 20,
   "id": "1275425e",
   "metadata": {},
   "outputs": [
    {
     "data": {
      "text/plain": [
       "6"
      ]
     },
     "execution_count": 20,
     "metadata": {},
     "output_type": "execute_result"
    }
   ],
   "source": [
    "eggs"
   ]
  },
  {
   "cell_type": "code",
   "execution_count": 21,
   "id": "052b53e9",
   "metadata": {},
   "outputs": [
    {
     "data": {
      "text/plain": [
       "12"
      ]
     },
     "execution_count": 21,
     "metadata": {},
     "output_type": "execute_result"
    }
   ],
   "source": [
    "bananas"
   ]
  },
  {
   "cell_type": "code",
   "execution_count": 22,
   "id": "9212a1ae",
   "metadata": {},
   "outputs": [],
   "source": [
    "alist = ['laptops', 'mobilephone']"
   ]
  },
  {
   "cell_type": "code",
   "execution_count": 23,
   "id": "b3c2c7cf",
   "metadata": {},
   "outputs": [],
   "source": [
    "a,b = alist"
   ]
  },
  {
   "cell_type": "code",
   "execution_count": 24,
   "id": "8906555a",
   "metadata": {},
   "outputs": [
    {
     "data": {
      "text/plain": [
       "'laptops'"
      ]
     },
     "execution_count": 24,
     "metadata": {},
     "output_type": "execute_result"
    }
   ],
   "source": [
    "a"
   ]
  },
  {
   "cell_type": "code",
   "execution_count": 25,
   "id": "ee0a3fa7",
   "metadata": {},
   "outputs": [
    {
     "data": {
      "text/plain": [
       "'mobilephone'"
      ]
     },
     "execution_count": 25,
     "metadata": {},
     "output_type": "execute_result"
    }
   ],
   "source": [
    "b"
   ]
  },
  {
   "cell_type": "code",
   "execution_count": 29,
   "id": "1d547519",
   "metadata": {},
   "outputs": [
    {
     "name": "stdout",
     "output_type": "stream",
     "text": [
      "Asadullah\n",
      "Asadullah\n",
      "Asadullah\n",
      "Asadullah\n",
      "Asadullah\n",
      "Asadullah\n",
      "Asadullah\n",
      "Asadullah\n",
      "Asadullah\n",
      "Asadullah\n"
     ]
    }
   ],
   "source": [
    "# write your name ten thousands times\n",
    "print(\"Asadullah\")\n",
    "print(\"Asadullah\")\n",
    "print(\"Asadullah\")\n",
    "print(\"Asadullah\")\n",
    "print(\"Asadullah\")\n",
    "print(\"Asadullah\")\n",
    "print(\"Asadullah\")\n",
    "print(\"Asadullah\")\n",
    "print(\"Asadullah\")\n",
    "print(\"Asadullah\")"
   ]
  },
  {
   "cell_type": "markdown",
   "id": "9cf48eaf",
   "metadata": {},
   "source": [
    "# Loops: \n",
    "    # - for in       required: any collection\n",
    "    # - While Loop   "
   ]
  },
  {
   "cell_type": "code",
   "execution_count": 35,
   "id": "618028d1",
   "metadata": {},
   "outputs": [
    {
     "name": "stdout",
     "output_type": "stream",
     "text": [
      "0 Nasir Hussain\n",
      "1 Nasir Hussain\n",
      "2 Nasir Hussain\n",
      "3 Nasir Hussain\n",
      "4 Nasir Hussain\n",
      "5 Nasir Hussain\n",
      "6 Nasir Hussain\n",
      "7 Nasir Hussain\n",
      "8 Nasir Hussain\n",
      "9 Nasir Hussain\n"
     ]
    }
   ],
   "source": [
    "for a in range(10): #0,1,2,3,4,5,6,7,8,9\n",
    "    print(a,'Nasir Hussain')    "
   ]
  },
  {
   "cell_type": "code",
   "execution_count": 37,
   "id": "40ff94b3",
   "metadata": {},
   "outputs": [
    {
     "name": "stdout",
     "output_type": "stream",
     "text": [
      "1 Nasir Hussain\n",
      "2 Nasir Hussain\n",
      "3 Nasir Hussain\n",
      "4 Nasir Hussain\n",
      "5 Nasir Hussain\n",
      "6 Nasir Hussain\n",
      "7 Nasir Hussain\n",
      "8 Nasir Hussain\n",
      "9 Nasir Hussain\n"
     ]
    }
   ],
   "source": [
    "for a in range(1,10): #0,1,2,3,4,5,6,7,8,9\n",
    "    print(a,'Nasir Hussain')    "
   ]
  },
  {
   "cell_type": "code",
   "execution_count": 39,
   "id": "7f70c3a0",
   "metadata": {},
   "outputs": [
    {
     "name": "stdout",
     "output_type": "stream",
     "text": [
      "1 Nasir Hussain\n",
      "4 Nasir Hussain\n",
      "7 Nasir Hussain\n",
      "10 Nasir Hussain\n",
      "13 Nasir Hussain\n",
      "16 Nasir Hussain\n",
      "19 Nasir Hussain\n"
     ]
    }
   ],
   "source": [
    "for a in range(1,20,3): #0,1,2,3,4,5,6,7,8,9\n",
    "    print(a,'Nasir Hussain')    "
   ]
  },
  {
   "cell_type": "code",
   "execution_count": 42,
   "id": "ba78eff3",
   "metadata": {},
   "outputs": [
    {
     "name": "stdout",
     "output_type": "stream",
     "text": [
      "20 Nasir Hussain\n",
      "19 Nasir Hussain\n",
      "18 Nasir Hussain\n",
      "17 Nasir Hussain\n",
      "16 Nasir Hussain\n",
      "15 Nasir Hussain\n",
      "14 Nasir Hussain\n",
      "13 Nasir Hussain\n",
      "12 Nasir Hussain\n",
      "11 Nasir Hussain\n",
      "10 Nasir Hussain\n",
      "9 Nasir Hussain\n",
      "8 Nasir Hussain\n",
      "7 Nasir Hussain\n",
      "6 Nasir Hussain\n",
      "5 Nasir Hussain\n",
      "4 Nasir Hussain\n",
      "3 Nasir Hussain\n",
      "2 Nasir Hussain\n",
      "1 Nasir Hussain\n"
     ]
    }
   ],
   "source": [
    "for a in range(20,0,-1): #0,1,2,3,4,5,6,7,8,9\n",
    "    print(a,'Nasir Hussain')    "
   ]
  },
  {
   "cell_type": "code",
   "execution_count": 43,
   "id": "d7919416",
   "metadata": {},
   "outputs": [
    {
     "name": "stdout",
     "output_type": "stream",
     "text": [
      "1 Nasir Hussain\n",
      "2 Nasir Hussain\n",
      "3 Nasir Hussain\n",
      "4 Nasir Hussain\n"
     ]
    }
   ],
   "source": [
    "for a in range(1,10):\n",
    "    if a==5:\n",
    "        break\n",
    "    else:\n",
    "        print(a,'Nasir Hussain')    "
   ]
  },
  {
   "cell_type": "code",
   "execution_count": 44,
   "id": "07b9d91f",
   "metadata": {},
   "outputs": [
    {
     "name": "stdout",
     "output_type": "stream",
     "text": [
      "1 Nasir Hussain\n",
      "2 Nasir Hussain\n",
      "3 Nasir Hussain\n",
      "4 Nasir Hussain\n",
      "6 Nasir Hussain\n",
      "7 Nasir Hussain\n",
      "8 Nasir Hussain\n",
      "9 Nasir Hussain\n"
     ]
    }
   ],
   "source": [
    "for a in range(1,10):\n",
    "    if a==5:\n",
    "        continue\n",
    "    else:\n",
    "        print(a,'Nasir Hussain')    "
   ]
  },
  {
   "cell_type": "code",
   "execution_count": 45,
   "id": "77a49d61",
   "metadata": {},
   "outputs": [],
   "source": [
    "students  = ['ali', 'arif','maaz','imran', 'aman','asad','hassan','nawaz sharif', 'baber khan','hafiz muneer']"
   ]
  },
  {
   "cell_type": "code",
   "execution_count": 46,
   "id": "abe7fc98",
   "metadata": {},
   "outputs": [
    {
     "name": "stdout",
     "output_type": "stream",
     "text": [
      "ali  kal off hy \n"
     ]
    }
   ],
   "source": [
    "print(f'{students[0]}  kal off hy ')"
   ]
  },
  {
   "cell_type": "code",
   "execution_count": 47,
   "id": "ceee07e3",
   "metadata": {},
   "outputs": [
    {
     "name": "stdout",
     "output_type": "stream",
     "text": [
      "arif  kal off hy \n"
     ]
    }
   ],
   "source": [
    "print(f'{students[1]}  kal off hy ')"
   ]
  },
  {
   "cell_type": "code",
   "execution_count": 48,
   "id": "2c53f125",
   "metadata": {},
   "outputs": [
    {
     "name": "stdout",
     "output_type": "stream",
     "text": [
      "maaz  kal off hy \n"
     ]
    }
   ],
   "source": [
    "print(f'{students[2]}  kal off hy ')"
   ]
  },
  {
   "cell_type": "code",
   "execution_count": 49,
   "id": "495e1155",
   "metadata": {},
   "outputs": [
    {
     "name": "stdout",
     "output_type": "stream",
     "text": [
      "imran  kal off hy \n"
     ]
    }
   ],
   "source": [
    "print(f'{students[3]}  kal off hy ')"
   ]
  },
  {
   "cell_type": "code",
   "execution_count": 50,
   "id": "f662b75e",
   "metadata": {},
   "outputs": [
    {
     "name": "stdout",
     "output_type": "stream",
     "text": [
      "aman  kal off hy \n"
     ]
    }
   ],
   "source": [
    "print(f'{students[4]}  kal off hy ')"
   ]
  },
  {
   "cell_type": "code",
   "execution_count": 51,
   "id": "b694b915",
   "metadata": {},
   "outputs": [
    {
     "name": "stdout",
     "output_type": "stream",
     "text": [
      "asad  kal off hy \n"
     ]
    }
   ],
   "source": [
    "print(f'{students[5]}  kal off hy ')"
   ]
  },
  {
   "cell_type": "code",
   "execution_count": 52,
   "id": "01f781f4",
   "metadata": {},
   "outputs": [
    {
     "name": "stdout",
     "output_type": "stream",
     "text": [
      "ali  kal off hy \n",
      "arif  kal off hy \n",
      "maaz  kal off hy \n",
      "imran  kal off hy \n",
      "aman  kal off hy \n",
      "asad  kal off hy \n",
      "hassan  kal off hy \n",
      "nawaz sharif  kal off hy \n",
      "baber khan  kal off hy \n",
      "hafiz muneer  kal off hy \n"
     ]
    }
   ],
   "source": [
    "for student in students:\n",
    "    print(f'{student}  kal off hy ')"
   ]
  },
  {
   "cell_type": "code",
   "execution_count": 53,
   "id": "b0c6bb98",
   "metadata": {},
   "outputs": [
    {
     "name": "stdout",
     "output_type": "stream",
     "text": [
      "ali  kal off hy \n",
      "arif  kal off hy \n",
      "maaz  kal zaror ana hy \n",
      "imran  kal zaror ana hy \n",
      "aman  kal off hy \n",
      "asad  kal off hy \n",
      "hassan  kal zaror ana hy \n",
      "nawaz sharif  kal zaror ana hy \n",
      "baber khan  kal zaror ana hy \n",
      "hafiz muneer  kal zaror ana hy \n"
     ]
    }
   ],
   "source": [
    "for student in students:\n",
    "    if student.startswith('a'):\n",
    "        print(f'{student}  kal off hy ')\n",
    "    else:\n",
    "        print(f'{student}  kal zaror ana hy ')"
   ]
  },
  {
   "cell_type": "code",
   "execution_count": 55,
   "id": "46a0afbd",
   "metadata": {},
   "outputs": [
    {
     "name": "stdout",
     "output_type": "stream",
     "text": [
      "hassan Kal off hy \n",
      "nawaz sharif Kal off hy \n",
      "baber khan Kal off hy \n",
      "hafiz muneer Kal off hy \n"
     ]
    }
   ],
   "source": [
    "for student in students:\n",
    "    if not student.startswith('a'):\n",
    "        if len(student)>5:\n",
    "            print(f\"{student} Kal off hy \")      "
   ]
  },
  {
   "cell_type": "code",
   "execution_count": 56,
   "id": "539b7ec3",
   "metadata": {},
   "outputs": [
    {
     "name": "stdout",
     "output_type": "stream",
     "text": [
      "hassan Kal off hy \n",
      "nawaz sharif Kal off hy \n",
      "baber khan Kal off hy \n",
      "hafiz muneer Kal off hy \n"
     ]
    }
   ],
   "source": [
    "for student in students:\n",
    "    if (not student.startswith('a') and (len(student)>5)):\n",
    "        print(f\"{student} Kal off hy \")        "
   ]
  },
  {
   "cell_type": "code",
   "execution_count": 57,
   "id": "a79f7c03",
   "metadata": {},
   "outputs": [],
   "source": [
    "khans = []"
   ]
  },
  {
   "cell_type": "code",
   "execution_count": 58,
   "id": "04b2176f",
   "metadata": {},
   "outputs": [
    {
     "data": {
      "text/plain": [
       "['ali',\n",
       " 'arif',\n",
       " 'maaz',\n",
       " 'imran',\n",
       " 'aman',\n",
       " 'asad',\n",
       " 'hassan',\n",
       " 'nawaz sharif',\n",
       " 'baber khan',\n",
       " 'hafiz muneer']"
      ]
     },
     "execution_count": 58,
     "metadata": {},
     "output_type": "execute_result"
    }
   ],
   "source": [
    "students"
   ]
  },
  {
   "cell_type": "code",
   "execution_count": 59,
   "id": "0c2729c9",
   "metadata": {},
   "outputs": [],
   "source": [
    "for student in students:\n",
    "    khans.append(student+\" Khan\")"
   ]
  },
  {
   "cell_type": "code",
   "execution_count": 60,
   "id": "507489ff",
   "metadata": {},
   "outputs": [
    {
     "data": {
      "text/plain": [
       "['ali Khan',\n",
       " 'arif Khan',\n",
       " 'maaz Khan',\n",
       " 'imran Khan',\n",
       " 'aman Khan',\n",
       " 'asad Khan',\n",
       " 'hassan Khan',\n",
       " 'nawaz sharif Khan',\n",
       " 'baber khan Khan',\n",
       " 'hafiz muneer Khan']"
      ]
     },
     "execution_count": 60,
     "metadata": {},
     "output_type": "execute_result"
    }
   ],
   "source": [
    "khans"
   ]
  },
  {
   "cell_type": "code",
   "execution_count": 61,
   "id": "39603b3b",
   "metadata": {},
   "outputs": [],
   "source": [
    "guest = []"
   ]
  },
  {
   "cell_type": "code",
   "execution_count": 62,
   "id": "01d334f0",
   "metadata": {},
   "outputs": [
    {
     "data": {
      "text/plain": [
       "True"
      ]
     },
     "execution_count": 62,
     "metadata": {},
     "output_type": "execute_result"
    }
   ],
   "source": [
    "'ali' in students"
   ]
  },
  {
   "cell_type": "code",
   "execution_count": 63,
   "id": "f5d7ae17",
   "metadata": {},
   "outputs": [
    {
     "name": "stdout",
     "output_type": "stream",
     "text": [
      "Enter named\n",
      "Enter namea\n",
      "Enter names\n",
      "Enter named\n",
      "Enter nameg\n",
      "Enter namegh\n",
      "Enter nameh\n",
      "Enter namej\n",
      "Enter namej\n",
      "Enter namej\n"
     ]
    },
    {
     "data": {
      "text/plain": [
       "['d', 'a', 's', 'd', 'g', 'gh', 'h', 'j', 'j', 'j']"
      ]
     },
     "execution_count": 63,
     "metadata": {},
     "output_type": "execute_result"
    }
   ],
   "source": [
    "for a in range(10):\n",
    "    name = input(\"Enter name\")\n",
    "    guest.append(name)\n",
    "    \n",
    "guest"
   ]
  },
  {
   "cell_type": "markdown",
   "id": "4ada81c8",
   "metadata": {},
   "source": [
    "# set   represented by {values}\n",
    "   - values must be unique"
   ]
  },
  {
   "cell_type": "code",
   "execution_count": 1,
   "id": "890b58fa",
   "metadata": {},
   "outputs": [],
   "source": [
    "aset={1,2,3,45,6,}"
   ]
  },
  {
   "cell_type": "code",
   "execution_count": 2,
   "id": "d79e36fb",
   "metadata": {},
   "outputs": [
    {
     "data": {
      "text/plain": [
       "{1, 2, 3, 6, 45}"
      ]
     },
     "execution_count": 2,
     "metadata": {},
     "output_type": "execute_result"
    }
   ],
   "source": [
    "aset"
   ]
  },
  {
   "cell_type": "code",
   "execution_count": 3,
   "id": "44e40f2d",
   "metadata": {},
   "outputs": [
    {
     "data": {
      "text/plain": [
       "set"
      ]
     },
     "execution_count": 3,
     "metadata": {},
     "output_type": "execute_result"
    }
   ],
   "source": [
    "type(aset)"
   ]
  },
  {
   "cell_type": "markdown",
   "id": "e5355ba8",
   "metadata": {},
   "source": [
    "# Tuple (values)"
   ]
  },
  {
   "cell_type": "code",
   "execution_count": 5,
   "id": "90b52fa8",
   "metadata": {},
   "outputs": [],
   "source": [
    "fruits=('orange','apple','banana','lemon')"
   ]
  },
  {
   "cell_type": "code",
   "execution_count": 6,
   "id": "91594741",
   "metadata": {},
   "outputs": [
    {
     "data": {
      "text/plain": [
       "('orange', 'apple', 'banana', 'lemon')"
      ]
     },
     "execution_count": 6,
     "metadata": {},
     "output_type": "execute_result"
    }
   ],
   "source": [
    "fruits"
   ]
  },
  {
   "cell_type": "code",
   "execution_count": 8,
   "id": "b6ad0a5c",
   "metadata": {},
   "outputs": [
    {
     "data": {
      "text/plain": [
       "tuple"
      ]
     },
     "execution_count": 8,
     "metadata": {},
     "output_type": "execute_result"
    }
   ],
   "source": [
    "type(fruits)"
   ]
  },
  {
   "cell_type": "markdown",
   "id": "a07f4326",
   "metadata": {},
   "source": [
    "# loops \n",
    "## for loop :need any collection\n",
    "## while loop: need a condition"
   ]
  },
  {
   "cell_type": "code",
   "execution_count": 9,
   "id": "c1af3924",
   "metadata": {},
   "outputs": [
    {
     "name": "stdout",
     "output_type": "stream",
     "text": [
      "0 sajid rehman\n",
      "1 sajid rehman\n",
      "2 sajid rehman\n",
      "3 sajid rehman\n",
      "4 sajid rehman\n",
      "5 sajid rehman\n",
      "6 sajid rehman\n",
      "7 sajid rehman\n",
      "8 sajid rehman\n",
      "9 sajid rehman\n"
     ]
    }
   ],
   "source": [
    "for a in range(10):\n",
    "    print(a,'sajid rehman')"
   ]
  },
  {
   "cell_type": "code",
   "execution_count": 13,
   "id": "81fcd77c",
   "metadata": {},
   "outputs": [
    {
     "name": "stdout",
     "output_type": "stream",
     "text": [
      "1 sajid rehman\n",
      "2 sajid rehman\n",
      "3 sajid rehman\n",
      "4 sajid rehman\n"
     ]
    }
   ],
   "source": [
    "for a in range(1,10):\n",
    "    if a==5:\n",
    "        break\n",
    "    print(a,'sajid rehman')"
   ]
  },
  {
   "cell_type": "code",
   "execution_count": 14,
   "id": "0fc8b750",
   "metadata": {},
   "outputs": [
    {
     "name": "stdout",
     "output_type": "stream",
     "text": [
      "0 sajid rehman\n",
      "1 sajid rehman\n",
      "2 sajid rehman\n",
      "3 sajid rehman\n",
      "4 sajid rehman\n",
      "6 sajid rehman\n",
      "7 sajid rehman\n",
      "8 sajid rehman\n",
      "9 sajid rehman\n"
     ]
    }
   ],
   "source": [
    "for a in range(10):\n",
    "    if a==5:\n",
    "        continue\n",
    "    print(a,'sajid rehman')"
   ]
  },
  {
   "cell_type": "code",
   "execution_count": 8,
   "id": "c34639b8",
   "metadata": {},
   "outputs": [],
   "source": [
    "students={'name':'sajid','saad','anas','ahmad','sultan'}"
   ]
  },
  {
   "cell_type": "code",
   "execution_count": 9,
   "id": "ba6c04c6",
   "metadata": {},
   "outputs": [
    {
     "ename": "TypeError",
     "evalue": "'dict' object is not callable",
     "output_type": "error",
     "traceback": [
      "\u001b[1;31m---------------------------------------------------------------------------\u001b[0m",
      "\u001b[1;31mTypeError\u001b[0m                                 Traceback (most recent call last)",
      "Cell \u001b[1;32mIn[9], line 1\u001b[0m\n\u001b[1;32m----> 1\u001b[0m \u001b[38;5;28;01mfor\u001b[39;00m student \u001b[38;5;129;01min\u001b[39;00m students():\n\u001b[0;32m      2\u001b[0m     \u001b[38;5;28mprint\u001b[39m(\u001b[38;5;124mf\u001b[39m\u001b[38;5;124m\"\u001b[39m\u001b[38;5;132;01m{\u001b[39;00mname\u001b[38;5;132;01m}\u001b[39;00m\u001b[38;5;124m kall off hai\u001b[39m\u001b[38;5;124m\"\u001b[39m)\n",
      "\u001b[1;31mTypeError\u001b[0m: 'dict' object is not callable"
     ]
    }
   ],
   "source": [
    "for student in students():\n",
    "    print(f\"{name} kall off hai\")"
   ]
  },
  {
   "cell_type": "code",
   "execution_count": 25,
   "id": "323d1eaf",
   "metadata": {},
   "outputs": [],
   "source": [
    "students1  = ['ali', 'arif','maaz','imran', 'aman','asad','hassan','nawaz sharif', 'baber khan','hafiz muneer']"
   ]
  },
  {
   "cell_type": "code",
   "execution_count": 29,
   "id": "915ddd52",
   "metadata": {},
   "outputs": [
    {
     "name": "stdout",
     "output_type": "stream",
     "text": [
      "ali kall off hai\n"
     ]
    }
   ],
   "source": [
    "print(f\"{students1[0]} kall off hai\")"
   ]
  },
  {
   "cell_type": "code",
   "execution_count": 30,
   "id": "28d3d79d",
   "metadata": {},
   "outputs": [
    {
     "name": "stdout",
     "output_type": "stream",
     "text": [
      "arif kall off hai\n"
     ]
    }
   ],
   "source": [
    "print(f\"{students1[1]} kall off hai\")"
   ]
  },
  {
   "cell_type": "code",
   "execution_count": 31,
   "id": "0cddaee4",
   "metadata": {},
   "outputs": [
    {
     "name": "stdout",
     "output_type": "stream",
     "text": [
      "maaz kall off hai\n"
     ]
    }
   ],
   "source": [
    "print(f\"{students1[2]} kall off hai\")"
   ]
  },
  {
   "cell_type": "code",
   "execution_count": 32,
   "id": "aa07317c",
   "metadata": {},
   "outputs": [
    {
     "name": "stdout",
     "output_type": "stream",
     "text": [
      "imran kall off hai\n"
     ]
    }
   ],
   "source": [
    "print(f\"{students1[3]} kall off hai\")"
   ]
  },
  {
   "cell_type": "code",
   "execution_count": 37,
   "id": "bb3129e3",
   "metadata": {},
   "outputs": [
    {
     "name": "stdout",
     "output_type": "stream",
     "text": [
      "ali kall off hai\n",
      "arif kall off hai\n",
      "maaz kall off hai\n",
      "imran kall off hai\n",
      "aman kall off hai\n",
      "asad kall off hai\n",
      "hassan kall off hai\n",
      "nawaz sharif kall off hai\n",
      "baber khan kall off hai\n",
      "hafiz muneer kall off hai\n"
     ]
    }
   ],
   "source": [
    "for student in students1:\n",
    "    print(f\"{student} kall off hai\")"
   ]
  },
  {
   "cell_type": "code",
   "execution_count": 35,
   "id": "103000ec",
   "metadata": {},
   "outputs": [
    {
     "name": "stdout",
     "output_type": "stream",
     "text": [
      "ali  kal off hy \n",
      "arif  kal off hy \n",
      "maaz  kal off hy \n",
      "imran  kal off hy \n",
      "aman  kal off hy \n",
      "asad  kal off hy \n",
      "hassan  kal off hy \n",
      "nawaz sharif  kal off hy \n",
      "baber khan  kal off hy \n",
      "hafiz muneer  kal off hy \n"
     ]
    }
   ],
   "source": [
    "for student in students:\n",
    "    print(f'{student}  kal off hy ')"
   ]
  },
  {
   "cell_type": "code",
   "execution_count": 38,
   "id": "f43299b9",
   "metadata": {},
   "outputs": [
    {
     "ename": "SyntaxError",
     "evalue": "invalid syntax (1747422707.py, line 2)",
     "output_type": "error",
     "traceback": [
      "\u001b[1;36m  Cell \u001b[1;32mIn[38], line 2\u001b[1;36m\u001b[0m\n\u001b[1;33m    if student startwith(a):\u001b[0m\n\u001b[1;37m               ^\u001b[0m\n\u001b[1;31mSyntaxError\u001b[0m\u001b[1;31m:\u001b[0m invalid syntax\n"
     ]
    }
   ],
   "source": [
    "for student in students1:\n",
    "    if student startwith(a):\n",
    "        break\n",
    "        else:\n",
    "            print(f\"{student} kall off hai\")\n",
    "            \n",
    "        "
   ]
  },
  {
   "cell_type": "code",
   "execution_count": 10,
   "id": "968ee1a7",
   "metadata": {},
   "outputs": [],
   "source": [
    "students  = ['ali', 'arif','maaz','imran', 'aman','asad','hassan','nawaz sharif', 'baber khan','hafiz muneer']"
   ]
  },
  {
   "cell_type": "code",
   "execution_count": 11,
   "id": "8c53d36a",
   "metadata": {},
   "outputs": [
    {
     "name": "stdout",
     "output_type": "stream",
     "text": [
      "['ali', 'arif', 'maaz', 'imran', 'aman', 'asad', 'hassan', 'nawaz sharif', 'baber khan', 'hafiz muneer'] good night\n",
      "['ali', 'arif', 'maaz', 'imran', 'aman', 'asad', 'hassan', 'nawaz sharif', 'baber khan', 'hafiz muneer'] good night\n",
      "['ali', 'arif', 'maaz', 'imran', 'aman', 'asad', 'hassan', 'nawaz sharif', 'baber khan', 'hafiz muneer'] good night\n",
      "['ali', 'arif', 'maaz', 'imran', 'aman', 'asad', 'hassan', 'nawaz sharif', 'baber khan', 'hafiz muneer'] good night\n",
      "['ali', 'arif', 'maaz', 'imran', 'aman', 'asad', 'hassan', 'nawaz sharif', 'baber khan', 'hafiz muneer'] good night\n",
      "['ali', 'arif', 'maaz', 'imran', 'aman', 'asad', 'hassan', 'nawaz sharif', 'baber khan', 'hafiz muneer'] good night\n",
      "['ali', 'arif', 'maaz', 'imran', 'aman', 'asad', 'hassan', 'nawaz sharif', 'baber khan', 'hafiz muneer'] good night\n",
      "['ali', 'arif', 'maaz', 'imran', 'aman', 'asad', 'hassan', 'nawaz sharif', 'baber khan', 'hafiz muneer'] good night\n",
      "['ali', 'arif', 'maaz', 'imran', 'aman', 'asad', 'hassan', 'nawaz sharif', 'baber khan', 'hafiz muneer'] good night\n",
      "['ali', 'arif', 'maaz', 'imran', 'aman', 'asad', 'hassan', 'nawaz sharif', 'baber khan', 'hafiz muneer'] good night\n"
     ]
    }
   ],
   "source": [
    "for student in students:\n",
    "    print(f\"{students} good night\")"
   ]
  },
  {
   "cell_type": "code",
   "execution_count": 19,
   "id": "0e9cde4c",
   "metadata": {},
   "outputs": [
    {
     "name": "stdout",
     "output_type": "stream",
     "text": [
      "ali ka call off hai\n",
      "arif ka call off hai\n",
      "maaz ka call off hai\n",
      "imran ka call off hai\n",
      "aman ka call off hai\n",
      "asad ka call off hai\n",
      "hassan ka call off hai\n",
      "nawaz sharif ka call off hai\n",
      "baber khan ka call off hai\n",
      "hafiz muneer ka call off hai\n"
     ]
    }
   ],
   "source": [
    "\n",
    "\n",
    "for student in students:\n",
    "    if student == \"hafiz muneer\":\n",
    "        print(f\"{student} ka call off hai\")  # Assuming you want to print something specific for this student\n",
    "    else:\n",
    "        print(f\"{student} ka call off hai\")  # The message for other students\n",
    "\n",
    "        "
   ]
  },
  {
   "cell_type": "code",
   "execution_count": null,
   "id": "bdeeba60",
   "metadata": {},
   "outputs": [],
   "source": []
  }
 ],
 "metadata": {
  "kernelspec": {
   "display_name": "Python 3 (ipykernel)",
   "language": "python",
   "name": "python3"
  },
  "language_info": {
   "codemirror_mode": {
    "name": "ipython",
    "version": 3
   },
   "file_extension": ".py",
   "mimetype": "text/x-python",
   "name": "python",
   "nbconvert_exporter": "python",
   "pygments_lexer": "ipython3",
   "version": "3.11.4"
  }
 },
 "nbformat": 4,
 "nbformat_minor": 5
}
