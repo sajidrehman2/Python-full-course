{
 "cells": [
  {
   "cell_type": "markdown",
   "id": "ac80b965",
   "metadata": {},
   "source": [
    "# Two methods to do I/O"
   ]
  },
  {
   "cell_type": "markdown",
   "id": "a7d14b22",
   "metadata": {},
   "source": [
    "### - Open()           >>> we neeed to close the file ourself. \n",
    "### - with Open()    >>>context manger : it closes the file itself. "
   ]
  },
  {
   "cell_type": "markdown",
   "id": "b9d44790",
   "metadata": {},
   "source": [
    "# open()"
   ]
  },
  {
   "cell_type": "code",
   "execution_count": 2,
   "id": "9f39580c",
   "metadata": {},
   "outputs": [],
   "source": [
    "f = open('assigment.txt','r')"
   ]
  },
  {
   "cell_type": "code",
   "execution_count": 3,
   "id": "b2a198db",
   "metadata": {},
   "outputs": [
    {
     "name": "stdout",
     "output_type": "stream",
     "text": [
      "Ramadan mubark ho apko\n",
      "To the principal sadaf model high school sarokhel darsamand sir most\n",
      "respecr fully i have an urgent poede of woek ar my hoe there fore kindy greand me leave for \n",
      "one days thanks your obediently sajid rehman \n"
     ]
    }
   ],
   "source": [
    "print(f.read())"
   ]
  },
  {
   "cell_type": "code",
   "execution_count": 5,
   "id": "30db4302",
   "metadata": {},
   "outputs": [
    {
     "name": "stdout",
     "output_type": "stream",
     "text": [
      "\n"
     ]
    }
   ],
   "source": [
    "print(f.read())"
   ]
  },
  {
   "cell_type": "code",
   "execution_count": 6,
   "id": "39e17cf9",
   "metadata": {},
   "outputs": [
    {
     "data": {
      "text/plain": [
       "0"
      ]
     },
     "execution_count": 6,
     "metadata": {},
     "output_type": "execute_result"
    }
   ],
   "source": [
    "f.seek(0)"
   ]
  },
  {
   "cell_type": "code",
   "execution_count": 7,
   "id": "aa824c68",
   "metadata": {},
   "outputs": [
    {
     "name": "stdout",
     "output_type": "stream",
     "text": [
      "Ramadan mubark ho apko\n",
      "To the principal sadaf model high school sarokhel darsamand sir most\n",
      "respecr fully i have an urgent poede of woek ar my hoe there fore kindy greand me leave for \n",
      "one days thanks your obediently sajid rehman \n"
     ]
    }
   ],
   "source": [
    "print(f.read())"
   ]
  },
  {
   "cell_type": "code",
   "execution_count": 8,
   "id": "54a102a8",
   "metadata": {},
   "outputs": [],
   "source": [
    "f.close()"
   ]
  },
  {
   "cell_type": "code",
   "execution_count": 9,
   "id": "de67f348",
   "metadata": {},
   "outputs": [
    {
     "ename": "ValueError",
     "evalue": "I/O operation on closed file.",
     "output_type": "error",
     "traceback": [
      "\u001b[1;31m---------------------------------------------------------------------------\u001b[0m",
      "\u001b[1;31mValueError\u001b[0m                                Traceback (most recent call last)",
      "Cell \u001b[1;32mIn[9], line 1\u001b[0m\n\u001b[1;32m----> 1\u001b[0m f\u001b[38;5;241m.\u001b[39mread()\n",
      "\u001b[1;31mValueError\u001b[0m: I/O operation on closed file."
     ]
    }
   ],
   "source": [
    "f.read()"
   ]
  },
  {
   "cell_type": "code",
   "execution_count": 11,
   "id": "3cc2dc81",
   "metadata": {},
   "outputs": [
    {
     "name": "stdout",
     "output_type": "stream",
     "text": [
      "Ramadan mubark ho apko\n",
      "To the principal sadaf model high school sarokhel darsamand sir most\n",
      "respecr fully i have an urgent poede of woek ar my hoe there fore kindy greand me leave for \n",
      "one days thanks your obediently sajid rehman \n"
     ]
    }
   ],
   "source": [
    "# f = open('assignment.txt','r')\n",
    "with open('assigment.txt','r') as f:\n",
    "    content = f.read()\n",
    "    print(content)  "
   ]
  },
  {
   "cell_type": "code",
   "execution_count": 12,
   "id": "1b6c8d06",
   "metadata": {},
   "outputs": [
    {
     "ename": "ValueError",
     "evalue": "I/O operation on closed file.",
     "output_type": "error",
     "traceback": [
      "\u001b[1;31m---------------------------------------------------------------------------\u001b[0m",
      "\u001b[1;31mValueError\u001b[0m                                Traceback (most recent call last)",
      "Cell \u001b[1;32mIn[12], line 1\u001b[0m\n\u001b[1;32m----> 1\u001b[0m f\u001b[38;5;241m.\u001b[39mread()\n",
      "\u001b[1;31mValueError\u001b[0m: I/O operation on closed file."
     ]
    }
   ],
   "source": [
    "f.read()"
   ]
  },
  {
   "cell_type": "code",
   "execution_count": 14,
   "id": "a421e47b",
   "metadata": {},
   "outputs": [
    {
     "name": "stdout",
     "output_type": "stream",
     "text": [
      "Ramadan mubark ho apko\n",
      "\n"
     ]
    }
   ],
   "source": [
    "with open('assigment.txt','r') as f:\n",
    "    content = f.readline()\n",
    "    print(content)  "
   ]
  },
  {
   "cell_type": "code",
   "execution_count": 18,
   "id": "804ce6ba",
   "metadata": {},
   "outputs": [
    {
     "name": "stdout",
     "output_type": "stream",
     "text": [
      "0 Lungs Cancer Detection / Classification as Positive or Negative\n",
      "\n",
      "1 Part1\n",
      "\n",
      "2 Step1: Load the data in google drive and mount the drive with google colab.\n",
      "\n",
      "3 Step2: Use os library to create directory structure\n",
      "\n",
      "4 Step3: Iterate the data using Keras data generators. \n",
      "\n",
      "5 For training data and testing data \n",
      "\n",
      "6 Step4: Construct a sequential model using CNN2d layers. \n",
      "\n",
      "7 Step5: Fit the model using training data generator. \n",
      "\n",
      "8 Step6: Evaluate the model using testing data generator \n",
      "\n",
      "9 Step7: Get predictions from the model on testing data. \n",
      "\n",
      "10 Step8: Get the classification report of the model \n",
      "\n",
      "11 Step9: Get the confusion metrix of the model. \n",
      "\n",
      "12 Step10: Get the f1 Score of the model. \n",
      "\n",
      "13 Part2\n",
      "\n",
      "14 Repeat Step4 to onwards using the same model but by Functional API format. \n",
      "\n",
      "15 Part3\n",
      "\n",
      "16 Use any of the pre-trained model for image classification. \n",
      "\n",
      "17 -\tDo feature Extraction and repeat all steps \n",
      "\n",
      "18 -\tDo fine-tunning of the model and repeat the steps\n",
      "\n",
      "19 Compare all the results and show your proposed architecture for good accuracy. \n",
      "\n",
      "20 LSTM using Image Classification:\n",
      "\n",
      "21 https://www.youtube.com/watch?v=CjfjcCytfss\n",
      "\n",
      "22 After the model is ready for deployment with good accuracy and precsions \n",
      "\n",
      "23 Save the model using pickle. \n",
      "\n",
      "24 Import pickle\n",
      "\n",
      "25 pickle.dump(model, open(â€˜model.pklâ€™, â€˜wbâ€™))\n",
      "\n",
      "26 \n",
      "\n",
      "27 \n",
      "\n",
      "28 Streamlit\n",
      "\n",
      "29 Create an interface where user can upload image and get prediction on the image. \n"
     ]
    }
   ],
   "source": [
    "with open('assignment.txt','r') as f:\n",
    "    for e,line in enumerate(f):\n",
    "        print(e, line)"
   ]
  },
  {
   "cell_type": "code",
   "execution_count": 1,
   "id": "699edf6e",
   "metadata": {},
   "outputs": [],
   "source": [
    "with open('assigment.txt','r') as f:\n",
    "    for e,line in enumerate(f):\n",
    "        if line.startswith(\"S\"):\n",
    "            print(e, line)"
   ]
  },
  {
   "cell_type": "code",
   "execution_count": 2,
   "id": "6aec6cdf",
   "metadata": {},
   "outputs": [],
   "source": [
    "with open('assigment.txt','r') as f:\n",
    "    for e,line in enumerate(f):\n",
    "        if 'classification' in line:\n",
    "            print(e,line)"
   ]
  },
  {
   "cell_type": "code",
   "execution_count": 3,
   "id": "0e30b66e",
   "metadata": {},
   "outputs": [
    {
     "data": {
      "text/plain": [
       "['Ramazan Mubarak again!!!!']"
      ]
     },
     "execution_count": 3,
     "metadata": {},
     "output_type": "execute_result"
    }
   ],
   "source": [
    "with open('assigment.txt','r') as f:\n",
    "    all_lines = f.readlines()\n",
    "all_lines"
   ]
  },
  {
   "cell_type": "code",
   "execution_count": 23,
   "id": "b8ff135c",
   "metadata": {},
   "outputs": [
    {
     "data": {
      "text/plain": [
       "'one days thanks your obediently sajid rehman '"
      ]
     },
     "execution_count": 23,
     "metadata": {},
     "output_type": "execute_result"
    }
   ],
   "source": [
    "all_lines[3]"
   ]
  },
  {
   "cell_type": "code",
   "execution_count": 4,
   "id": "37edbdbb",
   "metadata": {},
   "outputs": [],
   "source": [
    "try:\n",
    "    with open('assigment.txt','r') as f:\n",
    "        all_lines = f.readlines()\n",
    "except FileNotFoundError:\n",
    "    print(\"File does not exist at given location\")"
   ]
  },
  {
   "cell_type": "markdown",
   "id": "8d9048e6",
   "metadata": {},
   "source": [
    "# File Write"
   ]
  },
  {
   "cell_type": "code",
   "execution_count": 26,
   "id": "ae053291",
   "metadata": {},
   "outputs": [],
   "source": [
    "with open(\"assigment.txt\",'w') as f:\n",
    "    f.write(\"Ramazan Mubarak!!!!\")"
   ]
  },
  {
   "cell_type": "code",
   "execution_count": 28,
   "id": "dcd0b58f",
   "metadata": {},
   "outputs": [],
   "source": [
    "with open(\"assigment.txt\",'w') as f:\n",
    "    f.write(\"Ramazan Mubarak again!!!!\")"
   ]
  },
  {
   "cell_type": "code",
   "execution_count": 29,
   "id": "cdab2af8",
   "metadata": {},
   "outputs": [],
   "source": [
    "with open(\"assignment1.txt\",'w') as f:\n",
    "    f.write(\"Ramazan Mubarak again!!!! \\n\")\n",
    "    f.write(\"Ramazan Mubarak again!!!!\\n\")\n",
    "    f.write(\"Ramazan Mubarak again!!!!\\n\")\n",
    "    f.write(\"Ramazan Mubarak again!!!!\\n\")\n",
    "    f.write(\"Ramazan Mubarak again!!!!\\n\")\n",
    "    f.write(\"Ramazan Mubarak again!!!!\\n\")\n",
    "    f.write(\"Ramazan Mubarak again!!!!\\n\")\n",
    "    f.write(\"Ramazan Mubarak again!!!!\\n\")\n",
    "    f.write(\"Ramazan Mubarak again!!!!\\n\")\n",
    "    f.write(\"Ramazan Mubarak again!!!!\")"
   ]
  },
  {
   "cell_type": "code",
   "execution_count": 31,
   "id": "e877b8fd",
   "metadata": {},
   "outputs": [
    {
     "name": "stdout",
     "output_type": "stream",
     "text": [
      "1\n"
     ]
    }
   ],
   "source": [
    "with open(\"assigment.txt\",'a+') as f:\n",
    "    f.seek(0)\n",
    "    \n",
    "    print(len(f.readlines()))"
   ]
  },
  {
   "cell_type": "code",
   "execution_count": null,
   "id": "07c254d7",
   "metadata": {},
   "outputs": [
    {
     "name": "stdout",
     "output_type": "stream",
     "text": [
      "Enter guest name or press q to exitsajid\n",
      "Enter guest name or press q to exitmustafa\n"
     ]
    }
   ],
   "source": [
    "with open('guests.txt','w') as f:\n",
    "    while True:\n",
    "        guest_name = input(\"Enter guest name or press q to exit\")\n",
    "        if guest_name == \"q\":\n",
    "            break\n",
    "        else:\n",
    "            f.write(guest_name+\"\\n\")"
   ]
  },
  {
   "cell_type": "code",
   "execution_count": 35,
   "id": "54e5a258",
   "metadata": {},
   "outputs": [
    {
     "name": "stdout",
     "output_type": "stream",
     "text": [
      "Nasir Hussain\n",
      "Imran\n",
      "Ali\n",
      "Hafiz\n",
      "Sher Afzal\n",
      "Shahbaz\n",
      "Maryam\n",
      "Bilawal\n",
      "Sheikh Rahseed\n",
      "\n"
     ]
    }
   ],
   "source": [
    "with open('guests.txt') as f:\n",
    "    print(f.read())"
   ]
  },
  {
   "cell_type": "markdown",
   "id": "656a03ce",
   "metadata": {},
   "source": [
    "# Append Mode "
   ]
  },
  {
   "cell_type": "code",
   "execution_count": 36,
   "id": "bedab2c4",
   "metadata": {},
   "outputs": [
    {
     "name": "stdout",
     "output_type": "stream",
     "text": [
      "Enter guest name or press q to exitZardari\n",
      "Enter guest name or press q to exitAltaf Hussain\n",
      "Enter guest name or press q to exitNawaz Sharif\n",
      "Enter guest name or press q to exitMaulana\n",
      "Enter guest name or press q to exitAmbani\n",
      "Enter guest name or press q to exitq\n"
     ]
    }
   ],
   "source": [
    "with open('guests.txt','a') as f:\n",
    "    while True:\n",
    "        guest_name = input(\"Enter guest name or press q to exit\")\n",
    "        if guest_name == \"q\":\n",
    "            break\n",
    "        else:\n",
    "            f.write(guest_name+\"\\n\") "
   ]
  },
  {
   "cell_type": "code",
   "execution_count": 37,
   "id": "eb3f2fe4",
   "metadata": {},
   "outputs": [
    {
     "name": "stdout",
     "output_type": "stream",
     "text": [
      "Nasir Hussain\n",
      "Imran\n",
      "Ali\n",
      "Hafiz\n",
      "Sher Afzal\n",
      "Shahbaz\n",
      "Maryam\n",
      "Bilawal\n",
      "Sheikh Rahseed\n",
      "Zardari\n",
      "Altaf Hussain\n",
      "Nawaz Sharif\n",
      "Maulana\n",
      "Ambani\n",
      "\n"
     ]
    }
   ],
   "source": [
    "with open('guests.txt') as f:\n",
    "    print(f.read())"
   ]
  },
  {
   "cell_type": "code",
   "execution_count": 1,
   "id": "102987c8",
   "metadata": {},
   "outputs": [
    {
     "name": "stdout",
     "output_type": "stream",
     "text": [
      "Enter guest name or press q to exitNasir Hussain\n",
      "Enter guest name or press q to exitAli Khan\n",
      "Enter guest name or press q to exitFaisal \n",
      "Enter guest name or press q to exitSana\n",
      "Enter guest name or press q to exitUzma\n",
      "Enter guest name or press q to exitDawood\n",
      "Enter guest name or press q to exitImran\n",
      "Enter guest name or press q to exitKashif\n",
      "Enter guest name or press q to exithuma\n",
      "Enter guest name or press q to exitq\n"
     ]
    }
   ],
   "source": [
    "with open('moreguests.txt','w') as f:\n",
    "    sequence = 1\n",
    "    while True:\n",
    "        guest_name = input(\"Enter guest name or press q to exit\")\n",
    "        if guest_name == \"q\":\n",
    "            break\n",
    "        else:\n",
    "            f.write(f\"{sequence}-{guest_name} \\n\")    \n",
    "            sequence+=1"
   ]
  },
  {
   "cell_type": "code",
   "execution_count": 2,
   "id": "e7a37e74",
   "metadata": {},
   "outputs": [
    {
     "name": "stdout",
     "output_type": "stream",
     "text": [
      "1-Nasir Hussain \n",
      "2-Ali Khan \n",
      "3-Faisal  \n",
      "4-Sana \n",
      "5-Uzma \n",
      "6-Dawood \n",
      "7-Imran \n",
      "8-Kashif \n",
      "9-huma \n",
      "\n"
     ]
    }
   ],
   "source": [
    "with open('moreguests.txt','r') as f:\n",
    "    print(f.read())"
   ]
  },
  {
   "cell_type": "code",
   "execution_count": 16,
   "id": "62b091a4",
   "metadata": {},
   "outputs": [
    {
     "name": "stdout",
     "output_type": "stream",
     "text": [
      "7\n",
      "Enter guest name or press q to exitrashid\n",
      "Enter guest name or press q to exitsana\n",
      "Enter guest name or press q to exitdanish\n",
      "Enter guest name or press q to exitfaisal\n",
      "Enter guest name or press q to exitq\n",
      "0-Nasir \n",
      "1-Yasir \n",
      "2-Maryam \n",
      "3-Sher \n",
      "4-Rasheed \n",
      "5-Bhutto \n",
      "6-Zardari \n",
      "7-rashid \n",
      "8-sana \n",
      "9-danish \n",
      "10-faisal \n",
      "\n"
     ]
    }
   ],
   "source": [
    "with open(\"aftardinner.txt\", 'a+') as f:  \n",
    "    f.seek(0)\n",
    "    sequence = len(f.readlines())\n",
    "    print(sequence)\n",
    "    while True:\n",
    "        guest_name = input(\"Enter guest name or press q to exit\")\n",
    "        if guest_name == \"q\":\n",
    "            break\n",
    "        else:\n",
    "           \n",
    "            f.write(f\"{sequence}-{guest_name} \\n\")    \n",
    "            sequence+=1\n",
    "    f.seek(0)\n",
    "    print(f.read())"
   ]
  },
  {
   "cell_type": "code",
   "execution_count": 17,
   "id": "23781d86",
   "metadata": {},
   "outputs": [],
   "source": [
    "txt = \"hello how are you?\""
   ]
  },
  {
   "cell_type": "code",
   "execution_count": 18,
   "id": "965f0909",
   "metadata": {},
   "outputs": [
    {
     "data": {
      "text/plain": [
       "'salam how are you?'"
      ]
     },
     "execution_count": 18,
     "metadata": {},
     "output_type": "execute_result"
    }
   ],
   "source": [
    "txt.replace(\"hello\",'salam')"
   ]
  },
  {
   "cell_type": "code",
   "execution_count": 20,
   "id": "3744cbca",
   "metadata": {},
   "outputs": [
    {
     "name": "stdout",
     "output_type": "stream",
     "text": [
      "0-Nasir \n",
      "1-Yasir \n",
      "2-Maryam \n",
      "3-Sher \n",
      "4-Rasheed \n",
      "5-Bhutto \n",
      "6-Zardari \n",
      "7-rashid \n",
      "8-sana \n",
      "9-danish \n",
      "10-faisal \n",
      "0-Nasir \n",
      "1-Yasir \n",
      "2-Maryam \n",
      "3-Ali Amin \n",
      "4-Rasheed \n",
      "5-Bhutto \n",
      "6-Zardari \n",
      "7-rashid \n",
      "8-sana \n",
      "9-danish \n",
      "10-faisal \n",
      "0-Nasir \n",
      "1-Yasir \n",
      "2-Maryam \n",
      "3-Ali Amin \n",
      "4-Rasheed \n",
      "5-Bhutto \n",
      "6-Zardari \n",
      "7-rashid \n",
      "8-sana \n",
      "9-danish \n",
      "10-faisal \n",
      "0-Nasir \n",
      "1-Yasir \n",
      "2-Maryam \n",
      "3-Ali Amin \n",
      "4-Rasheed \n",
      "5-Bhutto \n",
      "6-Zardari \n",
      "7-rashid \n",
      "8-sana \n",
      "9-danish \n",
      "10-faisal \n",
      "\n"
     ]
    }
   ],
   "source": [
    "with open('aftardinner.txt',\"r+\") as f:\n",
    "#     content = f.read()\n",
    "#     newcont = content.replace(\"Sher\", \"Ali Amin\")\n",
    "#     f.write(newcont)   \n",
    "    \n",
    "    f.write(f.read().replace(\"Sher\",\"Ali Amin\"))\n",
    "    f.seek(0)\n",
    "    print(f.read())\n",
    "    "
   ]
  },
  {
   "cell_type": "code",
   "execution_count": null,
   "id": "50535e31",
   "metadata": {},
   "outputs": [],
   "source": []
  }
 ],
 "metadata": {
  "kernelspec": {
   "display_name": "Python 3 (ipykernel)",
   "language": "python",
   "name": "python3"
  },
  "language_info": {
   "codemirror_mode": {
    "name": "ipython",
    "version": 3
   },
   "file_extension": ".py",
   "mimetype": "text/x-python",
   "name": "python",
   "nbconvert_exporter": "python",
   "pygments_lexer": "ipython3",
   "version": "3.11.4"
  }
 },
 "nbformat": 4,
 "nbformat_minor": 5
}
