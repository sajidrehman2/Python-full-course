{
 "cells": [
  {
   "cell_type": "code",
   "execution_count": 2,
   "id": "8d4f4cbd",
   "metadata": {},
   "outputs": [
    {
     "name": "stdout",
     "output_type": "stream",
     "text": [
      "Enter guest name or press q to quitHaris\n",
      "Enter guest name or press q to quitUmer\n",
      "Enter guest name or press q to quitAli\n",
      "Enter guest name or press q to quitSaad\n",
      "Enter guest name or press q to quitq\n",
      "['Haris', 'Umer', 'Ali', 'Saad']\n"
     ]
    }
   ],
   "source": [
    "guests = []\n",
    "for a in range(10):\n",
    "    name  = input(\"Enter guest name or press q to quit\")\n",
    "    if name !='q':\n",
    "        guests.append(name)\n",
    "    else:\n",
    "        break\n",
    "print(guests)"
   ]
  },
  {
   "cell_type": "code",
   "execution_count": 3,
   "id": "d2a5a26f",
   "metadata": {},
   "outputs": [
    {
     "name": "stdout",
     "output_type": "stream",
     "text": [
      "Enter item or q to quit pizza\n",
      "Enter item or q to quit fries\n",
      "Enter item or q to quit coldrinks\n",
      "Enter item or q to quit q\n",
      "['pizza', 'fries', 'coldrinks']\n"
     ]
    }
   ],
   "source": [
    "order = []\n",
    "for a in range(10):\n",
    "    item = input(\"Enter item or q to quit \")\n",
    "    if item=='q':\n",
    "        break\n",
    "    else:\n",
    "        order.append(item)\n",
    "print(order)"
   ]
  },
  {
   "cell_type": "markdown",
   "id": "e25792bc",
   "metadata": {},
   "source": [
    "# While Loop\n",
    "    - condition"
   ]
  },
  {
   "cell_type": "code",
   "execution_count": 8,
   "id": "fbf328d6",
   "metadata": {},
   "outputs": [
    {
     "name": "stdout",
     "output_type": "stream",
     "text": [
      "1\n",
      "2\n",
      "3\n",
      "4\n",
      "5\n",
      "6\n",
      "7\n",
      "8\n",
      "9\n",
      "10\n",
      "11\n"
     ]
    }
   ],
   "source": [
    "a=0\n",
    "while a<=10:\n",
    "    a+=1 \n",
    "    print(a)"
   ]
  },
  {
   "cell_type": "code",
   "execution_count": 9,
   "id": "851ae340",
   "metadata": {},
   "outputs": [
    {
     "name": "stdout",
     "output_type": "stream",
     "text": [
      "Enter itemA\\\n",
      "Enter itemB\n",
      "Enter itemC\n",
      "Enter itemD\n",
      "Enter itemE\n",
      "Enter itemF\n",
      "Enter itemG\n",
      "Enter itemH\n",
      "Enter itemEI\n",
      "Enter itemJ\n"
     ]
    },
    {
     "data": {
      "text/plain": [
       "['A\\\\', 'B', 'C', 'D', 'E', 'F', 'G', 'H', 'EI', 'J']"
      ]
     },
     "execution_count": 9,
     "metadata": {},
     "output_type": "execute_result"
    }
   ],
   "source": [
    "a = 0 \n",
    "items=[]\n",
    "while a<10:\n",
    "    item = input(\"Enter item\")\n",
    "    items.append(item)\n",
    "    a+=1\n",
    "items"
   ]
  },
  {
   "cell_type": "code",
   "execution_count": 10,
   "id": "6836c068",
   "metadata": {},
   "outputs": [
    {
     "name": "stdout",
     "output_type": "stream",
     "text": [
      "Enter item or q to quitApples\n",
      "Enter item or q to quitOranges\n",
      "Enter item or q to quitq\n"
     ]
    },
    {
     "data": {
      "text/plain": [
       "['Apples', 'Oranges']"
      ]
     },
     "execution_count": 10,
     "metadata": {},
     "output_type": "execute_result"
    }
   ],
   "source": [
    "a = 0 \n",
    "items=[]\n",
    "while a<10:\n",
    "    item = input(\"Enter item or q to quit\")\n",
    "    if item=='q':\n",
    "        break\n",
    "    else:\n",
    "        items.append(item)\n",
    "    a+=1\n",
    "items"
   ]
  },
  {
   "cell_type": "code",
   "execution_count": 12,
   "id": "8526bdb8",
   "metadata": {},
   "outputs": [
    {
     "name": "stdout",
     "output_type": "stream",
     "text": [
      "Enter item or q to quitwe\n",
      "Enter item or q to quitq\n"
     ]
    },
    {
     "data": {
      "text/plain": [
       "['we']"
      ]
     },
     "execution_count": 12,
     "metadata": {},
     "output_type": "execute_result"
    }
   ],
   "source": [
    "items=[]\n",
    "flag = True\n",
    "while flag:\n",
    "    item = input(\"Enter item or q to quit\")\n",
    "    if item=='q':\n",
    "        flag=False\n",
    "    else:\n",
    "        items.append(item)\n",
    "items  \n",
    " "
   ]
  },
  {
   "cell_type": "code",
   "execution_count": null,
   "id": "4294b896",
   "metadata": {},
   "outputs": [],
   "source": [
    "items=[]\n",
    "# flag = True\n",
    "while True:\n",
    "    item = input(\"Enter item or q to quit\")\n",
    "    if item=='q':\n",
    "        break\n",
    "    else:\n",
    "        items.append(item)\n",
    "items  "
   ]
  },
  {
   "cell_type": "markdown",
   "id": "7a6c28b7",
   "metadata": {},
   "source": [
    "# in operator"
   ]
  },
  {
   "cell_type": "code",
   "execution_count": 13,
   "id": "d80f5c23",
   "metadata": {},
   "outputs": [
    {
     "data": {
      "text/plain": [
       "['pizza', 'fries', 'coldrinks']"
      ]
     },
     "execution_count": 13,
     "metadata": {},
     "output_type": "execute_result"
    }
   ],
   "source": [
    "order"
   ]
  },
  {
   "cell_type": "code",
   "execution_count": 15,
   "id": "be9d4792",
   "metadata": {},
   "outputs": [
    {
     "data": {
      "text/plain": [
       "True"
      ]
     },
     "execution_count": 15,
     "metadata": {},
     "output_type": "execute_result"
    }
   ],
   "source": [
    "'pizza' in order"
   ]
  },
  {
   "cell_type": "code",
   "execution_count": 2,
   "id": "594b6abb",
   "metadata": {},
   "outputs": [],
   "source": [
    "shop =['mobile casing','mobile chargers','data cable', 'usb','card reader', 'handsfree', 'bluetooth']"
   ]
  },
  {
   "cell_type": "code",
   "execution_count": 3,
   "id": "0935d2b1",
   "metadata": {},
   "outputs": [
    {
     "name": "stdout",
     "output_type": "stream",
     "text": [
      "Enter item or q to quitmobile\n",
      "mobile not available in shop\n",
      "Enter item or q to quitusb\n",
      "Enter item or q to quitmobile casing\n",
      "Enter item or q to quitmobile\n",
      "mobile not available in shop\n",
      "Enter item or q to quitusb\n",
      "usb already in cart\n",
      "Enter item or q to quitq\n",
      "['usb', 'mobile casing']\n"
     ]
    }
   ],
   "source": [
    "cart = []\n",
    "\n",
    "while True:\n",
    "    item = input(\"Enter item or q to quit\")\n",
    "    if item !=\"q\":\n",
    "        if item in shop:\n",
    "            if item not in cart:\n",
    "                cart.append(item)\n",
    "            else:\n",
    "                print(f\"{item} already in cart\")\n",
    "                \n",
    "        else:\n",
    "            print(f\"{item} not available in shop\")\n",
    "    else:\n",
    "        break       \n",
    "    \n",
    "print(cart)"
   ]
  },
  {
   "cell_type": "code",
   "execution_count": 4,
   "id": "c7bb9174",
   "metadata": {},
   "outputs": [],
   "source": [
    "shop =['mobile casing','mobile chargers','data cable', 'usb','card reader', 'handsfree', 'bluetooth']"
   ]
  },
  {
   "cell_type": "code",
   "execution_count": 5,
   "id": "cb0d779e",
   "metadata": {},
   "outputs": [],
   "source": [
    "cart = []"
   ]
  },
  {
   "cell_type": "code",
   "execution_count": 9,
   "id": "b0993712",
   "metadata": {},
   "outputs": [
    {
     "name": "stdout",
     "output_type": "stream",
     "text": [
      "Enter item or q to quitusb\n"
     ]
    }
   ],
   "source": [
    "item = input(\"Enter item or q to quit\")\n",
    "\n",
    "if item in shop:\n",
    "    if item not in cart:\n",
    "        cart.append(item)\n",
    "    else:\n",
    "        print(f\"{item} already in cart\")\n",
    "\n",
    "else:\n",
    "    print(f\"{item} not available in shop\")     \n"
   ]
  },
  {
   "cell_type": "code",
   "execution_count": 10,
   "id": "d49ecf25",
   "metadata": {},
   "outputs": [
    {
     "data": {
      "text/plain": [
       "['usb']"
      ]
     },
     "execution_count": 10,
     "metadata": {},
     "output_type": "execute_result"
    }
   ],
   "source": [
    "cart"
   ]
  },
  {
   "cell_type": "code",
   "execution_count": 2,
   "id": "8df92b78",
   "metadata": {},
   "outputs": [],
   "source": [
    "shop ={'mobile casing':200,'mobile chargers':300,'data cable':200, 'usb':500,'card reader':50, 'handsfree':800, 'bluetooth':3000}"
   ]
  },
  {
   "cell_type": "code",
   "execution_count": 6,
   "id": "ef615cec",
   "metadata": {},
   "outputs": [
    {
     "name": "stdout",
     "output_type": "stream",
     "text": [
      "Enter item or q to quitusb\n",
      "How many units of usb2\n",
      "Enter item or q to quitdata cabel\n",
      "data cabel not available in shop\n",
      "Enter item or q to quit4\n",
      "4 not available in shop\n",
      "Enter item or q to quitmobile charger\n",
      "mobile charger not available in shop\n",
      "Enter item or q to quithandfrees\n",
      "handfrees not available in shop\n",
      "Enter item or q to quithandsfree\n",
      "How many units of handsfree23\n",
      "Enter item or q to quitq\n",
      "['usb', 'handsfree']\n"
     ]
    },
    {
     "data": {
      "text/plain": [
       "19400"
      ]
     },
     "execution_count": 6,
     "metadata": {},
     "output_type": "execute_result"
    }
   ],
   "source": [
    "cart = []\n",
    "grand_total =0\n",
    "while True:\n",
    "    item = input(\"Enter item or q to quit\")\n",
    "    if item !=\"q\":\n",
    "        if item in shop.keys():\n",
    "            units = int(input(f'How many units of {item}'))\n",
    "            total = shop[item] * units\n",
    "            grand_total +=total            \n",
    "            cart.append(item)\n",
    "        else:\n",
    "            print(f\"{item} not available in shop\")\n",
    "    else:\n",
    "        break       \n",
    "    \n",
    "print(cart)\n",
    "grand_total"
   ]
  },
  {
   "cell_type": "code",
   "execution_count": null,
   "id": "e31d66dd",
   "metadata": {},
   "outputs": [],
   "source": [
    "items=[]\n",
    "for a in range(10):\n",
    "    name=input('enter items')\n",
    "    if items!=usb:\n",
    "        break\n",
    "    else:\n",
    "        order.append(name)\n",
    "        print(items)\n",
    "        "
   ]
  },
  {
   "cell_type": "code",
   "execution_count": null,
   "id": "1c28c1f0",
   "metadata": {},
   "outputs": [],
   "source": []
  },
  {
   "cell_type": "code",
   "execution_count": null,
   "id": "5303c6b2",
   "metadata": {},
   "outputs": [],
   "source": []
  }
 ],
 "metadata": {
  "kernelspec": {
   "display_name": "Python 3 (ipykernel)",
   "language": "python",
   "name": "python3"
  },
  "language_info": {
   "codemirror_mode": {
    "name": "ipython",
    "version": 3
   },
   "file_extension": ".py",
   "mimetype": "text/x-python",
   "name": "python",
   "nbconvert_exporter": "python",
   "pygments_lexer": "ipython3",
   "version": "3.11.4"
  }
 },
 "nbformat": 4,
 "nbformat_minor": 5
}
