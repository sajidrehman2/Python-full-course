{
 "cells": [
  {
   "cell_type": "code",
   "execution_count": 1,
   "id": "64a5c7d1",
   "metadata": {},
   "outputs": [],
   "source": [
    "import math # we easily assess all maths feature"
   ]
  },
  {
   "cell_type": "code",
   "execution_count": 2,
   "id": "1756fa54",
   "metadata": {},
   "outputs": [],
   "source": [
    "import pandas"
   ]
  },
  {
   "cell_type": "code",
   "execution_count": 3,
   "id": "7789f994",
   "metadata": {},
   "outputs": [],
   "source": [
    "import numpy"
   ]
  },
  {
   "cell_type": "markdown",
   "id": "428228f0",
   "metadata": {},
   "source": [
    "# User Defined Modules\n",
    " - Every .py file can be treated as modules\n",
    " - A modules can have variables, functions, classes"
   ]
  },
  {
   "cell_type": "code",
   "execution_count": 4,
   "id": "225551fc",
   "metadata": {},
   "outputs": [
    {
     "name": "stdout",
     "output_type": "stream",
     "text": [
      "\n"
     ]
    }
   ],
   "source": [
    "print() # Docstring:Is use whenever some one use a this function he will easily know which things is required"
   ]
  },
  {
   "cell_type": "code",
   "execution_count": 7,
   "id": "5be4c5a2",
   "metadata": {},
   "outputs": [],
   "source": [
    "import mymodule"
   ]
  },
  {
   "cell_type": "code",
   "execution_count": 6,
   "id": "999990e3",
   "metadata": {},
   "outputs": [
    {
     "data": {
      "text/plain": [
       "'we just create a text file on the name of extra.py and also and also use some code in vs code and create a mymodule and then\\nwe well easily run any time in our system \\nthe advantages of this modules is this to run dlf types of code and also every one use easily use these code and\\nafter d/f function define in d/f people for same making same things then you well Code Reuse: Modules can be imported and used in multiple programs, which allows you to reuse code across projects. ...\\nNamespace Management: Modules provide a way to organize your code and keep track of variables, functions, and classes. '"
      ]
     },
     "execution_count": 6,
     "metadata": {},
     "output_type": "execute_result"
    }
   ],
   "source": [
    "'''we just create a text file on the name of extra.py and also and also use some code in vs code and create a mymodule and then\n",
    "we well easily run any time in our system \n",
    "the advantages of this modules is this to run dlf types of code and also every one use easily use these code and\n",
    "after d/f function define in d/f people for same making same things then you well Code Reuse: Modules can be imported and used in multiple programs, which allows you to reuse code across projects. ...\n",
    "Namespace Management: Modules provide a way to organize your code and keep track of variables, functions, and classes. ''' "
   ]
  },
  {
   "cell_type": "code",
   "execution_count": 10,
   "id": "d5a00e95",
   "metadata": {},
   "outputs": [
    {
     "name": "stdout",
     "output_type": "stream",
     "text": [
      "Welcome Mr. sajid\n",
      "Enter item or q to quitusb\n",
      "How many units of usb3\n",
      "Enter item or q to quitdata cable\n",
      "How many units of data cable3\n",
      "Enter item or q to quitcharger\n",
      "charger not available in shop\n",
      "Enter item or q to quitq\n",
      "['usb', 'data cable']\n",
      "2100\n",
      "Thank you for shopping Mr. sajid\n"
     ]
    }
   ],
   "source": [
    "mymodule.shopping('sajid')"
   ]
  },
  {
   "cell_type": "code",
   "execution_count": 11,
   "id": "cc86002e",
   "metadata": {},
   "outputs": [
    {
     "name": "stdout",
     "output_type": "stream",
     "text": [
      "Hello Mr. sajid.\n"
     ]
    }
   ],
   "source": [
    "mymodule.sayHello('sajid')"
   ]
  },
  {
   "cell_type": "code",
   "execution_count": 13,
   "id": "91486722",
   "metadata": {},
   "outputs": [
    {
     "data": {
      "text/plain": [
       "100"
      ]
     },
     "execution_count": 13,
     "metadata": {},
     "output_type": "execute_result"
    }
   ],
   "source": [
    "mymodule.mark"
   ]
  },
  {
   "cell_type": "code",
   "execution_count": 16,
   "id": "dbd5373f",
   "metadata": {},
   "outputs": [
    {
     "data": {
      "text/plain": [
       "{'mobile casing': 200,\n",
       " 'mobile chargers': 300,\n",
       " 'data cable': 200,\n",
       " 'usb': 500,\n",
       " 'card reader': 50,\n",
       " 'handsfree': 800,\n",
       " 'bluetooth': 3000}"
      ]
     },
     "execution_count": 16,
     "metadata": {},
     "output_type": "execute_result"
    }
   ],
   "source": [
    "mymodule.shop"
   ]
  },
  {
   "cell_type": "markdown",
   "id": "80b2175d",
   "metadata": {},
   "source": [
    "# Expection Handling\n",
    "  - Error Handling\n",
    "  - run time Error \n",
    "  - Exception handling in Python allows you to handle errors gracefully during the execution of your code. It ensures that your program doesn't crash abruptly when unexpected situations occur. Python provides a built-in mechanism for handling exceptions using try, except, else, and finally blocks.\n",
    "\n",
    "Here's a basic overview:\n",
    "\n",
    "try: The code block where you anticipate an exception is placed within the try block.\n",
    "except: If an exception occurs within the try block, Python searches for an except block that matches the type of the exception. If found, the code inside the except block is executed.\n",
    "else (optional): The code inside the else block is executed if no exceptions occur in the try block.\n",
    "finally (optional): The code inside the finally block is always executed, regardless of whether an exception occurred."
   ]
  },
  {
   "cell_type": "code",
   "execution_count": 17,
   "id": "54c130db",
   "metadata": {},
   "outputs": [
    {
     "data": {
      "text/plain": [
       "2.0"
      ]
     },
     "execution_count": 17,
     "metadata": {},
     "output_type": "execute_result"
    }
   ],
   "source": [
    "# a number divide by another number\n",
    "12/6"
   ]
  },
  {
   "cell_type": "code",
   "execution_count": 18,
   "id": "8de7630c",
   "metadata": {},
   "outputs": [
    {
     "ename": "SyntaxError",
     "evalue": "unexpected character after line continuation character (2210249890.py, line 1)",
     "output_type": "error",
     "traceback": [
      "\u001b[1;36m  Cell \u001b[1;32mIn[18], line 1\u001b[1;36m\u001b[0m\n\u001b[1;33m    12\\0\u001b[0m\n\u001b[1;37m       ^\u001b[0m\n\u001b[1;31mSyntaxError\u001b[0m\u001b[1;31m:\u001b[0m unexpected character after line continuation character\n"
     ]
    }
   ],
   "source": [
    "12\\0"
   ]
  },
  {
   "cell_type": "code",
   "execution_count": 19,
   "id": "e6878e18",
   "metadata": {},
   "outputs": [
    {
     "name": "stdout",
     "output_type": "stream",
     "text": [
      "enter a numberten\n"
     ]
    },
    {
     "ename": "ValueError",
     "evalue": "invalid literal for int() with base 10: 'ten'",
     "output_type": "error",
     "traceback": [
      "\u001b[1;31m---------------------------------------------------------------------------\u001b[0m",
      "\u001b[1;31mValueError\u001b[0m                                Traceback (most recent call last)",
      "Cell \u001b[1;32mIn[19], line 1\u001b[0m\n\u001b[1;32m----> 1\u001b[0m num \u001b[38;5;241m=\u001b[39m \u001b[38;5;28mint\u001b[39m(\u001b[38;5;28minput\u001b[39m(\u001b[38;5;124m\"\u001b[39m\u001b[38;5;124menter a number\u001b[39m\u001b[38;5;124m\"\u001b[39m))\n",
      "\u001b[1;31mValueError\u001b[0m: invalid literal for int() with base 10: 'ten'"
     ]
    }
   ],
   "source": [
    "num = int(input(\"enter a number\"))\n"
   ]
  },
  {
   "cell_type": "markdown",
   "id": "cce97581",
   "metadata": {},
   "source": [
    "# python Error And how to fix that all error\n",
    "  - NameError\n",
    "\n",
    "        AttributeError\n",
    "        IndexError\n",
    "        MemoryError\n",
    "        KeyError\n",
    "        TypeError\n",
    "        AssertionError\n",
    "        ImportError\n",
    "        EOFErrorSyntaxError\n",
    "        FloatingPointError\n",
    "        KeyboardInterrupt\n",
    "        ModuleNotFoundError\n",
    "        NotImplementedError\n",
    "        OverflowError\n",
    "        RuntimeError\n",
    "        GeneratorExit\n",
    "        Logical errors\n",
    "        ReferenceError\n",
    "        StopIteration\n",
    "        ZeroDivisionError\n",
    "        Exception\n",
    "        UnboundLocalError\n",
    "        Show less\n"
   ]
  },
  {
   "cell_type": "code",
   "execution_count": 21,
   "id": "3c926b39",
   "metadata": {},
   "outputs": [
    {
     "name": "stdout",
     "output_type": "stream",
     "text": [
      "enter a number0\n"
     ]
    },
    {
     "ename": "ZeroDivisionError",
     "evalue": "division by zero",
     "output_type": "error",
     "traceback": [
      "\u001b[1;31m---------------------------------------------------------------------------\u001b[0m",
      "\u001b[1;31mZeroDivisionError\u001b[0m                         Traceback (most recent call last)",
      "Cell \u001b[1;32mIn[21], line 4\u001b[0m\n\u001b[0;32m      2\u001b[0m b\u001b[38;5;241m=\u001b[39m\u001b[38;5;241m200\u001b[39m\n\u001b[0;32m      3\u001b[0m num \u001b[38;5;241m=\u001b[39m \u001b[38;5;28mint\u001b[39m(\u001b[38;5;28minput\u001b[39m(\u001b[38;5;124m\"\u001b[39m\u001b[38;5;124menter a number\u001b[39m\u001b[38;5;124m\"\u001b[39m))\n\u001b[1;32m----> 4\u001b[0m b\u001b[38;5;241m/\u001b[39mnum\n",
      "\u001b[1;31mZeroDivisionError\u001b[0m: division by zero"
     ]
    }
   ],
   "source": [
    "a=100\n",
    "b=200\n",
    "num = int(input(\"enter a number\"))\n",
    "b/num\n"
   ]
  },
  {
   "cell_type": "code",
   "execution_count": 29,
   "id": "1654c76f",
   "metadata": {},
   "outputs": [
    {
     "name": "stdout",
     "output_type": "stream",
     "text": [
      "enter a number100\n",
      "enter a number\n",
      "value error\n",
      "koi chalay  ya na chalay finally to chaleaga\n"
     ]
    }
   ],
   "source": [
    "\n",
    "try:\n",
    "    num1 = int(input(\"enter a number\"))\n",
    "    num2 = int(input(\"enter a number\"))\n",
    "    res=num1/num2\n",
    "except ZeroDivisionError:\n",
    "    print(\"zero error occure \")\n",
    "except ValueError:\n",
    "    print(\"value error\")\n",
    "except IndentationError:\n",
    "    print(\"indentationerror\")\n",
    "except IndexError:\n",
    "    print(\"index error\")\n",
    "else:\n",
    "    print(\"res\")\n",
    "finally:\n",
    "    print(\"koi chalay  ya na chalay finally to chaleaga\")\n",
    "    \n",
    "    # he try block lets you test a block of code for errors. The except block lets you handle the error. The finally block lets you execute code, regardless of the result of the try- and except blocks. \n",
    "    # It defines a block of code to run when the try... except...else block is final. The finally block will be executed no matter if the try block raises an error or not. This can be useful to close objects and clean up resources."
   ]
  },
  {
   "cell_type": "code",
   "execution_count": 32,
   "id": "84ace396",
   "metadata": {},
   "outputs": [
    {
     "name": "stdout",
     "output_type": "stream",
     "text": [
      "enter a number100\n",
      "enter a number0\n",
      "division by zero\n",
      "koi chalay  ya na chalay finally to chaleaga\n"
     ]
    }
   ],
   "source": [
    "try:\n",
    "    num1 = int(input(\"enter a number\"))\n",
    "    num2 = int(input(\"enter a number\"))\n",
    "    res=num1/num2\n",
    "except Exception as e: # this is show all type of error and prevent program for crush\n",
    "    print(e)\n",
    "\n",
    "else:\n",
    "    print(\"res\")\n",
    "finally:\n",
    "    print(\"koi chalay  ya na chalay finally to chaleaga\")\n",
    "    "
   ]
  },
  {
   "cell_type": "markdown",
   "id": "ba9d74dd",
   "metadata": {},
   "source": [
    "# except Exception as e:\n",
    "### it show all types error and also prevent code from crush\n",
    "### Error Handling: Python raises an exception whenever an error occurs during runtime. Python's default exception-handling kicks in, stopping the program and printing an error message as shown in the above example. You can change the default behavior by defining custom exception handling."
   ]
  },
  {
   "cell_type": "code",
   "execution_count": 3,
   "id": "5bd647f8",
   "metadata": {},
   "outputs": [
    {
     "name": "stdout",
     "output_type": "stream",
     "text": [
      "enter a number10\n",
      "enter a number0\n"
     ]
    }
   ],
   "source": [
    "try:\n",
    "    num1=int(input(\"enter a number\"))\n",
    "    num2=int(input(\"enter a number\"))\n",
    "    \n",
    "except Exception as e:\n",
    "        print(e)\n",
    "        \n",
    "        "
   ]
  },
  {
   "cell_type": "code",
   "execution_count": 5,
   "id": "119b07a8",
   "metadata": {},
   "outputs": [
    {
     "ename": "ModuleNotFoundError",
     "evalue": "No module named 'my_modeule'",
     "output_type": "error",
     "traceback": [
      "\u001b[1;31m---------------------------------------------------------------------------\u001b[0m",
      "\u001b[1;31mModuleNotFoundError\u001b[0m                       Traceback (most recent call last)",
      "Cell \u001b[1;32mIn[5], line 1\u001b[0m\n\u001b[1;32m----> 1\u001b[0m \u001b[38;5;28;01mimport\u001b[39;00m \u001b[38;5;21;01mmy_modeule\u001b[39;00m\n",
      "\u001b[1;31mModuleNotFoundError\u001b[0m: No module named 'my_modeule'"
     ]
    }
   ],
   "source": [
    "import my_modeule"
   ]
  },
  {
   "cell_type": "code",
   "execution_count": 3,
   "id": "935395d4",
   "metadata": {},
   "outputs": [
    {
     "ename": "TypeError",
     "evalue": "'module' object is not callable",
     "output_type": "error",
     "traceback": [
      "\u001b[1;31m---------------------------------------------------------------------------\u001b[0m",
      "\u001b[1;31mTypeError\u001b[0m                                 Traceback (most recent call last)",
      "Cell \u001b[1;32mIn[3], line 1\u001b[0m\n\u001b[1;32m----> 1\u001b[0m mypy_extensions()\n",
      "\u001b[1;31mTypeError\u001b[0m: 'module' object is not callable"
     ]
    }
   ],
   "source": []
  },
  {
   "cell_type": "code",
   "execution_count": 11,
   "id": "2466bae8",
   "metadata": {},
   "outputs": [
    {
     "name": "stdout",
     "output_type": "stream",
     "text": [
      "enter a number100\n",
      "enter a number0\n",
      "hi bilionair\n"
     ]
    },
    {
     "ename": "NameError",
     "evalue": "name 'e' is not defined",
     "output_type": "error",
     "traceback": [
      "\u001b[1;31m---------------------------------------------------------------------------\u001b[0m",
      "\u001b[1;31mZeroDivisionError\u001b[0m                         Traceback (most recent call last)",
      "Cell \u001b[1;32mIn[11], line 4\u001b[0m\n\u001b[0;32m      3\u001b[0m     num2\u001b[38;5;241m=\u001b[39m\u001b[38;5;28mint\u001b[39m(\u001b[38;5;28minput\u001b[39m(\u001b[38;5;124m\"\u001b[39m\u001b[38;5;124menter a number\u001b[39m\u001b[38;5;124m\"\u001b[39m))\n\u001b[1;32m----> 4\u001b[0m     res\u001b[38;5;241m=\u001b[39mnum1\u001b[38;5;241m/\u001b[39mnum2\n\u001b[0;32m      5\u001b[0m \u001b[38;5;28;01mexcept\u001b[39;00m \u001b[38;5;167;01mException\u001b[39;00m \u001b[38;5;129;01mis\u001b[39;00m e:\n",
      "\u001b[1;31mZeroDivisionError\u001b[0m: division by zero",
      "\nDuring handling of the above exception, another exception occurred:\n",
      "\u001b[1;31mNameError\u001b[0m                                 Traceback (most recent call last)",
      "Cell \u001b[1;32mIn[11], line 5\u001b[0m\n\u001b[0;32m      3\u001b[0m     num2\u001b[38;5;241m=\u001b[39m\u001b[38;5;28mint\u001b[39m(\u001b[38;5;28minput\u001b[39m(\u001b[38;5;124m\"\u001b[39m\u001b[38;5;124menter a number\u001b[39m\u001b[38;5;124m\"\u001b[39m))\n\u001b[0;32m      4\u001b[0m     res\u001b[38;5;241m=\u001b[39mnum1\u001b[38;5;241m/\u001b[39mnum2\n\u001b[1;32m----> 5\u001b[0m \u001b[38;5;28;01mexcept\u001b[39;00m \u001b[38;5;167;01mException\u001b[39;00m \u001b[38;5;129;01mis\u001b[39;00m e:\n\u001b[0;32m      6\u001b[0m     \u001b[38;5;28mprint\u001b[39m(e)\n\u001b[0;32m      7\u001b[0m \u001b[38;5;28;01melse\u001b[39;00m:\n",
      "\u001b[1;31mNameError\u001b[0m: name 'e' is not defined"
     ]
    }
   ],
   "source": [
    "try:\n",
    "    num1=int(input(\"enter a number\"))\n",
    "    num2=int(input(\"enter a number\"))\n",
    "    res=num1/num2\n",
    "except Exception as e:\n",
    "    print(e)\n",
    "else:\n",
    "    print(res)\n",
    "finally:\n",
    "    print(\"hi bilionair\")\n",
    "    "
   ]
  },
  {
   "cell_type": "code",
   "execution_count": 12,
   "id": "ae076e04",
   "metadata": {},
   "outputs": [
    {
     "name": "stdout",
     "output_type": "stream",
     "text": [
      "enter a number100\n",
      "enter a number0\n",
      "division by zero\n",
      "koi chalay  ya na chalay finally to chaleaga\n"
     ]
    }
   ],
   "source": [
    "try:\n",
    "    num1 = int(input(\"enter a number\"))\n",
    "    num2 = int(input(\"enter a number\"))\n",
    "    res=num1/num2\n",
    "except Exception as e: # this is show all type of error and prevent program for crush\n",
    "    print(e)\n",
    "\n",
    "else:\n",
    "    print(\"res\")\n",
    "finally:\n",
    "    print(\"koi chalay  ya na chalay finally to chaleaga\")\n",
    "    "
   ]
  },
  {
   "cell_type": "code",
   "execution_count": null,
   "id": "8d9cdc43",
   "metadata": {},
   "outputs": [],
   "source": []
  }
 ],
 "metadata": {
  "kernelspec": {
   "display_name": "Python 3 (ipykernel)",
   "language": "python",
   "name": "python3"
  },
  "language_info": {
   "codemirror_mode": {
    "name": "ipython",
    "version": 3
   },
   "file_extension": ".py",
   "mimetype": "text/x-python",
   "name": "python",
   "nbconvert_exporter": "python",
   "pygments_lexer": "ipython3",
   "version": "3.11.4"
  }
 },
 "nbformat": 4,
 "nbformat_minor": 5
}
