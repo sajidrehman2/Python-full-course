{
 "cells": [
  {
   "cell_type": "code",
   "execution_count": 7,
   "id": "9448a7ea",
   "metadata": {},
   "outputs": [],
   "source": [
    "shop ={'mobile casing':200,'mobile chargers':300,'data cable':200, 'usb':500,'card reader':50, 'handsfree':800, 'bluetooth':3000}\n",
    "\n",
    "\n",
    "def shopping(name): \n",
    "    print(f\"Welcome Mr. {name}\")\n",
    "    cart = []\n",
    "    grand_total =0\n",
    "    while True:\n",
    "        item = input(\"Enter item or q to quit\")\n",
    "        if item !=\"q\":\n",
    "            if item in shop.keys():\n",
    "                units = int(input(f'How many units of {item}'))\n",
    "                total = shop[item] * units\n",
    "                grand_total +=total            \n",
    "                cart.append(item)\n",
    "            else:\n",
    "                print(f\"{item} not available in shop\")\n",
    "        else:\n",
    "            break       \n",
    "    tax = tax_calc(grand_total)\n",
    "    disc = discount_calc(grand_total)\n",
    "    print(f\"\"\"    \n",
    "    \n",
    "    Items : {cart}\n",
    "    \n",
    "    Total Amount : {grand_total}\n",
    "    \n",
    "    Tax Applied : {tax}\n",
    "    \n",
    "    Discount Offered : {disc}\n",
    "    \n",
    "    \n",
    "    Bill Payable: {grand_total-disc + tax} \n",
    "    \n",
    "    \n",
    "    \n",
    "    \"\"\")\n"
   ]
  },
  {
   "cell_type": "code",
   "execution_count": 8,
   "id": "eaea3f75",
   "metadata": {},
   "outputs": [
    {
     "name": "stdout",
     "output_type": "stream",
     "text": [
      "Welcome Mr. sajid\n",
      "Enter item or q to quitusb\n",
      "How many units of usb8\n",
      "Enter item or q to quitmobile charger\n",
      "mobile charger not available in shop\n",
      "Enter item or q to quitdata cabel\n",
      "data cabel not available in shop\n",
      "Enter item or q to quitdata cable\n",
      "How many units of data cable6\n",
      "Enter item or q to quitcard reader\n",
      "How many units of card reader8\n",
      "Enter item or q to quithandsfree\n",
      "How many units of handsfree8\n",
      "Enter item or q to quitq\n",
      "    \n",
      "    \n",
      "    Items : ['usb', 'data cable', 'card reader', 'handsfree']\n",
      "    \n",
      "    Total Amount : 12000\n",
      "    \n",
      "    Tax Applied : 120.0\n",
      "    \n",
      "    Discount Offered : 600.0\n",
      "    \n",
      "    \n",
      "    Bill Payable: 11520.0 \n",
      "    \n",
      "    \n",
      "    \n",
      "    \n"
     ]
    }
   ],
   "source": [
    "shopping('sajid')"
   ]
  },
  {
   "cell_type": "code",
   "execution_count": 2,
   "id": "02e5af92",
   "metadata": {},
   "outputs": [],
   "source": [
    "def roti_pakao(amt):\n",
    "    \n",
    "    # local variables\n",
    "    nums = int(amt/20)\n",
    "    \n",
    "    return nums"
   ]
  },
  {
   "cell_type": "code",
   "execution_count": 1,
   "id": "918b2ea6",
   "metadata": {},
   "outputs": [],
   "source": [
    "def discount_calc(total_amt):\n",
    "    if total_amt >=100000:\n",
    "        disc = total_amt*.25\n",
    "    \n",
    "    elif total_amt>=75000:\n",
    "        disc = total_amt*.20\n",
    "    \n",
    "    elif total_amt>=50000:\n",
    "        disc = total_amt*.15\n",
    "        \n",
    "    elif total_amt>=25000:\n",
    "        disc = total_amt*.10\n",
    "        \n",
    "    elif total_amt>=10000:\n",
    "        disc = total_amt*.05\n",
    "        \n",
    "    elif total_amt>=5000:\n",
    "        disc = total_amt*.02\n",
    "    else:\n",
    "        disc = total_amt*0\n",
    "        \n",
    "    return disc        "
   ]
  },
  {
   "cell_type": "code",
   "execution_count": null,
   "id": "87cd43da",
   "metadata": {},
   "outputs": [],
   "source": []
  },
  {
   "cell_type": "code",
   "execution_count": 3,
   "id": "44c39d7a",
   "metadata": {},
   "outputs": [],
   "source": [
    "rotis =roti_pakao(200)"
   ]
  },
  {
   "cell_type": "code",
   "execution_count": 4,
   "id": "8043e6e1",
   "metadata": {},
   "outputs": [
    {
     "name": "stdout",
     "output_type": "stream",
     "text": [
      "10\n"
     ]
    }
   ],
   "source": [
    "print(rotis)"
   ]
  },
  {
   "cell_type": "code",
   "execution_count": 5,
   "id": "1deaf20c",
   "metadata": {},
   "outputs": [],
   "source": [
    "def tax_calc(total_amt):\n",
    "    if total_amt >=100000:\n",
    "        tax = total_amt*.10\n",
    "    \n",
    "    elif total_amt>=75000:\n",
    "        tax = total_amt*.075\n",
    "    \n",
    "    elif total_amt>=50000:\n",
    "        tax = total_amt*.05\n",
    "        \n",
    "    elif total_amt>=25000:\n",
    "        tax = total_amt*.02\n",
    "        \n",
    "    elif total_amt>=10000:\n",
    "        tax = total_amt*.01\n",
    "        \n",
    "    else:\n",
    "        tax = total_amt*0\n",
    "        \n",
    "    return tax"
   ]
  },
  {
   "cell_type": "code",
   "execution_count": 6,
   "id": "c269ac08",
   "metadata": {},
   "outputs": [
    {
     "ename": "NameError",
     "evalue": "name 'shopping' is not defined",
     "output_type": "error",
     "traceback": [
      "\u001b[1;31m---------------------------------------------------------------------------\u001b[0m",
      "\u001b[1;31mNameError\u001b[0m                                 Traceback (most recent call last)",
      "Cell \u001b[1;32mIn[6], line 1\u001b[0m\n\u001b[1;32m----> 1\u001b[0m shopping(\u001b[38;5;124m'\u001b[39m\u001b[38;5;124mdanish\u001b[39m\u001b[38;5;124m'\u001b[39m)\n",
      "\u001b[1;31mNameError\u001b[0m: name 'shopping' is not defined"
     ]
    }
   ],
   "source": [
    "shopping('danish')"
   ]
  },
  {
   "cell_type": "markdown",
   "id": "53b978f5",
   "metadata": {},
   "source": [
    "# Positional Arguments and Keywords Arguments"
   ]
  },
  {
   "cell_type": "markdown",
   "id": "94b2a781",
   "metadata": {},
   "source": [
    "#### Positional Arguments"
   ]
  },
  {
   "cell_type": "code",
   "execution_count": 9,
   "id": "aa95fa8e",
   "metadata": {},
   "outputs": [],
   "source": [
    "def naming(name, fname):\n",
    "    print(f\"Your name is {name} you father name is {fname}\")"
   ]
  },
  {
   "cell_type": "code",
   "execution_count": 10,
   "id": "345a6147",
   "metadata": {},
   "outputs": [
    {
     "name": "stdout",
     "output_type": "stream",
     "text": [
      "Your name is Tariq you father name is Fazal\n"
     ]
    }
   ],
   "source": [
    "naming('Tariq', 'Fazal')"
   ]
  },
  {
   "cell_type": "code",
   "execution_count": 11,
   "id": "92b09deb",
   "metadata": {},
   "outputs": [
    {
     "name": "stdout",
     "output_type": "stream",
     "text": [
      "Your name is Fazal you father name is Tariq\n"
     ]
    }
   ],
   "source": [
    "naming('Fazal','Tariq')"
   ]
  },
  {
   "cell_type": "markdown",
   "id": "480682d7",
   "metadata": {},
   "source": [
    "#### Keywords Arguments¶"
   ]
  },
  {
   "cell_type": "code",
   "execution_count": 12,
   "id": "6797e4a2",
   "metadata": {},
   "outputs": [
    {
     "name": "stdout",
     "output_type": "stream",
     "text": [
      "Your name is Tariq you father name is Fazal\n"
     ]
    }
   ],
   "source": [
    "naming(fname='Fazal',name ='Tariq')"
   ]
  },
  {
   "cell_type": "markdown",
   "id": "ed82a0e8",
   "metadata": {},
   "source": [
    "# Default Paramters (Values )"
   ]
  },
  {
   "cell_type": "code",
   "execution_count": 13,
   "id": "472cf747",
   "metadata": {},
   "outputs": [],
   "source": [
    "def naming(name, fname='Abbu'):\n",
    "    print(f\"Your name is {name} you father name is {fname}\")"
   ]
  },
  {
   "cell_type": "code",
   "execution_count": 59,
   "id": "a409469e",
   "metadata": {},
   "outputs": [
    {
     "name": "stdout",
     "output_type": "stream",
     "text": [
      "Your name is Nasir you father name is Abbu\n"
     ]
    }
   ],
   "source": [
    "naming('Nasir')"
   ]
  },
  {
   "cell_type": "code",
   "execution_count": 60,
   "id": "2578bb07",
   "metadata": {},
   "outputs": [
    {
     "name": "stdout",
     "output_type": "stream",
     "text": [
      "Your name is Don you father name is Juga Don\n"
     ]
    }
   ],
   "source": [
    "naming('Don', 'Juga Don')"
   ]
  },
  {
   "cell_type": "markdown",
   "id": "50bd598a",
   "metadata": {},
   "source": [
    "#### Mix of Positional and Keywords Arguments "
   ]
  },
  {
   "cell_type": "code",
   "execution_count": 63,
   "id": "80c2efc4",
   "metadata": {},
   "outputs": [],
   "source": [
    "def print_biodata(father, education, age, city,  name='student'):\n",
    "    print(name)\n",
    "    print(father)\n",
    "    print(age)\n",
    "    print(city)\n",
    "    print(education)"
   ]
  },
  {
   "cell_type": "code",
   "execution_count": 70,
   "id": "e1608f44",
   "metadata": {},
   "outputs": [
    {
     "name": "stdout",
     "output_type": "stream",
     "text": [
      "student\n",
      "ali\n",
      "Graduate\n",
      "23\n",
      "Lahore\n"
     ]
    }
   ],
   "source": [
    "print_biodata('ali', \"Graduate\", 23, 'Lahore')"
   ]
  },
  {
   "cell_type": "code",
   "execution_count": 16,
   "id": "612afe50",
   "metadata": {},
   "outputs": [],
   "source": [
    "# Write a function that return number of characters , numbers in a txt provided. \n",
    "txt = '''OnE advantage of functions is the way they separate blocks of code from\n",
    "your main program. 23 By using descriptive names for your functions, your\n",
    "main 21 program will be much easier to follow. You can go a step further by\n",
    "storing your functions in a separate 123file called a module and then importing\n",
    "that module into your main program. An import statement tells Python to\n",
    "make the code in a module available in the currently running program file 567.'''"
   ]
  },
  {
   "cell_type": "code",
   "execution_count": 17,
   "id": "32679e1f",
   "metadata": {},
   "outputs": [],
   "source": [
    "def char_counter(txt):\n",
    "    chars = 0\n",
    "    digits= 0\n",
    "    for char in txt:\n",
    "        if char.isalpha():\n",
    "            chars +=1\n",
    "        elif char.isdigit():\n",
    "            digits +=1\n",
    "        else:\n",
    "            continue\n",
    "    return chars,digits      \n",
    "            "
   ]
  },
  {
   "cell_type": "code",
   "execution_count": 18,
   "id": "ce206274",
   "metadata": {},
   "outputs": [
    {
     "name": "stdout",
     "output_type": "stream",
     "text": [
      "Characters : 358, Digits are: 10\n"
     ]
    }
   ],
   "source": [
    "n_char, n_dig = char_counter(txt)\n",
    "print(f\"Characters : {n_char}, Digits are: {n_dig}\")"
   ]
  },
  {
   "cell_type": "code",
   "execution_count": 19,
   "id": "aed18475",
   "metadata": {},
   "outputs": [],
   "source": [
    "def words(txt):\n",
    "    words = 1\n",
    "    for char in txt:\n",
    "        if char==' ':\n",
    "            words+=1\n",
    "    return words"
   ]
  },
  {
   "cell_type": "code",
   "execution_count": 20,
   "id": "0fa0ccf3",
   "metadata": {},
   "outputs": [
    {
     "name": "stdout",
     "output_type": "stream",
     "text": [
      "7\n"
     ]
    }
   ],
   "source": [
    "print(words(\"One advantage of functions is the way\"))"
   ]
  },
  {
   "cell_type": "code",
   "execution_count": 21,
   "id": "df7984ea",
   "metadata": {},
   "outputs": [],
   "source": [
    "def words(txt):    \n",
    "    return len(txt.split(\" \"))"
   ]
  },
  {
   "cell_type": "code",
   "execution_count": 22,
   "id": "ddb2ab38",
   "metadata": {},
   "outputs": [
    {
     "name": "stdout",
     "output_type": "stream",
     "text": [
      "7\n"
     ]
    }
   ],
   "source": [
    "print(words(\"One advantage of functions is the way\"))"
   ]
  },
  {
   "cell_type": "code",
   "execution_count": 23,
   "id": "0ef38ac3",
   "metadata": {},
   "outputs": [],
   "source": [
    "def upper_count(txt):\n",
    "    uppers = 0\n",
    "    for a in txt:\n",
    "        if a.isupper():\n",
    "            uppers+=1\n",
    "    return uppers\n",
    "            "
   ]
  },
  {
   "cell_type": "code",
   "execution_count": 24,
   "id": "5f45faaf",
   "metadata": {},
   "outputs": [
    {
     "data": {
      "text/plain": [
       "1"
      ]
     },
     "execution_count": 24,
     "metadata": {},
     "output_type": "execute_result"
    }
   ],
   "source": [
    "upper_count(\"One advantage of functions is the way\")"
   ]
  },
  {
   "cell_type": "code",
   "execution_count": 25,
   "id": "fa1e1559",
   "metadata": {},
   "outputs": [
    {
     "data": {
      "text/plain": [
       "6"
      ]
     },
     "execution_count": 25,
     "metadata": {},
     "output_type": "execute_result"
    }
   ],
   "source": [
    "upper_count(txt)"
   ]
  },
  {
   "cell_type": "code",
   "execution_count": 26,
   "id": "c59c1f58",
   "metadata": {},
   "outputs": [],
   "source": [
    "import random"
   ]
  },
  {
   "cell_type": "code",
   "execution_count": 27,
   "id": "bd545e9f",
   "metadata": {},
   "outputs": [],
   "source": [
    "def luckDraw():\n",
    "    lucky_number = int(input(\"Enter your luck number 1-10\"))\n",
    "    number = random.randint(1,10)\n",
    "    if number ==lucky_number:\n",
    "        print(f\"{ lucky_number} You Win!!! {number}\")\n",
    "    else:\n",
    "        print(F\"{lucky_number} You Loss {number}\")"
   ]
  },
  {
   "cell_type": "code",
   "execution_count": 31,
   "id": "1504aae0",
   "metadata": {},
   "outputs": [
    {
     "name": "stdout",
     "output_type": "stream",
     "text": [
      "Enter your luck number 1-107\n",
      "7 You Loss 1\n"
     ]
    }
   ],
   "source": [
    "luckDraw()\n"
   ]
  },
  {
   "cell_type": "code",
   "execution_count": null,
   "id": "c8940ee5",
   "metadata": {},
   "outputs": [],
   "source": [
    "shop = {'apple': 150, 'banana': 50, 'orange': 100, 'grapes': 200, 'mango': 300, 'pineapple': 250, 'watermelon': 400}\n",
    "\n",
    "def tax_calc(amount):\n",
    "    return amount * 0.05  # assuming a 5% tax rate\n",
    "\n",
    "def discount_calc(amount):\n",
    "    if amount > 1000:\n",
    "        return amount * 0.10  # 10% discount for amounts over 1000\n",
    "    else:\n",
    "        return 0\n",
    "\n",
    "def fruits_shopping(name):\n",
    "    print(f\"Welcome Mr.{name}\")\n",
    "    cart = []\n",
    "    grand_total = 0\n",
    "    \n",
    "    while True:\n",
    "        item = input('Enter item or q to quit: ')\n",
    "        if item != 'q':\n",
    "            if item in shop:\n",
    "                units = int(input(f'Enter how many {item}: '))\n",
    "                total = shop[item] * units\n",
    "                grand_total += total\n",
    "                cart.append((item, units, total))\n",
    "            else:\n",
    "                print(f'{item} is not available in the shop')\n",
    "        else:\n",
    "            break\n",
    "\n",
    "    tax = tax_calc(grand_total)\n",
    "    disc = discount_calc(grand_total)\n",
    "    \n",
    "    print(f\"\"\"\n",
    "    Items: {cart}\n",
    "    \n",
    "    Total Amount: {grand_total}\n",
    "    \n",
    "    Tax Applied: {tax}\n",
    "    \n",
    "    Discount Offered: {disc}\n",
    "    \n",
    "    Bill Payable: {grand_total - disc + tax}\n",
    "    \"\"\")\n",
    "\n",
    "# Example usage\n",
    "fruits_shopping(\"sajid\")\n",
    "\n"
   ]
  },
  {
   "cell_type": "code",
   "execution_count": 38,
   "id": "3190678c",
   "metadata": {},
   "outputs": [],
   "source": [
    "def discount_calc(total_amt):\n",
    "    if total_amt >=100000:\n",
    "        disc = total_amt*.25\n",
    "    \n",
    "    elif total_amt>=75000:\n",
    "        disc = total_amt*.20\n",
    "    \n",
    "    elif total_amt>=50000:\n",
    "        disc = total_amt*.15\n",
    "        \n",
    "    elif total_amt>=25000:\n",
    "        disc = total_amt*.10\n",
    "        \n",
    "    elif total_amt>=10000:\n",
    "        disc = total_amt*.05\n",
    "        \n",
    "    elif total_amt>=5000:\n",
    "        disc = total_amt*.02\n",
    "    else:\n",
    "        disc = total_amt*0\n",
    "        \n",
    "    return disc        "
   ]
  },
  {
   "cell_type": "code",
   "execution_count": 34,
   "id": "b87d144c",
   "metadata": {},
   "outputs": [],
   "source": [
    "def tax_calc(total_amt):\n",
    "    if total_amt >=100000:\n",
    "        tax = total_amt*.10\n",
    "    \n",
    "    elif total_amt>=75000:\n",
    "        tax = total_amt*.075\n",
    "    \n",
    "    elif total_amt>=50000:\n",
    "        tax = total_amt*.05\n",
    "        \n",
    "    elif total_amt>=25000:\n",
    "        tax = total_amt*.02\n",
    "        \n",
    "    elif total_amt>=10000:\n",
    "        tax = total_amt*.01\n",
    "        \n",
    "    else:\n",
    "        tax = total_amt*0\n",
    "        \n",
    "    return tax"
   ]
  },
  {
   "cell_type": "code",
   "execution_count": null,
   "id": "c9e742c1",
   "metadata": {},
   "outputs": [],
   "source": []
  }
 ],
 "metadata": {
  "kernelspec": {
   "display_name": "Python 3 (ipykernel)",
   "language": "python",
   "name": "python3"
  },
  "language_info": {
   "codemirror_mode": {
    "name": "ipython",
    "version": 3
   },
   "file_extension": ".py",
   "mimetype": "text/x-python",
   "name": "python",
   "nbconvert_exporter": "python",
   "pygments_lexer": "ipython3",
   "version": "3.11.4"
  }
 },
 "nbformat": 4,
 "nbformat_minor": 5
}
