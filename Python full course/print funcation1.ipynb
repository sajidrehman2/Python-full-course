{
 "cells": [
  {
   "cell_type": "code",
   "execution_count": 1,
   "id": "1c5dd95e",
   "metadata": {},
   "outputs": [
    {
     "name": "stdout",
     "output_type": "stream",
     "text": [
      "9\n"
     ]
    }
   ],
   "source": [
    "print(2+7)"
   ]
  },
  {
   "cell_type": "code",
   "execution_count": 2,
   "id": "59eb3ab8",
   "metadata": {},
   "outputs": [
    {
     "data": {
      "text/plain": [
       "int"
      ]
     },
     "execution_count": 2,
     "metadata": {},
     "output_type": "execute_result"
    }
   ],
   "source": [
    "type(2+7)"
   ]
  },
  {
   "cell_type": "code",
   "execution_count": 3,
   "id": "99ff198a",
   "metadata": {},
   "outputs": [
    {
     "name": "stdout",
     "output_type": "stream",
     "text": [
      "6.3\n"
     ]
    }
   ],
   "source": [
    "print(2.3+4.0)"
   ]
  },
  {
   "cell_type": "code",
   "execution_count": 4,
   "id": "372b1c1a",
   "metadata": {},
   "outputs": [
    {
     "data": {
      "text/plain": [
       "float"
      ]
     },
     "execution_count": 4,
     "metadata": {},
     "output_type": "execute_result"
    }
   ],
   "source": [
    "type(2.3+4.0)"
   ]
  },
  {
   "cell_type": "code",
   "execution_count": 9,
   "id": "e9a3e2c1",
   "metadata": {},
   "outputs": [
    {
     "name": "stdout",
     "output_type": "stream",
     "text": [
      "afzal\n",
      "raza min\n"
     ]
    }
   ],
   "source": [
    "# print your name and also you father name\n",
    "print(\"afzal\")\n",
    "print(\"raza min\")"
   ]
  },
  {
   "cell_type": "code",
   "execution_count": 12,
   "id": "f4de06ba",
   "metadata": {},
   "outputs": [
    {
     "name": "stdout",
     "output_type": "stream",
     "text": [
      "'name:afzal','father_name:raza min'\n"
     ]
    }
   ],
   "source": [
    "print(\"'name:afzal','father_name:raza min'\")"
   ]
  },
  {
   "cell_type": "code",
   "execution_count": 13,
   "id": "f4ca85db",
   "metadata": {},
   "outputs": [
    {
     "name": "stdout",
     "output_type": "stream",
     "text": [
      "10\n",
      "20\n"
     ]
    }
   ],
   "source": [
    "# print a number whose sum wquall to 10\n",
    "# print a number whose sum wquall to 20\n",
    "print(5+5)\n",
    "print(18+2)"
   ]
  },
  {
   "cell_type": "code",
   "execution_count": 14,
   "id": "a45d03bf",
   "metadata": {},
   "outputs": [
    {
     "name": "stdout",
     "output_type": "stream",
     "text": [
      "today the weater conditon is good\n"
     ]
    }
   ],
   "source": [
    "# print a today the weater conditon is good\n",
    "print(\"today the weater conditon is good\")"
   ]
  },
  {
   "cell_type": "code",
   "execution_count": 16,
   "id": "3d52c4f1",
   "metadata": {},
   "outputs": [
    {
     "name": "stdout",
     "output_type": "stream",
     "text": [
      "the sum of two number is  5\n"
     ]
    }
   ],
   "source": [
    "print(f\"the sum of two number is \",3+2)"
   ]
  },
  {
   "cell_type": "code",
   "execution_count": 17,
   "id": "9b106998",
   "metadata": {},
   "outputs": [
    {
     "name": "stdout",
     "output_type": "stream",
     "text": [
      "subtrication of two value is  200\n"
     ]
    }
   ],
   "source": [
    "# print a subtrication of two value such 700 - 5000 \n",
    "print(\"subtrication of two value is \",700-500)"
   ]
  },
  {
   "cell_type": "code",
   "execution_count": 18,
   "id": "49341451",
   "metadata": {},
   "outputs": [
    {
     "name": "stdout",
     "output_type": "stream",
     "text": [
      "sajid\n"
     ]
    }
   ],
   "source": [
    "print(\"sajid\")"
   ]
  },
  {
   "cell_type": "code",
   "execution_count": 20,
   "id": "93aefc31",
   "metadata": {},
   "outputs": [
    {
     "data": {
      "text/plain": [
       "8"
      ]
     },
     "execution_count": 20,
     "metadata": {},
     "output_type": "execute_result"
    }
   ],
   "source": [
    "4+4"
   ]
  },
  {
   "cell_type": "code",
   "execution_count": null,
   "id": "7d77f5fa",
   "metadata": {},
   "outputs": [],
   "source": []
  }
 ],
 "metadata": {
  "kernelspec": {
   "display_name": "Python 3 (ipykernel)",
   "language": "python",
   "name": "python3"
  },
  "language_info": {
   "codemirror_mode": {
    "name": "ipython",
    "version": 3
   },
   "file_extension": ".py",
   "mimetype": "text/x-python",
   "name": "python",
   "nbconvert_exporter": "python",
   "pygments_lexer": "ipython3",
   "version": "3.11.4"
  }
 },
 "nbformat": 4,
 "nbformat_minor": 5
}
