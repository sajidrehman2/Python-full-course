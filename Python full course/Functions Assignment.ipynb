{
 "cells": [
  {
   "cell_type": "markdown",
   "id": "5c5ef51c",
   "metadata": {},
   "source": [
    "# Functions Assignments"
   ]
  },
  {
   "cell_type": "markdown",
   "id": "c548a3bf",
   "metadata": {},
   "source": [
    "## Define a function named addition that takes two parameters a and b and returns their sum.\n",
    "\n",
    "- Input: addition(3, 5)\n",
    "- Output: 8"
   ]
  },
  {
   "cell_type": "code",
   "execution_count": null,
   "id": "c404ff8d",
   "metadata": {},
   "outputs": [],
   "source": [
    "# write your code here"
   ]
  },
  {
   "cell_type": "markdown",
   "id": "edbcab81",
   "metadata": {},
   "source": [
    "## Write a function called multiply that accepts two arguments and returns the result of multiplying them together.\n",
    "\n",
    "- Input: multiply(4, 6)\n",
    "- Output: 24"
   ]
  },
  {
   "cell_type": "code",
   "execution_count": 7,
   "id": "7aceae84",
   "metadata": {},
   "outputs": [],
   "source": [
    "# Write your code here"
   ]
  },
  {
   "cell_type": "markdown",
   "id": "1f0e888d",
   "metadata": {},
   "source": [
    "## Create a function named power that takes two parameters: base and exponent, and returns base raised to the power of exponent.\n",
    "\n",
    "- Input: power(2, 3)\n",
    "- Output: 8"
   ]
  },
  {
   "cell_type": "code",
   "execution_count": 8,
   "id": "d69b6e7f",
   "metadata": {},
   "outputs": [],
   "source": [
    "# Write your code here"
   ]
  },
  {
   "cell_type": "markdown",
   "id": "2a0256a1",
   "metadata": {},
   "source": [
    "## Define a function named is_even that takes an integer parameter num and returns True if the number is even, otherwise False.\n",
    "\n",
    "- Input: is_even(7)\n",
    "- Output: False"
   ]
  },
  {
   "cell_type": "code",
   "execution_count": 9,
   "id": "e532d0d7",
   "metadata": {},
   "outputs": [],
   "source": [
    "# Write your code here"
   ]
  },
  {
   "cell_type": "markdown",
   "id": "c5ee8e64",
   "metadata": {},
   "source": [
    "## Write a function called factorial that calculates the factorial of a given number n.\n",
    "\n",
    "- Input: factorial(5)\n",
    "- Output: 120"
   ]
  },
  {
   "cell_type": "code",
   "execution_count": 10,
   "id": "90bcbeab",
   "metadata": {},
   "outputs": [],
   "source": [
    "# Write your code here"
   ]
  },
  {
   "cell_type": "markdown",
   "id": "ccb2e052",
   "metadata": {},
   "source": [
    "## Create a function named is_palindrome that takes a string parameter text and returns True if the text is a palindrome, otherwise False.\n",
    "\n",
    "- Input: is_palindrome(\"radar\")\n",
    "- Output: True\n",
    "\n",
    "- Note: A palindrome is a word, phrase, number, or other sequence of characters that reads the same forward and backward.Example: \"radar\" is a palindrome because it reads the same forward and backward."
   ]
  },
  {
   "cell_type": "code",
   "execution_count": 11,
   "id": "3bec9d72",
   "metadata": {},
   "outputs": [],
   "source": [
    "# Write your code here"
   ]
  },
  {
   "cell_type": "markdown",
   "id": "b48d35b2",
   "metadata": {},
   "source": [
    "## Define a function named unique_elements that takes a list parameter lst and returns a list containing only the unique elements of the input list.\n",
    "`\n",
    "- Input: unique_elements([1, 2, 3, 3, 4, 5, 5])\n",
    "- Output: [1, 2, 3, 4, 5]"
   ]
  },
  {
   "cell_type": "markdown",
   "id": "79be0766",
   "metadata": {},
   "source": [
    "## Write a function called average that calculates the average of a list of numbers passed as a parameter.\n",
    "\n",
    "- Input: average([1, 2, 3, 4, 5])\n",
    "- Output: 3.0"
   ]
  },
  {
   "cell_type": "code",
   "execution_count": 12,
   "id": "a6a1e394",
   "metadata": {},
   "outputs": [],
   "source": [
    "# Write your code here"
   ]
  },
  {
   "cell_type": "markdown",
   "id": "d231e8ad",
   "metadata": {},
   "source": [
    "## Create a function named is_prime that takes an integer parameter num and returns True if the number is prime, otherwise False.\n",
    "\n",
    "- Input: is_prime(7)\n",
    "- Output: True"
   ]
  },
  {
   "cell_type": "code",
   "execution_count": 13,
   "id": "3edf9891",
   "metadata": {},
   "outputs": [],
   "source": [
    "# Write your code here"
   ]
  },
  {
   "cell_type": "markdown",
   "id": "5703b54e",
   "metadata": {},
   "source": [
    "## Define a function named reverse_list that takes a list parameter lst and returns a new list with the elements reversed.\n",
    "\n",
    "- Input: reverse_list([1, 2, 3, 4, 5])\n",
    "- Output: [5, 4, 3, 2, 1]"
   ]
  },
  {
   "cell_type": "code",
   "execution_count": 14,
   "id": "66e2da04",
   "metadata": {},
   "outputs": [],
   "source": [
    "# Write your code here"
   ]
  },
  {
   "cell_type": "markdown",
   "id": "6caecb2e",
   "metadata": {},
   "source": [
    "## Write a Python program to print the even numbers from a given list.\n",
    "\n",
    "- Sample List : [1, 2, 3, 4, 5, 6, 7, 8, 9]\n",
    "- Expected Result : [2, 4, 6, 8]"
   ]
  },
  {
   "cell_type": "code",
   "execution_count": 15,
   "id": "f01e1fb0",
   "metadata": {},
   "outputs": [],
   "source": [
    "# Write your code here"
   ]
  },
  {
   "cell_type": "markdown",
   "id": "98becd65",
   "metadata": {},
   "source": [
    "## Write a Python function that accepts a string and counts the number of upper and lower case letters.\n",
    "Sample String : 'The quick Brow Fox'\n",
    "    \n",
    "- Expected Output :\n",
    "- No. of Upper case characters : 3\n",
    "- No. of Lower case Characters : 12"
   ]
  },
  {
   "cell_type": "code",
   "execution_count": 19,
   "id": "dc0ce442",
   "metadata": {},
   "outputs": [],
   "source": [
    "# Write your code here\n"
   ]
  },
  {
   "cell_type": "markdown",
   "id": "d6ce8996",
   "metadata": {},
   "source": [
    "## Write a Python function to multiply all the numbers in a list.\n",
    "\n",
    "- Sample List : (8, 2, 3, -1, 7)\n",
    "- Expected Output : -336"
   ]
  },
  {
   "cell_type": "code",
   "execution_count": 18,
   "id": "ef18c810",
   "metadata": {},
   "outputs": [],
   "source": [
    "# Write your code here\n"
   ]
  },
  {
   "cell_type": "markdown",
   "id": "c1909bdd",
   "metadata": {},
   "source": [
    "## Write a Python program for a given string S which may contain lowercase and uppercase characters. The task is to remove all duplicate characters from the string and find the resultant string.\n",
    "\n",
    "- Input: Str = HappyNewYear\n",
    "- Output: HapyNewYr\n",
    "- Explanation: After removing duplicate characters such as p, e, a, we have string as “HapyNewYr”."
   ]
  },
  {
   "cell_type": "code",
   "execution_count": 20,
   "id": "44a63518",
   "metadata": {},
   "outputs": [],
   "source": [
    "# Write your code here"
   ]
  },
  {
   "cell_type": "markdown",
   "id": "9d6cd084",
   "metadata": {},
   "source": [
    "## Define a function named square_dict that takes a list of integers as input and returns a dictionary where each key-value pair consists of an element from the input list as the key and its square as the value.\n",
    "\n",
    "- Input: [1, 2, 3, 4, 5]\n",
    "- Output: {1: 1, 2: 4, 3: 9, 4: 16, 5: 25}\n",
    "- Note: You can use dictionary comprehension for better practices "
   ]
  },
  {
   "cell_type": "code",
   "execution_count": 21,
   "id": "cbf2b6fa",
   "metadata": {},
   "outputs": [],
   "source": [
    "# Write your code here"
   ]
  },
  {
   "cell_type": "markdown",
   "id": "a572346f",
   "metadata": {},
   "source": [
    "## Given a list in Python and provided the positions of the elements, write a fucntion to swap the two elements in the list.\n",
    "\n",
    "- Input : List = [1, 2, 3, 4, 5], pos1 = 2, pos2 = 5\n",
    "- Output : [1, 5, 3, 4, 2]"
   ]
  },
  {
   "cell_type": "code",
   "execution_count": 23,
   "id": "0f558ff5",
   "metadata": {},
   "outputs": [],
   "source": [
    "# write you code here"
   ]
  },
  {
   "cell_type": "markdown",
   "id": "e924dbe4",
   "metadata": {},
   "source": [
    "## Write a python function to remove a letter \"e\" from the string \"elephant\".\n",
    "\n",
    "- output = 'lphant' (all 'e' characters are removed)"
   ]
  },
  {
   "cell_type": "code",
   "execution_count": null,
   "id": "01807c75",
   "metadata": {},
   "outputs": [],
   "source": [
    "# Write your code here"
   ]
  },
  {
   "cell_type": "markdown",
   "id": "11cb9b97",
   "metadata": {},
   "source": [
    "## Write a python function to remove duplicate character from a string.\n",
    "\n",
    "- Input: 'levels'\n",
    "- output: 'vs' (l and e are removed since they are repeating characters in the string)"
   ]
  },
  {
   "cell_type": "code",
   "execution_count": 26,
   "id": "7428d07e",
   "metadata": {},
   "outputs": [],
   "source": [
    "# Write your code here"
   ]
  },
  {
   "cell_type": "markdown",
   "id": "f60edec7",
   "metadata": {},
   "source": [
    "## Write a python function to count the frequencies of each character in the given string and stored it in a dictionary format.\n",
    "\n",
    "- Input: 'listen'\n",
    "- Output : {'l':1, 'i':1, 's':1, 't':1, 'e':1, 'n':1}"
   ]
  },
  {
   "cell_type": "code",
   "execution_count": 29,
   "id": "ea90d887",
   "metadata": {},
   "outputs": [],
   "source": [
    "# Write your code here"
   ]
  },
  {
   "cell_type": "markdown",
   "id": "eb915380",
   "metadata": {},
   "source": [
    "## Write a Python function named get_initials that takes a string as input and returns the initials of each word in the string, separated by dots.\n",
    "\n",
    "- Input: \"John Doe\"\n",
    "- Output: \"J.D\""
   ]
  },
  {
   "cell_type": "code",
   "execution_count": 30,
   "id": "a2aeca74",
   "metadata": {},
   "outputs": [],
   "source": [
    "# Write your code here"
   ]
  },
  {
   "cell_type": "code",
   "execution_count": null,
   "id": "23c7b364",
   "metadata": {},
   "outputs": [],
   "source": []
  }
 ],
 "metadata": {
  "kernelspec": {
   "display_name": "Python 3 (ipykernel)",
   "language": "python",
   "name": "python3"
  },
  "language_info": {
   "codemirror_mode": {
    "name": "ipython",
    "version": 3
   },
   "file_extension": ".py",
   "mimetype": "text/x-python",
   "name": "python",
   "nbconvert_exporter": "python",
   "pygments_lexer": "ipython3",
   "version": "3.11.5"
  }
 },
 "nbformat": 4,
 "nbformat_minor": 5
}
